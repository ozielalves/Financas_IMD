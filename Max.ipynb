{
 "cells": [
  {
   "cell_type": "markdown",
   "metadata": {},
   "source": [
    "# Finanças UFRN"
   ]
  },
  {
   "cell_type": "code",
   "execution_count": 45,
   "metadata": {},
   "outputs": [],
   "source": [
    "import pandas as pd\n",
    "import numpy as np\n",
    "import matplotlib.pyplot as plt"
   ]
  },
  {
   "cell_type": "code",
   "execution_count": 46,
   "metadata": {
    "scrolled": true
   },
   "outputs": [
    {
     "name": "stdout",
     "output_type": "stream",
     "text": [
      "   id_obra                                          descricao  \\\n",
      "0      493  CONSTRUÇÃO DO BLOCO H DO SETOR DE AULAS TEÓRIC...   \n",
      "1      521  CONSTRUÇÃO DO BLOCO A1 DO SETOR DE AULAS TEÓRI...   \n",
      "2      848  CONSTRUÇÃO DO SETOR DE ANTIBIÓTICOS PRODUÇÃO D...   \n",
      "3      925  Complementação da 2ª Etapa e Realização da 3ª ...   \n",
      "4      182   CONSTRUÇÃO DO DEPARTAMENTO DE FISIOTERAPIA - CCS   \n",
      "\n",
      "                   periodo  qtd_dias status_obra licitacao  \\\n",
      "0  23/03/2005 - 19/11/2005       240  FINALIZADA    6/2004   \n",
      "1  04/05/2005 - 30/12/2005       240  FINALIZADA    7/2004   \n",
      "2  02/06/2005 - 29/01/2006       240  FINALIZADA    4/2004   \n",
      "3  28/01/2005 - 22/01/2006       360  FINALIZADA    2/2004   \n",
      "4  08/02/2006 - 02/02/2007       360  FINALIZADA    1/2005   \n",
      "\n",
      "                                             empresa    modalidade  \\\n",
      "0   03.166.687/0001-28 - CRS-CONSTRUÇÕES E EMPREE...  CONCORRÊNCIA   \n",
      "1   03.166.687/0001-28 - CRS-CONSTRUÇÕES E EMPREE...  CONCORRÊNCIA   \n",
      "2        03.722.669/0001-85 - CONSTRUTORA CAGEO LTDA  CONCORRÊNCIA   \n",
      "3   40.761.454/0001-08 - AR PROJETOS & CONSTRUÇÕE...  CONCORRÊNCIA   \n",
      "4   01.694.415/0001-75 - HASTE-HABITAÇÃO E SERVIÇ...  CONCORRÊNCIA   \n",
      "\n",
      "                 valor                   fonte_recurso  \\\n",
      "0  R$       829.454,21                             NaN   \n",
      "1  R$       833.702,12                             NaN   \n",
      "2  R$     1.561.230,93  TESOURO - EDUCAÇÃO (112000000)   \n",
      "3  R$       814.550,74                             NaN   \n",
      "4  R$     1.455.865,61                             NaN   \n",
      "\n",
      "          vigencia_projeto                           projeto  \\\n",
      "0                      NaN                               NaN   \n",
      "1  20/04/2005 - 20/11/2005          19O ENECIC/2005 (852005)   \n",
      "2                      NaN                               NaN   \n",
      "3  20/12/2002 - 31/07/2007  UFRN/CONV.133/02 - HUOL (862003)   \n",
      "4  20/12/2004 - 30/03/2010   CONVENIO 121/2004 UFRN (732005)   \n",
      "\n",
      "   id_unidade_responsavel                             unidade_responsavel  \\\n",
      "0                     NaN                                             NaN   \n",
      "1                     NaN                                             NaN   \n",
      "2                   252.0  NUCLEO DE PESQUISA EM ALIMENTOS E MEDICAMENTOS   \n",
      "3                   446.0             HOSPITAL UNIVERSITÁRIO ONOFRE LOPES   \n",
      "4                   446.0             HOSPITAL UNIVERSITÁRIO ONOFRE LOPES   \n",
      "\n",
      "   Unnamed: 14  \n",
      "0          NaN  \n",
      "1          NaN  \n",
      "2          NaN  \n",
      "3          NaN  \n",
      "4          NaN  \n"
     ]
    },
    {
     "data": {
      "text/html": [
       "<div>\n",
       "<style scoped>\n",
       "    .dataframe tbody tr th:only-of-type {\n",
       "        vertical-align: middle;\n",
       "    }\n",
       "\n",
       "    .dataframe tbody tr th {\n",
       "        vertical-align: top;\n",
       "    }\n",
       "\n",
       "    .dataframe thead th {\n",
       "        text-align: right;\n",
       "    }\n",
       "</style>\n",
       "<table border=\"1\" class=\"dataframe\">\n",
       "  <thead>\n",
       "    <tr style=\"text-align: right;\">\n",
       "      <th></th>\n",
       "      <th>numero</th>\n",
       "      <th>ano</th>\n",
       "      <th>id_unidade_requisitante</th>\n",
       "      <th>nome_unidade_requisitante</th>\n",
       "      <th>id_unidade_custo</th>\n",
       "      <th>nome_unidade_custo</th>\n",
       "      <th>data_envio</th>\n",
       "      <th>descricao</th>\n",
       "      <th>local</th>\n",
       "      <th>observacoes</th>\n",
       "      <th>status</th>\n",
       "      <th>processo</th>\n",
       "    </tr>\n",
       "  </thead>\n",
       "  <tbody>\n",
       "    <tr>\n",
       "      <th>0</th>\n",
       "      <td>1467</td>\n",
       "      <td>2018</td>\n",
       "      <td>445</td>\n",
       "      <td>CENTRO DE TECNOLOGIA</td>\n",
       "      <td>445</td>\n",
       "      <td>CENTRO DE TECNOLOGIA</td>\n",
       "      <td>27/02/2018</td>\n",
       "      <td>REPARO DO FORRO E RECUPERAÇÃO DE PEÇAS METÁLIC...</td>\n",
       "      <td>CENTRO DE TECNOLOGIA - UFRN</td>\n",
       "      <td>RDC 01/2018 - R$ 40.984,69</td>\n",
       "      <td>CADASTRADA</td>\n",
       "      <td>NaN</td>\n",
       "    </tr>\n",
       "    <tr>\n",
       "      <th>1</th>\n",
       "      <td>1463</td>\n",
       "      <td>2018</td>\n",
       "      <td>4885</td>\n",
       "      <td>ESCOLA DE CIÊNCIAS E TECNOLOGIA</td>\n",
       "      <td>4885</td>\n",
       "      <td>ESCOLA DE CIÊNCIAS E TECNOLOGIA</td>\n",
       "      <td>27/02/2018</td>\n",
       "      <td>RECUPERAÇÃO ESTRUTURAL DA COBERTURA DO PRÉDIO ...</td>\n",
       "      <td>CENTRO DE TECNOLOGIA-UFRN</td>\n",
       "      <td>RDC 01/2018 - R$ 136.974,42</td>\n",
       "      <td>PENDENTE AUTORIZAÇÃO CHEFE UNIDADE</td>\n",
       "      <td>NaN</td>\n",
       "    </tr>\n",
       "    <tr>\n",
       "      <th>2</th>\n",
       "      <td>1388</td>\n",
       "      <td>2018</td>\n",
       "      <td>6919</td>\n",
       "      <td>INSTITUTO DE MEDICINA TROPICAL - IMT-RN</td>\n",
       "      <td>6919</td>\n",
       "      <td>INSTITUTO DE MEDICINA TROPICAL - IMT-RN</td>\n",
       "      <td>23/02/2018</td>\n",
       "      <td>Projeto de sinalização interna e externa do IM...</td>\n",
       "      <td>Unidade clínica do IMT-RN, ao lado do HGT.</td>\n",
       "      <td>NaN</td>\n",
       "      <td>AUTORIZADA PARA INFRA</td>\n",
       "      <td>NaN</td>\n",
       "    </tr>\n",
       "    <tr>\n",
       "      <th>3</th>\n",
       "      <td>1340</td>\n",
       "      <td>2018</td>\n",
       "      <td>3362</td>\n",
       "      <td>ASSESSORIA ADMINISTRATIVA (AS/CT)</td>\n",
       "      <td>87</td>\n",
       "      <td>DIREÇÃO DO CENTRO DE TECNOLOGIA</td>\n",
       "      <td>23/02/2018</td>\n",
       "      <td>Conforme parecer técnico realizado pela coorde...</td>\n",
       "      <td>Complexo tecnológico de engenharia (CTEC)</td>\n",
       "      <td>Construção de um abrigo para fins de destinaçã...</td>\n",
       "      <td>AUTORIZADA PARA INFRA</td>\n",
       "      <td>NaN</td>\n",
       "    </tr>\n",
       "    <tr>\n",
       "      <th>4</th>\n",
       "      <td>927</td>\n",
       "      <td>2018</td>\n",
       "      <td>196</td>\n",
       "      <td>DEPARTAMENTO DE FARMACIA</td>\n",
       "      <td>196</td>\n",
       "      <td>DEPARTAMENTO DE FARMACIA</td>\n",
       "      <td>08/02/2018</td>\n",
       "      <td>DIANTE DA CRIAÇÃO DA PRIMEIRA E ÚNICA EMPRESA ...</td>\n",
       "      <td>LOCAL SE TRATA DE PARTE DA ANTIGA PRAÇA DO XAR...</td>\n",
       "      <td>UNIDADE DE CUSTO CCS.</td>\n",
       "      <td>CADASTRADA</td>\n",
       "      <td>NaN</td>\n",
       "    </tr>\n",
       "  </tbody>\n",
       "</table>\n",
       "</div>"
      ],
      "text/plain": [
       "   numero   ano  id_unidade_requisitante  \\\n",
       "0    1467  2018                      445   \n",
       "1    1463  2018                     4885   \n",
       "2    1388  2018                     6919   \n",
       "3    1340  2018                     3362   \n",
       "4     927  2018                      196   \n",
       "\n",
       "                 nome_unidade_requisitante  id_unidade_custo  \\\n",
       "0                     CENTRO DE TECNOLOGIA               445   \n",
       "1          ESCOLA DE CIÊNCIAS E TECNOLOGIA              4885   \n",
       "2  INSTITUTO DE MEDICINA TROPICAL - IMT-RN              6919   \n",
       "3        ASSESSORIA ADMINISTRATIVA (AS/CT)                87   \n",
       "4                 DEPARTAMENTO DE FARMACIA               196   \n",
       "\n",
       "                        nome_unidade_custo  data_envio  \\\n",
       "0                     CENTRO DE TECNOLOGIA  27/02/2018   \n",
       "1          ESCOLA DE CIÊNCIAS E TECNOLOGIA  27/02/2018   \n",
       "2  INSTITUTO DE MEDICINA TROPICAL - IMT-RN  23/02/2018   \n",
       "3          DIREÇÃO DO CENTRO DE TECNOLOGIA  23/02/2018   \n",
       "4                 DEPARTAMENTO DE FARMACIA  08/02/2018   \n",
       "\n",
       "                                           descricao  \\\n",
       "0  REPARO DO FORRO E RECUPERAÇÃO DE PEÇAS METÁLIC...   \n",
       "1  RECUPERAÇÃO ESTRUTURAL DA COBERTURA DO PRÉDIO ...   \n",
       "2  Projeto de sinalização interna e externa do IM...   \n",
       "3  Conforme parecer técnico realizado pela coorde...   \n",
       "4  DIANTE DA CRIAÇÃO DA PRIMEIRA E ÚNICA EMPRESA ...   \n",
       "\n",
       "                                               local  \\\n",
       "0                        CENTRO DE TECNOLOGIA - UFRN   \n",
       "1                          CENTRO DE TECNOLOGIA-UFRN   \n",
       "2         Unidade clínica do IMT-RN, ao lado do HGT.   \n",
       "3          Complexo tecnológico de engenharia (CTEC)   \n",
       "4  LOCAL SE TRATA DE PARTE DA ANTIGA PRAÇA DO XAR...   \n",
       "\n",
       "                                         observacoes  \\\n",
       "0                         RDC 01/2018 - R$ 40.984,69   \n",
       "1                        RDC 01/2018 - R$ 136.974,42   \n",
       "2                                                NaN   \n",
       "3  Construção de um abrigo para fins de destinaçã...   \n",
       "4                             UNIDADE DE CUSTO CCS.    \n",
       "\n",
       "                               status processo  \n",
       "0                          CADASTRADA      NaN  \n",
       "1  PENDENTE AUTORIZAÇÃO CHEFE UNIDADE      NaN  \n",
       "2               AUTORIZADA PARA INFRA      NaN  \n",
       "3               AUTORIZADA PARA INFRA      NaN  \n",
       "4                          CADASTRADA      NaN  "
      ]
     },
     "execution_count": 46,
     "metadata": {},
     "output_type": "execute_result"
    }
   ],
   "source": [
    "works = pd.read_csv(\"res/obras.csv\", sep=';')\n",
    "works_request = pd.read_csv(\"res/requisicaoobras.csv\", sep=';')\n",
    "\n",
    "print(works.head())\n",
    "works_request.head()\n"
   ]
  },
  {
   "cell_type": "code",
   "execution_count": 47,
   "metadata": {},
   "outputs": [
    {
     "name": "stdout",
     "output_type": "stream",
     "text": [
      "<class 'pandas.core.frame.DataFrame'>\n",
      "Int64Index: 473 entries, 2 to 602\n",
      "Data columns (total 15 columns):\n",
      "id_obra                   473 non-null int64\n",
      "descricao                 473 non-null object\n",
      "periodo                   473 non-null object\n",
      "qtd_dias                  473 non-null int64\n",
      "status_obra               473 non-null object\n",
      "licitacao                 473 non-null object\n",
      "empresa                   473 non-null object\n",
      "modalidade                473 non-null object\n",
      "valor                     473 non-null object\n",
      "fonte_recurso             372 non-null object\n",
      "vigencia_projeto          262 non-null object\n",
      "projeto                   262 non-null object\n",
      "id_unidade_responsavel    473 non-null float64\n",
      "unidade_responsavel       473 non-null object\n",
      "Unnamed: 14               0 non-null float64\n",
      "dtypes: float64(2), int64(2), object(11)\n",
      "memory usage: 59.1+ KB\n"
     ]
    },
    {
     "data": {
      "text/html": [
       "<div>\n",
       "<style scoped>\n",
       "    .dataframe tbody tr th:only-of-type {\n",
       "        vertical-align: middle;\n",
       "    }\n",
       "\n",
       "    .dataframe tbody tr th {\n",
       "        vertical-align: top;\n",
       "    }\n",
       "\n",
       "    .dataframe thead th {\n",
       "        text-align: right;\n",
       "    }\n",
       "</style>\n",
       "<table border=\"1\" class=\"dataframe\">\n",
       "  <thead>\n",
       "    <tr style=\"text-align: right;\">\n",
       "      <th></th>\n",
       "    </tr>\n",
       "  </thead>\n",
       "  <tbody>\n",
       "  </tbody>\n",
       "</table>\n",
       "</div>"
      ],
      "text/plain": [
       "Empty DataFrame\n",
       "Columns: []\n",
       "Index: []"
      ]
     },
     "execution_count": 47,
     "metadata": {},
     "output_type": "execute_result"
    }
   ],
   "source": [
    "# This cell clears the dataset of all unlabeled data\n",
    "\n",
    "valid_indexes = []\n",
    "for i,_ in enumerate(works['unidade_responsavel'].isnull()):\n",
    "    if (_ == False ):\n",
    "        valid_indexes.append(i)\n",
    "works_filter = works.loc[valid_indexes]\n",
    "pd.DataFrame(works_filter.info())"
   ]
  },
  {
   "cell_type": "code",
   "execution_count": 48,
   "metadata": {
    "scrolled": false
   },
   "outputs": [
    {
     "data": {
      "text/html": [
       "<div>\n",
       "<style scoped>\n",
       "    .dataframe tbody tr th:only-of-type {\n",
       "        vertical-align: middle;\n",
       "    }\n",
       "\n",
       "    .dataframe tbody tr th {\n",
       "        vertical-align: top;\n",
       "    }\n",
       "\n",
       "    .dataframe thead th {\n",
       "        text-align: right;\n",
       "    }\n",
       "</style>\n",
       "<table border=\"1\" class=\"dataframe\">\n",
       "  <thead>\n",
       "    <tr style=\"text-align: right;\">\n",
       "      <th></th>\n",
       "      <th>unidade_responsavel</th>\n",
       "    </tr>\n",
       "  </thead>\n",
       "  <tbody>\n",
       "    <tr>\n",
       "      <th>UNIVERSIDADE FEDERAL DO RIO GRANDE DO NORTE</th>\n",
       "      <td>108</td>\n",
       "    </tr>\n",
       "    <tr>\n",
       "      <th>CENTRO DE TECNOLOGIA</th>\n",
       "      <td>38</td>\n",
       "    </tr>\n",
       "    <tr>\n",
       "      <th>CENTRO DE BIOCIÊNCIAS</th>\n",
       "      <td>27</td>\n",
       "    </tr>\n",
       "    <tr>\n",
       "      <th>CENTRO DE CIÊNCIAS EXATAS E DA TERRA</th>\n",
       "      <td>26</td>\n",
       "    </tr>\n",
       "    <tr>\n",
       "      <th>CENTRO DE CIÊNCIAS DA SAÚDE</th>\n",
       "      <td>21</td>\n",
       "    </tr>\n",
       "  </tbody>\n",
       "</table>\n",
       "</div>"
      ],
      "text/plain": [
       "                                             unidade_responsavel\n",
       "UNIVERSIDADE FEDERAL DO RIO GRANDE DO NORTE                  108\n",
       "CENTRO DE TECNOLOGIA                                          38\n",
       "CENTRO DE BIOCIÊNCIAS                                         27\n",
       "CENTRO DE CIÊNCIAS EXATAS E DA TERRA                          26\n",
       "CENTRO DE CIÊNCIAS DA SAÚDE                                   21"
      ]
     },
     "execution_count": 48,
     "metadata": {},
     "output_type": "execute_result"
    }
   ],
   "source": [
    "# University's departments with most finished building  biddings\n",
    "pd.DataFrame(works_filter['unidade_responsavel'].value_counts()).head()"
   ]
  },
  {
   "cell_type": "code",
   "execution_count": 49,
   "metadata": {},
   "outputs": [
    {
     "name": "stderr",
     "output_type": "stream",
     "text": [
      "/home/cyborg/anaconda3/lib/python3.6/site-packages/ipykernel_launcher.py:8: SettingWithCopyWarning: \n",
      "A value is trying to be set on a copy of a slice from a DataFrame\n",
      "\n",
      "See the caveats in the documentation: http://pandas.pydata.org/pandas-docs/stable/indexing.html#indexing-view-versus-copy\n",
      "  \n"
     ]
    }
   ],
   "source": [
    "df = works_filter.copy()\n",
    "for index,i in enumerate(df['valor']):\n",
    "    i = i.replace(\" \", \"\")\n",
    "    i = i.replace(\"R$\", \"\")\n",
    "    i = i.replace(\".\",\"\")\n",
    "    i = i.replace(\",\", \"\")\n",
    "    i = int(i)\n",
    "    df['valor'][index] = i\n"
   ]
  },
  {
   "cell_type": "code",
   "execution_count": 50,
   "metadata": {
    "scrolled": true
   },
   "outputs": [
    {
     "data": {
      "text/html": [
       "<div>\n",
       "<style scoped>\n",
       "    .dataframe tbody tr th:only-of-type {\n",
       "        vertical-align: middle;\n",
       "    }\n",
       "\n",
       "    .dataframe tbody tr th {\n",
       "        vertical-align: top;\n",
       "    }\n",
       "\n",
       "    .dataframe thead th {\n",
       "        text-align: right;\n",
       "    }\n",
       "</style>\n",
       "<table border=\"1\" class=\"dataframe\">\n",
       "  <thead>\n",
       "    <tr style=\"text-align: right;\">\n",
       "      <th></th>\n",
       "      <th>unidade_responsavel</th>\n",
       "    </tr>\n",
       "  </thead>\n",
       "  <tbody>\n",
       "    <tr>\n",
       "      <th>2</th>\n",
       "      <td>NUCLEO DE PESQUISA EM ALIMENTOS E MEDICAMENTOS</td>\n",
       "    </tr>\n",
       "    <tr>\n",
       "      <th>3</th>\n",
       "      <td>HOSPITAL UNIVERSITÁRIO ONOFRE LOPES</td>\n",
       "    </tr>\n",
       "    <tr>\n",
       "      <th>4</th>\n",
       "      <td>HOSPITAL UNIVERSITÁRIO ONOFRE LOPES</td>\n",
       "    </tr>\n",
       "    <tr>\n",
       "      <th>6</th>\n",
       "      <td>HOSPITAL UNIVERSITÁRIO ONOFRE LOPES</td>\n",
       "    </tr>\n",
       "    <tr>\n",
       "      <th>7</th>\n",
       "      <td>CENTRO DE BIOCIÊNCIAS</td>\n",
       "    </tr>\n",
       "  </tbody>\n",
       "</table>\n",
       "</div>"
      ],
      "text/plain": [
       "                              unidade_responsavel\n",
       "2  NUCLEO DE PESQUISA EM ALIMENTOS E MEDICAMENTOS\n",
       "3             HOSPITAL UNIVERSITÁRIO ONOFRE LOPES\n",
       "4             HOSPITAL UNIVERSITÁRIO ONOFRE LOPES\n",
       "6             HOSPITAL UNIVERSITÁRIO ONOFRE LOPES\n",
       "7                           CENTRO DE BIOCIÊNCIAS"
      ]
     },
     "execution_count": 50,
     "metadata": {},
     "output_type": "execute_result"
    }
   ],
   "source": [
    "dep_names = df['unidade_responsavel'].value_counts().index.tolist()\n",
    "pd.DataFrame(works_filter['unidade_responsavel']).head()"
   ]
  },
  {
   "cell_type": "code",
   "execution_count": 51,
   "metadata": {
    "scrolled": false
   },
   "outputs": [],
   "source": [
    "#pivot = works_filter.pivot_table(values = works_filter['valor'],index = works_filter['unidade_responsavel'], aggfunc = np.mean)\n",
    "#print(pivot)\n",
    "\n",
    "values = {}\n",
    "for i in dep_names:\n",
    "    values[i] = 0\n",
    "    \n",
    "for index,row in df.iterrows():\n",
    "#     pd.DataFrame(row['unidade_responsavel'])\n",
    "#     print(row['unidade_responsavel'])\n",
    "    i = row['valor'].replace(\" \", \"\")\n",
    "    i = i.replace(\"R$\", \"\")\n",
    "    i = i.replace(\".\",\"\")\n",
    "    i = i.replace(\",\", \"\")\n",
    "    i = int(i)\n",
    "    #print(i)\n",
    "    #print(row['valor'])\n",
    "    values[row['unidade_responsavel']] += i"
   ]
  },
  {
   "cell_type": "code",
   "execution_count": 78,
   "metadata": {},
   "outputs": [
    {
     "name": "stdout",
     "output_type": "stream",
     "text": [
      "82\n"
     ]
    }
   ],
   "source": [
    "dep_names"
   ]
  },
  {
   "cell_type": "code",
   "execution_count": 72,
   "metadata": {
    "scrolled": true
   },
   "outputs": [
    {
     "name": "stdout",
     "output_type": "stream",
     "text": [
      "{'CAMPUS DO CÉREBRO': 13542746035, 'CENTRO DE TECNOLOGIA': 4652257395, 'UNIVERSIDADE FEDERAL DO RIO GRANDE DO NORTE': 4642647978, 'ADMINISTRAÇÃO CENTRAL - GASTOS CT': 2559877946, 'CENTRO DE BIOCIÊNCIAS': 1906259928, 'CENTRO DE CIÊNCIAS SOCIAIS APLICADAS': 1696968476, 'CENTRO DE CIÊNCIAS EXATAS E DA TERRA': 1421224590, 'CENTRO DE CIÊNCIAS HUMANAS, LETRAS E ARTES': 1117356965, 'CENTRO DE CIÊNCIAS DA SAÚDE': 1087542221, 'HOSPITAL UNIVERSITÁRIO ONOFRE LOPES': 854753581, 'SUPERINTENDÊNCIA DE INFRAESTRUTURA': 793802347}\n",
      "{'CENTRO DE TECNOLOGIA': 4652257395, 'UNIVERSIDADE FEDERAL DO RIO GRANDE DO NORTE': 4642647978, 'ADMINISTRAÇÃO CENTRAL - GASTOS CT': 2559877946, 'CENTRO DE BIOCIÊNCIAS': 1906259928, 'CENTRO DE CIÊNCIAS SOCIAIS APLICADAS': 1696968476, 'CENTRO DE CIÊNCIAS EXATAS E DA TERRA': 1421224590, 'CENTRO DE CIÊNCIAS HUMANAS, LETRAS E ARTES': 1117356965, 'CENTRO DE CIÊNCIAS DA SAÚDE': 1087542221, 'HOSPITAL UNIVERSITÁRIO ONOFRE LOPES': 854753581, 'SUPERINTENDÊNCIA DE INFRAESTRUTURA': 793802347}\n"
     ]
    }
   ],
   "source": [
    "#for i in values.keys():\n",
    "   # if (values[i] == values.items().max()):#\n",
    "#    print (i,values.items()\n",
    "top11 = {}\n",
    "## os 6 maiores incluindo o campus do cerebro\n",
    "big_resources = sorted(values, key=values.get, reverse=True)[:11]\n",
    "for i in big_resources:\n",
    "    top11[i] = values[i]\n",
    "          \n",
    "print (top11)\n",
    "#pd.DataFrame(top6)\n",
    "campus_cerebro = list(top11.keys())[0]\n",
    "CT = list(top11.keys())[1]\n",
    "def without_keys(d, keys):\n",
    "    return {k: v for k, v in d.items() if k not in keys}\n",
    "#excluindo o campus do cerebro\n",
    "top10 = without_keys(top11,list(top11.keys())[0])\n",
    "print (top10)"
   ]
  },
  {
   "cell_type": "code",
   "execution_count": 73,
   "metadata": {
    "scrolled": true
   },
   "outputs": [
    {
     "name": "stdout",
     "output_type": "stream",
     "text": [
      "CAMPUS DO CÉREBRO\n",
      "dict_keys(['CAMPUS DO CÉREBRO', 'CENTRO DE TECNOLOGIA', 'UNIVERSIDADE FEDERAL DO RIO GRANDE DO NORTE', 'ADMINISTRAÇÃO CENTRAL - GASTOS CT', 'CENTRO DE BIOCIÊNCIAS', 'CENTRO DE CIÊNCIAS SOCIAIS APLICADAS', 'CENTRO DE CIÊNCIAS EXATAS E DA TERRA', 'CENTRO DE CIÊNCIAS HUMANAS, LETRAS E ARTES', 'CENTRO DE CIÊNCIAS DA SAÚDE', 'HOSPITAL UNIVERSITÁRIO ONOFRE LOPES', 'SUPERINTENDÊNCIA DE INFRAESTRUTURA'])\n"
     ]
    },
    {
     "data": {
      "text/plain": [
       "dict_values([13542746035, 4652257395, 4642647978, 2559877946, 1906259928, 1696968476, 1421224590, 1117356965, 1087542221, 854753581, 793802347])"
      ]
     },
     "execution_count": 73,
     "metadata": {},
     "output_type": "execute_result"
    }
   ],
   "source": [
    "print (campus_cerebro)\n",
    "print(top11.keys())\n",
    "top11.values()"
   ]
  },
  {
   "cell_type": "code",
   "execution_count": 74,
   "metadata": {},
   "outputs": [
    {
     "data": {
      "text/plain": [
       "['CAMPUS DO CÉREBRO',\n",
       " 'CENTRO DE TECNOLOGIA',\n",
       " 'UNIVERSIDADE FEDERAL DO RIO GRANDE DO NORTE',\n",
       " 'ADMINISTRAÇÃO CENTRAL - GASTOS CT',\n",
       " 'CENTRO DE BIOCIÊNCIAS',\n",
       " 'CENTRO DE CIÊNCIAS SOCIAIS APLICADAS',\n",
       " 'CENTRO DE CIÊNCIAS EXATAS E DA TERRA',\n",
       " 'CENTRO DE CIÊNCIAS HUMANAS, LETRAS E ARTES',\n",
       " 'CENTRO DE CIÊNCIAS DA SAÚDE',\n",
       " 'HOSPITAL UNIVERSITÁRIO ONOFRE LOPES',\n",
       " 'SUPERINTENDÊNCIA DE INFRAESTRUTURA']"
      ]
     },
     "execution_count": 74,
     "metadata": {},
     "output_type": "execute_result"
    }
   ],
   "source": [
    "names = list(top11.keys())\n",
    "names"
   ]
  },
  {
   "cell_type": "code",
   "execution_count": 76,
   "metadata": {},
   "outputs": [
    {
     "data": {
      "image/png": "[encoded data removed]",
      "text/plain": [
       "<matplotlib.figure.Figure at 0x7f1e6115be80>"
      ]
     },
     "metadata": {},
     "output_type": "display_data"
    }
   ],
   "source": [
    "fig, ax = plt.subplots()\n",
    "bar_positions = np.arange(len(names)) + 0.75\n",
    "xtick_pos = np.arange(len(names)) + 1\n",
    "ax.set_xticks(xtick_pos)\n",
    "ax.set_xticklabels(names,rotation= 90)\n",
    "ax.bar(bar_positions, top11.values())\n",
    "plt.show()"
   ]
  },
  {
   "cell_type": "code",
   "execution_count": 57,
   "metadata": {
    "scrolled": false
   },
   "outputs": [
    {
     "ename": "NameError",
     "evalue": "name 'top5' is not defined",
     "output_type": "error",
     "traceback": [
      "\u001b[0;31m---------------------------------------------------------------------------\u001b[0m",
      "\u001b[0;31mNameError\u001b[0m                                 Traceback (most recent call last)",
      "\u001b[0;32m<ipython-input-57-58028da22920>\u001b[0m in \u001b[0;36m<module>\u001b[0;34m()\u001b[0m\n\u001b[1;32m      1\u001b[0m \u001b[0;32mimport\u001b[0m \u001b[0moperator\u001b[0m\u001b[0;34m\u001b[0m\u001b[0m\n\u001b[0;32m----> 2\u001b[0;31m \u001b[0mtop5\u001b[0m\u001b[0;34m.\u001b[0m\u001b[0mitems\u001b[0m\u001b[0;34m(\u001b[0m\u001b[0;34m)\u001b[0m\u001b[0;34m\u001b[0m\u001b[0m\n\u001b[0m\u001b[1;32m      3\u001b[0m \u001b[0msorted\u001b[0m\u001b[0;34m(\u001b[0m\u001b[0mtop5\u001b[0m\u001b[0;34m.\u001b[0m\u001b[0mvalues\u001b[0m\u001b[0;34m(\u001b[0m\u001b[0;34m)\u001b[0m\u001b[0;34m)\u001b[0m\u001b[0;34m\u001b[0m\u001b[0m\n\u001b[1;32m      4\u001b[0m \u001b[0msorted_top5\u001b[0m \u001b[0;34m=\u001b[0m \u001b[0msorted\u001b[0m\u001b[0;34m(\u001b[0m\u001b[0mtop5\u001b[0m\u001b[0;34m.\u001b[0m\u001b[0mitems\u001b[0m\u001b[0;34m(\u001b[0m\u001b[0;34m)\u001b[0m\u001b[0;34m,\u001b[0m \u001b[0mkey\u001b[0m\u001b[0;34m=\u001b[0m\u001b[0moperator\u001b[0m\u001b[0;34m.\u001b[0m\u001b[0mitemgetter\u001b[0m\u001b[0;34m(\u001b[0m\u001b[0;36m1\u001b[0m\u001b[0;34m)\u001b[0m\u001b[0;34m)\u001b[0m\u001b[0;34m\u001b[0m\u001b[0m\n\u001b[1;32m      5\u001b[0m \u001b[0msorted_top5\u001b[0m\u001b[0;34m\u001b[0m\u001b[0m\n",
      "\u001b[0;31mNameError\u001b[0m: name 'top5' is not defined"
     ]
    }
   ],
   "source": [
    "import operator\n",
    "top5.items()\n",
    "sorted(top5.values())\n",
    "sorted_top5 = sorted(top5.items(), key=operator.itemgetter(1))\n",
    "sorted_top5\n",
    "#sorted(top5.values())"
   ]
  },
  {
   "cell_type": "code",
   "execution_count": 79,
   "metadata": {
    "scrolled": false
   },
   "outputs": [
    {
     "data": {
      "text/html": [
       "<div>\n",
       "<style scoped>\n",
       "    .dataframe tbody tr th:only-of-type {\n",
       "        vertical-align: middle;\n",
       "    }\n",
       "\n",
       "    .dataframe tbody tr th {\n",
       "        vertical-align: top;\n",
       "    }\n",
       "\n",
       "    .dataframe thead th {\n",
       "        text-align: right;\n",
       "    }\n",
       "</style>\n",
       "<table border=\"1\" class=\"dataframe\">\n",
       "  <thead>\n",
       "    <tr style=\"text-align: right;\">\n",
       "      <th></th>\n",
       "      <th>id_obra</th>\n",
       "      <th>descricao</th>\n",
       "      <th>periodo</th>\n",
       "      <th>qtd_dias</th>\n",
       "      <th>status_obra</th>\n",
       "      <th>licitacao</th>\n",
       "      <th>empresa</th>\n",
       "      <th>modalidade</th>\n",
       "      <th>valor</th>\n",
       "      <th>fonte_recurso</th>\n",
       "      <th>vigencia_projeto</th>\n",
       "      <th>projeto</th>\n",
       "      <th>id_unidade_responsavel</th>\n",
       "      <th>unidade_responsavel</th>\n",
       "      <th>Unnamed: 14</th>\n",
       "    </tr>\n",
       "  </thead>\n",
       "  <tbody>\n",
       "    <tr>\n",
       "      <th>37</th>\n",
       "      <td>5803</td>\n",
       "      <td>execução, pela CONTRATADA, da CONSTRUÇÃO DO CE...</td>\n",
       "      <td>11/06/2010 - 22/12/2013</td>\n",
       "      <td>720</td>\n",
       "      <td>FINALIZADA</td>\n",
       "      <td>10/2009</td>\n",
       "      <td>86.712.247/0001-56 - EDCON - COMÉRCIO E CONST...</td>\n",
       "      <td>CONCORRÊNCIA</td>\n",
       "      <td>R$    75.574.557,43</td>\n",
       "      <td>TESOURO - EDUCAÇÃO (112000000)</td>\n",
       "      <td>NaN</td>\n",
       "      <td>NaN</td>\n",
       "      <td>5229.0</td>\n",
       "      <td>CAMPUS DO CÉREBRO</td>\n",
       "      <td>NaN</td>\n",
       "    </tr>\n",
       "    <tr>\n",
       "      <th>38</th>\n",
       "      <td>5810</td>\n",
       "      <td>CONSTRUÇÃO DA ESCOLA LYGIA MARIA ROCHA LEÃO LA...</td>\n",
       "      <td>14/06/2010 - 31/12/2011</td>\n",
       "      <td>565</td>\n",
       "      <td>FINALIZADA</td>\n",
       "      <td>10/2009</td>\n",
       "      <td>86.712.247/0001-56 - EDCON - COMÉRCIO E CONST...</td>\n",
       "      <td>CONCORRÊNCIA</td>\n",
       "      <td>R$    59.817.003,64</td>\n",
       "      <td>NaN</td>\n",
       "      <td>17/12/2007 - 31/07/2013</td>\n",
       "      <td>FUNPEC/UFRN CONV. 147/2007 - CAMPUS DO CEREBRO...</td>\n",
       "      <td>5229.0</td>\n",
       "      <td>CAMPUS DO CÉREBRO</td>\n",
       "      <td>NaN</td>\n",
       "    </tr>\n",
       "    <tr>\n",
       "      <th>350</th>\n",
       "      <td>6814</td>\n",
       "      <td>EXECUÇÃO DE SERVIÇOS DE ARQUITETURA VISANDO À ...</td>\n",
       "      <td>09/05/2011 - 09/11/2012</td>\n",
       "      <td>550</td>\n",
       "      <td>CONTRATO FINALIZADO</td>\n",
       "      <td>1/2011</td>\n",
       "      <td>01.641.113/0001-39 - J. GALBINSK &amp; CIA LTDA.</td>\n",
       "      <td>INEXIGIBILIDADE DE LICITAÇÃO</td>\n",
       "      <td>R$        35.899,28</td>\n",
       "      <td>NaN</td>\n",
       "      <td>01/01/2000 - 31/12/2015</td>\n",
       "      <td>MANUTENCAO II (1512001)</td>\n",
       "      <td>5229.0</td>\n",
       "      <td>CAMPUS DO CÉREBRO</td>\n",
       "      <td>NaN</td>\n",
       "    </tr>\n",
       "  </tbody>\n",
       "</table>\n",
       "</div>"
      ],
      "text/plain": [
       "     id_obra                                          descricao  \\\n",
       "37      5803  execução, pela CONTRATADA, da CONSTRUÇÃO DO CE...   \n",
       "38      5810  CONSTRUÇÃO DA ESCOLA LYGIA MARIA ROCHA LEÃO LA...   \n",
       "350     6814  EXECUÇÃO DE SERVIÇOS DE ARQUITETURA VISANDO À ...   \n",
       "\n",
       "                     periodo  qtd_dias          status_obra licitacao  \\\n",
       "37   11/06/2010 - 22/12/2013       720           FINALIZADA   10/2009   \n",
       "38   14/06/2010 - 31/12/2011       565           FINALIZADA   10/2009   \n",
       "350  09/05/2011 - 09/11/2012       550  CONTRATO FINALIZADO    1/2011   \n",
       "\n",
       "                                               empresa  \\\n",
       "37    86.712.247/0001-56 - EDCON - COMÉRCIO E CONST...   \n",
       "38    86.712.247/0001-56 - EDCON - COMÉRCIO E CONST...   \n",
       "350       01.641.113/0001-39 - J. GALBINSK & CIA LTDA.   \n",
       "\n",
       "                       modalidade                valor  \\\n",
       "37                   CONCORRÊNCIA  R$    75.574.557,43   \n",
       "38                   CONCORRÊNCIA  R$    59.817.003,64   \n",
       "350  INEXIGIBILIDADE DE LICITAÇÃO  R$        35.899,28   \n",
       "\n",
       "                      fonte_recurso         vigencia_projeto  \\\n",
       "37   TESOURO - EDUCAÇÃO (112000000)                      NaN   \n",
       "38                              NaN  17/12/2007 - 31/07/2013   \n",
       "350                             NaN  01/01/2000 - 31/12/2015   \n",
       "\n",
       "                                               projeto  \\\n",
       "37                                                 NaN   \n",
       "38   FUNPEC/UFRN CONV. 147/2007 - CAMPUS DO CEREBRO...   \n",
       "350                            MANUTENCAO II (1512001)   \n",
       "\n",
       "     id_unidade_responsavel unidade_responsavel  Unnamed: 14  \n",
       "37                   5229.0   CAMPUS DO CÉREBRO          NaN  \n",
       "38                   5229.0   CAMPUS DO CÉREBRO          NaN  \n",
       "350                  5229.0   CAMPUS DO CÉREBRO          NaN  "
      ]
     },
     "execution_count": 79,
     "metadata": {},
     "output_type": "execute_result"
    }
   ],
   "source": [
    "cerebro_list = []\n",
    "CT_list = []\n",
    "for idx,rows in df.iterrows():\n",
    "    if (rows['unidade_responsavel'] == campus_cerebro):\n",
    "        cerebro_list.append(idx)\n",
    "\n",
    "# As duas obras (caríssimas por sinal) do campus do cérebro\n",
    "df.loc[cerebro_list]\n"
   ]
  },
  {
   "cell_type": "code",
   "execution_count": 83,
   "metadata": {
    "scrolled": false
   },
   "outputs": [
    {
     "name": "stdout",
     "output_type": "stream",
     "text": [
      "execução, pela CONTRATADA, da CONSTRUÇÃO DO CENTRO DE PESQUISAS, LOCALIZADO NO CAMPUS DO CÉREBRO NA ESCOLA AGRÍCOLA DE JUNDIAÍ - MUNICÍPIO DE MACAÍBA / RN: conforme especificações, anexas a CONCORRÊNCIA Nº 10/2009-DMP.\n",
      "\tUnidade 01 - CONSTRUÇÃO DA ESCOLA LYGIA MARIA ROCHA LEÃO LAPORTA\n",
      "\t Unidade 02 -  CONSTRUÇÃO DO CENTRO DE PESQUISAS\n",
      "\n",
      "\n",
      "CONSTRUÇÃO DA ESCOLA LYGIA MARIA ROCHA LEÃO LAPORTA, LOCALIZADO NO CAMPUS DO CÉREBRO NA ESCOLA AGRÍCOLA DE JUNDIAÍ - MUNICÍPIO DE MACAÍBA/RN.\n"
     ]
    }
   ],
   "source": [
    "cc_describe = df.loc[cerebro_list]\n",
    "print(cc_describe.iloc[0]['descricao'])\n",
    "print(cc_describe.iloc[1]['descricao'])"
   ]
  },
  {
   "cell_type": "code",
   "execution_count": null,
   "metadata": {},
   "outputs": [],
   "source": []
  },
  {
   "cell_type": "code",
   "execution_count": null,
   "metadata": {},
   "outputs": [],
   "source": []
  },
  {
   "cell_type": "code",
   "execution_count": null,
   "metadata": {},
   "outputs": [],
   "source": []
  },
  {
   "cell_type": "code",
   "execution_count": null,
   "metadata": {},
   "outputs": [],
   "source": []
  },
  {
   "cell_type": "code",
   "execution_count": null,
   "metadata": {},
   "outputs": [],
   "source": []
  },
  {
   "cell_type": "code",
   "execution_count": null,
   "metadata": {},
   "outputs": [],
   "source": []
  },
  {
   "cell_type": "code",
   "execution_count": null,
   "metadata": {},
   "outputs": [],
   "source": []
  }
 ],
 "metadata": {
  "kernelspec": {
   "display_name": "Python 3",
   "language": "python",
   "name": "python3"
  },
  "language_info": {
   "codemirror_mode": {
    "name": "ipython",
    "version": 3
   },
   "file_extension": ".py",
   "mimetype": "text/x-python",
   "name": "python",
   "nbconvert_exporter": "python",
   "pygments_lexer": "ipython3",
   "version": "3.6.4"
  }
 },
 "nbformat": 4,
 "nbformat_minor": 2
}
