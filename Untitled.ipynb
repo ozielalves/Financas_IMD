{
 "cells": [
  {
   "cell_type": "markdown",
   "metadata": {},
   "source": [
    "# Finanças UFRN"
   ]
  },
  {
   "cell_type": "code",
   "execution_count": 21,
   "metadata": {},
   "outputs": [],
   "source": [
    "import pandas as pd\n",
    "import numpy as np\n"
   ]
  },
  {
   "cell_type": "code",
   "execution_count": 26,
   "metadata": {
    "scrolled": true
   },
   "outputs": [
    {
     "name": "stdout",
     "output_type": "stream",
     "text": [
      "   id_obra                                          descricao  \\\n",
      "0      493  CONSTRUÇÃO DO BLOCO H DO SETOR DE AULAS TEÓRIC...   \n",
      "1      521  CONSTRUÇÃO DO BLOCO A1 DO SETOR DE AULAS TEÓRI...   \n",
      "2      848  CONSTRUÇÃO DO SETOR DE ANTIBIÓTICOS PRODUÇÃO D...   \n",
      "3      925  Complementação da 2ª Etapa e Realização da 3ª ...   \n",
      "4      182   CONSTRUÇÃO DO DEPARTAMENTO DE FISIOTERAPIA - CCS   \n",
      "\n",
      "                   periodo  qtd_dias status_obra licitacao  \\\n",
      "0  23/03/2005 - 19/11/2005       240  FINALIZADA    6/2004   \n",
      "1  04/05/2005 - 30/12/2005       240  FINALIZADA    7/2004   \n",
      "2  02/06/2005 - 29/01/2006       240  FINALIZADA    4/2004   \n",
      "3  28/01/2005 - 22/01/2006       360  FINALIZADA    2/2004   \n",
      "4  08/02/2006 - 02/02/2007       360  FINALIZADA    1/2005   \n",
      "\n",
      "                                             empresa    modalidade  \\\n",
      "0   03.166.687/0001-28 - CRS-CONSTRUÇÕES E EMPREE...  CONCORRÊNCIA   \n",
      "1   03.166.687/0001-28 - CRS-CONSTRUÇÕES E EMPREE...  CONCORRÊNCIA   \n",
      "2        03.722.669/0001-85 - CONSTRUTORA CAGEO LTDA  CONCORRÊNCIA   \n",
      "3   40.761.454/0001-08 - AR PROJETOS & CONSTRUÇÕE...  CONCORRÊNCIA   \n",
      "4   01.694.415/0001-75 - HASTE-HABITAÇÃO E SERVIÇ...  CONCORRÊNCIA   \n",
      "\n",
      "                 valor                   fonte_recurso  \\\n",
      "0  R$       829.454,21                             NaN   \n",
      "1  R$       833.702,12                             NaN   \n",
      "2  R$     1.561.230,93  TESOURO - EDUCAÇÃO (112000000)   \n",
      "3  R$       814.550,74                             NaN   \n",
      "4  R$     1.455.865,61                             NaN   \n",
      "\n",
      "          vigencia_projeto                           projeto  \\\n",
      "0                      NaN                               NaN   \n",
      "1  20/04/2005 - 20/11/2005          19O ENECIC/2005 (852005)   \n",
      "2                      NaN                               NaN   \n",
      "3  20/12/2002 - 31/07/2007  UFRN/CONV.133/02 - HUOL (862003)   \n",
      "4  20/12/2004 - 30/03/2010   CONVENIO 121/2004 UFRN (732005)   \n",
      "\n",
      "   id_unidade_responsavel                             unidade_responsavel  \\\n",
      "0                     NaN                                             NaN   \n",
      "1                     NaN                                             NaN   \n",
      "2                   252.0  NUCLEO DE PESQUISA EM ALIMENTOS E MEDICAMENTOS   \n",
      "3                   446.0             HOSPITAL UNIVERSITÁRIO ONOFRE LOPES   \n",
      "4                   446.0             HOSPITAL UNIVERSITÁRIO ONOFRE LOPES   \n",
      "\n",
      "   Unnamed: 14  \n",
      "0          NaN  \n",
      "1          NaN  \n",
      "2          NaN  \n",
      "3          NaN  \n",
      "4          NaN  \n",
      "   numero   ano  id_unidade_requisitante  \\\n",
      "0    1467  2018                      445   \n",
      "1    1463  2018                     4885   \n",
      "2    1388  2018                     6919   \n",
      "3    1340  2018                     3362   \n",
      "4     927  2018                      196   \n",
      "\n",
      "                 nome_unidade_requisitante  id_unidade_custo  \\\n",
      "0                     CENTRO DE TECNOLOGIA               445   \n",
      "1          ESCOLA DE CIÊNCIAS E TECNOLOGIA              4885   \n",
      "2  INSTITUTO DE MEDICINA TROPICAL - IMT-RN              6919   \n",
      "3        ASSESSORIA ADMINISTRATIVA (AS/CT)                87   \n",
      "4                 DEPARTAMENTO DE FARMACIA               196   \n",
      "\n",
      "                        nome_unidade_custo  data_envio  \\\n",
      "0                     CENTRO DE TECNOLOGIA  27/02/2018   \n",
      "1          ESCOLA DE CIÊNCIAS E TECNOLOGIA  27/02/2018   \n",
      "2  INSTITUTO DE MEDICINA TROPICAL - IMT-RN  23/02/2018   \n",
      "3          DIREÇÃO DO CENTRO DE TECNOLOGIA  23/02/2018   \n",
      "4                 DEPARTAMENTO DE FARMACIA  08/02/2018   \n",
      "\n",
      "                                           descricao  \\\n",
      "0  REPARO DO FORRO E RECUPERAÇÃO DE PEÇAS METÁLIC...   \n",
      "1  RECUPERAÇÃO ESTRUTURAL DA COBERTURA DO PRÉDIO ...   \n",
      "2  Projeto de sinalização interna e externa do IM...   \n",
      "3  Conforme parecer técnico realizado pela coorde...   \n",
      "4  DIANTE DA CRIAÇÃO DA PRIMEIRA E ÚNICA EMPRESA ...   \n",
      "\n",
      "                                               local  \\\n",
      "0                        CENTRO DE TECNOLOGIA - UFRN   \n",
      "1                          CENTRO DE TECNOLOGIA-UFRN   \n",
      "2         Unidade clínica do IMT-RN, ao lado do HGT.   \n",
      "3          Complexo tecnológico de engenharia (CTEC)   \n",
      "4  LOCAL SE TRATA DE PARTE DA ANTIGA PRAÇA DO XAR...   \n",
      "\n",
      "                                         observacoes  \\\n",
      "0                         RDC 01/2018 - R$ 40.984,69   \n",
      "1                        RDC 01/2018 - R$ 136.974,42   \n",
      "2                                                NaN   \n",
      "3  Construção de um abrigo para fins de destinaçã...   \n",
      "4                             UNIDADE DE CUSTO CCS.    \n",
      "\n",
      "                               status processo  \n",
      "0                          CADASTRADA      NaN  \n",
      "1  PENDENTE AUTORIZAÇÃO CHEFE UNIDADE      NaN  \n",
      "2               AUTORIZADA PARA INFRA      NaN  \n",
      "3               AUTORIZADA PARA INFRA      NaN  \n",
      "4                          CADASTRADA      NaN  \n"
     ]
    }
   ],
   "source": [
    "obras = pd.read_csv(\"res/obras.csv\", sep=';')\n",
    "requisicao_obras = pd.read_csv(\"res/requisicaoobras.csv\", sep=';')\n",
    "\n",
    "print(obras.head())\n",
    "print(requisicao_obras.head())"
   ]
  },
  {
   "cell_type": "code",
   "execution_count": null,
   "metadata": {},
   "outputs": [],
   "source": []
  }
 ],
 "metadata": {
  "kernelspec": {
   "display_name": "Python 3",
   "language": "python",
   "name": "python3"
  },
  "language_info": {
   "codemirror_mode": {
    "name": "ipython",
    "version": 3
   },
   "file_extension": ".py",
   "mimetype": "text/x-python",
   "name": "python",
   "nbconvert_exporter": "python",
   "pygments_lexer": "ipython3",
   "version": "3.6.4"
  }
 },
 "nbformat": 4,
 "nbformat_minor": 2
}
