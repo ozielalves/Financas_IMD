{
 "cells": [
  {
   "cell_type": "markdown",
   "metadata": {},
   "source": [
    "# Finanças UFRN"
   ]
  },
  {
   "cell_type": "code",
   "execution_count": 57,
   "metadata": {},
   "outputs": [],
   "source": [
    "import pandas as pd\n",
    "import numpy as np\n",
    "import matplotlib.pyplot as plt\n"
   ]
  },
  {
   "cell_type": "markdown",
   "metadata": {},
   "source": [
    "## Working with *Valores*"
   ]
  },
  {
   "cell_type": "code",
   "execution_count": 54,
   "metadata": {
    "scrolled": true
   },
   "outputs": [
    {
     "name": "stdout",
     "output_type": "stream",
     "text": [
      "   id_obra                                          descricao  \\\n",
      "0      493  CONSTRUÇÃO DO BLOCO H DO SETOR DE AULAS TEÓRIC...   \n",
      "1      521  CONSTRUÇÃO DO BLOCO A1 DO SETOR DE AULAS TEÓRI...   \n",
      "2      848  CONSTRUÇÃO DO SETOR DE ANTIBIÓTICOS PRODUÇÃO D...   \n",
      "3      925  Complementação da 2ª Etapa e Realização da 3ª ...   \n",
      "4      182   CONSTRUÇÃO DO DEPARTAMENTO DE FISIOTERAPIA - CCS   \n",
      "\n",
      "                   periodo  qtd_dias status_obra licitacao  \\\n",
      "0  23/03/2005 - 19/11/2005       240  FINALIZADA    6/2004   \n",
      "1  04/05/2005 - 30/12/2005       240  FINALIZADA    7/2004   \n",
      "2  02/06/2005 - 29/01/2006       240  FINALIZADA    4/2004   \n",
      "3  28/01/2005 - 22/01/2006       360  FINALIZADA    2/2004   \n",
      "4  08/02/2006 - 02/02/2007       360  FINALIZADA    1/2005   \n",
      "\n",
      "                                             empresa    modalidade  \\\n",
      "0   03.166.687/0001-28 - CRS-CONSTRUÇÕES E EMPREE...  CONCORRÊNCIA   \n",
      "1   03.166.687/0001-28 - CRS-CONSTRUÇÕES E EMPREE...  CONCORRÊNCIA   \n",
      "2        03.722.669/0001-85 - CONSTRUTORA CAGEO LTDA  CONCORRÊNCIA   \n",
      "3   40.761.454/0001-08 - AR PROJETOS & CONSTRUÇÕE...  CONCORRÊNCIA   \n",
      "4   01.694.415/0001-75 - HASTE-HABITAÇÃO E SERVIÇ...  CONCORRÊNCIA   \n",
      "\n",
      "                 valor                   fonte_recurso  \\\n",
      "0  R$       829.454,21                             NaN   \n",
      "1  R$       833.702,12                             NaN   \n",
      "2  R$     1.561.230,93  TESOURO - EDUCAÇÃO (112000000)   \n",
      "3  R$       814.550,74                             NaN   \n",
      "4  R$     1.455.865,61                             NaN   \n",
      "\n",
      "          vigencia_projeto                           projeto  \\\n",
      "0                      NaN                               NaN   \n",
      "1  20/04/2005 - 20/11/2005          19O ENECIC/2005 (852005)   \n",
      "2                      NaN                               NaN   \n",
      "3  20/12/2002 - 31/07/2007  UFRN/CONV.133/02 - HUOL (862003)   \n",
      "4  20/12/2004 - 30/03/2010   CONVENIO 121/2004 UFRN (732005)   \n",
      "\n",
      "   id_unidade_responsavel                             unidade_responsavel  \\\n",
      "0                     NaN                                             NaN   \n",
      "1                     NaN                                             NaN   \n",
      "2                   252.0  NUCLEO DE PESQUISA EM ALIMENTOS E MEDICAMENTOS   \n",
      "3                   446.0             HOSPITAL UNIVERSITÁRIO ONOFRE LOPES   \n",
      "4                   446.0             HOSPITAL UNIVERSITÁRIO ONOFRE LOPES   \n",
      "\n",
      "   Unnamed: 14  \n",
      "0          NaN  \n",
      "1          NaN  \n",
      "2          NaN  \n",
      "3          NaN  \n",
      "4          NaN  \n",
      "   numero   ano  id_unidade_requisitante  \\\n",
      "0    1467  2018                      445   \n",
      "1    1463  2018                     4885   \n",
      "2    1388  2018                     6919   \n",
      "3    1340  2018                     3362   \n",
      "4     927  2018                      196   \n",
      "\n",
      "                 nome_unidade_requisitante  id_unidade_custo  \\\n",
      "0                     CENTRO DE TECNOLOGIA               445   \n",
      "1          ESCOLA DE CIÊNCIAS E TECNOLOGIA              4885   \n",
      "2  INSTITUTO DE MEDICINA TROPICAL - IMT-RN              6919   \n",
      "3        ASSESSORIA ADMINISTRATIVA (AS/CT)                87   \n",
      "4                 DEPARTAMENTO DE FARMACIA               196   \n",
      "\n",
      "                        nome_unidade_custo  data_envio  \\\n",
      "0                     CENTRO DE TECNOLOGIA  27/02/2018   \n",
      "1          ESCOLA DE CIÊNCIAS E TECNOLOGIA  27/02/2018   \n",
      "2  INSTITUTO DE MEDICINA TROPICAL - IMT-RN  23/02/2018   \n",
      "3          DIREÇÃO DO CENTRO DE TECNOLOGIA  23/02/2018   \n",
      "4                 DEPARTAMENTO DE FARMACIA  08/02/2018   \n",
      "\n",
      "                                           descricao  \\\n",
      "0  REPARO DO FORRO E RECUPERAÇÃO DE PEÇAS METÁLIC...   \n",
      "1  RECUPERAÇÃO ESTRUTURAL DA COBERTURA DO PRÉDIO ...   \n",
      "2  Projeto de sinalização interna e externa do IM...   \n",
      "3  Conforme parecer técnico realizado pela coorde...   \n",
      "4  DIANTE DA CRIAÇÃO DA PRIMEIRA E ÚNICA EMPRESA ...   \n",
      "\n",
      "                                               local  \\\n",
      "0                        CENTRO DE TECNOLOGIA - UFRN   \n",
      "1                          CENTRO DE TECNOLOGIA-UFRN   \n",
      "2         Unidade clínica do IMT-RN, ao lado do HGT.   \n",
      "3          Complexo tecnológico de engenharia (CTEC)   \n",
      "4  LOCAL SE TRATA DE PARTE DA ANTIGA PRAÇA DO XAR...   \n",
      "\n",
      "                                         observacoes  \\\n",
      "0                         RDC 01/2018 - R$ 40.984,69   \n",
      "1                        RDC 01/2018 - R$ 136.974,42   \n",
      "2                                                NaN   \n",
      "3  Construção de um abrigo para fins de destinaçã...   \n",
      "4                             UNIDADE DE CUSTO CCS.    \n",
      "\n",
      "                               status processo  \n",
      "0                          CADASTRADA      NaN  \n",
      "1  PENDENTE AUTORIZAÇÃO CHEFE UNIDADE      NaN  \n",
      "2               AUTORIZADA PARA INFRA      NaN  \n",
      "3               AUTORIZADA PARA INFRA      NaN  \n",
      "4                          CADASTRADA      NaN  \n"
     ]
    }
   ],
   "source": [
    "works = pd.read_csv(\"res/obras.csv\", sep=';')\n",
    "works_request = pd.read_csv(\"res/requisicaoobras.csv\", sep=';')\n",
    "\n",
    "print(works.head())\n",
    "print(works_request.head())"
   ]
  },
  {
   "cell_type": "code",
   "execution_count": 12,
   "metadata": {},
   "outputs": [
    {
     "name": "stdout",
     "output_type": "stream",
     "text": [
      "The most expensive Work was: R$    75.574.557,43\n",
      "37\n"
     ]
    },
    {
     "data": {
      "text/plain": [
       "id_obra                                                                5803\n",
       "descricao                 execução, pela CONTRATADA, da CONSTRUÇÃO DO CE...\n",
       "periodo                                             11/06/2010 - 22/12/2013\n",
       "qtd_dias                                                                720\n",
       "status_obra                                                      FINALIZADA\n",
       "licitacao                                                           10/2009\n",
       "empresa                    86.712.247/0001-56 - EDCON - COMÉRCIO E CONST...\n",
       "modalidade                                                     CONCORRÊNCIA\n",
       "valor                                                   R$    75.574.557,43\n",
       "fonte_recurso                                TESOURO - EDUCAÇÃO (112000000)\n",
       "vigencia_projeto                                                        NaN\n",
       "projeto                                                                 NaN\n",
       "id_unidade_responsavel                                                 5229\n",
       "unidade_responsavel                                       CAMPUS DO CÉREBRO\n",
       "Unnamed: 14                                                             NaN\n",
       "Name: 37, dtype: object"
      ]
     },
     "execution_count": 12,
     "metadata": {},
     "output_type": "execute_result"
    }
   ],
   "source": [
    "most_exp_work = works['valor'].max()\n",
    "print(\"The most expensive Work was:\", most_exp_work)\n",
    "for i,valor in enumerate(works['valor']):\n",
    "    if(valor == most_exp_work):\n",
    "        print(i)\n",
    "works.iloc[37]"
   ]
  },
  {
   "cell_type": "code",
   "execution_count": 19,
   "metadata": {},
   "outputs": [
    {
     "name": "stdout",
     "output_type": "stream",
     "text": [
      "The most cheap Work was: R$             1,00\n",
      "421\n"
     ]
    },
    {
     "data": {
      "text/plain": [
       "id_obra                                                                2878\n",
       "descricao                 CONSTRUÇÃO DE OBRAS CIVIS DO CENTRO DE PESQUIS...\n",
       "periodo                                             01/01/2007 - 31/12/2007\n",
       "qtd_dias                                                                360\n",
       "status_obra                                                      FINALIZADA\n",
       "licitacao                                                            7/2006\n",
       "empresa                    08.288.581/0001-10 - I M COMERCIO E TERRAPLAN...\n",
       "modalidade                                                  TOMADA DE PREÇO\n",
       "valor                                                   R$             1,00\n",
       "fonte_recurso               UNIV.FEDERAL DO RIO GRANDE DO NORTE (250154214)\n",
       "vigencia_projeto                                                        NaN\n",
       "projeto                                                                 NaN\n",
       "id_unidade_responsavel                                                  605\n",
       "unidade_responsavel             UNIVERSIDADE FEDERAL DO RIO GRANDE DO NORTE\n",
       "Unnamed: 14                                                             NaN\n",
       "Name: 421, dtype: object"
      ]
     },
     "execution_count": 19,
     "metadata": {},
     "output_type": "execute_result"
    }
   ],
   "source": [
    "most_cheap_work = works['valor'].min()\n",
    "print(\"The most cheap Work was:\", most_cheap_work)\n",
    "this = 0\n",
    "for i,valor in enumerate(works['valor']):\n",
    "    if(valor == most_cheap_work):\n",
    "        print(i)\n",
    "        this = i\n",
    "works.iloc[this]"
   ]
  },
  {
   "cell_type": "code",
   "execution_count": 65,
   "metadata": {},
   "outputs": [
    {
     "name": "stderr",
     "output_type": "stream",
     "text": [
      "C:\\Users\\oziel\\Anaconda3\\lib\\site-packages\\ipykernel_launcher.py:7: SettingWithCopyWarning: \n",
      "A value is trying to be set on a copy of a slice from a DataFrame\n",
      "\n",
      "See the caveats in the documentation: http://pandas.pydata.org/pandas-docs/stable/indexing.html#indexing-view-versus-copy\n",
      "  import sys\n"
     ]
    }
   ],
   "source": [
    "for index,i in enumerate(works['valor']):\n",
    "    i = i.replace(\" \", \"\")\n",
    "    i = i.replace(\"R$\", \"\")\n",
    "    i = i.replace(\".\",\"\")\n",
    "    i = i.replace(\",\", \"\")\n",
    "    i = int(i)\n",
    "    works['valor'][index] = i\n"
   ]
  },
  {
   "cell_type": "code",
   "execution_count": 48,
   "metadata": {},
   "outputs": [
    {
     "name": "stdout",
     "output_type": "stream",
     "text": [
      "The Works coust mean was: 91264780.6882494\n"
     ]
    }
   ],
   "source": [
    "works_cost_mean = works['valor'].mean()\n",
    "print(\"The Works coust mean was:\", works_cost_mean)"
   ]
  },
  {
   "cell_type": "code",
   "execution_count": 71,
   "metadata": {},
   "outputs": [
    {
     "data": {
      "image/png": "[encoded data removed]",
      "text/plain": [
       "<matplotlib.figure.Figure at 0x19ae928b4e0>"
      ]
     },
     "metadata": {},
     "output_type": "display_data"
    }
   ],
   "source": [
    "fig = plt.figure(figsize=(15,8))\n",
    "plt.plot( works['valor'], c='gray', label='Work Cost')\n",
    "plt.ylabel('')\n",
    "plt.xlabel('')\n",
    "plt.legend(loc='upper right')\n",
    "plt.title('')\n",
    "plt.show()"
   ]
  },
  {
   "cell_type": "code",
   "execution_count": null,
   "metadata": {},
   "outputs": [],
   "source": []
  }
 ],
 "metadata": {
  "kernelspec": {
   "display_name": "Python 3",
   "language": "python",
   "name": "python3"
  },
  "language_info": {
   "codemirror_mode": {
    "name": "ipython",
    "version": 3
   },
   "file_extension": ".py",
   "mimetype": "text/x-python",
   "name": "python",
   "nbconvert_exporter": "python",
   "pygments_lexer": "ipython3",
   "version": "3.6.4"
  }
 },
 "nbformat": 4,
 "nbformat_minor": 2
}
