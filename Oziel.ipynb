{
 "cells": [
  {
   "cell_type": "markdown",
   "metadata": {},
   "source": [
    "# UFRN Constructions's Finances\n",
    "On this NoteBook we will present our discoveries over constructions and investments all over UNIVERSIDADE FEDERAL DO RIO GRANDE DO NORTE([UFRN](www.ufrn.br)).\n",
    "All this made as a project for a subject on UFRN called `PROBABILIDADE`, where we choose some of several available open data about our university.\n",
    "\n",
    "## Choosen Data\n",
    "We decided to work on the financial values over UFRN, like how much money cost a specific work, how long it generally takes to finish a construction, the most expensive work, and so on. For that, we used the following 'csv' files:\n",
    "- [obras.csv](http://dados.ufrn.br/dataset/a8b897f9-4659-44d4-842e-ac70ae21eb83/resource/067e7cad-934c-4134-a5d5-807915c074b4/download/obras.csv)\n",
    "- [requisicaoobras.csv](http://dados.ufrn.br/dataset/15f55d0c-7ac8-4c1e-a73c-b0e37b9ef873/resource/0d923d18-1ffa-41d7-972f-33a12e9daf62/download/requisicaoobras.csv)"
   ]
  },
  {
   "cell_type": "markdown",
   "metadata": {},
   "source": [
    "Importing some useful libs"
   ]
  },
  {
   "cell_type": "code",
<<<<<<< Updated upstream
   "execution_count": 1,
   "metadata": {
    "collapsed": true
   },
=======
   "execution_count": 3,
   "metadata": {},
>>>>>>> Stashed changes
   "outputs": [],
   "source": [
    "import pandas as pd\n",
    "import numpy as np\n",
    "import matplotlib.pyplot as plt"
   ]
  },
  {
   "cell_type": "markdown",
   "metadata": {
    "scrolled": true
   },
   "source": [
    "Just reading and showing the dataframe we are about to work with"
   ]
  },
  {
   "cell_type": "code",
<<<<<<< Updated upstream
   "execution_count": 26,
   "metadata": {
    "collapsed": true
   },
=======
   "execution_count": 4,
   "metadata": {},
>>>>>>> Stashed changes
   "outputs": [],
   "source": [
    "works = pd.read_csv(\"res/obras.csv\", sep=';')\n",
    "work_requests = pd.read_csv(\"res/requisicaoobras.csv\", sep=';')"
   ]
  },
  {
   "cell_type": "markdown",
   "metadata": {},
   "source": [
    "#### Works Data Frame"
   ]
  },
  {
   "cell_type": "code",
<<<<<<< Updated upstream
   "execution_count": 3,
=======
   "execution_count": 5,
>>>>>>> Stashed changes
   "metadata": {},
   "outputs": [
    {
     "data": {
      "text/html": [
       "<div>\n",
       "<style>\n",
       "    .dataframe thead tr:only-child th {\n",
       "        text-align: right;\n",
       "    }\n",
       "\n",
       "    .dataframe thead th {\n",
       "        text-align: left;\n",
       "    }\n",
       "\n",
       "    .dataframe tbody tr th {\n",
       "        vertical-align: top;\n",
       "    }\n",
       "</style>\n",
       "<table border=\"1\" class=\"dataframe\">\n",
       "  <thead>\n",
       "    <tr style=\"text-align: right;\">\n",
       "      <th></th>\n",
       "      <th>id_obra</th>\n",
       "      <th>descricao</th>\n",
       "      <th>periodo</th>\n",
       "      <th>qtd_dias</th>\n",
       "      <th>status_obra</th>\n",
       "      <th>licitacao</th>\n",
       "      <th>empresa</th>\n",
       "      <th>modalidade</th>\n",
       "      <th>valor</th>\n",
       "      <th>fonte_recurso</th>\n",
       "      <th>vigencia_projeto</th>\n",
       "      <th>projeto</th>\n",
       "      <th>id_unidade_responsavel</th>\n",
       "      <th>unidade_responsavel</th>\n",
       "      <th>Unnamed: 14</th>\n",
       "    </tr>\n",
       "  </thead>\n",
       "  <tbody>\n",
       "    <tr>\n",
       "      <th>0</th>\n",
       "      <td>493</td>\n",
       "      <td>CONSTRUÇÃO DO BLOCO H DO SETOR DE AULAS TEÓRIC...</td>\n",
       "      <td>23/03/2005 - 19/11/2005</td>\n",
       "      <td>240</td>\n",
       "      <td>FINALIZADA</td>\n",
       "      <td>6/2004</td>\n",
       "      <td>03.166.687/0001-28 - CRS-CONSTRUÇÕES E EMPREE...</td>\n",
       "      <td>CONCORRÊNCIA</td>\n",
       "      <td>R$       829.454,21</td>\n",
       "      <td>NaN</td>\n",
       "      <td>NaN</td>\n",
       "      <td>NaN</td>\n",
       "      <td>NaN</td>\n",
       "      <td>NaN</td>\n",
       "      <td>NaN</td>\n",
       "    </tr>\n",
       "    <tr>\n",
       "      <th>1</th>\n",
       "      <td>521</td>\n",
       "      <td>CONSTRUÇÃO DO BLOCO A1 DO SETOR DE AULAS TEÓRI...</td>\n",
       "      <td>04/05/2005 - 30/12/2005</td>\n",
       "      <td>240</td>\n",
       "      <td>FINALIZADA</td>\n",
       "      <td>7/2004</td>\n",
       "      <td>03.166.687/0001-28 - CRS-CONSTRUÇÕES E EMPREE...</td>\n",
       "      <td>CONCORRÊNCIA</td>\n",
       "      <td>R$       833.702,12</td>\n",
       "      <td>NaN</td>\n",
       "      <td>20/04/2005 - 20/11/2005</td>\n",
       "      <td>19O ENECIC/2005 (852005)</td>\n",
       "      <td>NaN</td>\n",
       "      <td>NaN</td>\n",
       "      <td>NaN</td>\n",
       "    </tr>\n",
       "    <tr>\n",
       "      <th>2</th>\n",
       "      <td>848</td>\n",
       "      <td>CONSTRUÇÃO DO SETOR DE ANTIBIÓTICOS PRODUÇÃO D...</td>\n",
       "      <td>02/06/2005 - 29/01/2006</td>\n",
       "      <td>240</td>\n",
       "      <td>FINALIZADA</td>\n",
       "      <td>4/2004</td>\n",
       "      <td>03.722.669/0001-85 - CONSTRUTORA CAGEO LTDA</td>\n",
       "      <td>CONCORRÊNCIA</td>\n",
       "      <td>R$     1.561.230,93</td>\n",
       "      <td>TESOURO - EDUCAÇÃO (112000000)</td>\n",
       "      <td>NaN</td>\n",
       "      <td>NaN</td>\n",
       "      <td>252.0</td>\n",
       "      <td>NUCLEO DE PESQUISA EM ALIMENTOS E MEDICAMENTOS</td>\n",
       "      <td>NaN</td>\n",
       "    </tr>\n",
       "    <tr>\n",
       "      <th>3</th>\n",
       "      <td>925</td>\n",
       "      <td>Complementação da 2ª Etapa e Realização da 3ª ...</td>\n",
       "      <td>28/01/2005 - 22/01/2006</td>\n",
       "      <td>360</td>\n",
       "      <td>FINALIZADA</td>\n",
       "      <td>2/2004</td>\n",
       "      <td>40.761.454/0001-08 - AR PROJETOS &amp; CONSTRUÇÕE...</td>\n",
       "      <td>CONCORRÊNCIA</td>\n",
       "      <td>R$       814.550,74</td>\n",
       "      <td>NaN</td>\n",
       "      <td>20/12/2002 - 31/07/2007</td>\n",
       "      <td>UFRN/CONV.133/02 - HUOL (862003)</td>\n",
       "      <td>446.0</td>\n",
       "      <td>HOSPITAL UNIVERSITÁRIO ONOFRE LOPES</td>\n",
       "      <td>NaN</td>\n",
       "    </tr>\n",
       "    <tr>\n",
       "      <th>4</th>\n",
       "      <td>182</td>\n",
       "      <td>CONSTRUÇÃO DO DEPARTAMENTO DE FISIOTERAPIA - CCS</td>\n",
       "      <td>08/02/2006 - 02/02/2007</td>\n",
       "      <td>360</td>\n",
       "      <td>FINALIZADA</td>\n",
       "      <td>1/2005</td>\n",
       "      <td>01.694.415/0001-75 - HASTE-HABITAÇÃO E SERVIÇ...</td>\n",
       "      <td>CONCORRÊNCIA</td>\n",
       "      <td>R$     1.455.865,61</td>\n",
       "      <td>NaN</td>\n",
       "      <td>20/12/2004 - 30/03/2010</td>\n",
       "      <td>CONVENIO 121/2004 UFRN (732005)</td>\n",
       "      <td>446.0</td>\n",
       "      <td>HOSPITAL UNIVERSITÁRIO ONOFRE LOPES</td>\n",
       "      <td>NaN</td>\n",
       "    </tr>\n",
       "  </tbody>\n",
       "</table>\n",
       "</div>"
      ],
      "text/plain": [
       "   id_obra                                          descricao  \\\n",
       "0      493  CONSTRUÇÃO DO BLOCO H DO SETOR DE AULAS TEÓRIC...   \n",
       "1      521  CONSTRUÇÃO DO BLOCO A1 DO SETOR DE AULAS TEÓRI...   \n",
       "2      848  CONSTRUÇÃO DO SETOR DE ANTIBIÓTICOS PRODUÇÃO D...   \n",
       "3      925  Complementação da 2ª Etapa e Realização da 3ª ...   \n",
       "4      182   CONSTRUÇÃO DO DEPARTAMENTO DE FISIOTERAPIA - CCS   \n",
       "\n",
       "                   periodo  qtd_dias status_obra licitacao  \\\n",
       "0  23/03/2005 - 19/11/2005       240  FINALIZADA    6/2004   \n",
       "1  04/05/2005 - 30/12/2005       240  FINALIZADA    7/2004   \n",
       "2  02/06/2005 - 29/01/2006       240  FINALIZADA    4/2004   \n",
       "3  28/01/2005 - 22/01/2006       360  FINALIZADA    2/2004   \n",
       "4  08/02/2006 - 02/02/2007       360  FINALIZADA    1/2005   \n",
       "\n",
       "                                             empresa    modalidade  \\\n",
       "0   03.166.687/0001-28 - CRS-CONSTRUÇÕES E EMPREE...  CONCORRÊNCIA   \n",
       "1   03.166.687/0001-28 - CRS-CONSTRUÇÕES E EMPREE...  CONCORRÊNCIA   \n",
       "2        03.722.669/0001-85 - CONSTRUTORA CAGEO LTDA  CONCORRÊNCIA   \n",
       "3   40.761.454/0001-08 - AR PROJETOS & CONSTRUÇÕE...  CONCORRÊNCIA   \n",
       "4   01.694.415/0001-75 - HASTE-HABITAÇÃO E SERVIÇ...  CONCORRÊNCIA   \n",
       "\n",
       "                 valor                   fonte_recurso  \\\n",
       "0  R$       829.454,21                             NaN   \n",
       "1  R$       833.702,12                             NaN   \n",
       "2  R$     1.561.230,93  TESOURO - EDUCAÇÃO (112000000)   \n",
       "3  R$       814.550,74                             NaN   \n",
       "4  R$     1.455.865,61                             NaN   \n",
       "\n",
       "          vigencia_projeto                           projeto  \\\n",
       "0                      NaN                               NaN   \n",
       "1  20/04/2005 - 20/11/2005          19O ENECIC/2005 (852005)   \n",
       "2                      NaN                               NaN   \n",
       "3  20/12/2002 - 31/07/2007  UFRN/CONV.133/02 - HUOL (862003)   \n",
       "4  20/12/2004 - 30/03/2010   CONVENIO 121/2004 UFRN (732005)   \n",
       "\n",
       "   id_unidade_responsavel                             unidade_responsavel  \\\n",
       "0                     NaN                                             NaN   \n",
       "1                     NaN                                             NaN   \n",
       "2                   252.0  NUCLEO DE PESQUISA EM ALIMENTOS E MEDICAMENTOS   \n",
       "3                   446.0             HOSPITAL UNIVERSITÁRIO ONOFRE LOPES   \n",
       "4                   446.0             HOSPITAL UNIVERSITÁRIO ONOFRE LOPES   \n",
       "\n",
       "   Unnamed: 14  \n",
       "0          NaN  \n",
       "1          NaN  \n",
       "2          NaN  \n",
       "3          NaN  \n",
       "4          NaN  "
      ]
     },
<<<<<<< Updated upstream
     "execution_count": 3,
=======
     "execution_count": 5,
>>>>>>> Stashed changes
     "metadata": {},
     "output_type": "execute_result"
    }
   ],
   "source": [
    "pd.DataFrame(works.head())"
   ]
  },
  {
   "cell_type": "markdown",
   "metadata": {},
   "source": [
    "#### Work Requests Data Frame"
   ]
  },
  {
   "cell_type": "code",
<<<<<<< Updated upstream
   "execution_count": 4,
=======
   "execution_count": 6,
>>>>>>> Stashed changes
   "metadata": {
    "scrolled": false
   },
   "outputs": [
    {
     "data": {
      "text/html": [
       "<div>\n",
       "<style>\n",
       "    .dataframe thead tr:only-child th {\n",
       "        text-align: right;\n",
       "    }\n",
       "\n",
       "    .dataframe thead th {\n",
       "        text-align: left;\n",
       "    }\n",
       "\n",
       "    .dataframe tbody tr th {\n",
       "        vertical-align: top;\n",
       "    }\n",
       "</style>\n",
       "<table border=\"1\" class=\"dataframe\">\n",
       "  <thead>\n",
       "    <tr style=\"text-align: right;\">\n",
       "      <th></th>\n",
       "      <th>numero</th>\n",
       "      <th>ano</th>\n",
       "      <th>id_unidade_requisitante</th>\n",
       "      <th>nome_unidade_requisitante</th>\n",
       "      <th>id_unidade_custo</th>\n",
       "      <th>nome_unidade_custo</th>\n",
       "      <th>data_envio</th>\n",
       "      <th>descricao</th>\n",
       "      <th>local</th>\n",
       "      <th>observacoes</th>\n",
       "      <th>status</th>\n",
       "      <th>processo</th>\n",
       "    </tr>\n",
       "  </thead>\n",
       "  <tbody>\n",
       "    <tr>\n",
       "      <th>0</th>\n",
       "      <td>1467</td>\n",
       "      <td>2018</td>\n",
       "      <td>445</td>\n",
       "      <td>CENTRO DE TECNOLOGIA</td>\n",
       "      <td>445</td>\n",
       "      <td>CENTRO DE TECNOLOGIA</td>\n",
       "      <td>27/02/2018</td>\n",
       "      <td>REPARO DO FORRO E RECUPERAÇÃO DE PEÇAS METÁLIC...</td>\n",
       "      <td>CENTRO DE TECNOLOGIA - UFRN</td>\n",
       "      <td>RDC 01/2018 - R$ 40.984,69</td>\n",
       "      <td>CADASTRADA</td>\n",
       "      <td>NaN</td>\n",
       "    </tr>\n",
       "    <tr>\n",
       "      <th>1</th>\n",
       "      <td>1463</td>\n",
       "      <td>2018</td>\n",
       "      <td>4885</td>\n",
       "      <td>ESCOLA DE CIÊNCIAS E TECNOLOGIA</td>\n",
       "      <td>4885</td>\n",
       "      <td>ESCOLA DE CIÊNCIAS E TECNOLOGIA</td>\n",
       "      <td>27/02/2018</td>\n",
       "      <td>RECUPERAÇÃO ESTRUTURAL DA COBERTURA DO PRÉDIO ...</td>\n",
       "      <td>CENTRO DE TECNOLOGIA-UFRN</td>\n",
       "      <td>RDC 01/2018 - R$ 136.974,42</td>\n",
       "      <td>PENDENTE AUTORIZAÇÃO CHEFE UNIDADE</td>\n",
       "      <td>NaN</td>\n",
       "    </tr>\n",
       "    <tr>\n",
       "      <th>2</th>\n",
       "      <td>1388</td>\n",
       "      <td>2018</td>\n",
       "      <td>6919</td>\n",
       "      <td>INSTITUTO DE MEDICINA TROPICAL - IMT-RN</td>\n",
       "      <td>6919</td>\n",
       "      <td>INSTITUTO DE MEDICINA TROPICAL - IMT-RN</td>\n",
       "      <td>23/02/2018</td>\n",
       "      <td>Projeto de sinalização interna e externa do IM...</td>\n",
       "      <td>Unidade clínica do IMT-RN, ao lado do HGT.</td>\n",
       "      <td>NaN</td>\n",
       "      <td>AUTORIZADA PARA INFRA</td>\n",
       "      <td>NaN</td>\n",
       "    </tr>\n",
       "    <tr>\n",
       "      <th>3</th>\n",
       "      <td>1340</td>\n",
       "      <td>2018</td>\n",
       "      <td>3362</td>\n",
       "      <td>ASSESSORIA ADMINISTRATIVA (AS/CT)</td>\n",
       "      <td>87</td>\n",
       "      <td>DIREÇÃO DO CENTRO DE TECNOLOGIA</td>\n",
       "      <td>23/02/2018</td>\n",
       "      <td>Conforme parecer técnico realizado pela coorde...</td>\n",
       "      <td>Complexo tecnológico de engenharia (CTEC)</td>\n",
       "      <td>Construção de um abrigo para fins de destinaçã...</td>\n",
       "      <td>AUTORIZADA PARA INFRA</td>\n",
       "      <td>NaN</td>\n",
       "    </tr>\n",
       "    <tr>\n",
       "      <th>4</th>\n",
       "      <td>927</td>\n",
       "      <td>2018</td>\n",
       "      <td>196</td>\n",
       "      <td>DEPARTAMENTO DE FARMACIA</td>\n",
       "      <td>196</td>\n",
       "      <td>DEPARTAMENTO DE FARMACIA</td>\n",
       "      <td>08/02/2018</td>\n",
       "      <td>DIANTE DA CRIAÇÃO DA PRIMEIRA E ÚNICA EMPRESA ...</td>\n",
       "      <td>LOCAL SE TRATA DE PARTE DA ANTIGA PRAÇA DO XAR...</td>\n",
       "      <td>UNIDADE DE CUSTO CCS.</td>\n",
       "      <td>CADASTRADA</td>\n",
       "      <td>NaN</td>\n",
       "    </tr>\n",
       "  </tbody>\n",
       "</table>\n",
       "</div>"
      ],
      "text/plain": [
       "   numero   ano  id_unidade_requisitante  \\\n",
       "0    1467  2018                      445   \n",
       "1    1463  2018                     4885   \n",
       "2    1388  2018                     6919   \n",
       "3    1340  2018                     3362   \n",
       "4     927  2018                      196   \n",
       "\n",
       "                 nome_unidade_requisitante  id_unidade_custo  \\\n",
       "0                     CENTRO DE TECNOLOGIA               445   \n",
       "1          ESCOLA DE CIÊNCIAS E TECNOLOGIA              4885   \n",
       "2  INSTITUTO DE MEDICINA TROPICAL - IMT-RN              6919   \n",
       "3        ASSESSORIA ADMINISTRATIVA (AS/CT)                87   \n",
       "4                 DEPARTAMENTO DE FARMACIA               196   \n",
       "\n",
       "                        nome_unidade_custo  data_envio  \\\n",
       "0                     CENTRO DE TECNOLOGIA  27/02/2018   \n",
       "1          ESCOLA DE CIÊNCIAS E TECNOLOGIA  27/02/2018   \n",
       "2  INSTITUTO DE MEDICINA TROPICAL - IMT-RN  23/02/2018   \n",
       "3          DIREÇÃO DO CENTRO DE TECNOLOGIA  23/02/2018   \n",
       "4                 DEPARTAMENTO DE FARMACIA  08/02/2018   \n",
       "\n",
       "                                           descricao  \\\n",
       "0  REPARO DO FORRO E RECUPERAÇÃO DE PEÇAS METÁLIC...   \n",
       "1  RECUPERAÇÃO ESTRUTURAL DA COBERTURA DO PRÉDIO ...   \n",
       "2  Projeto de sinalização interna e externa do IM...   \n",
       "3  Conforme parecer técnico realizado pela coorde...   \n",
       "4  DIANTE DA CRIAÇÃO DA PRIMEIRA E ÚNICA EMPRESA ...   \n",
       "\n",
       "                                               local  \\\n",
       "0                        CENTRO DE TECNOLOGIA - UFRN   \n",
       "1                          CENTRO DE TECNOLOGIA-UFRN   \n",
       "2         Unidade clínica do IMT-RN, ao lado do HGT.   \n",
       "3          Complexo tecnológico de engenharia (CTEC)   \n",
       "4  LOCAL SE TRATA DE PARTE DA ANTIGA PRAÇA DO XAR...   \n",
       "\n",
       "                                         observacoes  \\\n",
       "0                         RDC 01/2018 - R$ 40.984,69   \n",
       "1                        RDC 01/2018 - R$ 136.974,42   \n",
       "2                                                NaN   \n",
       "3  Construção de um abrigo para fins de destinaçã...   \n",
       "4                             UNIDADE DE CUSTO CCS.    \n",
       "\n",
       "                               status processo  \n",
       "0                          CADASTRADA      NaN  \n",
       "1  PENDENTE AUTORIZAÇÃO CHEFE UNIDADE      NaN  \n",
       "2               AUTORIZADA PARA INFRA      NaN  \n",
       "3               AUTORIZADA PARA INFRA      NaN  \n",
       "4                          CADASTRADA      NaN  "
      ]
     },
<<<<<<< Updated upstream
     "execution_count": 4,
=======
     "execution_count": 6,
>>>>>>> Stashed changes
     "metadata": {},
     "output_type": "execute_result"
    }
   ],
   "source": [
    "pd.DataFrame(work_requests.head())"
   ]
  },
  {
   "cell_type": "markdown",
   "metadata": {},
   "source": [
<<<<<<< Updated upstream
    "### Fixes\n",
    "\n",
    "Some of the next cells will be used to fix certain issues, and perform personal minor changes.\n"
=======
    "### 1 ) Cleaning all unlabeled data"
>>>>>>> Stashed changes
   ]
  },
  {
   "cell_type": "code",
<<<<<<< Updated upstream
   "execution_count": 5,
   "metadata": {
    "collapsed": true
   },
=======
   "execution_count": 7,
   "metadata": {},
>>>>>>> Stashed changes
   "outputs": [],
   "source": [
    "valid_indexes = []\n",
    "for i,_ in enumerate(works['unidade_responsavel'].isnull()):\n",
    "    if (_ == False ):\n",
    "        valid_indexes.append(i)\n",
    "works_filter = works.loc[valid_indexes]\n",
    "#pd.DataFrame(works_filter.info())"
   ]
  },
  {
<<<<<<< Updated upstream
   "cell_type": "code",
   "execution_count": 6,
=======
   "cell_type": "markdown",
   "metadata": {},
   "source": [
    "1.1 ) Showing the number of requests per responsable unit."
   ]
  },
  {
   "cell_type": "code",
   "execution_count": 32,
>>>>>>> Stashed changes
   "metadata": {},
   "outputs": [
    {
     "data": {
      "text/html": [
       "<div>\n",
       "<style>\n",
       "    .dataframe thead tr:only-child th {\n",
       "        text-align: right;\n",
       "    }\n",
       "\n",
       "    .dataframe thead th {\n",
       "        text-align: left;\n",
       "    }\n",
       "\n",
       "    .dataframe tbody tr th {\n",
       "        vertical-align: top;\n",
       "    }\n",
       "</style>\n",
       "<table border=\"1\" class=\"dataframe\">\n",
       "  <thead>\n",
       "    <tr style=\"text-align: right;\">\n",
       "      <th></th>\n",
       "      <th>unidade_responsavel</th>\n",
       "    </tr>\n",
       "  </thead>\n",
       "  <tbody>\n",
       "    <tr>\n",
       "      <th>UNIVERSIDADE FEDERAL DO RIO GRANDE DO NORTE</th>\n",
       "      <td>108</td>\n",
       "    </tr>\n",
       "    <tr>\n",
       "      <th>CENTRO DE TECNOLOGIA</th>\n",
       "      <td>38</td>\n",
       "    </tr>\n",
       "    <tr>\n",
       "      <th>CENTRO DE BIOCIÊNCIAS</th>\n",
       "      <td>27</td>\n",
       "    </tr>\n",
       "    <tr>\n",
       "      <th>CENTRO DE CIÊNCIAS EXATAS E DA TERRA</th>\n",
       "      <td>26</td>\n",
       "    </tr>\n",
       "    <tr>\n",
       "      <th>CENTRO DE CIÊNCIAS DA SAÚDE</th>\n",
       "      <td>21</td>\n",
       "    </tr>\n",
       "  </tbody>\n",
       "</table>\n",
       "</div>"
      ],
      "text/plain": [
       "                                             unidade_responsavel\n",
       "UNIVERSIDADE FEDERAL DO RIO GRANDE DO NORTE                  108\n",
       "CENTRO DE TECNOLOGIA                                          38\n",
       "CENTRO DE BIOCIÊNCIAS                                         27\n",
       "CENTRO DE CIÊNCIAS EXATAS E DA TERRA                          26\n",
       "CENTRO DE CIÊNCIAS DA SAÚDE                                   21"
      ]
     },
<<<<<<< Updated upstream
     "execution_count": 6,
=======
     "execution_count": 32,
>>>>>>> Stashed changes
     "metadata": {},
     "output_type": "execute_result"
    }
   ],
   "source": [
    "pd.DataFrame(works_filter['unidade_responsavel'].value_counts()).head()"
   ]
  },
  {
   "cell_type": "markdown",
   "metadata": {},
   "source": [
<<<<<<< Updated upstream
    "###### 1.2 ) Fixing string 'Valor'"
=======
    "1.2 ) Fixing string **'Valor'**"
>>>>>>> Stashed changes
   ]
  },
  {
   "cell_type": "markdown",
   "metadata": {},
   "source": [
    "We will fix the value column to make it easier to handle on the data. It is important to remember that the works cost before was analyzed with two spaces after a comma being pennies.\n",
    "Therefore:\n",
    "\n",
    "Ex.:\n",
    "- `100` = ` RS 1,00` \n",
    "- `5040` = ` RS 50,40`"
   ]
  },
  {
   "cell_type": "code",
<<<<<<< Updated upstream
   "execution_count": 7,
=======
   "execution_count": 9,
>>>>>>> Stashed changes
   "metadata": {},
   "outputs": [
    {
     "name": "stderr",
     "output_type": "stream",
     "text": [
<<<<<<< Updated upstream
      "C:\\Program Files (x86)\\Microsoft Visual Studio\\Shared\\Anaconda3_64\\lib\\site-packages\\ipykernel_launcher.py:8: SettingWithCopyWarning: \n",
=======
      "C:\\Users\\oziel\\Anaconda3\\lib\\site-packages\\ipykernel_launcher.py:8: SettingWithCopyWarning: \n",
>>>>>>> Stashed changes
      "A value is trying to be set on a copy of a slice from a DataFrame\n",
      "\n",
      "See the caveats in the documentation: http://pandas.pydata.org/pandas-docs/stable/indexing.html#indexing-view-versus-copy\n",
      "  \n"
     ]
    }
   ],
   "source": [
    "df = works_filter.copy()\n",
    "for index,i in enumerate(df['valor']):\n",
    "    i = i.replace(\" \", \"\")\n",
    "    i = i.replace(\"R$\", \"\")\n",
    "    i = i.replace(\".\",\"\")\n",
    "    i = i.replace(\",\", \"\")\n",
    "    i = int(i)\n",
    "    df['valor'][index] = i"
   ]
  },
  {
   "cell_type": "markdown",
   "metadata": {},
<<<<<<< Updated upstream
   "source": [
    "### Department Expenses\n",
    "\n",
    "As we analyze open data over constructions and works on UFRN, we get information about each work expense since the year of 2005 to nowadays. As shown on the next cells, we separe works expenses per departmant that received it."
   ]
  },
  {
   "cell_type": "code",
   "execution_count": 8,
   "metadata": {},
   "outputs": [
    {
     "data": {
      "text/html": [
       "<div>\n",
       "<style>\n",
       "    .dataframe thead tr:only-child th {\n",
       "        text-align: right;\n",
       "    }\n",
       "\n",
       "    .dataframe thead th {\n",
       "        text-align: left;\n",
       "    }\n",
       "\n",
       "    .dataframe tbody tr th {\n",
       "        vertical-align: top;\n",
       "    }\n",
       "</style>\n",
       "<table border=\"1\" class=\"dataframe\">\n",
       "  <thead>\n",
       "    <tr style=\"text-align: right;\">\n",
       "      <th></th>\n",
       "      <th>0</th>\n",
       "    </tr>\n",
       "  </thead>\n",
       "  <tbody>\n",
       "    <tr>\n",
       "      <th>0</th>\n",
       "      <td>UNIVERSIDADE FEDERAL DO RIO GRANDE DO NORTE</td>\n",
       "    </tr>\n",
       "    <tr>\n",
       "      <th>1</th>\n",
       "      <td>CENTRO DE TECNOLOGIA</td>\n",
       "    </tr>\n",
       "    <tr>\n",
       "      <th>2</th>\n",
       "      <td>CENTRO DE BIOCIÊNCIAS</td>\n",
       "    </tr>\n",
       "    <tr>\n",
       "      <th>3</th>\n",
       "      <td>CENTRO DE CIÊNCIAS EXATAS E DA TERRA</td>\n",
       "    </tr>\n",
       "    <tr>\n",
       "      <th>4</th>\n",
       "      <td>CENTRO DE CIÊNCIAS DA SAÚDE</td>\n",
       "    </tr>\n",
       "    <tr>\n",
       "      <th>5</th>\n",
       "      <td>CENTRO DE CIÊNCIAS SOCIAIS APLICADAS</td>\n",
       "    </tr>\n",
       "    <tr>\n",
       "      <th>6</th>\n",
       "      <td>CENTRO DE CIÊNCIAS HUMANAS, LETRAS E ARTES</td>\n",
       "    </tr>\n",
       "    <tr>\n",
       "      <th>7</th>\n",
       "      <td>HOSPITAL UNIVERSITÁRIO ONOFRE LOPES</td>\n",
       "    </tr>\n",
       "    <tr>\n",
       "      <th>8</th>\n",
       "      <td>ESCOLA AGRÍCOLA DE JUNDIAÍ</td>\n",
       "    </tr>\n",
       "    <tr>\n",
       "      <th>9</th>\n",
       "      <td>NUCLEO DE PESQUISA EM ALIMENTOS E MEDICAMENTOS</td>\n",
       "    </tr>\n",
       "  </tbody>\n",
       "</table>\n",
       "</div>"
      ],
      "text/plain": [
       "                                                0\n",
       "0     UNIVERSIDADE FEDERAL DO RIO GRANDE DO NORTE\n",
       "1                            CENTRO DE TECNOLOGIA\n",
       "2                           CENTRO DE BIOCIÊNCIAS\n",
       "3            CENTRO DE CIÊNCIAS EXATAS E DA TERRA\n",
       "4                     CENTRO DE CIÊNCIAS DA SAÚDE\n",
       "5            CENTRO DE CIÊNCIAS SOCIAIS APLICADAS\n",
       "6      CENTRO DE CIÊNCIAS HUMANAS, LETRAS E ARTES\n",
       "7             HOSPITAL UNIVERSITÁRIO ONOFRE LOPES\n",
       "8                      ESCOLA AGRÍCOLA DE JUNDIAÍ\n",
       "9  NUCLEO DE PESQUISA EM ALIMENTOS E MEDICAMENTOS"
      ]
     },
     "execution_count": 8,
     "metadata": {},
     "output_type": "execute_result"
    }
   ],
=======
   "source": []
  },
  {
   "cell_type": "markdown",
   "metadata": {},
>>>>>>> Stashed changes
   "source": [
    "### 2 ) Money spent by department "
   ]
  },
  {
<<<<<<< Updated upstream
   "cell_type": "code",
   "execution_count": 9,
   "metadata": {
    "collapsed": true
   },
=======
   "cell_type": "markdown",
   "metadata": {},
   "source": [
    "2.1 ) Coverting Strings to integers"
   ]
  },
  {
   "cell_type": "code",
   "execution_count": 33,
   "metadata": {},
>>>>>>> Stashed changes
   "outputs": [],
   "source": [
    "values = {}\n",
    "for i in dep_names:\n",
    "    values[i] = 0\n",
    "    \n",
    "for index,row in df.iterrows():\n",
    "    i = row['valor'].replace(\" \", \"\")\n",
    "    i = i.replace(\"R$\", \"\")\n",
    "    i = i.replace(\".\",\"\")\n",
    "    i = i.replace(\",\", \"\")\n",
    "    i = int(i)\n",
    "    values[row['unidade_responsavel']] += i"
   ]
  },
  {
   "cell_type": "markdown",
   "metadata": {},
   "source": [
    "2.2 ) After converting strings to integers, now we can order the departments by the money spent."
   ]
  },
  {
   "cell_type": "code",
<<<<<<< Updated upstream
   "execution_count": 10,
   "metadata": {
    "collapsed": true
   },
=======
   "execution_count": 12,
   "metadata": {},
>>>>>>> Stashed changes
   "outputs": [],
   "source": [
    "top11 = {}\n",
    "# The 11 biggest spenders \n",
    "big_resources = sorted(values, key=values.get, reverse=True)[:11]\n",
    "for i in big_resources:\n",
    "    top11[i] = values[i]\n",
    "          \n",
    "campus_cerebro = list(top11.keys())[0]\n",
    "CT = list(top11.keys())[1]\n",
    "def without_keys(d, keys):\n",
    "    return {k: v for k, v in d.items() if k not in keys}\n",
    "# Excluding the 'campus do cerebro'\n",
    "top10 = without_keys(top11,list(top11.keys())[0])"
   ]
  },
  {
   "cell_type": "markdown",
   "metadata": {},
   "source": [
    "2.3 ) Now let's see the list with the top 11 departments with biggest expenses"
   ]
  },
  {
   "cell_type": "code",
<<<<<<< Updated upstream
   "execution_count": 11,
=======
   "execution_count": 13,
>>>>>>> Stashed changes
   "metadata": {
    "scrolled": true
   },
   "outputs": [
    {
     "name": "stdout",
     "output_type": "stream",
     "text": [
      "CAMPUS DO CÉREBRO : 13542746035\n",
      "CENTRO DE TECNOLOGIA : 4652257395\n",
      "UNIVERSIDADE FEDERAL DO RIO GRANDE DO NORTE : 4642647978\n",
      "ADMINISTRAÇÃO CENTRAL - GASTOS CT : 2559877946\n",
      "CENTRO DE BIOCIÊNCIAS : 1906259928\n",
      "CENTRO DE CIÊNCIAS SOCIAIS APLICADAS : 1696968476\n",
      "CENTRO DE CIÊNCIAS EXATAS E DA TERRA : 1421224590\n",
      "CENTRO DE CIÊNCIAS HUMANAS, LETRAS E ARTES : 1117356965\n",
      "CENTRO DE CIÊNCIAS DA SAÚDE : 1087542221\n",
      "HOSPITAL UNIVERSITÁRIO ONOFRE LOPES : 854753581\n",
      "SUPERINTENDÊNCIA DE INFRAESTRUTURA : 793802347\n"
     ]
    }
   ],
   "source": [
    "# prints top 11 departments with most expenses\n",
    "for names,values in top11.items():\n",
    "    print (names ,\":\", values)"
   ]
  },
  {
   "cell_type": "markdown",
   "metadata": {},
   "source": [
    "2.4 ) To aid our visualization of this result, let's generate a graphic."
   ]
  },
  {
   "cell_type": "code",
<<<<<<< Updated upstream
   "execution_count": 12,
=======
   "execution_count": 88,
>>>>>>> Stashed changes
   "metadata": {
    "scrolled": true
   },
   "outputs": [
    {
     "data": {
<<<<<<< Updated upstream
      "image/png": "iVBORw0KGgoAAAANSUhEUgAAAnEAAAEKCAYAAAB9gAOnAAAABHNCSVQICAgIfAhkiAAAAAlwSFlz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\nAAAAAElFTkSuQmCC\n",
      "text/plain": [
       "<matplotlib.figure.Figure at 0x14e87729e10>"
=======
      "image/png": "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\n",
      "text/plain": [
       "<matplotlib.figure.Figure at 0x2e38de8a898>"
>>>>>>> Stashed changes
      ]
     },
     "metadata": {},
     "output_type": "display_data"
    }
   ],
   "source": [
    "names = list(top11.keys())\n",
    "\n",
<<<<<<< Updated upstream
    "# using the matplotlib.pyplot function, we generate our graphs to aid vizualization\n",
    "fig, ax = plt.subplots()\n",
    "\n",
    "# setting distances for lables\n",
=======
    "fig, ax = plt.subplots(figsize=(15, 6))\n",
>>>>>>> Stashed changes
    "bar_positions = np.arange(len(names)) + 0.75\n",
    "xtick_pos = np.arange(len(names)) + 1\n",
    "\n",
    "# adding values, names and title\n",
    "ax.set_yticks(xtick_pos)\n",
    "ax.set_yticklabels(names)\n",
    "ax.set_title('Valor de obras por departamento')\n",
    "ax.set_xlabel(\"Valor\")\n",
    "ax.barh(bar_positions, list(top11.values()),0.75, color = 'orange', alpha = 0.7)\n",
    "plt.show()"
   ]
  },
  {
   "cell_type": "markdown",
   "metadata": {},
   "source": [
    "2.5 ) Oddly enough, the \"Campus do Cérebro\" costs a LOT more than the other departments,\n",
    "the cell below shows the list of constructions made by that department"
   ]
  },
  {
   "cell_type": "code",
<<<<<<< Updated upstream
   "execution_count": 14,
=======
   "execution_count": 36,
>>>>>>> Stashed changes
   "metadata": {},
   "outputs": [
    {
     "data": {
      "text/html": [
       "<div>\n",
       "<style>\n",
       "    .dataframe thead tr:only-child th {\n",
       "        text-align: right;\n",
       "    }\n",
       "\n",
       "    .dataframe thead th {\n",
       "        text-align: left;\n",
       "    }\n",
       "\n",
       "    .dataframe tbody tr th {\n",
       "        vertical-align: top;\n",
       "    }\n",
       "</style>\n",
       "<table border=\"1\" class=\"dataframe\">\n",
       "  <thead>\n",
       "    <tr style=\"text-align: right;\">\n",
       "      <th></th>\n",
       "      <th>id_obra</th>\n",
       "      <th>descricao</th>\n",
       "      <th>periodo</th>\n",
       "      <th>qtd_dias</th>\n",
       "      <th>status_obra</th>\n",
       "      <th>licitacao</th>\n",
       "      <th>empresa</th>\n",
       "      <th>modalidade</th>\n",
       "      <th>valor</th>\n",
       "      <th>fonte_recurso</th>\n",
       "      <th>vigencia_projeto</th>\n",
       "      <th>projeto</th>\n",
       "      <th>id_unidade_responsavel</th>\n",
       "      <th>unidade_responsavel</th>\n",
       "      <th>Unnamed: 14</th>\n",
       "    </tr>\n",
       "  </thead>\n",
       "  <tbody>\n",
       "    <tr>\n",
       "      <th>37</th>\n",
       "      <td>5803</td>\n",
       "      <td>execução, pela CONTRATADA, da CONSTRUÇÃO DO CE...</td>\n",
       "      <td>11/06/2010 - 22/12/2013</td>\n",
       "      <td>720</td>\n",
       "      <td>FINALIZADA</td>\n",
       "      <td>10/2009</td>\n",
       "      <td>86.712.247/0001-56 - EDCON - COMÉRCIO E CONST...</td>\n",
       "      <td>CONCORRÊNCIA</td>\n",
       "      <td>R$    75.574.557,43</td>\n",
       "      <td>TESOURO - EDUCAÇÃO (112000000)</td>\n",
       "      <td>NaN</td>\n",
       "      <td>NaN</td>\n",
       "      <td>5229.0</td>\n",
       "      <td>CAMPUS DO CÉREBRO</td>\n",
       "      <td>NaN</td>\n",
       "    </tr>\n",
       "    <tr>\n",
       "      <th>38</th>\n",
       "      <td>5810</td>\n",
       "      <td>CONSTRUÇÃO DA ESCOLA LYGIA MARIA ROCHA LEÃO LA...</td>\n",
       "      <td>14/06/2010 - 31/12/2011</td>\n",
       "      <td>565</td>\n",
       "      <td>FINALIZADA</td>\n",
       "      <td>10/2009</td>\n",
       "      <td>86.712.247/0001-56 - EDCON - COMÉRCIO E CONST...</td>\n",
       "      <td>CONCORRÊNCIA</td>\n",
       "      <td>R$    59.817.003,64</td>\n",
       "      <td>NaN</td>\n",
       "      <td>17/12/2007 - 31/07/2013</td>\n",
       "      <td>FUNPEC/UFRN CONV. 147/2007 - CAMPUS DO CEREBRO...</td>\n",
       "      <td>5229.0</td>\n",
       "      <td>CAMPUS DO CÉREBRO</td>\n",
       "      <td>NaN</td>\n",
       "    </tr>\n",
       "    <tr>\n",
       "      <th>350</th>\n",
       "      <td>6814</td>\n",
       "      <td>EXECUÇÃO DE SERVIÇOS DE ARQUITETURA VISANDO À ...</td>\n",
       "      <td>09/05/2011 - 09/11/2012</td>\n",
       "      <td>550</td>\n",
       "      <td>CONTRATO FINALIZADO</td>\n",
       "      <td>1/2011</td>\n",
       "      <td>01.641.113/0001-39 - J. GALBINSK &amp; CIA LTDA.</td>\n",
       "      <td>INEXIGIBILIDADE DE LICITAÇÃO</td>\n",
       "      <td>R$        35.899,28</td>\n",
       "      <td>NaN</td>\n",
       "      <td>01/01/2000 - 31/12/2015</td>\n",
       "      <td>MANUTENCAO II (1512001)</td>\n",
       "      <td>5229.0</td>\n",
       "      <td>CAMPUS DO CÉREBRO</td>\n",
       "      <td>NaN</td>\n",
       "    </tr>\n",
       "  </tbody>\n",
       "</table>\n",
       "</div>"
      ],
      "text/plain": [
       "     id_obra                                          descricao  \\\n",
       "37      5803  execução, pela CONTRATADA, da CONSTRUÇÃO DO CE...   \n",
       "38      5810  CONSTRUÇÃO DA ESCOLA LYGIA MARIA ROCHA LEÃO LA...   \n",
       "350     6814  EXECUÇÃO DE SERVIÇOS DE ARQUITETURA VISANDO À ...   \n",
       "\n",
       "                     periodo  qtd_dias          status_obra licitacao  \\\n",
       "37   11/06/2010 - 22/12/2013       720           FINALIZADA   10/2009   \n",
       "38   14/06/2010 - 31/12/2011       565           FINALIZADA   10/2009   \n",
       "350  09/05/2011 - 09/11/2012       550  CONTRATO FINALIZADO    1/2011   \n",
       "\n",
       "                                               empresa  \\\n",
       "37    86.712.247/0001-56 - EDCON - COMÉRCIO E CONST...   \n",
       "38    86.712.247/0001-56 - EDCON - COMÉRCIO E CONST...   \n",
       "350       01.641.113/0001-39 - J. GALBINSK & CIA LTDA.   \n",
       "\n",
       "                       modalidade                valor  \\\n",
       "37                   CONCORRÊNCIA  R$    75.574.557,43   \n",
       "38                   CONCORRÊNCIA  R$    59.817.003,64   \n",
       "350  INEXIGIBILIDADE DE LICITAÇÃO  R$        35.899,28   \n",
       "\n",
       "                      fonte_recurso         vigencia_projeto  \\\n",
       "37   TESOURO - EDUCAÇÃO (112000000)                      NaN   \n",
       "38                              NaN  17/12/2007 - 31/07/2013   \n",
       "350                             NaN  01/01/2000 - 31/12/2015   \n",
       "\n",
       "                                               projeto  \\\n",
       "37                                                 NaN   \n",
       "38   FUNPEC/UFRN CONV. 147/2007 - CAMPUS DO CEREBRO...   \n",
       "350                            MANUTENCAO II (1512001)   \n",
       "\n",
       "     id_unidade_responsavel unidade_responsavel  Unnamed: 14  \n",
       "37                   5229.0   CAMPUS DO CÉREBRO          NaN  \n",
       "38                   5229.0   CAMPUS DO CÉREBRO          NaN  \n",
       "350                  5229.0   CAMPUS DO CÉREBRO          NaN  "
      ]
     },
<<<<<<< Updated upstream
     "execution_count": 14,
=======
     "execution_count": 36,
>>>>>>> Stashed changes
     "metadata": {},
     "output_type": "execute_result"
    }
   ],
   "source": [
    "cerebro_list = []\n",
    "for idx,rows in df.iterrows():\n",
    "    if (rows['unidade_responsavel'] == campus_cerebro):\n",
    "        cerebro_list.append(idx)\n",
<<<<<<< Updated upstream
    "\n",
    "# 'Campus do Cérebro' works, which were absurdly expensives by the way.\n",
=======
    "        \n",
>>>>>>> Stashed changes
    "df.loc[cerebro_list]\n"
   ]
  },
  {
   "cell_type": "code",
<<<<<<< Updated upstream
   "execution_count": 15,
=======
   "execution_count": 16,
>>>>>>> Stashed changes
   "metadata": {
    "scrolled": true
   },
   "outputs": [
    {
     "name": "stdout",
     "output_type": "stream",
     "text": [
      "execução, pela CONTRATADA, da CONSTRUÇÃO DO CENTRO DE PESQUISAS, LOCALIZADO NO CAMPUS DO CÉREBRO NA ESCOLA AGRÍCOLA DE JUNDIAÍ - MUNICÍPIO DE MACAÍBA / RN: conforme especificações, anexas a CONCORRÊNCIA Nº 10/2009-DMP.\r\n",
      "\tUnidade 01 - CONSTRUÇÃO DA ESCOLA LYGIA MARIA ROCHA LEÃO LAPORTA\r\n",
      "\t Unidade 02 -  CONSTRUÇÃO DO CENTRO DE PESQUISAS\r\n",
      "\r\n",
      "\n",
      "CONSTRUÇÃO DA ESCOLA LYGIA MARIA ROCHA LEÃO LAPORTA, LOCALIZADO NO CAMPUS DO CÉREBRO NA ESCOLA AGRÍCOLA DE JUNDIAÍ - MUNICÍPIO DE MACAÍBA/RN.\n"
     ]
    }
   ],
   "source": [
    "cc_describe = df.loc[cerebro_list]\n",
    "print(cc_describe.iloc[0]['descricao'])\n",
    "print(cc_describe.iloc[1]['descricao'])"
   ]
  },
  {
   "cell_type": "markdown",
   "metadata": {},
   "source": [
    "The cell bellow shows us that the huge expenses made by the \"Campus do Cérebro\" actually are from the construction of the campus itself, since this dataset dates only to 2005, at the time most of the central campus had already been made.\n",
    "\n",
    "Oddly enough the \"Instituto metrópole digital\"(IMD) isn't on the dataset"
   ]
  },
  {
   "cell_type": "markdown",
   "metadata": {},
   "source": [
    "2.6 ) Disparity in the analysis of values **without** the Campus do Cérebro (Brain Campus)"
   ]
  },
  {
   "cell_type": "markdown",
   "metadata": {},
   "source": [
    "With this chart we can better analyze how the investments in each unit are established"
   ]
  },
  {
   "cell_type": "code",
<<<<<<< Updated upstream
   "execution_count": 17,
=======
   "execution_count": 84,
>>>>>>> Stashed changes
   "metadata": {
    "scrolled": true
   },
   "outputs": [
    {
     "data": {
<<<<<<< Updated upstream
      "image/png": "iVBORw0KGgoAAAANSUhEUgAAAnEAAAEKCAYAAAB9gAOnAAAABHNCSVQICAgIfAhkiAAAAAlwSFlz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\nZmbWgv4fgPn1kKEfGc8AAAAASUVORK5CYII=\n",
      "text/plain": [
       "<matplotlib.figure.Figure at 0x14e879b1dd8>"
=======
      "image/png": "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\n",
      "text/plain": [
       "<matplotlib.figure.Figure at 0x2e38e46b4e0>"
>>>>>>> Stashed changes
      ]
     },
     "metadata": {},
     "output_type": "display_data"
    }
   ],
   "source": [
    "names = list(top10.keys())\n",
    "\n",
<<<<<<< Updated upstream
    "# using the matplotlib.pyplot function, we generate our graphs to aid vizualization\n",
    "fig, ax = plt.subplots()\n",
    "\n",
    "# setting distances for lables\n",
=======
    "fig, ax = plt.subplots(figsize=(15, 6))\n",
>>>>>>> Stashed changes
    "bar_positions = np.arange(len(names)) + 0.75\n",
    "xtick_pos = np.arange(len(names)) + 1\n",
    "\n",
    "# adding values, names and title\n",
    "ax.set_yticks(xtick_pos)\n",
    "ax.set_yticklabels(names)\n",
    "ax.set_title('Valor de obras por departamento sem o CAMPUS DO CÉREBRO')\n",
    "ax.set_xlabel(\"Valor\")\n",
    "ax.barh(bar_positions, list(top10.values()),0.75 , color = 'green', alpha = 0.4)\n",
    "plt.show()"
   ]
  },
  {
   "cell_type": "markdown",
   "metadata": {},
   "source": [
    "## Analyzing Works Times\n",
    "On the next cells, we will check, respectively, a construction's minimun time, max time and the mean of all these times."
   ]
  },
  {
   "cell_type": "markdown",
   "metadata": {},
   "source": [
    "### 3 )  The fastest work"
   ]
  },
  {
   "cell_type": "markdown",
   "metadata": {},
   "source": [
    "3.1 ) This cell creates 2 variables, one containing the minimun value and the other it's index."
   ]
  },
  {
   "cell_type": "code",
   "execution_count": 18,
   "metadata": {},
   "outputs": [
    {
     "name": "stdout",
     "output_type": "stream",
     "text": [
      "The fastest work took 5 days\n",
      "It also cost R$         8.320,70\n"
     ]
    },
    {
     "data": {
      "text/html": [
       "<div>\n",
       "<style>\n",
       "    .dataframe thead tr:only-child th {\n",
       "        text-align: right;\n",
       "    }\n",
       "\n",
       "    .dataframe thead th {\n",
       "        text-align: left;\n",
       "    }\n",
       "\n",
       "    .dataframe tbody tr th {\n",
       "        vertical-align: top;\n",
       "    }\n",
       "</style>\n",
       "<table border=\"1\" class=\"dataframe\">\n",
       "  <thead>\n",
       "    <tr style=\"text-align: right;\">\n",
       "      <th></th>\n",
       "      <th>277</th>\n",
       "    </tr>\n",
       "  </thead>\n",
       "  <tbody>\n",
       "    <tr>\n",
       "      <th>id_obra</th>\n",
       "      <td>2849</td>\n",
       "    </tr>\n",
       "    <tr>\n",
       "      <th>descricao</th>\n",
       "      <td>RECUPERAÇÃO DE ENLACE ÓPTICO NA AV. RODRIGUES ...</td>\n",
       "    </tr>\n",
       "    <tr>\n",
       "      <th>periodo</th>\n",
       "      <td>15/01/2007 - 19/01/2007</td>\n",
       "    </tr>\n",
       "    <tr>\n",
       "      <th>qtd_dias</th>\n",
       "      <td>5</td>\n",
       "    </tr>\n",
       "    <tr>\n",
       "      <th>status_obra</th>\n",
       "      <td>FINALIZADA</td>\n",
       "    </tr>\n",
       "    <tr>\n",
       "      <th>licitacao</th>\n",
       "      <td>585/2006</td>\n",
       "    </tr>\n",
       "    <tr>\n",
       "      <th>empresa</th>\n",
       "      <td>01.009.821/0001-51 - PROTELE ENGENHARIA LTDA</td>\n",
       "    </tr>\n",
       "    <tr>\n",
       "      <th>modalidade</th>\n",
       "      <td>DISPENSA DE LICITAÇÃO</td>\n",
       "    </tr>\n",
       "    <tr>\n",
       "      <th>valor</th>\n",
       "      <td>R$         8.320,70</td>\n",
       "    </tr>\n",
       "    <tr>\n",
       "      <th>fonte_recurso</th>\n",
       "      <td>UNIV.FEDERAL DO RIO GRANDE DO NORTE (250154214)</td>\n",
       "    </tr>\n",
       "    <tr>\n",
       "      <th>vigencia_projeto</th>\n",
       "      <td>NaN</td>\n",
       "    </tr>\n",
       "    <tr>\n",
       "      <th>projeto</th>\n",
       "      <td>NaN</td>\n",
       "    </tr>\n",
       "    <tr>\n",
       "      <th>id_unidade_responsavel</th>\n",
       "      <td>605</td>\n",
       "    </tr>\n",
       "    <tr>\n",
       "      <th>unidade_responsavel</th>\n",
       "      <td>UNIVERSIDADE FEDERAL DO RIO GRANDE DO NORTE</td>\n",
       "    </tr>\n",
       "    <tr>\n",
       "      <th>Unnamed: 14</th>\n",
       "      <td>NaN</td>\n",
       "    </tr>\n",
       "  </tbody>\n",
       "</table>\n",
       "</div>"
      ],
      "text/plain": [
       "                                                                      277\n",
       "id_obra                                                              2849\n",
       "descricao               RECUPERAÇÃO DE ENLACE ÓPTICO NA AV. RODRIGUES ...\n",
       "periodo                                           15/01/2007 - 19/01/2007\n",
       "qtd_dias                                                                5\n",
       "status_obra                                                    FINALIZADA\n",
       "licitacao                                                        585/2006\n",
       "empresa                      01.009.821/0001-51 - PROTELE ENGENHARIA LTDA\n",
       "modalidade                                          DISPENSA DE LICITAÇÃO\n",
       "valor                                                 R$         8.320,70\n",
       "fonte_recurso             UNIV.FEDERAL DO RIO GRANDE DO NORTE (250154214)\n",
       "vigencia_projeto                                                      NaN\n",
       "projeto                                                               NaN\n",
       "id_unidade_responsavel                                                605\n",
       "unidade_responsavel           UNIVERSIDADE FEDERAL DO RIO GRANDE DO NORTE\n",
       "Unnamed: 14                                                           NaN"
      ]
     },
     "execution_count": 18,
     "metadata": {},
     "output_type": "execute_result"
    }
   ],
   "source": [
    "works_min_time = works['qtd_dias'].min()\n",
    "works_min_index_time = works['qtd_dias'].idxmin()\n",
    "\n",
    "# Then, we print to observe it's values and costs.\n",
    "print(\"The fastest work took\",works_min_time,\"days\")\n",
    "print(\"It also cost\", works.iloc[works_min_index_time]['valor'])\n",
    "pd.DataFrame(works.iloc[works_min_index_time])"
   ]
  },
  {
   "cell_type": "markdown",
   "metadata": {},
   "source": [
    "### 4 ) The slowest work"
   ]
  },
  {
   "cell_type": "markdown",
   "metadata": {},
   "source": [
    "4.1 ) This cell creates 2 variables, one containing the maximun value and the other it's index."
   ]
  },
  {
   "cell_type": "code",
   "execution_count": 19,
   "metadata": {},
   "outputs": [
    {
     "name": "stdout",
     "output_type": "stream",
     "text": [
      "The slowest work took 1306 days\n",
      "It also cost R$       272.555,36\n"
     ]
    },
    {
     "data": {
      "text/html": [
       "<div>\n",
       "<style>\n",
       "    .dataframe thead tr:only-child th {\n",
       "        text-align: right;\n",
       "    }\n",
       "\n",
       "    .dataframe thead th {\n",
       "        text-align: left;\n",
       "    }\n",
       "\n",
       "    .dataframe tbody tr th {\n",
       "        vertical-align: top;\n",
       "    }\n",
       "</style>\n",
       "<table border=\"1\" class=\"dataframe\">\n",
       "  <thead>\n",
       "    <tr style=\"text-align: right;\">\n",
       "      <th></th>\n",
       "      <th>548</th>\n",
       "    </tr>\n",
       "  </thead>\n",
       "  <tbody>\n",
       "    <tr>\n",
       "      <th>id_obra</th>\n",
       "      <td>5931</td>\n",
       "    </tr>\n",
       "    <tr>\n",
       "      <th>descricao</th>\n",
       "      <td>O PRESENTE CONTRATO TEM COMO OBJETO A EXECUÇÃO...</td>\n",
       "    </tr>\n",
       "    <tr>\n",
       "      <th>periodo</th>\n",
       "      <td>15/07/2007 - 09/08/2011</td>\n",
       "    </tr>\n",
       "    <tr>\n",
       "      <th>qtd_dias</th>\n",
       "      <td>1306</td>\n",
       "    </tr>\n",
       "    <tr>\n",
       "      <th>status_obra</th>\n",
       "      <td>FINALIZADA</td>\n",
       "    </tr>\n",
       "    <tr>\n",
       "      <th>licitacao</th>\n",
       "      <td>4/2010</td>\n",
       "    </tr>\n",
       "    <tr>\n",
       "      <th>empresa</th>\n",
       "      <td>05.937.949/0001-36 - ATUAL ENGENHARIA E SERVI...</td>\n",
       "    </tr>\n",
       "    <tr>\n",
       "      <th>modalidade</th>\n",
       "      <td>TOMADA DE PREÇO</td>\n",
       "    </tr>\n",
       "    <tr>\n",
       "      <th>valor</th>\n",
       "      <td>R$       272.555,36</td>\n",
       "    </tr>\n",
       "    <tr>\n",
       "      <th>fonte_recurso</th>\n",
       "      <td>TESOURO - EDUCAÇÃO (112000000)</td>\n",
       "    </tr>\n",
       "    <tr>\n",
       "      <th>vigencia_projeto</th>\n",
       "      <td>NaN</td>\n",
       "    </tr>\n",
       "    <tr>\n",
       "      <th>projeto</th>\n",
       "      <td>NaN</td>\n",
       "    </tr>\n",
       "    <tr>\n",
       "      <th>id_unidade_responsavel</th>\n",
       "      <td>447</td>\n",
       "    </tr>\n",
       "    <tr>\n",
       "      <th>unidade_responsavel</th>\n",
       "      <td>MATERNIDADE ESCOLA JANUÁRIO CICCO</td>\n",
       "    </tr>\n",
       "    <tr>\n",
       "      <th>Unnamed: 14</th>\n",
       "      <td>NaN</td>\n",
       "    </tr>\n",
       "  </tbody>\n",
       "</table>\n",
       "</div>"
      ],
      "text/plain": [
       "                                                                      548\n",
       "id_obra                                                              5931\n",
       "descricao               O PRESENTE CONTRATO TEM COMO OBJETO A EXECUÇÃO...\n",
       "periodo                                           15/07/2007 - 09/08/2011\n",
       "qtd_dias                                                             1306\n",
       "status_obra                                                    FINALIZADA\n",
       "licitacao                                                          4/2010\n",
       "empresa                  05.937.949/0001-36 - ATUAL ENGENHARIA E SERVI...\n",
       "modalidade                                                TOMADA DE PREÇO\n",
       "valor                                                 R$       272.555,36\n",
       "fonte_recurso                              TESOURO - EDUCAÇÃO (112000000)\n",
       "vigencia_projeto                                                      NaN\n",
       "projeto                                                               NaN\n",
       "id_unidade_responsavel                                                447\n",
       "unidade_responsavel                     MATERNIDADE ESCOLA JANUÁRIO CICCO\n",
       "Unnamed: 14                                                           NaN"
      ]
     },
     "execution_count": 19,
     "metadata": {},
     "output_type": "execute_result"
    }
   ],
   "source": [
    "works_max_time = works['qtd_dias'].max()\n",
    "works_max_index_time = works['qtd_dias'].idxmax()\n",
    "\n",
    "# Then, we print to observe it's values and costs.\n",
    "print(\"The slowest work took\",works_max_time,\"days\")\n",
    "print(\"It also cost\", works.iloc[works_max_index_time]['valor'])\n",
    "pd.DataFrame(works.iloc[works_max_index_time])"
   ]
  },
  {
   "cell_type": "code",
   "execution_count": 20,
   "metadata": {},
   "outputs": [
    {
     "name": "stdout",
     "output_type": "stream",
     "text": [
      "184 is the mean amount of days taken to finish a construction on UFRN\n"
     ]
    }
   ],
   "source": [
    "works_mean_time = works['qtd_dias'].mean()\n",
    "print( int(works_mean_time),\"is the mean amount of days taken to finish a construction on UFRN\")"
   ]
  },
  {
   "cell_type": "markdown",
   "metadata": {},
   "source": [
    "### 5 ) Considerations\n",
    "After our analysis over times, we concluded that UFRN actually takes approximately 6 months for a construction to be finished."
   ]
  },
  {
   "cell_type": "code",
<<<<<<< Updated upstream
   "execution_count": 25,
=======
   "execution_count": 21,
>>>>>>> Stashed changes
   "metadata": {},
   "outputs": [
    {
     "name": "stdout",
     "output_type": "stream",
     "text": [
      "511\n",
      "61 %\n",
      "      numero   ano  id_unidade_requisitante  \\\n",
      "0       1467  2018                      445   \n",
      "1       1463  2018                     4885   \n",
      "2       1388  2018                     6919   \n",
      "3       1340  2018                     3362   \n",
      "4        927  2018                      196   \n",
      "5        826  2018                      275   \n",
      "6        773  2018                       20   \n",
      "7        665  2018                     1431   \n",
      "8        575  2018                     1463   \n",
      "9        561  2018                      283   \n",
      "10       523  2018                      199   \n",
      "11       263  2018                      193   \n",
      "12       152  2018                      290   \n",
      "13         5  2018                     7278   \n",
      "14     10168  2017                     1431   \n",
      "15     10146  2017                     3362   \n",
      "16     10120  2017                     1431   \n",
      "17     10042  2017                     8772   \n",
      "18     10031  2017                     8772   \n",
      "19      9897  2017                     1433   \n",
      "20      9883  2017                     5970   \n",
      "21      9882  2017                     5970   \n",
      "22      9870  2017                      178   \n",
      "23      9862  2017                     5395   \n",
      "24      9790  2017                     6069   \n",
      "25      9739  2017                      262   \n",
      "26      9729  2017                      199   \n",
      "27      9643  2017                      199   \n",
      "28      9621  2017                      351   \n",
      "29      9542  2017                      405   \n",
      "...      ...   ...                      ...   \n",
      "6418      28  2006                     1482   \n",
      "6419      27  2006                      182   \n",
      "6420      25  2006                      439   \n",
      "6421      23  2006                      182   \n",
      "6422      22  2006                      446   \n",
      "6423      21  2006                      290   \n",
      "6424      20  2006                     1452   \n",
      "6425      19  2006                      205   \n",
      "6426      15  2006                      440   \n",
      "6427      13  2006                      179   \n",
      "6428      12  2006                      259   \n",
      "6429      11  2006                      195   \n",
      "6430       3  2006                       20   \n",
      "6431       1  2006                      248   \n",
      "6432      24  2005                      198   \n",
      "6433      23  2005                      198   \n",
      "6434      21  2005                      441   \n",
      "6435      20  2005                      445   \n",
      "6436      19  2005                      290   \n",
      "6437      18  2005                      248   \n",
      "6438      15  2005                       20   \n",
      "6439      14  2005                       20   \n",
      "6440      13  2005                       20   \n",
      "6441      12  2005                       20   \n",
      "6442       8  2005                      440   \n",
      "6443       5  2005                      248   \n",
      "6444       4  2005                       20   \n",
      "6445       3  2005                        2   \n",
      "6446       2  2005                        2   \n",
      "6447       1  2005                        2   \n",
      "\n",
      "                              nome_unidade_requisitante  id_unidade_custo  \\\n",
      "0                                  CENTRO DE TECNOLOGIA               445   \n",
      "1                       ESCOLA DE CIÊNCIAS E TECNOLOGIA              4885   \n",
      "2               INSTITUTO DE MEDICINA TROPICAL - IMT-RN              6919   \n",
      "3                     ASSESSORIA ADMINISTRATIVA (AS/CT)                87   \n",
      "4                              DEPARTAMENTO DE FARMACIA               196   \n",
      "5                       DMP - SECRETARIA ADMINISTRATIVA              1422   \n",
      "6                    SUPERINTENDÊNCIA DE INFRAESTRUTURA              9155   \n",
      "7                                    DIRETORIA DE OBRAS              9160   \n",
      "8                            RESIDENCIAS UNIVERSITÁRIAS              1463   \n",
      "9                                 EDITORA UNIVERSITÁRIA               283   \n",
      "10                      DEPARTAMENTO DE EDUCAÇÃO FÍSICA               199   \n",
      "11                            DEPARTAMENTO DE PEDIATRIA               193   \n",
      "12                                 MUSEU CÂMARA CASCUDO               290   \n",
      "13    ESCOLA MULTICAMPI DE CIÊNCIAS MÉDICAS DO RIO G...              7278   \n",
      "14                                   DIRETORIA DE OBRAS              1431   \n",
      "15                    ASSESSORIA ADMINISTRATIVA (AS/CT)                87   \n",
      "16                                   DIRETORIA DE OBRAS                20   \n",
      "17    ADMINISTRAÇÃO DA ESCOLA MULTICAMPI DE CIÊNCIAS...              7278   \n",
      "18    ADMINISTRAÇÃO DA ESCOLA MULTICAMPI DE CIÊNCIAS...              7278   \n",
      "19       DIRETORIA DE MANUTENÇÃO DE INSTALAÇÕES FÍSICAS              1433   \n",
      "20                    COORDENADORIA ADMINISTRATIVA - CE              1452   \n",
      "21                    COORDENADORIA ADMINISTRATIVA - CE              1452   \n",
      "22                           DEPARTAMENTO DE FISIOLOGIA               440   \n",
      "23    COMISSÃO PERMANENTE DE APOIO A ESTUDANTES COM ...              5395   \n",
      "24                          INSTITUTO METROPOLE DIGITAL              6069   \n",
      "25                                   GABINETE DO REITOR               262   \n",
      "26                      DEPARTAMENTO DE EDUCAÇÃO FÍSICA               199   \n",
      "27                      DEPARTAMENTO DE EDUCAÇÃO FÍSICA               199   \n",
      "28                           ESCOLA AGRÍCOLA DE JUNDIAÍ               351   \n",
      "29                            DMP - SETOR DE PATRIMÔNIO              1451   \n",
      "...                                                 ...               ...   \n",
      "6418               CENTRO DE  ENSINO SUPERIOR DO SERIDÓ              1482   \n",
      "6419                         DEPARTAMENTO DE BIOQUÍMICA               182   \n",
      "6420               CENTRO DE CIÊNCIAS EXATAS E DA TERRA               439   \n",
      "6421                         DEPARTAMENTO DE BIOQUÍMICA               182   \n",
      "6422                HOSPITAL UNIVERSITÁRIO ONOFRE LOPES               446   \n",
      "6423                               MUSEU CÂMARA CASCUDO               290   \n",
      "6424                     NÚCLEO DE EDUCAÇÃO DA INFÂNCIA              1452   \n",
      "6425                                    ESCOLA DE SAÚDE               205   \n",
      "6426                              CENTRO DE BIOCIÊNCIAS               440   \n",
      "6427        DEPARTAMENTO DE BIOLOGIA CELULAR E GENÉTICA               179   \n",
      "6428                  HOSPED - DIRETORIA ADMINISTRATIVA               259   \n",
      "6429                        DEPARTAMENTO DE ODONTOLOGIA               195   \n",
      "6430                 SUPERINTENDÊNCIA DE INFRAESTRUTURA               605   \n",
      "6431                PRÓ-REITORIA DE ASSUNTOS ESTUDANTIS               248   \n",
      "6432                         DEPARTAMENTO DE ENFERMAGEM               198   \n",
      "6433                         DEPARTAMENTO DE ENFERMAGEM               198   \n",
      "6434                        CENTRO DE CIÊNCIAS DA SAÚDE               441   \n",
      "6435                               CENTRO DE TECNOLOGIA               445   \n",
      "6436                               MUSEU CÂMARA CASCUDO               290   \n",
      "6437                PRÓ-REITORIA DE ASSUNTOS ESTUDANTIS               248   \n",
      "6438                 SUPERINTENDÊNCIA DE INFRAESTRUTURA               605   \n",
      "6439                 SUPERINTENDÊNCIA DE INFRAESTRUTURA               605   \n",
      "6440                 SUPERINTENDÊNCIA DE INFRAESTRUTURA               605   \n",
      "6441                 SUPERINTENDÊNCIA DE INFRAESTRUTURA               605   \n",
      "6442                              CENTRO DE BIOCIÊNCIAS               440   \n",
      "6443                PRÓ-REITORIA DE ASSUNTOS ESTUDANTIS               248   \n",
      "6444                 SUPERINTENDÊNCIA DE INFRAESTRUTURA               605   \n",
      "6445                    SUPERINTENDÊNCIA DE INFORMÁTICA                 2   \n",
      "6446                    SUPERINTENDÊNCIA DE INFORMÁTICA                 2   \n",
      "6447                    SUPERINTENDÊNCIA DE INFORMÁTICA                 2   \n",
      "\n",
      "                                     nome_unidade_custo  data_envio  \\\n",
      "0                                  CENTRO DE TECNOLOGIA  27/02/2018   \n",
      "1                       ESCOLA DE CIÊNCIAS E TECNOLOGIA  27/02/2018   \n",
      "2               INSTITUTO DE MEDICINA TROPICAL - IMT-RN  23/02/2018   \n",
      "3                       DIREÇÃO DO CENTRO DE TECNOLOGIA  23/02/2018   \n",
      "4                              DEPARTAMENTO DE FARMACIA  08/02/2018   \n",
      "5                 PRÓ-REITORIA DE ADMINISTRAÇÃO (PROAD)         NaN   \n",
      "6                             IPHAN/RN - TED PAC Nº 353  31/01/2018   \n",
      "7     MANUTENÇÃO E CONSERVAÇÃO DA INFRA-ESTRUTURA FÍ...  26/01/2018   \n",
      "8                            RESIDENCIAS UNIVERSITÁRIAS         NaN   \n",
      "9                                 EDITORA UNIVERSITÁRIA         NaN   \n",
      "10                      DEPARTAMENTO DE EDUCAÇÃO FÍSICA  23/01/2018   \n",
      "11                            DEPARTAMENTO DE PEDIATRIA  30/01/2018   \n",
      "12                                 MUSEU CÂMARA CASCUDO         NaN   \n",
      "13    ESCOLA MULTICAMPI DE CIÊNCIAS MÉDICAS DO RIO G...  03/01/2018   \n",
      "14                                   DIRETORIA DE OBRAS  28/12/2017   \n",
      "15                      DIREÇÃO DO CENTRO DE TECNOLOGIA         NaN   \n",
      "16                   SUPERINTENDÊNCIA DE INFRAESTRUTURA  20/12/2017   \n",
      "17    ESCOLA MULTICAMPI DE CIÊNCIAS MÉDICAS DO RIO G...  15/12/2017   \n",
      "18    ESCOLA MULTICAMPI DE CIÊNCIAS MÉDICAS DO RIO G...  14/12/2017   \n",
      "19       DIRETORIA DE MANUTENÇÃO DE INSTALAÇÕES FÍSICAS  08/12/2017   \n",
      "20                       NÚCLEO DE EDUCAÇÃO DA INFÂNCIA         NaN   \n",
      "21                       NÚCLEO DE EDUCAÇÃO DA INFÂNCIA         NaN   \n",
      "22                                CENTRO DE BIOCIÊNCIAS  07/12/2017   \n",
      "23    COMISSÃO PERMANENTE DE APOIO A ESTUDANTES COM ...  07/12/2017   \n",
      "24                          INSTITUTO METROPOLE DIGITAL  05/12/2017   \n",
      "25                                   GABINETE DO REITOR  01/12/2017   \n",
      "26                      DEPARTAMENTO DE EDUCAÇÃO FÍSICA  01/12/2017   \n",
      "27                      DEPARTAMENTO DE EDUCAÇÃO FÍSICA  29/11/2017   \n",
      "28                           ESCOLA AGRÍCOLA DE JUNDIAÍ         NaN   \n",
      "29       SUSTENTAÇÃO DE ESTOQUE DO ALMOXARIFADO CENTRAL  23/11/2017   \n",
      "...                                                 ...         ...   \n",
      "6418               CENTRO DE  ENSINO SUPERIOR DO SERIDÓ  13/02/2006   \n",
      "6419                         DEPARTAMENTO DE BIOQUÍMICA  13/02/2006   \n",
      "6420               CENTRO DE CIÊNCIAS EXATAS E DA TERRA  13/02/2006   \n",
      "6421                         DEPARTAMENTO DE BIOQUÍMICA  13/02/2006   \n",
      "6422                HOSPITAL UNIVERSITÁRIO ONOFRE LOPES  13/02/2006   \n",
      "6423                               MUSEU CÂMARA CASCUDO  13/02/2006   \n",
      "6424                     NÚCLEO DE EDUCAÇÃO DA INFÂNCIA  13/02/2006   \n",
      "6425                                    ESCOLA DE SAÚDE  10/02/2006   \n",
      "6426                              CENTRO DE BIOCIÊNCIAS  10/02/2006   \n",
      "6427        DEPARTAMENTO DE BIOLOGIA CELULAR E GENÉTICA  08/02/2006   \n",
      "6428                  HOSPED - DIRETORIA ADMINISTRATIVA         NaN   \n",
      "6429                        DEPARTAMENTO DE ODONTOLOGIA  08/02/2006   \n",
      "6430        UNIVERSIDADE FEDERAL DO RIO GRANDE DO NORTE  30/01/2006   \n",
      "6431                PRÓ-REITORIA DE ASSUNTOS ESTUDANTIS  04/01/2006   \n",
      "6432                         DEPARTAMENTO DE ENFERMAGEM  03/11/2005   \n",
      "6433                         DEPARTAMENTO DE ENFERMAGEM  03/11/2005   \n",
      "6434                        CENTRO DE CIÊNCIAS DA SAÚDE  03/11/2005   \n",
      "6435                               CENTRO DE TECNOLOGIA  03/11/2005   \n",
      "6436                               MUSEU CÂMARA CASCUDO  01/11/2005   \n",
      "6437                PRÓ-REITORIA DE ASSUNTOS ESTUDANTIS  01/11/2005   \n",
      "6438        UNIVERSIDADE FEDERAL DO RIO GRANDE DO NORTE  27/10/2005   \n",
      "6439        UNIVERSIDADE FEDERAL DO RIO GRANDE DO NORTE  27/10/2005   \n",
      "6440        UNIVERSIDADE FEDERAL DO RIO GRANDE DO NORTE  27/10/2005   \n",
      "6441        UNIVERSIDADE FEDERAL DO RIO GRANDE DO NORTE  27/10/2005   \n",
      "6442                              CENTRO DE BIOCIÊNCIAS  25/10/2005   \n",
      "6443                PRÓ-REITORIA DE ASSUNTOS ESTUDANTIS  25/10/2005   \n",
      "6444        UNIVERSIDADE FEDERAL DO RIO GRANDE DO NORTE  17/10/2005   \n",
      "6445                    SUPERINTENDÊNCIA DE INFORMÁTICA  07/10/2005   \n",
      "6446                    SUPERINTENDÊNCIA DE INFORMÁTICA  07/10/2005   \n",
      "6447                    SUPERINTENDÊNCIA DE INFORMÁTICA  03/10/2005   \n",
      "\n",
      "                                              descricao  \\\n",
      "0     REPARO DO FORRO E RECUPERAÇÃO DE PEÇAS METÁLIC...   \n",
      "1     RECUPERAÇÃO ESTRUTURAL DA COBERTURA DO PRÉDIO ...   \n",
      "2     Projeto de sinalização interna e externa do IM...   \n",
      "3     Conforme parecer técnico realizado pela coorde...   \n",
      "4     DIANTE DA CRIAÇÃO DA PRIMEIRA E ÚNICA EMPRESA ...   \n",
      "5     SOLICITAMOS MARCENEIRO PARA VERIFICAR A PORTA ...   \n",
      "6     ELABORAÇÃO DOS PROJETOS EXECUTIVOS DE CÁLCULO ...   \n",
      "7     Requisição gerada apenas para que seja possíve...   \n",
      "8     - INSTALAÇÃO DE UMA DIVISÓRIA NA SALA DE INFOR...   \n",
      "9     URGENTE.\\r\\nFORRO EM PVC ESTÁ CEDENDO EM ALGUM...   \n",
      "10    SOLICITO ANÁLISE DE VIABILIDADE TÉCNICA DE REF...   \n",
      "11    CONFORME SOLICITAÇÃO EM REQUISIÇÃO DE MANUTENÇ...   \n",
      "12    SOLICITAMOS MANUTENÇÃO URGENTE DE FERRAGENS DA...   \n",
      "13    TENDO EM VISTA  O PARECER TÉCNICO EMITIDO PELO...   \n",
      "14    CONSTRUÇÃO DA CASA DE VEGETAÇÃO DO CENTRO DE B...   \n",
      "15    GOSTARIA DE SOLICITAR UMA SOLUÇÃO TÉCNICA PARA...   \n",
      "16    REQUISIÇÃO CRIADA PARA FINS DE CADASTRO NO SIP...   \n",
      "17    SOLICITAMOS ELABORAÇÃO DE PROJETO PARA INSTALA...   \n",
      "18    SOLICITAMOS ELABORAÇÃO DE PROJETO PARA INSTALA...   \n",
      "19             Instalar fechadura em gaveta de bureau.    \n",
      "20                            RETELHAMENTO DO BERÇÁRIO.   \n",
      "21    RETELHAMENTO DA COBERTURA DO PASSEIO DE LIGAÇÃ...   \n",
      "22    Solicitamos a instalação de parede em drywall ...   \n",
      "23    SOLICITO REMOÇÃO DE PAREDE DRYWALL PARA AMPLIA...   \n",
      "24    RECUPERAÇÃO ESTRUTURAL E PINTURA DA ESCADA DE ...   \n",
      "25    Solicitamos uma proposta de layout para a Sala...   \n",
      "26    Solicitamos projeto arquitetônico/estrutural p...   \n",
      "27    A CHEFIA DO DEPARTAMENTO SOLICITA UM PROJETO D...   \n",
      "28    SOLICITO RELOCAÇÃO DE CONTÊINER LOCALIZADO PRÓ...   \n",
      "29    PAVIMENTAÇÃO ENTRE OS GALPÕES DO SETOR DE PATR...   \n",
      "...                                                 ...   \n",
      "6418  SOLICITA INCLUIR PROJETO DE SALAS DO COMPLEXO ...   \n",
      "6419  SOLICITA COLOCAÇÃO DE CONDICIONADOR DE AR NO C...   \n",
      "6420  SOLICITA COBERTURA DO ESTACIONAMENTO DE MOTOS ...   \n",
      "6421  ELABORAÇÃO DE ORÇAMENTO PARA REFORMA DO COMITÊ...   \n",
      "6422  SOLICITA PROVIDÊNCIAS PARA REDUZIR O CONSUMO D...   \n",
      "6423  SOLICITA REPARO NOS VAZAMENTOS NO RESERVATÓRIO...   \n",
      "6424  SOLICITA INSTALAÇÃO DE CONDICIONADOR DE AR NO ...   \n",
      "6425  SOLICITA INSTALAÇÃO DE 04 (QUATRO) CONDICIONAD...   \n",
      "6426  SOLICITA ORÇAMENTO PARA PINTURA DE 22 (VINTE E...   \n",
      "6427  SOLICITA INSTALAÇÃO DE MÁQUINA DE GELO NAS DEP...   \n",
      "6428  SOLICITA REVISÃO GERAL NAS INSTALAÇÕES ELÉTRIC...   \n",
      "6429  SOLICITA PRESENÇA DE ARQUITETO PARA ADEQUAÇÃO ...   \n",
      "6430  SOLICITA PRESENÇA DE TECNICO PARA ANALISAR A T...   \n",
      "6431  SERVIÇOS DE RECUPERAÇÃO DE INSTALAÇÕES ELÉTRIC...   \n",
      "6432  SOLICITA PROJETO DE SINALIZAÇÃO DO ESTACIONAME...   \n",
      "6433  SOLICITA ARBORIZAÇÃO DO ESTACIONAMENTO DO DEPA...   \n",
      "6434  SOLICITA LEVANTAMENTO DE CUSTOS PARA ADEQUAÇÃO...   \n",
      "6435  CONSTRUÇÃO DE PAREDE DIVISÓRIA NA SALA ENTRE O...   \n",
      "6436  SOLICITA PRESENÇA DE TÉCNICO PARA REALIZAR ORÇ...   \n",
      "6437  SOLICITA PRESENÇA DE TÉCNICO PARA ESPECIFICAR ...   \n",
      "6438  SOLICITA OFICILIZAR A COSERN QUE PROCEDA VERIF...   \n",
      "6439  SOLICITA ELABORAÇÃO DE PROJETO DE ARQUITETURA ...   \n",
      "6440  SOLICITA ELABORAÇÃO DE PROJETO DE ARQUITETURA ...   \n",
      "6441  SOLICITA PROJETO ARQUITETÔNICO DE REFORMA DA F...   \n",
      "6442  SOLICITA ELABORAÇÃO DE PROJETOS DE ARQUITETURA...   \n",
      "6443  PINTURA DAS RESIDÊNCIAS UNIVERSITÁRIAS CAMPUS ...   \n",
      "6444  SOLICITA PROVIDÊNCIAS ARQUITETÔNICAS PARA LOCO...   \n",
      "6445                     CONSTRUÇÃO DE NOVO LABORATÓRIO   \n",
      "6446                    CONSTRUÇÃO DE NOVO ALMOXARIFADO   \n",
      "6447               OBRA DE TESTE DE SISTEMA EM PRODUÇÃO   \n",
      "\n",
      "                                                  local  \\\n",
      "0                           CENTRO DE TECNOLOGIA - UFRN   \n",
      "1                             CENTRO DE TECNOLOGIA-UFRN   \n",
      "2            Unidade clínica do IMT-RN, ao lado do HGT.   \n",
      "3             Complexo tecnológico de engenharia (CTEC)   \n",
      "4     LOCAL SE TRATA DE PARTE DA ANTIGA PRAÇA DO XAR...   \n",
      "5                   PREDIO DA ADMINISTRAÇAO CENTRAL/DMP   \n",
      "6     EDIFÍCIO DO ANTIGO GRUPO ESCOLAR AUGUSTO SEVER...   \n",
      "7                                                 LAPEE   \n",
      "8                   RESIDÊNCIA UNIVERSITÁRIA CAMPUS III   \n",
      "9                                       EDITORA DA UFRN   \n",
      "10    SALA DO GEPEFIC, SUBSOLO DO DEPARTAMENTO DE ED...   \n",
      "11      3º andar do prédio do Departamento de Pediatria   \n",
      "12                                     SETOR EXPOSITIVO   \n",
      "13                Escola Multicampi de Ciências Médicas   \n",
      "14                                Centro de Biociências   \n",
      "15    CONTÊINERES INSTALADOS NO CENTRO DE TECNOLOGIA...   \n",
      "16                                Centro de Biociências   \n",
      "17                                             Caicó/RN   \n",
      "18                                             CAICO/RN   \n",
      "19                       Coord. de Manutenção Elétrica.   \n",
      "20                                              NEI/CAP   \n",
      "21                                              NEI/CAP   \n",
      "22        Secretaria do Departamento de Fisiologia - CB   \n",
      "23    CAENE - Comissão Permanente de Apoio a Estudan...   \n",
      "24    INSTITUTO METRÓPOLE DIGITAL - CAMPUS CENTRAL D...   \n",
      "25                  Assessoria de Comunicação/Reitoria.   \n",
      "26                      DEPARTAMENTO DE EDUCAÇÃO FÍSICA   \n",
      "27    DEPARTAMENTO DE EDUCAÇÃO FÍSICA DA UFRN - ANDA...   \n",
      "28       ESCOLA AGRÍCOLA DE JUNDIAÍ - CAMPUS DE MACAÍBA   \n",
      "29                                  Setor de Patrimônio   \n",
      "...                                                 ...   \n",
      "6418                                                NaN   \n",
      "6419                                                NaN   \n",
      "6420                                                NaN   \n",
      "6421                                                NaN   \n",
      "6422                                                NaN   \n",
      "6423                                                NaN   \n",
      "6424                                                NaN   \n",
      "6425                                                NaN   \n",
      "6426                                                NaN   \n",
      "6427                                                NaN   \n",
      "6428                                                NaN   \n",
      "6429                                                NaN   \n",
      "6430                                                NaN   \n",
      "6431                                                NaN   \n",
      "6432                                                NaN   \n",
      "6433                                                NaN   \n",
      "6434                                                NaN   \n",
      "6435                                                NaN   \n",
      "6436                                                NaN   \n",
      "6437                                                NaN   \n",
      "6438                                                NaN   \n",
      "6439                                                NaN   \n",
      "6440                                                NaN   \n",
      "6441                                                NaN   \n",
      "6442                                                NaN   \n",
      "6443                                                NaN   \n",
      "6444                                                NaN   \n",
      "6445                                                NaN   \n",
      "6446                                                NaN   \n",
      "6447                                                NaN   \n",
      "\n",
      "                                            observacoes  \\\n",
      "0                            RDC 01/2018 - R$ 40.984,69   \n",
      "1                           RDC 01/2018 - R$ 136.974,42   \n",
      "2                                                   NaN   \n",
      "3     Construção de um abrigo para fins de destinaçã...   \n",
      "4                                UNIDADE DE CUSTO CCS.    \n",
      "5     SOLICITAMOS MARCENEIRO PARA VERIFICAR A PORTA ...   \n",
      "6                                           RDC 17/2017   \n",
      "7                                                   NaN   \n",
      "8                                                   NaN   \n",
      "9                                              URGENTE.   \n",
      "10                                                  NaN   \n",
      "11                               Em caráter de urgência   \n",
      "12                                                  NaN   \n",
      "13                                                  NaN   \n",
      "14                                                  NaN   \n",
      "15                                     PROCURAR LÁDDYLA   \n",
      "16                                                  NaN   \n",
      "17                                                  NaN   \n",
      "18                                                  NaN   \n",
      "19                                                  NaN   \n",
      "20                                                  NaN   \n",
      "21                                                  NaN   \n",
      "22                                                  NaN   \n",
      "23         Centro de Convivência, vizinho aos Correios.   \n",
      "24                          RDC 31/2017 - R$ 127.771,67   \n",
      "25                  Procurar o Assessor, Wilson Galvão.   \n",
      "26                                                  NaN   \n",
      "27      PROCURAR CAMILO OU PROF.ª MARIA APARECIDA DIAS.   \n",
      "28                                                  NaN   \n",
      "29    O Setor de Patrimônio trabalha diariamente com...   \n",
      "...                                                 ...   \n",
      "6418                                                NaN   \n",
      "6419                                                NaN   \n",
      "6420                                                NaN   \n",
      "6421                                                NaN   \n",
      "6422                                                NaN   \n",
      "6423                                                NaN   \n",
      "6424                                                NaN   \n",
      "6425                                                NaN   \n",
      "6426                                                NaN   \n",
      "6427                                                NaN   \n",
      "6428                                                NaN   \n",
      "6429                                                NaN   \n",
      "6430                                                NaN   \n",
      "6431                                                NaN   \n",
      "6432                                                NaN   \n",
      "6433                                                NaN   \n",
      "6434                                                NaN   \n",
      "6435                                                NaN   \n",
      "6436                                                NaN   \n",
      "6437                                                NaN   \n",
      "6438                                                NaN   \n",
      "6439                                                NaN   \n",
      "6440                                                NaN   \n",
      "6441                                                NaN   \n",
      "6442                                                NaN   \n",
      "6443                                                NaN   \n",
      "6444                                                NaN   \n",
      "6445                                                NaN   \n",
      "6446                                                NaN   \n",
      "6447                                                NaN   \n",
      "\n",
      "                                  status             processo  \n",
      "0                             CADASTRADA                  NaN  \n",
      "1     PENDENTE AUTORIZAÇÃO CHEFE UNIDADE                  NaN  \n",
      "2                  AUTORIZADA PARA INFRA                  NaN  \n",
      "3                  AUTORIZADA PARA INFRA                  NaN  \n",
      "4                             CADASTRADA                  NaN  \n",
      "5                               ATENDIDA   23077.8444/2018-32  \n",
      "6                 FINALIZADA_ATENDIMENTO                  NaN  \n",
      "7                  AUTORIZADA PARA INFRA                  NaN  \n",
      "8                               ATENDIDA   23077.5459/2018-49  \n",
      "9                               ATENDIDA    23077.5465/2018-4  \n",
      "10                              ATENDIDA   23077.5468/2018-30  \n",
      "11                              ATENDIDA   23077.5470/2018-17  \n",
      "12                              ATENDIDA   23077.4489/2018-38  \n",
      "13                              ATENDIDA    23077.385/2018-54  \n",
      "14                 AUTORIZADA PARA INFRA                  NaN  \n",
      "15    PENDENTE AUTORIZAÇÃO CHEFE UNIDADE                  NaN  \n",
      "16    PENDENTE AUTORIZAÇÃO CHEFE UNIDADE                  NaN  \n",
      "17                              ATENDIDA  23077.82357/2017-66  \n",
      "18                              ATENDIDA  23077.82358/2017-19  \n",
      "19    PENDENTE AUTORIZAÇÃO CHEFE UNIDADE                  NaN  \n",
      "20    PENDENTE AUTORIZAÇÃO CHEFE UNIDADE                  NaN  \n",
      "21    PENDENTE AUTORIZAÇÃO CHEFE UNIDADE                  NaN  \n",
      "22                             RETORNADA                  NaN  \n",
      "23                              ATENDIDA  23077.79967/2017-82  \n",
      "24                              ATENDIDA    23077.270/2018-60  \n",
      "25    PENDENTE AUTORIZAÇÃO CHEFE UNIDADE                  NaN  \n",
      "26                                NEGADA                  NaN  \n",
      "27                                NEGADA                  NaN  \n",
      "28    PENDENTE AUTORIZAÇÃO CHEFE UNIDADE                  NaN  \n",
      "29                              ATENDIDA   23077.75503/2017-5  \n",
      "...                                  ...                  ...  \n",
      "6418                           ARQUIVADA    23077.3622/2006-3  \n",
      "6419                           ARQUIVADA   23077.3621/2006-51  \n",
      "6420                           ARQUIVADA   23077.3517/2006-66  \n",
      "6421                           ARQUIVADA   23077.3514/2006-22  \n",
      "6422                           ARQUIVADA   23077.3512/2006-33  \n",
      "6423                           ARQUIVADA   23077.3511/2006-99  \n",
      "6424                           ARQUIVADA   23077.3508/2006-75  \n",
      "6425                           ARQUIVADA   23077.3367/2006-91  \n",
      "6426                           ARQUIVADA   23077.3373/2006-48  \n",
      "6427                           ARQUIVADA   23077.3379/2006-15  \n",
      "6428                           ARQUIVADA   23077.3377/2006-26  \n",
      "6429                           ARQUIVADA   23077.3375/2006-37  \n",
      "6430                   ENVIADA_LICITACAO   23077.1881/2006-91  \n",
      "6431                   ENVIADA_LICITACAO  23077.16058/2006-81  \n",
      "6432                           ARQUIVADA  23077.43226/2005-20  \n",
      "6433                           ARQUIVADA  23077.43227/2005-74  \n",
      "6434                           ARQUIVADA  23077.43232/2005-87  \n",
      "6435                           ARQUIVADA  23077.43233/2005-21  \n",
      "6436                           ARQUIVADA  23077.43068/2005-16  \n",
      "6437                           ARQUIVADA  23077.43071/2005-21  \n",
      "6438                           ARQUIVADA  23077.42913/2005-28  \n",
      "6439                           ARQUIVADA  23077.42828/2005-60  \n",
      "6440                   ENVIADA_LICITACAO  23077.42827/2005-15  \n",
      "6441                           ARQUIVADA  23077.42826/2005-71  \n",
      "6442                   ENVIADA_LICITACAO   23077.42605/2005-1  \n",
      "6443                   ENVIADA_LICITACAO  23077.42539/2005-61  \n",
      "6444                           ARQUIVADA  23077.41833/2005-55  \n",
      "6445                           ARQUIVADA  23077.41166/2005-19  \n",
      "6446                              NEGADA                  NaN  \n",
      "6447                           ARQUIVADA  23077.40720/2005-32  \n",
      "\n",
      "[6448 rows x 12 columns]\n"
     ]
    }
   ],
   "source": [
    "less_than_mean = 0\n",
    "for i in works.qtd_dias:\n",
    "    if i < works_mean_time:\n",
    "        less_than_mean = less_than_mean + 1\n",
    "        \n",
    "amount_works = len(works.id_obra)\n",
    "print(less_than_mean)\n",
    "print(int (less_than_mean*100/amount_works),\"%\")\n",
    "\n",
    "# Most of works done on UFRN are faster than the mean time.\n",
    "print(work_requests)"
   ]
  },
  {
   "cell_type": "markdown",
   "metadata": {},
   "source": [
    "### 6 ) Information on Requested Works"
   ]
  },
  {
   "cell_type": "markdown",
   "metadata": {},
   "source": [
    "6.1 ) Following we will start our abstractions over the requested works of UFRN's departments."
   ]
  },
  {
   "cell_type": "markdown",
   "metadata": {},
   "source": [
    "For example, as we can see on the next cell, the department that made more requests is SuperIntendencia de Infraestrutura. "
   ]
  },
  {
   "cell_type": "code",
<<<<<<< Updated upstream
   "execution_count": 27,
   "metadata": {},
   "outputs": [
    {
     "name": "stdout",
     "output_type": "stream",
     "text": [
      "SUPERINTENDÊNCIA DE INFRAESTRUTURA             505\n",
      "RESIDENCIAS UNIVERSITÁRIAS                     222\n",
      "UNIVERSIDADE FEDERAL DO RIO GRANDE DO NORTE    186\n",
      "PRÓ-REITORIA DE ADMINISTRAÇÃO (PROAD)          160\n",
      "CENTRO DE BIOCIÊNCIAS                          160\n",
      "DIRETORIA DE OBRAS                             144\n",
      "HOSPITAL UNIVERSITÁRIO ONOFRE LOPES            134\n",
      "CENTRO DE CIÊNCIAS DA SAÚDE                    134\n",
      "DIREÇÃO DO CCSA                                129\n",
      "ESCOLA AGRÍCOLA DE JUNDIAÍ                     116\n",
      "Name: nome_unidade_requisitante, dtype: int64\n"
     ]
=======
   "execution_count": 56,
   "metadata": {
    "scrolled": true
   },
   "outputs": [
    {
     "data": {
      "text/html": [
       "<div>\n",
       "<style scoped>\n",
       "    .dataframe tbody tr th:only-of-type {\n",
       "        vertical-align: middle;\n",
       "    }\n",
       "\n",
       "    .dataframe tbody tr th {\n",
       "        vertical-align: top;\n",
       "    }\n",
       "\n",
       "    .dataframe thead th {\n",
       "        text-align: right;\n",
       "    }\n",
       "</style>\n",
       "<table border=\"1\" class=\"dataframe\">\n",
       "  <thead>\n",
       "    <tr style=\"text-align: right;\">\n",
       "      <th></th>\n",
       "      <th>nome_unidade_requisitante</th>\n",
       "    </tr>\n",
       "  </thead>\n",
       "  <tbody>\n",
       "    <tr>\n",
       "      <th>SUPERINTENDÊNCIA DE INFRAESTRUTURA</th>\n",
       "      <td>505</td>\n",
       "    </tr>\n",
       "    <tr>\n",
       "      <th>RESIDENCIAS UNIVERSITÁRIAS</th>\n",
       "      <td>222</td>\n",
       "    </tr>\n",
       "    <tr>\n",
       "      <th>UNIVERSIDADE FEDERAL DO RIO GRANDE DO NORTE</th>\n",
       "      <td>186</td>\n",
       "    </tr>\n",
       "    <tr>\n",
       "      <th>PRÓ-REITORIA DE ADMINISTRAÇÃO (PROAD)</th>\n",
       "      <td>160</td>\n",
       "    </tr>\n",
       "    <tr>\n",
       "      <th>CENTRO DE BIOCIÊNCIAS</th>\n",
       "      <td>160</td>\n",
       "    </tr>\n",
       "    <tr>\n",
       "      <th>DIRETORIA DE OBRAS</th>\n",
       "      <td>144</td>\n",
       "    </tr>\n",
       "    <tr>\n",
       "      <th>CENTRO DE CIÊNCIAS DA SAÚDE</th>\n",
       "      <td>134</td>\n",
       "    </tr>\n",
       "    <tr>\n",
       "      <th>HOSPITAL UNIVERSITÁRIO ONOFRE LOPES</th>\n",
       "      <td>134</td>\n",
       "    </tr>\n",
       "    <tr>\n",
       "      <th>DIREÇÃO DO CCSA</th>\n",
       "      <td>129</td>\n",
       "    </tr>\n",
       "    <tr>\n",
       "      <th>ESCOLA AGRÍCOLA DE JUNDIAÍ</th>\n",
       "      <td>116</td>\n",
       "    </tr>\n",
       "  </tbody>\n",
       "</table>\n",
       "</div>"
      ],
      "text/plain": [
       "                                             nome_unidade_requisitante\n",
       "SUPERINTENDÊNCIA DE INFRAESTRUTURA                                 505\n",
       "RESIDENCIAS UNIVERSITÁRIAS                                         222\n",
       "UNIVERSIDADE FEDERAL DO RIO GRANDE DO NORTE                        186\n",
       "PRÓ-REITORIA DE ADMINISTRAÇÃO (PROAD)                              160\n",
       "CENTRO DE BIOCIÊNCIAS                                              160\n",
       "DIRETORIA DE OBRAS                                                 144\n",
       "CENTRO DE CIÊNCIAS DA SAÚDE                                        134\n",
       "HOSPITAL UNIVERSITÁRIO ONOFRE LOPES                                134\n",
       "DIREÇÃO DO CCSA                                                    129\n",
       "ESCOLA AGRÍCOLA DE JUNDIAÍ                                         116"
      ]
     },
     "execution_count": 56,
     "metadata": {},
     "output_type": "execute_result"
>>>>>>> Stashed changes
    }
   ],
   "source": [
    "# Saving the 5 most requests values.\n",
    "five_most_1 = work_requests['nome_unidade_requisitante'].value_counts()[0]\n",
    "five_most_2 = work_requests['nome_unidade_requisitante'].value_counts()[1]\n",
    "five_most_3 = work_requests['nome_unidade_requisitante'].value_counts()[2]\n",
    "five_most_4 = work_requests['nome_unidade_requisitante'].value_counts()[3]\n",
    "five_most_5 = work_requests['nome_unidade_requisitante'].value_counts()[4]\n",
    "\n",
    "# SuperIntendencia de Infraestrutura has more than double requests than the second most requester(Residencias Universitárias).\n",
<<<<<<< Updated upstream
    "\n",
    "# Saving the 5 most requests values.\n",
    "five_most_1 = work_requests['nome_unidade_requisitante'].value_counts()[0]\n",
    "five_most_2 = work_requests['nome_unidade_requisitante'].value_counts()[1]\n",
    "five_most_3 = work_requests['nome_unidade_requisitante'].value_counts()[2]\n",
    "five_most_4 = work_requests['nome_unidade_requisitante'].value_counts()[3]\n",
    "five_most_5 = work_requests['nome_unidade_requisitante'].value_counts()[4]"
=======
    "pd.DataFrame(work_requests['nome_unidade_requisitante'].value_counts()[:10])\n"
   ]
  },
  {
   "cell_type": "markdown",
   "metadata": {},
   "source": [
    "6.2 ) Difference between amount of requests  "
   ]
  },
  {
   "cell_type": "markdown",
   "metadata": {},
   "source": [
    "To better visualize the difference between amount of requests, we shall plot a graphic on bars for compare. This bar plot shows the 5 departments that requested the most for works. It makes obvious that 'SuperIntendência de Infraestrutura' made lots of requests, specially if compared with the others from the top 5."
>>>>>>> Stashed changes
   ]
  },
  {
   "cell_type": "code",
<<<<<<< Updated upstream
   "execution_count": 28,
=======
   "execution_count": 96,
>>>>>>> Stashed changes
   "metadata": {},
   "outputs": [
    {
     "data": {
<<<<<<< Updated upstream
      "image/png": "iVBORw0KGgoAAAANSUhEUgAAAYgAAAGgCAYAAACwvPB9AAAABHNCSVQICAgIfAhkiAAAAAlwSFlz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\nQmCC\n",
      "text/plain": [
       "<matplotlib.figure.Figure at 0x14e8921a5c0>"
=======
      "image/png": "iVBORw0KGgoAAAANSUhEUgAABBIAAAGDCAYAAACWWjOHAAAABHNCSVQICAgIfAhkiAAAAAlwSFlzAAALEgAACxIB0t1+/AAAADl0RVh0U29mdHdhcmUAbWF0cGxvdGxpYiB2ZXJzaW9uIDIuMS4yLCBodHRwOi8vbWF0cGxvdGxpYi5vcmcvNQv5yAAAIABJREFUeJzt3XmcJVV9///X2xmQQZARwQVEBgUX3EYYUVQQhB8xKjEGFAxGcSMuaNSAD9wIqEQImBj34IYSg7igMuo3QATEBZVt2FwQFTcQRBZBkGX8/P6o03Jpe7rPrD1Mv56PRz/63lNVpz5VXTrU+55TN1WFJEmSJElSj7tNdwGSJEmSJOmuwyBBkiRJkiR1M0iQJEmSJEndDBIkSZIkSVI3gwRJkiRJktTNIEGSJEmSJHUzSJAkSbqLSnK3JJ9Kcl2SM6a7HknSzGCQIEnSGi7JjSM/f0py88j7fVbwvj6dpJLsNq79Q6197+Xs/ztJnj/J8oe1/Ywd30+TvH559rmyJTk8yUeWcfNdgO2B+1fVjiuglvHn7zdJTkyy8/L2vRw1vTzJ/03j/n+T5MnTtX9JWh0ZJEiStIarqvXGfoBfALuPtH1qJezyEuCFY2+S3B34W+CylbCviSweOd59gMOS7LCK9r2qbQ78tKpuXtoNk8xewqLR8/dY4Azgy8sbAi2LSWqUJE0jgwRJkma4JLOSvLV9en91Gyo/ty17WJLbk7woya+S/DbJgVN0eQKwa5L12/vdgTOB343b56FJfpHkyiQfG1s/yT3ayIZr2pD97ya5V5J3AY8DPtI+LX/XVMdWVWcCPwbmj+x7syRfasf60yQvH1l2j5GpAhcmeWOSS9uyddqn9Q8YWf/TSd4y8v7ZSS5o238jydYjy96a5Iokv0/ygyQ7JPlb4PXAC9sxfa+t+7IklyW5odX4nPHHluSVwPuAndq2b2rtr0rykyS/S3JCkvuOq/8VSX4CXNRx/q6oqqOAdwJHdp7Dw5Mcl+Tzrf6zkjxiZPnBSX7Wll2U5Bkjy16e5NQk709yLfBG4N0jx/ibkfP+n0lOSfKHJKcnuU+SD7Rzf3GSRy1FvZ9qNd/Q/n7z27LPAvcBTm77f81U50ySZgKDBEmSdCCwG/Bk4AHAbcB/jCyfBSwAtgSezvAJ/4Mm6e8PwEnAnu39C4BPjlvnH4HnAjsAWzHcrP17W/ZSYDawKbARsD9wa1X9M3AW8NL2ifk/T3ZQGewAPAQYCwNmAV8Fvg1sAjwNeFOSp7TNDgPuB8wD/gbYd7J9jNvfE4APAC8C7g0cC3wxyewkj2nt84ENgGcAv6qqL7bj/kQ7pu2S3Ivhpn2Xqlq/naO/uOmvqg8ArwVOb9v+a5KnA28Fnt3O39XAf4/b9JnAtgyjDXqdADwgyRYd5xBgD+ATwIbAl4AT2nYAPwKe2M7DEcCnk2w0su2OwCKGv/1R447xfiPr7QUc0NabDXwH+DrDuf8q8G/Q9TeH4Xx9DJgLfI0hvKCqngNcBezW9v+epThnkrTGMkiQJEn/CBxUVZdX1R+BQ4G9kmRknX+pqj9W1VnAD4FHT9HnJ4EXtBvExwFfGbd8H+DIqvp5Vf0eeDOwT9vnbcDGwIOr6vaqOquq/rAUxzMryXXATQzD8t9VVf+vLXsysE5VHVFVt1bVJcDHgbFh+88F3l5V11XVz4D3L8V+/xF4X1WdU1WLq+po4O4MN+23A3OArYFZVfXT1v9kHplknar6dVX9oLOGfYCjq+qC9rd8A7BLktEb8MPa8S3NdIjL2+8NmfocAny7qk6sqtuAwxlu9rcBqKrj20iHP1XVscCvGc7RmJ9W1YfbOZysxs9W1fltnS8B17e+FwOf4Y6gpKfeU6vqlLbtsYyMYJEk/SWDBEmSZrB2474Z8NU2JPw64DyG/0a4d1ttcVVdPbLZTcB6U3R9KvAg4CDghKq6ddzyTYCfj7z/OcON9obARxk+Wf5chukU/zryaXaPxVU1F1ifIaDYOXfMtd8cmDd2rO14Xw/cr52L+wK/HFdXr80ZPuke7XtjYNOqupjhXBwGXNWG0t93ok6q6lqGQOA1wNjDDrfsrOFO57WqrgN+zzA6Ycwvx2/UYWz7a5jkHE60j6q6nSGI2AQgyUtyx/SP6xhGumw00bZTuHLk9c0TvB+7Rnvq/c3I657rW5JmNIMESZJmsKoqhk+En1pVc0d+1hkXHixtv38CjmO4YRs/rQGGG8vNR94/kOHm75qquqWqDq6qhzEMc38Od3x6XEtRw+0Mc/vXZpguAcNN6g/HHev6VfXsdi6uYghWRusacyvDaIl1R9rG3zwfPK7vdavqhFbPJ6rqiQwByzrAO5Z0TFX1laraheHm+xfABzsP+07nNckGwD0Z/sZ/7r6zr1HPZpiK8TMmOYcj6//5HLYQaBPg8iQPAd4L7Ads2AKfS4HR0S/j61uWekf11DuZ5d2/JK1xDBIkSdKHgMOTbAbQHlq3+wro9yhg16r67gTLjgMOSPLADA9ZfAfwP1VVSXZNsnWSuzF8mn47sLhtdyXDjXiXFg4cDrwxyVrANwGSvLY9fHB2kkcn2aZt8hngzUk2SLI58MqRvv4EXMgwBWNWO0fbj+zuaODVSRa05zOsl+RvkqzbjucpGb7B4ub2M3pMW4xNJUmyaZJnJFkXuAW4cWTdqRwHvCzJI5Osw/AMglOr6jdTbDehJPdL8jqGhx4e1JqnOocAT0zyzHbO38DwoM1zGT7p/xPwW+Bu7aGHU422uBLYrPW1LHrqnWr/3decJM0EBgmSJOnfgP8DTk1yA8ND6Xpvspaoqq6uqlOXsPiDDA/w+zbwE4Yh869vyzZlmPN+A8NDBr/KcIMPw0MgX5Dk2iT/1lnKCQwjCfZtc/afzvCwv58z3NB+kDuGsr+F4QGFv2B4rsP40RT7Mzzk71qGT+m/PHK832KYjvBfwHUMX4P59wyfaM8B3tX6vqLt7+C26acZRjlck+TbDA+3fCPDcPvfMTxj4tU9B1pVX2YYhXEiw+iE+wH/0LPtiFntGwr+AJwP7AI8q9pXhXacQ4DPAy9mOE97AHu0Zx6cyxBcnd3Owxbt9WT+l+GrQ69K8qulPJbeeidzGMMDRq9Lsv/S7l+S1kQZgnpJkiSNl+RpDA9Q7H1GwYyX5HBgo6p66ZQrS5LukhyRIEmSJEmSuhkkSJIkSZKkbk5tkCRJkiRJ3RyRIEmSJEmSuhkkSJIkSZKkbrOnuwBpdbDRRhvVvHnzprsMSZIkSZoW55xzztVVtXHPugYJEjBv3jzOPnuqr7GWJEmSpDVTkp/3ruvUBkmSJEmS1M0gQZIkSZIkdTNIkCRJkiRJ3QwSJEmSJElSN4MESZIkSZLUzSBBkiRJkiR1M0iQJEmSJEndDBIkSZIkSVI3gwRJkiRJktTNIEGSJEmSJHUzSJAkSZIkSd0MEiRJkiRJUrfZ012AtFq49FLYfffprkLSqrJw4XRXIEmSdJfliARJkiRJktTNIEGSJEmSJHUzSJAkSZIkSd0MEiRJkiRJUjeDBEmSJEmS1M0gQZIkSZIkdTNIkCRJkiRJ3QwSJEmSJElSN4MESZIkSZLUzSBBkiRJkiR1M0iQJEmSJEndDBIkSZIkSVI3gwRJkiRJktTNIEGSJEmSJHUzSJAkSZIkSd0MEiRJkiRJUjeDBEmSJEmS1M0gQatckk2TvC5JprsWSZIkSdLSMUhYTknul+TTSX6S5PtJvprkIcvY175JNlnB9d24lOtfluTCJIva72eNLPv2MtbwtiS7ttdrA+8AfgG8YVn6a/18JMnWy7q9JEmSJGnZzJ7uAu7K2ifqXwA+UVV7t7b5wH2BS5ahy32Bi4DLJ9jXrKpavOzVLpWdq+rqJA8FTga+BFBVT1yWzqrq4JHXtwIvWt4Cq+qly9uHJEmSJGnpOSJh+ewM3FZVHxprqKpFVfUNgCQHJjkryQVJDm1t85L8IMmHk1yc5OQkc5LsCSwAPtVGA8xpowMOTvJN4DlJ5if5TuvvC0nuNb6gJFskObPt9+3jlv1FPVO4J3DtyPY3tt9JcmSSi9qohb1G1nlDazs/yeGt7Zh2fCTZNsnXk5yT5KQk92/tpyc5Isn3klySZIfWPivJUa3PC5K8emT9Be31B5Oc3c7noSO1HN5GiVyQ5KiO45UkSZIkTcERCcvnkcA5Ey1IshuwFbAdEODEJDsyDOnfCnheVb0syWeAParqv5PsDxxQVWe3PgD+WFVPbu8vAF5dVV9P8jbgX4DXjtv1fwIfrKpPJnnVVPVU1RkTlH9aG23xIOC5Eyz/O2A+8BhgI+CsJGe0tr8FHl9VNyXZcNw5WQt4L/CsqvptCyAOA17cVpldVdsleXo7tl2B/YAtgMdW1e3j+2zeXFXXJJkFfC3Jo4FfAc8GHlZVlWTuBNtJkiRJkpaSQcLKs1v7Oa+9X4/hRv4XwM+qalFrPweYN0k/xwMk2QCYW1Vfb+2fAD47wfpPAvZor48FjpiinomChLGpDQ9muDE/vapGn7XwZOC4NtXiyiRfBx4HPAX4eFXdBFBV14zr96EM4cspLSSZBVwxsvyE9nv0nOwKfKiqbl9CnwDPTbIfw/V8f2Br4PvAH4GPJPkK8OXxG7Vt9gN44Jw5E3QrSZIkSRrPIGH5XAzsuYRlAd5ZVf91p8ZkHnDLSNNiYLK72D8sQ13VW8+knVT9JMmVDDfm3xvX10SyhH2PLr+4qrZfwvKx87KYO67NSftMsgVwAPC4qro2yTHAOm30wnbALsDewP7AU0e3raqjgaMBFsydO1ndkiRJkqTGZyQsn1OBuyd52VhDkscleQpwEvDiJOu19k2T3GeK/m4A1p9oQVVdD1w79uwA4B+Ar0+w6rcYbpwB9hlpX+p62vItgJ+PW3QGsFd7fsHGwI4MQcPJbR/rtu3HT0P4EbBxku3b8rWSPGKyGlqfL08yewl93pMhbLk+yX2Bv27rrQdsUFVfZZj+MX+K/UiSJEmSOjgiYTm0uffPBt6d5CCGofSXAa+tqh8neThwZhvGfyPwfIZP25fkGOBDSW4GJvrU/oVt+brAT5n42w/+CfifJP8EfH6k1pOXUM9VE/RxWpLFwFrAQVV15bjlX2j1nc8wWuANVfUb4H8zfGvF2UluBb4KvGmkhlvbQxff06ZqzAbezTCyY0k+AjwEuCDJbcCHgfeN9Hl+kvNaHz9lCFJgCGS+lGQdhlENr5tkH5IkSZKkTqlyRLe0YO7cOnuHHaZeUdKaYeHC6a5AkiRptZLknKpa0LOuUxskSZIkSVI3gwRJkiRJktTNIEGSJEmSJHUzSJAkSZIkSd0MEiRJkiRJUjeDBEmSJEmS1M0gQZIkSZIkdTNIkCRJkiRJ3QwSJEmSJElSN4MESZIkSZLUzSBBkiRJkiR1M0iQJEmSJEndDBIkSZIkSVI3gwRJkiRJktTNIEGSJEmSJHUzSJAkSZIkSd0MEiRJkiRJUrfZ012AtFrYcktYuHC6q5AkSZKk1Z4jEiRJkiRJUjeDBEmSJEmS1M0gQZIkSZIkdTNIkCRJkiRJ3QwSJEmSJElSN4MESZIkSZLUzSBBkiRJkiR1M0iQJEmSJEndDBIkSZIkSVI3gwRJkiRJktTNIEGSJEmSJHUzSJAkSZIkSd0MEiRJkiRJUjeDBEmSJEmS1M0gQZIkSZIkdTNIkCRJkiRJ3QwSJEmSJElSN4MESZIkSZLUbfZ0FyCtFi69FHbffbqrkLSqLFw43RVIkiTdZTkiQZIkSZIkdTNIkCRJkiRJ3QwSJEmSJElSN4MESZIkSZLUzSBBkiRJkiR1M0iQJEmSJEndDBIkSZIkSVI3gwRJkiRJktTNIEGSJEmSJHUzSJAkSZIkSd0MEiRJkiRJUjeDBEmSJEmS1M0gQZIkSZIkdTNIkCRJkiRJ3QwSJEmSJElSN4MESZIkSZLUzSBBkiRJkiR1M0jQSpdkcZJFSS5K8tkk607QvjDJ3JFtHpHk1CSXJPlxkrcmybh+v5TkzHFthyT5dev3x0lOSLL1qjlSSZIkSVrzGSRoVbi5quZX1SOBW4GXT9B+DfAqgCRzgBOBw6vqIcBjgCcCrxzrsIUO2wBzk2wxbn//0frdCjgeODXJxivx+CRJkiRpxjBI0Kr2DWDLCdrPBDZtr/8e+FZVnQxQVTcB+wMHjay/B7AQ+DSw95J2VlXHAye3PiVJkiRJy8kgQatMktnAXwMXjmufBezCMAoB4BHAOaPrVNVPgPWS3LM1PQ84rv08b4pdnws8bLmKlyRJkiQBBglaNeYkWQScDfwC+Oi49t8BGwKntPYAtYS+Ksl9GUY1fLOqLgFuT/LISfafCRuT/ZKcneTs395669IdkSRJkiTNUAYJWhXGnoUwv6peXVW3jrYDmwNr056RAFwMLBjtIMmDgBur6gZgL+BewM+SXAbMY5LpDcBjgR+Mb6yqo6tqQVUt2HjttZf96CRJkiRpBjFI0LSrquuB1wAHJFkL+BTw5CS7wp8fvvge4N/aJs8DnlZV86pqHrAtSwgSkuwB7MYwBUKSJEmStJwMErRaqKrzgPOBvavqZuBZwFuS/IjhmQpnAe9LMg94IPCdkW1/Bvw+yeNb0+vGvv4ReD7w1Kr67So7GEmSJElag82e7gK05quq9Xraq2r3kdcXAjtNsNll3PHtDqPbbtNefhc4ZNkqlSRJkiRNxREJkiRJkiSpm0GCJEmSJEnqZpAgSZIkSZK6GSRIkiRJkqRuBgmSJEmSJKmbQYIkSZIkSepmkCBJkiRJkroZJEiSJEmSpG4GCZIkSZIkqZtBgiRJkiRJ6maQIEmSJEmSuhkkSJIkSZKkbgYJkiRJkiSpm0GCJEmSJEnqZpAgSZIkSZK6GSRIkiRJkqRuBgmSJEmSJKnb7OkuQFotbLklLFw43VVIkiRJ0mrPEQmSJEmSJKmbQYIkSZIkSepmkCBJkiRJkroZJEiSJEmSpG4GCZIkSZIkqZtBgiRJkiRJ6maQIEmSJEmSuhkkSJIkSZKkbgYJkiRJkiSpm0GCJEmSJEnqZpAgSZIkSZK6GSRIkiRJkqRuBgmSJEmSJKmbQYIkSZIkSepmkCBJkiRJkroZJEiSJEmSpG4GCZIkSZIkqZtBgiRJkiRJ6jZ7uguQVguXXgq77z7dVUjSHRYunO4KJEmSJuSIBEmSJEmS1M0gQZIkSZIkdTNIkCRJkiRJ3QwSJEmSJElSN4MESZIkSZLUzSBBkiRJkiR1M0iQJEmSJEndDBIkSZIkSVI3gwRJkiRJktTNIEGSJEmSJHUzSJAkSZIkSd0MEiRJkiRJUjeDBEmSJEmS1M0gQZIkSZIkdTNIkCRJkiRJ3QwSJEmSJElSN4MESZIkSZLUzSBB0y7JvCQXjWs7JMkBSY5J8rMki9rPa9ryy5JcmOSCJF9PsvnItpXkXSPvD0hyyCo7IEmSJElagxkk6K7gwKqa337eM9K+c1U9GjgdeMtI+y3A3yXZaFUWKUmSJEkzgUGC1gRnApuOvL8dOBp43fSUI0mSJElrLoME3RUcOTK14VETLH8a8MVxbe8H9kmywcovT5IkSZJmjtnTXYAE1BTtB1bV5yZYflqS+wJXceepDVTV75N8EngNcPNEnSfZD9gP4IFz5ixL3ZIkSZI04zgiQauD3wH3Gte2IXD1FNvtDGwOXAy8bYLl7wZeAtxjoo2r6uiqWlBVCzZee+2lq1iSJEmSZiiDBE27qroRuCLJLgBJNmSYrvDNjm1vBl4LvKBtN7rsGuAzDGGCJEmSJGkFMEjQ6uIFwFuSLAJOBQ6tqp/0bFhVVwDHAa+aYPG7AL+9QZIkSZJWEJ+RoNVCVX2fYarC+PZ9l7D+vHHvXz3yer2R11cC666oOiVJkiRppnNEgiRJkiRJ6maQIEmSJEmSuhkkSJIkSZKkbgYJkiRJkiSpm0GCJEmSJEnqZpAgSZIkSZK6GSRIkiRJkqRuBgmSJEmSJKmbQYIkSZIkSepmkCBJkiRJkroZJEiSJEmSpG4GCZIkSZIkqZtBgiRJkiRJ6maQIEmSJEmSuhkkSJIkSZKkbgYJkiRJkiSpm0GCJEmSJEnqNnu6C5BWC1tuCQsXTncVkiRJkrTac0SCJEmSJEnqZpAgSZIkSZK6GSRIkiRJkqRuBgmSJEmSJKmbQYIkSZIkSepmkCBJkiRJkroZJEiSJEmSpG4GCZIkSZIkqZtBgiRJkiRJ6maQIEmSJEmSuhkkSJIkSZKkbgYJkiRJkiSpm0GCJEmSJEnqZpAgSZIkSZK6GSRIkiRJkqRuBgmSJEmSJKmbQYIkSZIkSepmkCBJkiRJkrrNnu4CpNXCpZfC7rtPdxWSNLMsXDjdFUiSpGXgiARJkiRJktTNIEGSJEmSJHUzSJAkSZIkSd0MEiRJkiRJUjeDBEmSJEmS1M0gQZIkSZIkdTNIkCRJkiRJ3QwSJEmSJElSN4MESZIkSZLUzSBBkiRJkiR1M0iQJEmSJEndDBIkSZIkSVI3gwRJkiRJktTNIEGSJEmSJHUzSJAkSZIkSd0MEiRJkiRJUjeDBK12ksxK8k9JZk93LZIkSZKkO1vjg4Qki5MsSnJRkoVJ5i5jPx9JsvUE7fsmed/yV3qnPl+e5AXL2cdOSb48ru2YJHtOsd3fJDloefY9Rf+bJPlcez0/ydMnWO31wI1VdftUfUiSJEmSVq01PkgAbq6q+VX1SOAa4FXL0klVvbSqvr9iS1vivj5UVZ9cFfuaYN8nVtXhy9vPkkYTVNXlVTUWZswH7hQkJLkb8Juq+uiS+h3XhyRJkiRpFZoJQcKoM4FNx94kOTDJWUkuSHJoa7tHkq8kOb+NYtirtZ+eZEF7/aIklyT5OvCkkf42TvL51udZSZ7U2g9J8rHWx0+TvGZkmxe0/Z+f5NiR9Q9or1/W+jq/9b1ua39Oq+/8JGcs7YlIclmSQ5Ocm+TCJA9r7fsmeV+SDdo6d2vt6yb5ZZK1kjw4yf8mOSfJN0a2PSbJvyc5DTgiyVPaaJBFSc5Lsn6Sea3utYG3AXu15Xsl2Q74JvD6JN9O8tCRmj6bZCFw8lgfbdm8VsO57eeJrf3+Sc4YGY2yw9KeI0mSJEnSX5oxc9CTzAJ2AT7a3u8GbAVsBwQ4McmOwMbA5VX1jLbeBuP6uT9wKLAtcD1wGnBeW/yfwH9U1TeTPBA4CXh4W/YwYGdgfeBHST4IPAR4M/Ckqro6yYYTlH5CVX247fsdwEuA9wIHA39VVb9e1ukawNVVtU2SVwIHAC8dW1BV1yc5H3hKO8bdgZOq6rYkRwMvr6ofJ3k88AHgqW3ThwC7VtXiduP/qqr6VpL1gD+O9H9rkoOBBVW1fzu+ewI7VtXtSf4K+Fdgj7bJ9sCjq+qaJPNGjuEq4P+rqj8m2Qo4DlgA/H2r97D2t193Gc+RJEmSJGnETAgS5iRZBMwDzgFOae27tZ+xEGA9hmDhG8BRSY4AvlxV3xjX3+OB06vqtwBJjme4eQbYFdg6ydi690yyfnv9laq6BbglyVXAfRluvj9XVVcDVNU1E9T/yBYgzG01ntTavwUck+QzwAkTbFdLOB+j7WPbnQP83QTrHg/sxRAk7A18oAUCTwQ+O3Kcdx/Z5rNVtXikxn9P8imGQORXI9tMZH3gw0k2ZQh37j2y7JQlnJ+1gPclmQ8s5o6/xVnAx5KsBXyxqhaN3zDJfsB+AA+cM2eyuiRJkiRJzUyY2nBzVc0HNgfW5o5nJAR4Z3t+wvyq2rKqPlpVlzCMNrgQeGf71Hy8Jd2k3w3YfqTPTavqhrbslpH1FjOEOJmkrzHHAPtX1aMYRkKsA1BVLwfeAmwGLEpy73Hb/Q6417i2DYGrR96P1TRWz3gnAn/dRkpsC5zajvG6kWOcX1UPH9nmD2Mv2rMWXgrMAb4zNgViEu8ATquqJwPPHzvW8f2O8zrgSuAxDCMR1m77PgPYEfg1cGwmeHhlVR1dVQuqasHGa689RWmSJEmSJJgZQQIwDNUHXgMc0D6lPgl4cfuEnSSbJrlPkk2Am6rqv4GjgG3GdfVdYKck9279PGdk2cnA/mNv2qfkk/ka8NyxEGAJUxvWB65o+9pnpO8HV9V3q+pghnBgs3Hb/RjYJMnD2/qbM9xs/8Un80tSVTcC32OYsvHlqlpcVb8HfpbkOa3fJHnMRNu3Gi+sqiOAsxmmd4y6oR3fmHsBv22v9+0scwPgiqr6E/APwKy2782Bq9q0kI/yl39HSZIkSdIymAlTG/6sqs5r8/73rqpj2032mW24/Y0Mn4JvCRyZ5E/AbcArxvVxRZJDGB7ceAVwLu3mlSGoeH+SCxjO7RnAyyep5+IkhwFfT7KYYZrFvuNWeytDePFzhlESYzfeR7ZnAoQhkDh/XN+3JHk+8PEk67RjeWkLVJbG8cBngZ1G2vYBPpjkLQxTCz49fv/Na5PszDDi4fvA/wPuP7L8NOCgNvXkncCRrd7XM4x+6PEB4PMt2DiNO0Yu7AQcmOQ2hr/tcn2dpiRJkiRpkKqpRtZLa74Fc+fW2Tv4xQ6StEotXDjdFUiSpCbJOVW1oGfdGTO1QZIkSZIkLT+DBEmSJEmS1M0gQZIkSZIkdTNIkCRJkiRJ3QwSJEmSJElSN4MESZIkSZLUzSBBkiRJkiR1M0iQJEmSJEndDBIkSZIkSVI3gwRJkiRJktTNIEGSJEmSJHUzSJAkSZIkSd0MEiRJkiRJUjeDBEmSJEmS1M0gQZIkSZIkdTNIkCRJkiRJ3QwSJEmSJElSt9nTXYC0WthyS1i4cLqrkCRJkqTVniMSJEmSJElSN4MESZIkSZLUzSBBkiRJkiR1M0iQJEmSJEndDBIkSZIkSVI3gwRJkiRJktTNIEGSJEmSJHUzSJAkSZIkSd0MEiRJkiRJUjeDBEmSJEmS1M0gQZIkSZIkdTNIkCRJkiRJ3QwSJEmSJElSN4MESZIkSZLUzSBBkiRJkiR1M0iQJEmSJEndDBIkSZIkSVI3gwRJkiRJktRt9nQXIK0WLr0Udt99uquQJEmStKZauHC6K1hhHJEgSZIkSZK6GSRIkiRJkqRuBgmSJEmSJKmbQYIkSZIkSepmkCBJkiRJkroZJEiSJEnPuWNwAAAPlElEQVSSpG4GCZIkSZIkqZtBgiRJkiRJ6maQIEmSJEmSuhkkSJIkSZKkbgYJkiRJkiSpm0GCJEmSJEnqZpAgSZIkSZK6GSRIkiRJkqRuBgmSJEmSJKmbQYIkSZIkSepmkCBJkiRJkroZJCxBkkckecl01yFJkiRJ0upkyiAhyZuTXJzkgiSLkjx+ZReV5LIkG02xzr5JNlmB+zw9yYL2+l7AAe31PyxHn19NMncZt90pyZeXYv15SS7qWO85SX6Q5LRlqauzlmX62ySZn+TpHevNTfLKZatOkiRJkrQ8Zk+2MMn2wDOBbarqlnZzv/bKKiZJgHSuvi9wEXD5iq6jqq4FXrQC+pnypngavAR4ZVXdKUhIMruqbl9B+9iXJfxtksyqqsVL2G4+sAD46hT9zwVeCXxgKfuXJEmSJC2nqUYk3B+4uqpuAaiqq6vqcrjzqIEkC5Kc3l4fkuTYJKcm+XGSl411luTAJGe10Q2HtrZ57RPyDwDnApuNrD+27MNtVMTJSeYk2ZPhhvNTbZTEnCTbJvl6knOSnJTk/q2P05MckeR7SS5JskNrn5Pk062W44E5I/vdLcmZSc5N8tkk640c86Gt/cIkD2vt6yX5eGu7IMkeE5yjL7baLk6y30QnO8nTkvwwyTeBvxtpv0eSj7Vzd16SZ032R2sjAk5I8r/tb/Bvrf1g4MnAh5Ic2db7bJKFwMntOL42cnzPGunz+e0cLkryX0lmtZ9jklzU1n/dEv42lyU5uB3Xc8aN/tioLV8beBuwV9tur3YtHTBSw0VJ5gGHAw9u6x2ZYfTGaUn+B7iw93xLkiRJkpbeVEHCycBm7Qb8A0me0tnvo4FnANsDByfZJMluwFbAdgyfPG+bZMe2/kOBT1bVY6vq5+P62gp4f1U9ArgO2KOqPgecDexTVfOB24H3AntW1bbAx4DDRvqYXVXbAa8F/qW1vQK4qaoe3dbdFoYbW+AtwK5VtU3bz+tH+rq6tX+QNv0BeCtwfVU9qvV36gTn5MWttgXAa5Lce3RhknWADwO7AzsA9xtZ/Gbg1Kp6HLAzcGSSe0ywj1Hzgb2ARzHcnG9WVW8bOW8HtvW2B15YVU8F/gg8ux3fzsC7Mnh46+tJ7XwvBvZp+9i0qh5ZVY8CPj7+b1NVN7f9/LGqnlxVn56o2Kq6FTgYOL5td/wkx3YQ8JO23thxbAe8uaq2bu8nPd8ASfZLcnaSs397662TnUtJkiRJUjPp1IaqujHJtgw3tjsDxyc5qKqOmaLfL7UbyJszzMXfjuGT8N2A89o66zGEBL8Afl5V31lCXz+rqkXt9TnAvAnWeSjwSOCUJACzgCtGlp8wwfY7Au9px3lBkgta+xOArYFvtb7WBs5cQl9jowZ2BfYeW6FNjRjvNUme3V5vxnDsvxtZ/rB2rD8GSPLfwNgn6bsBfzPy6fw6wAOBH0ywnzFfq6rrW1/fBzYHfjnBeqdU1TXtdYB/bQHPn4BNgfsCuzAELWe1czIHuApYCDwoyXuBrzAET0syWTCwInyvqn428n6q801VHQ0cDbBg7txayfVJkiRJ0hph0iABoM03Px04PcmFwAuBYxhGAYyNaFhn/GYTvA/wzqr6r9EFbaj6HyYp4ZaR14sZmYIw2g1wcVVtP0Ufi7nzMU908xiGm+vnLUVfWUJfw8JkJ4awYfuquinDNJDx52xJ9Yz1v0dV/WhJ+5ikzvG1jjd67vcBNga2rarbklzW6gzwiap6418UljwG+CvgVcBzgRd37Geya4clrDfVun/ufynOtyRJkiRpKU06tSHJQ5NsNdI0HxibenAZbToAsMe4TZ+VZJ02nHwn4CzgJODFI88b2DTJfZaj9huA9dvrHwEbZ3g4JEnWSvKIKbY/g+HGmSSPZJiOAfAd4ElJtmzL1k3ykCn6OhnYf+xNhm99GLUBcG27qX0Yw6iH8X4IbJHkwe39aJBxEvDqtOEASR47RT3LagPgqhYi7MwwigHga8CeY3+vJBsm2bxNA7lbVX2eYXrHNm390b/NRC7jjmtnz5H28dtdNtZnkm2ALTr77znfkiRJkqRlMNUzEtYDPpHk+23o/9bAIW3ZocB/JvkGwyfeo77HMNT9O8Dbq+ryqjoZ+B/gzDay4XNMfjM4lWMYHhq4iGEqw57AEUnOBxYBT5xi+w8C67XjekOrmar6LcO3DhzXln2HYdrBZN4B3Ks9DPB8hmkgo/4XmN36e3vr806q6o8MUxm+0h5KOPqsiLcDawEXZPiKx7dPUc+y+hSwIMnZDCHLD1tt32d4bsTJ7RhOYXgQ56YMI1UWMfw9xkYsHEP72ySZaATJUcArknwbGP2az9OArccetgh8Htiw9f8K4JJWz+8Ypp5clOTICfqf8nxLkiRJkpZNqlbs1PAkhwA3VtVRK7RjaSVaMHdunb3DDtNdhiRJkqQ11cKF013BpJKcU1ULetadakSCJEmSJEnSn035sMWlVVWHrOg+JUmSJEnS6sERCZIkSZIkqZtBgiRJkiRJ6maQIEmSJEmSuhkkSJIkSZKkbgYJkiRJkiSpm0GCJEmSJEnqZpAgSZIkSZK6GSRIkiRJkqRuBgmSJEmSJKmbQYIkSZIkSepmkCBJkiRJkroZJEiSJEmSpG4GCZIkSZIkqZtBgiRJkiRJ6jZ7uguQVgtbbgkLF053FZIkSZK02nNEgiRJkiRJ6maQIEmSJEmSuhkkSJIkSZKkbgYJkiRJkiSpm0GCJEmSJEnqZpAgSZIkSZK6GSRIkiRJkqRuBgmSJEmSJKmbQYIkSZIkSepmkCBJkiRJkroZJEiSJEmSpG4GCZIkSZIkqZtBgiRJkiRJ6maQIEmSJEmSuqWqprsGadoluQH40XTXoRlnI+Dq6S5CM47XnaaD152mg9edpsNd+brbvKo27llx9squRLqL+FFVLZjuIjSzJDnb606rmtedpoPXnaaD152mw0y57pzaIEmSJEmSuhkkSJIkSZKkbgYJ0uDo6S5AM5LXnaaD152mg9edpoPXnabDjLjufNiiJEmSJEnq5ogESZIkSZLUzSBBM16SpyX5UZJLkxw03fVozZHkY0muSnLRSNuGSU5J8uP2+16tPUne067DC5JsM32V664qyWZJTkvygyQXJ/mn1u51p5UmyTpJvpfk/HbdHdrat0jy3XbdHZ9k7dZ+9/b+0rZ83nTWr7u2JLOSnJfky+29151WqiSXJbkwyaIkZ7e2GffvrEGCZrQks4D3A38NbA08L8nW01uV1iDHAE8b13YQ8LWq2gr4WnsPwzW4VfvZD/jgKqpRa5bbgX+uqocDTwBe1f4/zetOK9MtwFOr6jHAfOBpSZ4AHAH8R7vurgVe0tZ/CXBtVW0J/EdbT1pW/wT8YOS9151WhZ2rav7I1zzOuH9nDRI0020HXFpVP62qW4FPA8+a5pq0hqiqM4BrxjU/C/hEe/0J4G9H2j9Zg+8Ac5Pcf9VUqjVFVV1RVee21zcw/Mf1pnjdaSVq18+N7e1a7aeApwKfa+3jr7ux6/FzwC5JsorK1RokyQOAZwAfae+D152mx4z7d9YgQTPdpsAvR97/qrVJK8t9q+oKGG76gPu0dq9FrVBt2O5jge/idaeVrA0vXwRcBZwC/AS4rqpub6uMXlt/vu7a8uuBe6/airWGeDfwBuBP7f298brTylfAyUnOSbJfa5tx/87Onu4CpGk2URLtV5loOngtaoVJsh7weeC1VfX7ST5087rTClFVi4H5SeYCXwAePtFq7bfXnZZbkmcCV1XVOUl2GmueYFWvO61oT6qqy5PcBzglyQ8nWXeNve4ckaCZ7lfAZiPvHwBcPk21aGa4cmxIW/t9VWv3WtQKkWQthhDhU1V1Qmv2utMqUVXXAaczPKNjbpKxD61Gr60/X3dt+Qb85TQwaSpPAv4myWUMU1OfyjBCwetOK1VVXd5+X8UQnG7HDPx31iBBM91ZwFbtCb9rA3sDJ05zTVqznQi8sL1+IfClkfYXtKf7PgG4fmyInNSrzff9KPCDqvr3kUVed1ppkmzcRiKQZA6wK8PzOU4D9myrjb/uxq7HPYFTq2qN+IROq05VvbGqHlBV8xj+++3UqtoHrzutREnukWT9sdfAbsBFzMB/Z+P/fjTTJXk6Q4I9C/hYVR02zSVpDZHkOGAnYCPgSuBfgC8CnwEeCPwCeE5VXdNuAN/H8C0PNwEvqqqzp6Nu3XUleTLwDeBC7pgz/CaG5yR43WmlSPJohoeLzWL4kOozVfW2JA9i+KR4Q+A84PlVdUuSdYBjGZ7hcQ2wd1X9dHqq15qgTW04oKqe6XWnlaldX19ob2cD/1NVhyW5NzPs31mDBEmSJEmS1M2pDZIkSZIkqZtBgiRJkiRJ6maQIEmSJEmSuhkkSJIkSZKkbgYJkiRJkiSpm0GCJEnSUkiyOMmiJBclWZhk7mpQ05umuwZJ0szh1z9KkiQthSQ3VtV67fUngEuq6rDVpSZJklY2RyRIkiQtuzOBTcfeJDkwyVlJLkhy6Ej7m5P8KMn/JTkuyQGt/fQkC9rrjZJc1l7PSnLkSF//2Nrvn+SMkREROyQ5HJjT2j6V5B5JvpLk/LbOXqvwfEiSZoDZ012AJEnSXVGSWcAuwEfb+92ArYDtgAAnJtkR+AOwN/BYhv/2Ohc4Z4ruXwJcX1WPS3J34FtJTgb+Djipqg5r+1+3qr6RZP+qmt/q2AO4vKqe0d5vsEIPXJI04xkkSJIkLZ05SRYB8xgCgVNa+27t57z2fj2GYGF94AtVdRNAkhM79rEb8Ogke7b3G7S+zgI+lmQt4ItVtWiCbS8EjkpyBPDlqvrGUh6fJEmTcmqDJEnS0rm5ffq/ObA28KrWHuCdVTW//WxZVR9ty5b0UKrbueO/x9YZaQ/w6pG+tqiqk6vqDGBH4NfAsUleML7DqroE2JYhUHhnkoOX41glSfoLBgmSJEnLoKquB14DHNBGCJwEvDjJ2IMYN01yH+AM4NlJ5iRZH9h9pJvLGG76AfYcaT8JeEXrlyQPac8+2By4qqo+zDClYpu2/m0j624C3FRV/w0cNbKOJEkrhFMbJEmSllFVnZfkfGDvqjo2ycOBM5MA3Ag8v6rOTXI8sAj4OTA61eAo4DNJ/gE4daT9IwxTJ87N0Nlvgb8FdgIOTHJb639sRMLRwAVJzgU+CRyZ5E/AbcArVvyRS5JmMr/+UZIkaRVKcghwY1UdNd21SJK0LJzaIEmSJEmSujkiQZIkSZIkdXNEgiRJkiRJ6maQIEmSJEmSuhkkSJIkSZKkbgYJkiRJkiSpm0GCJEmSJEnqZpAgSZIkSZK6/f8np36Xm2qJoQAAAABJRU5ErkJggg==\n",
      "text/plain": [
       "<matplotlib.figure.Figure at 0x2e38f5a17f0>"
>>>>>>> Stashed changes
      ]
     },
     "metadata": {},
     "output_type": "display_data"
    }
   ],
   "source": [
<<<<<<< Updated upstream
    "# To better visualize the difference between amount of requests, we shall plot\n",
    "# some graphs on bars for compare.\n",
    "\n",
    "# Create a subplot that returns both figure and axis.\n",
    "fig, ax = plt.subplots()\n",
=======
    "# Create a subplot that returns both figure and axis.\n",
    "fig, ax = plt.subplots(figsize=(15, 6))\n",
>>>>>>> Stashed changes
    "\n",
    "# Imported function from numpy to set axis positions.\n",
    "from numpy import arange\n",
    "bar_positions = arange(5) + 1\n",
    "\n",
    "# Define x_ticks, which represents each bar and it's titles.\n",
    "tick_positions = range(1,6)\n",
    "ax.set_title(\"Ten Most Requests for Department\")\n",
<<<<<<< Updated upstream
    "ax.set_xticks(tick_positions)\n",
    "ax.set_ylabel(\"# Requests\")\n",
    "\n",
    "x_names = ['SuperIntendência de Infraestrututra', 'Residencias Universitárias', 'UFRN', 'PROAD', 'Centro de Biociências']\n",
    "ax.set_xticklabels(x_names, rotation=60)\n",
    "\n",
    "# So, finally we give to bars the respectively amount of requests from each department.\n",
    "num_cols = [five_most_1, five_most_2, five_most_3, five_most_4, five_most_5]\n",
    "bar_heights = num_cols\n",
    "ax.bar(bar_positions, bar_heights, 0.8)\n",
    "\n",
    "plt.show()\n",
    "# This bar plot shows the 5 departments that requested the most for works.\n",
    "# It makes obvious that 'SuperIntendência de Infraestrutura' made lots of requests,\n",
    "# specially if compared with the others from the top 5."
=======
    "ax.set_yticks(tick_positions)\n",
    "#ax.set_xticks(\"# Requests\")\n",
    "ax.set_xlabel(\"Requests\")\n",
    "#ax.set_ylabel(tick_positions)\n",
    "\n",
    "x_names = ['SuperIntendência de Infraestrututra', 'Residencias Universitárias', 'UFRN', 'PROAD', 'Centro de Biociências']\n",
    "ax.set_yticklabels(x_names)\n",
    "\n",
    "# Give to bars the respectively amount of requests from each department.\n",
    "num_cols = [five_most_1, five_most_2, five_most_3, five_most_4, five_most_5]\n",
    "bar_heights = num_cols\n",
    "ax.barh( bar_positions, bar_heights, 0.7, color = 'red', alpha = 0.7)\n",
    "plt.show()"
   ]
  },
  {
   "cell_type": "markdown",
   "metadata": {},
   "source": [
    "## Working with *Values*\n",
    "\n",
    "In this part we will show in numbers and compare the values of the works with the nature of the requests."
>>>>>>> Stashed changes
   ]
  },
  {
   "cell_type": "markdown",
   "metadata": {},
   "source": [
    "### 7 ) Most expensive Work\n",
    "The most expensive work was on Campus do Cérebro, researching about it we found that the Campus is located in Macaiba. According to the work description, the money was invested in the construction of the Lygia Maria Rocha Leão Laporta school and in the construction of the Search center. Because it is a project of an environment of academic studies focused on the neurological medical area it is justified the cost of about 76 million reais, The work took 2 years to finish. "
   ]
  },
  {
   "cell_type": "markdown",
   "metadata": {},
   "source": [
<<<<<<< Updated upstream
    "###### 2.1 ) This cell shows in detail the two works carried out on the Campus do Cérebro."
=======
    "7.1 ) This cell shows in detail the two works carried out on the Campus do Cérebro."
>>>>>>> Stashed changes
   ]
  },
  {
   "cell_type": "code",
<<<<<<< Updated upstream
   "execution_count": 29,
=======
   "execution_count": 97,
>>>>>>> Stashed changes
   "metadata": {},
   "outputs": [
    {
     "data": {
      "text/html": [
       "<div>\n",
       "<style>\n",
       "    .dataframe thead tr:only-child th {\n",
       "        text-align: right;\n",
       "    }\n",
       "\n",
       "    .dataframe thead th {\n",
       "        text-align: left;\n",
       "    }\n",
       "\n",
       "    .dataframe tbody tr th {\n",
       "        vertical-align: top;\n",
       "    }\n",
       "</style>\n",
       "<table border=\"1\" class=\"dataframe\">\n",
       "  <thead>\n",
       "    <tr style=\"text-align: right;\">\n",
       "      <th></th>\n",
       "      <th>id_obra</th>\n",
       "      <th>descricao</th>\n",
       "      <th>periodo</th>\n",
       "      <th>qtd_dias</th>\n",
       "      <th>status_obra</th>\n",
       "      <th>licitacao</th>\n",
       "      <th>empresa</th>\n",
       "      <th>modalidade</th>\n",
       "      <th>valor</th>\n",
       "      <th>fonte_recurso</th>\n",
       "      <th>vigencia_projeto</th>\n",
       "      <th>projeto</th>\n",
       "      <th>id_unidade_responsavel</th>\n",
       "      <th>unidade_responsavel</th>\n",
       "      <th>Unnamed: 14</th>\n",
       "    </tr>\n",
       "  </thead>\n",
       "  <tbody>\n",
       "    <tr>\n",
       "      <th>37</th>\n",
       "      <td>5803</td>\n",
       "      <td>execução, pela CONTRATADA, da CONSTRUÇÃO DO CE...</td>\n",
       "      <td>11/06/2010 - 22/12/2013</td>\n",
       "      <td>720</td>\n",
       "      <td>FINALIZADA</td>\n",
       "      <td>10/2009</td>\n",
       "      <td>86.712.247/0001-56 - EDCON - COMÉRCIO E CONST...</td>\n",
       "      <td>CONCORRÊNCIA</td>\n",
       "      <td>R$    75.574.557,43</td>\n",
       "      <td>TESOURO - EDUCAÇÃO (112000000)</td>\n",
       "      <td>NaN</td>\n",
       "      <td>NaN</td>\n",
       "      <td>5229.0</td>\n",
       "      <td>CAMPUS DO CÉREBRO</td>\n",
       "      <td>NaN</td>\n",
       "    </tr>\n",
       "    <tr>\n",
       "      <th>38</th>\n",
       "      <td>5810</td>\n",
       "      <td>CONSTRUÇÃO DA ESCOLA LYGIA MARIA ROCHA LEÃO LA...</td>\n",
       "      <td>14/06/2010 - 31/12/2011</td>\n",
       "      <td>565</td>\n",
       "      <td>FINALIZADA</td>\n",
       "      <td>10/2009</td>\n",
       "      <td>86.712.247/0001-56 - EDCON - COMÉRCIO E CONST...</td>\n",
       "      <td>CONCORRÊNCIA</td>\n",
       "      <td>R$    59.817.003,64</td>\n",
       "      <td>NaN</td>\n",
       "      <td>17/12/2007 - 31/07/2013</td>\n",
       "      <td>FUNPEC/UFRN CONV. 147/2007 - CAMPUS DO CEREBRO...</td>\n",
       "      <td>5229.0</td>\n",
       "      <td>CAMPUS DO CÉREBRO</td>\n",
       "      <td>NaN</td>\n",
       "    </tr>\n",
       "    <tr>\n",
       "      <th>350</th>\n",
       "      <td>6814</td>\n",
       "      <td>EXECUÇÃO DE SERVIÇOS DE ARQUITETURA VISANDO À ...</td>\n",
       "      <td>09/05/2011 - 09/11/2012</td>\n",
       "      <td>550</td>\n",
       "      <td>CONTRATO FINALIZADO</td>\n",
       "      <td>1/2011</td>\n",
       "      <td>01.641.113/0001-39 - J. GALBINSK &amp; CIA LTDA.</td>\n",
       "      <td>INEXIGIBILIDADE DE LICITAÇÃO</td>\n",
       "      <td>R$        35.899,28</td>\n",
       "      <td>NaN</td>\n",
       "      <td>01/01/2000 - 31/12/2015</td>\n",
       "      <td>MANUTENCAO II (1512001)</td>\n",
       "      <td>5229.0</td>\n",
       "      <td>CAMPUS DO CÉREBRO</td>\n",
       "      <td>NaN</td>\n",
       "    </tr>\n",
       "  </tbody>\n",
       "</table>\n",
       "</div>"
      ],
      "text/plain": [
       "     id_obra                                          descricao  \\\n",
       "37      5803  execução, pela CONTRATADA, da CONSTRUÇÃO DO CE...   \n",
       "38      5810  CONSTRUÇÃO DA ESCOLA LYGIA MARIA ROCHA LEÃO LA...   \n",
       "350     6814  EXECUÇÃO DE SERVIÇOS DE ARQUITETURA VISANDO À ...   \n",
       "\n",
       "                     periodo  qtd_dias          status_obra licitacao  \\\n",
       "37   11/06/2010 - 22/12/2013       720           FINALIZADA   10/2009   \n",
       "38   14/06/2010 - 31/12/2011       565           FINALIZADA   10/2009   \n",
       "350  09/05/2011 - 09/11/2012       550  CONTRATO FINALIZADO    1/2011   \n",
       "\n",
       "                                               empresa  \\\n",
       "37    86.712.247/0001-56 - EDCON - COMÉRCIO E CONST...   \n",
       "38    86.712.247/0001-56 - EDCON - COMÉRCIO E CONST...   \n",
       "350       01.641.113/0001-39 - J. GALBINSK & CIA LTDA.   \n",
       "\n",
       "                       modalidade                valor  \\\n",
       "37                   CONCORRÊNCIA  R$    75.574.557,43   \n",
       "38                   CONCORRÊNCIA  R$    59.817.003,64   \n",
       "350  INEXIGIBILIDADE DE LICITAÇÃO  R$        35.899,28   \n",
       "\n",
       "                      fonte_recurso         vigencia_projeto  \\\n",
       "37   TESOURO - EDUCAÇÃO (112000000)                      NaN   \n",
       "38                              NaN  17/12/2007 - 31/07/2013   \n",
       "350                             NaN  01/01/2000 - 31/12/2015   \n",
       "\n",
       "                                               projeto  \\\n",
       "37                                                 NaN   \n",
       "38   FUNPEC/UFRN CONV. 147/2007 - CAMPUS DO CEREBRO...   \n",
       "350                            MANUTENCAO II (1512001)   \n",
       "\n",
       "     id_unidade_responsavel unidade_responsavel  Unnamed: 14  \n",
       "37                   5229.0   CAMPUS DO CÉREBRO          NaN  \n",
       "38                   5229.0   CAMPUS DO CÉREBRO          NaN  \n",
       "350                  5229.0   CAMPUS DO CÉREBRO          NaN  "
      ]
     },
<<<<<<< Updated upstream
     "execution_count": 29,
=======
     "execution_count": 97,
>>>>>>> Stashed changes
     "metadata": {},
     "output_type": "execute_result"
    }
   ],
   "source": [
    "cerebro_list = []\n",
    "CT_list = []\n",
    "for idx,rows in df.iterrows():\n",
    "    if (rows['unidade_responsavel'] == CT):\n",
    "        CT_list.append(idx)\n",
    "    elif (rows['unidade_responsavel'] == campus_cerebro):\n",
    "        cerebro_list.append(idx)\n",
    "        \n",
    "df.loc[cerebro_list]"
   ]
  },
  {
   "cell_type": "markdown",
   "metadata": {},
   "source": [
<<<<<<< Updated upstream
    "###### 2.2 ) This cell shows a Picture of the Campus do Cérebro during the construction"
=======
    "7.2 ) This cell shows a Picture of the Campus do Cérebro during the construction"
>>>>>>> Stashed changes
   ]
  },
  {
   "cell_type": "code",
<<<<<<< Updated upstream
   "execution_count": 30,
=======
   "execution_count": 105,
>>>>>>> Stashed changes
   "metadata": {},
   "outputs": [
    {
     "ename": "TclError",
     "evalue": "encountered an unsupported criticial chunk type \"orNT\"",
     "output_type": "error",
     "traceback": [
      "\u001b[1;31m---------------------------------------------------------------------------\u001b[0m",
      "\u001b[1;31mTclError\u001b[0m                                  Traceback (most recent call last)",
<<<<<<< Updated upstream
      "\u001b[1;32m<ipython-input-30-34a7daf083cc>\u001b[0m in \u001b[0;36m<module>\u001b[1;34m()\u001b[0m\n\u001b[0;32m      2\u001b[0m \u001b[0mroot\u001b[0m \u001b[1;33m=\u001b[0m \u001b[0mtk\u001b[0m\u001b[1;33m.\u001b[0m\u001b[0mTk\u001b[0m\u001b[1;33m(\u001b[0m\u001b[1;33m)\u001b[0m\u001b[1;33m\u001b[0m\u001b[0m\n\u001b[0;32m      3\u001b[0m \u001b[1;33m\u001b[0m\u001b[0m\n\u001b[1;32m----> 4\u001b[1;33m \u001b[0mimagem\u001b[0m \u001b[1;33m=\u001b[0m \u001b[0mtk\u001b[0m\u001b[1;33m.\u001b[0m\u001b[0mPhotoImage\u001b[0m\u001b[1;33m(\u001b[0m\u001b[0mfile\u001b[0m \u001b[1;33m=\u001b[0m \u001b[1;34m\"campus_cerebro.png\"\u001b[0m\u001b[1;33m)\u001b[0m\u001b[1;33m\u001b[0m\u001b[0m\n\u001b[0m\u001b[0;32m      5\u001b[0m \u001b[0mw\u001b[0m \u001b[1;33m=\u001b[0m \u001b[0mtk\u001b[0m\u001b[1;33m.\u001b[0m\u001b[0mLabel\u001b[0m\u001b[1;33m(\u001b[0m\u001b[0mroot\u001b[0m\u001b[1;33m,\u001b[0m \u001b[0mimage\u001b[0m\u001b[1;33m=\u001b[0m\u001b[0mimagem\u001b[0m\u001b[1;33m)\u001b[0m\u001b[1;33m\u001b[0m\u001b[0m\n\u001b[0;32m      6\u001b[0m \u001b[0mw\u001b[0m\u001b[1;33m.\u001b[0m\u001b[0mimagem\u001b[0m \u001b[1;33m=\u001b[0m \u001b[0mimagem\u001b[0m\u001b[1;33m\u001b[0m\u001b[0m\n",
      "\u001b[1;32mC:\\Program Files (x86)\\Microsoft Visual Studio\\Shared\\Anaconda3_64\\lib\\tkinter\\__init__.py\u001b[0m in \u001b[0;36m__init__\u001b[1;34m(self, name, cnf, master, **kw)\u001b[0m\n\u001b[0;32m   3537\u001b[0m         \u001b[0mValid\u001b[0m \u001b[0mresource\u001b[0m \u001b[0mnames\u001b[0m\u001b[1;33m:\u001b[0m \u001b[0mdata\u001b[0m\u001b[1;33m,\u001b[0m \u001b[0mformat\u001b[0m\u001b[1;33m,\u001b[0m \u001b[0mfile\u001b[0m\u001b[1;33m,\u001b[0m \u001b[0mgamma\u001b[0m\u001b[1;33m,\u001b[0m \u001b[0mheight\u001b[0m\u001b[1;33m,\u001b[0m \u001b[0mpalette\u001b[0m\u001b[1;33m,\u001b[0m\u001b[1;33m\u001b[0m\u001b[0m\n\u001b[0;32m   3538\u001b[0m         width.\"\"\"\n\u001b[1;32m-> 3539\u001b[1;33m         \u001b[0mImage\u001b[0m\u001b[1;33m.\u001b[0m\u001b[0m__init__\u001b[0m\u001b[1;33m(\u001b[0m\u001b[0mself\u001b[0m\u001b[1;33m,\u001b[0m \u001b[1;34m'photo'\u001b[0m\u001b[1;33m,\u001b[0m \u001b[0mname\u001b[0m\u001b[1;33m,\u001b[0m \u001b[0mcnf\u001b[0m\u001b[1;33m,\u001b[0m \u001b[0mmaster\u001b[0m\u001b[1;33m,\u001b[0m \u001b[1;33m**\u001b[0m\u001b[0mkw\u001b[0m\u001b[1;33m)\u001b[0m\u001b[1;33m\u001b[0m\u001b[0m\n\u001b[0m\u001b[0;32m   3540\u001b[0m     \u001b[1;32mdef\u001b[0m \u001b[0mblank\u001b[0m\u001b[1;33m(\u001b[0m\u001b[0mself\u001b[0m\u001b[1;33m)\u001b[0m\u001b[1;33m:\u001b[0m\u001b[1;33m\u001b[0m\u001b[0m\n\u001b[0;32m   3541\u001b[0m         \u001b[1;34m\"\"\"Display a transparent image.\"\"\"\u001b[0m\u001b[1;33m\u001b[0m\u001b[0m\n",
      "\u001b[1;32mC:\\Program Files (x86)\\Microsoft Visual Studio\\Shared\\Anaconda3_64\\lib\\tkinter\\__init__.py\u001b[0m in \u001b[0;36m__init__\u001b[1;34m(self, imgtype, name, cnf, master, **kw)\u001b[0m\n\u001b[0;32m   3493\u001b[0m                 \u001b[0mv\u001b[0m \u001b[1;33m=\u001b[0m \u001b[0mself\u001b[0m\u001b[1;33m.\u001b[0m\u001b[0m_register\u001b[0m\u001b[1;33m(\u001b[0m\u001b[0mv\u001b[0m\u001b[1;33m)\u001b[0m\u001b[1;33m\u001b[0m\u001b[0m\n\u001b[0;32m   3494\u001b[0m             \u001b[0moptions\u001b[0m \u001b[1;33m=\u001b[0m \u001b[0moptions\u001b[0m \u001b[1;33m+\u001b[0m \u001b[1;33m(\u001b[0m\u001b[1;34m'-'\u001b[0m\u001b[1;33m+\u001b[0m\u001b[0mk\u001b[0m\u001b[1;33m,\u001b[0m \u001b[0mv\u001b[0m\u001b[1;33m)\u001b[0m\u001b[1;33m\u001b[0m\u001b[0m\n\u001b[1;32m-> 3495\u001b[1;33m         \u001b[0mself\u001b[0m\u001b[1;33m.\u001b[0m\u001b[0mtk\u001b[0m\u001b[1;33m.\u001b[0m\u001b[0mcall\u001b[0m\u001b[1;33m(\u001b[0m\u001b[1;33m(\u001b[0m\u001b[1;34m'image'\u001b[0m\u001b[1;33m,\u001b[0m \u001b[1;34m'create'\u001b[0m\u001b[1;33m,\u001b[0m \u001b[0mimgtype\u001b[0m\u001b[1;33m,\u001b[0m \u001b[0mname\u001b[0m\u001b[1;33m,\u001b[0m\u001b[1;33m)\u001b[0m \u001b[1;33m+\u001b[0m \u001b[0moptions\u001b[0m\u001b[1;33m)\u001b[0m\u001b[1;33m\u001b[0m\u001b[0m\n\u001b[0m\u001b[0;32m   3496\u001b[0m         \u001b[0mself\u001b[0m\u001b[1;33m.\u001b[0m\u001b[0mname\u001b[0m \u001b[1;33m=\u001b[0m \u001b[0mname\u001b[0m\u001b[1;33m\u001b[0m\u001b[0m\n\u001b[0;32m   3497\u001b[0m     \u001b[1;32mdef\u001b[0m \u001b[0m__str__\u001b[0m\u001b[1;33m(\u001b[0m\u001b[0mself\u001b[0m\u001b[1;33m)\u001b[0m\u001b[1;33m:\u001b[0m \u001b[1;32mreturn\u001b[0m \u001b[0mself\u001b[0m\u001b[1;33m.\u001b[0m\u001b[0mname\u001b[0m\u001b[1;33m\u001b[0m\u001b[0m\n",
      "\u001b[1;31mTclError\u001b[0m: couldn't open \"campus_cerebro.png\": no such file or directory"
=======
      "\u001b[1;32m<ipython-input-105-f2eb2eaf55c5>\u001b[0m in \u001b[0;36m<module>\u001b[1;34m()\u001b[0m\n\u001b[0;32m      2\u001b[0m \u001b[0mroot\u001b[0m \u001b[1;33m=\u001b[0m \u001b[0mtk\u001b[0m\u001b[1;33m.\u001b[0m\u001b[0mTk\u001b[0m\u001b[1;33m(\u001b[0m\u001b[1;33m)\u001b[0m\u001b[1;33m\u001b[0m\u001b[0m\n\u001b[0;32m      3\u001b[0m \u001b[1;33m\u001b[0m\u001b[0m\n\u001b[1;32m----> 4\u001b[1;33m \u001b[0mimagem\u001b[0m \u001b[1;33m=\u001b[0m \u001b[0mtk\u001b[0m\u001b[1;33m.\u001b[0m\u001b[0mPhotoImage\u001b[0m\u001b[1;33m(\u001b[0m\u001b[0mfile\u001b[0m \u001b[1;33m=\u001b[0m \u001b[1;34m\"campus_cerebro.png\"\u001b[0m\u001b[1;33m)\u001b[0m\u001b[1;33m\u001b[0m\u001b[0m\n\u001b[0m\u001b[0;32m      5\u001b[0m \u001b[0mw\u001b[0m \u001b[1;33m=\u001b[0m \u001b[0mtk\u001b[0m\u001b[1;33m.\u001b[0m\u001b[0mLabel\u001b[0m\u001b[1;33m(\u001b[0m\u001b[0mroot\u001b[0m\u001b[1;33m,\u001b[0m \u001b[0mimage\u001b[0m\u001b[1;33m=\u001b[0m\u001b[0mimagem\u001b[0m\u001b[1;33m)\u001b[0m\u001b[1;33m\u001b[0m\u001b[0m\n\u001b[0;32m      6\u001b[0m \u001b[0mw\u001b[0m\u001b[1;33m.\u001b[0m\u001b[0mimagem\u001b[0m \u001b[1;33m=\u001b[0m \u001b[0mimagem\u001b[0m\u001b[1;33m\u001b[0m\u001b[0m\n",
      "\u001b[1;32m~\\Anaconda3\\lib\\tkinter\\__init__.py\u001b[0m in \u001b[0;36m__init__\u001b[1;34m(self, name, cnf, master, **kw)\u001b[0m\n\u001b[0;32m   3537\u001b[0m         \u001b[0mValid\u001b[0m \u001b[0mresource\u001b[0m \u001b[0mnames\u001b[0m\u001b[1;33m:\u001b[0m \u001b[0mdata\u001b[0m\u001b[1;33m,\u001b[0m \u001b[0mformat\u001b[0m\u001b[1;33m,\u001b[0m \u001b[0mfile\u001b[0m\u001b[1;33m,\u001b[0m \u001b[0mgamma\u001b[0m\u001b[1;33m,\u001b[0m \u001b[0mheight\u001b[0m\u001b[1;33m,\u001b[0m \u001b[0mpalette\u001b[0m\u001b[1;33m,\u001b[0m\u001b[1;33m\u001b[0m\u001b[0m\n\u001b[0;32m   3538\u001b[0m         width.\"\"\"\n\u001b[1;32m-> 3539\u001b[1;33m         \u001b[0mImage\u001b[0m\u001b[1;33m.\u001b[0m\u001b[0m__init__\u001b[0m\u001b[1;33m(\u001b[0m\u001b[0mself\u001b[0m\u001b[1;33m,\u001b[0m \u001b[1;34m'photo'\u001b[0m\u001b[1;33m,\u001b[0m \u001b[0mname\u001b[0m\u001b[1;33m,\u001b[0m \u001b[0mcnf\u001b[0m\u001b[1;33m,\u001b[0m \u001b[0mmaster\u001b[0m\u001b[1;33m,\u001b[0m \u001b[1;33m**\u001b[0m\u001b[0mkw\u001b[0m\u001b[1;33m)\u001b[0m\u001b[1;33m\u001b[0m\u001b[0m\n\u001b[0m\u001b[0;32m   3540\u001b[0m     \u001b[1;32mdef\u001b[0m \u001b[0mblank\u001b[0m\u001b[1;33m(\u001b[0m\u001b[0mself\u001b[0m\u001b[1;33m)\u001b[0m\u001b[1;33m:\u001b[0m\u001b[1;33m\u001b[0m\u001b[0m\n\u001b[0;32m   3541\u001b[0m         \u001b[1;34m\"\"\"Display a transparent image.\"\"\"\u001b[0m\u001b[1;33m\u001b[0m\u001b[0m\n",
      "\u001b[1;32m~\\Anaconda3\\lib\\tkinter\\__init__.py\u001b[0m in \u001b[0;36m__init__\u001b[1;34m(self, imgtype, name, cnf, master, **kw)\u001b[0m\n\u001b[0;32m   3493\u001b[0m                 \u001b[0mv\u001b[0m \u001b[1;33m=\u001b[0m \u001b[0mself\u001b[0m\u001b[1;33m.\u001b[0m\u001b[0m_register\u001b[0m\u001b[1;33m(\u001b[0m\u001b[0mv\u001b[0m\u001b[1;33m)\u001b[0m\u001b[1;33m\u001b[0m\u001b[0m\n\u001b[0;32m   3494\u001b[0m             \u001b[0moptions\u001b[0m \u001b[1;33m=\u001b[0m \u001b[0moptions\u001b[0m \u001b[1;33m+\u001b[0m \u001b[1;33m(\u001b[0m\u001b[1;34m'-'\u001b[0m\u001b[1;33m+\u001b[0m\u001b[0mk\u001b[0m\u001b[1;33m,\u001b[0m \u001b[0mv\u001b[0m\u001b[1;33m)\u001b[0m\u001b[1;33m\u001b[0m\u001b[0m\n\u001b[1;32m-> 3495\u001b[1;33m         \u001b[0mself\u001b[0m\u001b[1;33m.\u001b[0m\u001b[0mtk\u001b[0m\u001b[1;33m.\u001b[0m\u001b[0mcall\u001b[0m\u001b[1;33m(\u001b[0m\u001b[1;33m(\u001b[0m\u001b[1;34m'image'\u001b[0m\u001b[1;33m,\u001b[0m \u001b[1;34m'create'\u001b[0m\u001b[1;33m,\u001b[0m \u001b[0mimgtype\u001b[0m\u001b[1;33m,\u001b[0m \u001b[0mname\u001b[0m\u001b[1;33m,\u001b[0m\u001b[1;33m)\u001b[0m \u001b[1;33m+\u001b[0m \u001b[0moptions\u001b[0m\u001b[1;33m)\u001b[0m\u001b[1;33m\u001b[0m\u001b[0m\n\u001b[0m\u001b[0;32m   3496\u001b[0m         \u001b[0mself\u001b[0m\u001b[1;33m.\u001b[0m\u001b[0mname\u001b[0m \u001b[1;33m=\u001b[0m \u001b[0mname\u001b[0m\u001b[1;33m\u001b[0m\u001b[0m\n\u001b[0;32m   3497\u001b[0m     \u001b[1;32mdef\u001b[0m \u001b[0m__str__\u001b[0m\u001b[1;33m(\u001b[0m\u001b[0mself\u001b[0m\u001b[1;33m)\u001b[0m\u001b[1;33m:\u001b[0m \u001b[1;32mreturn\u001b[0m \u001b[0mself\u001b[0m\u001b[1;33m.\u001b[0m\u001b[0mname\u001b[0m\u001b[1;33m\u001b[0m\u001b[0m\n",
      "\u001b[1;31mTclError\u001b[0m: encountered an unsupported criticial chunk type \"orNT\""
>>>>>>> Stashed changes
     ]
    }
   ],
   "source": [
    "import tkinter as tk\n",
    "root = tk.Tk()\n",
    "\n",
    "imagem = tk.PhotoImage(file = \"campus_cerebro.png\")\n",
    "w = tk.Label(root, image=imagem)\n",
    "w.imagem = imagem\n",
    "w.pack()\n",
    "\n",
    "root.mainloop()"
   ]
  },
  {
   "cell_type": "markdown",
   "metadata": {},
   "source": [
<<<<<<< Updated upstream
    "###### 2.3 ) Here we use the data to find the most expensive done or in progress work"
=======
    "7.3 ) Here we use the data to find the most expensive done or in progress work"
>>>>>>> Stashed changes
   ]
  },
  {
   "cell_type": "code",
<<<<<<< Updated upstream
   "execution_count": 31,
=======
   "execution_count": 99,
>>>>>>> Stashed changes
   "metadata": {},
   "outputs": [
    {
     "name": "stdout",
     "output_type": "stream",
     "text": [
      "The most expensive work cost was: R$    75.574.557,43\n",
      "Work:  CAMPUS DO CÉREBRO\n",
      "\n",
      "Description:  execução, pela CONTRATADA, da CONSTRUÇÃO DO CENTRO DE PESQUISAS, LOCALIZADO NO CAMPUS DO CÉREBRO NA ESCOLA AGRÍCOLA DE JUNDIAÍ - MUNICÍPIO DE MACAÍBA / RN: conforme especificações, anexas a CONCORRÊNCIA Nº 10/2009-DMP.\r\n",
      "\tUnidade 01 - CONSTRUÇÃO DA ESCOLA LYGIA MARIA ROCHA LEÃO LAPORTA\r\n",
      "\t Unidade 02 -  CONSTRUÇÃO DO CENTRO DE PESQUISAS\r\n",
      "\r\n",
      "\n"
     ]
    },
    {
     "data": {
      "text/html": [
       "<div>\n",
       "<style>\n",
       "    .dataframe thead tr:only-child th {\n",
       "        text-align: right;\n",
       "    }\n",
       "\n",
       "    .dataframe thead th {\n",
       "        text-align: left;\n",
       "    }\n",
       "\n",
       "    .dataframe tbody tr th {\n",
       "        vertical-align: top;\n",
       "    }\n",
       "</style>\n",
       "<table border=\"1\" class=\"dataframe\">\n",
       "  <thead>\n",
       "    <tr style=\"text-align: right;\">\n",
       "      <th></th>\n",
       "      <th>37</th>\n",
       "    </tr>\n",
       "  </thead>\n",
       "  <tbody>\n",
       "    <tr>\n",
       "      <th>id_obra</th>\n",
       "      <td>5803</td>\n",
       "    </tr>\n",
       "    <tr>\n",
       "      <th>descricao</th>\n",
       "      <td>execução, pela CONTRATADA, da CONSTRUÇÃO DO CE...</td>\n",
       "    </tr>\n",
       "    <tr>\n",
       "      <th>periodo</th>\n",
       "      <td>11/06/2010 - 22/12/2013</td>\n",
       "    </tr>\n",
       "    <tr>\n",
       "      <th>qtd_dias</th>\n",
       "      <td>720</td>\n",
       "    </tr>\n",
       "    <tr>\n",
       "      <th>status_obra</th>\n",
       "      <td>FINALIZADA</td>\n",
       "    </tr>\n",
       "    <tr>\n",
       "      <th>licitacao</th>\n",
       "      <td>10/2009</td>\n",
       "    </tr>\n",
       "    <tr>\n",
       "      <th>empresa</th>\n",
       "      <td>86.712.247/0001-56 - EDCON - COMÉRCIO E CONST...</td>\n",
       "    </tr>\n",
       "    <tr>\n",
       "      <th>modalidade</th>\n",
       "      <td>CONCORRÊNCIA</td>\n",
       "    </tr>\n",
       "    <tr>\n",
       "      <th>valor</th>\n",
       "      <td>R$    75.574.557,43</td>\n",
       "    </tr>\n",
       "    <tr>\n",
       "      <th>fonte_recurso</th>\n",
       "      <td>TESOURO - EDUCAÇÃO (112000000)</td>\n",
       "    </tr>\n",
       "    <tr>\n",
       "      <th>vigencia_projeto</th>\n",
       "      <td>NaN</td>\n",
       "    </tr>\n",
       "    <tr>\n",
       "      <th>projeto</th>\n",
       "      <td>NaN</td>\n",
       "    </tr>\n",
       "    <tr>\n",
       "      <th>id_unidade_responsavel</th>\n",
       "      <td>5229</td>\n",
       "    </tr>\n",
       "    <tr>\n",
       "      <th>unidade_responsavel</th>\n",
       "      <td>CAMPUS DO CÉREBRO</td>\n",
       "    </tr>\n",
       "    <tr>\n",
       "      <th>Unnamed: 14</th>\n",
       "      <td>NaN</td>\n",
       "    </tr>\n",
       "  </tbody>\n",
       "</table>\n",
       "</div>"
      ],
      "text/plain": [
       "                                                                       37\n",
       "id_obra                                                              5803\n",
       "descricao               execução, pela CONTRATADA, da CONSTRUÇÃO DO CE...\n",
       "periodo                                           11/06/2010 - 22/12/2013\n",
       "qtd_dias                                                              720\n",
       "status_obra                                                    FINALIZADA\n",
       "licitacao                                                         10/2009\n",
       "empresa                  86.712.247/0001-56 - EDCON - COMÉRCIO E CONST...\n",
       "modalidade                                                   CONCORRÊNCIA\n",
       "valor                                                 R$    75.574.557,43\n",
       "fonte_recurso                              TESOURO - EDUCAÇÃO (112000000)\n",
       "vigencia_projeto                                                      NaN\n",
       "projeto                                                               NaN\n",
       "id_unidade_responsavel                                               5229\n",
       "unidade_responsavel                                     CAMPUS DO CÉREBRO\n",
       "Unnamed: 14                                                           NaN"
      ]
     },
<<<<<<< Updated upstream
     "execution_count": 31,
=======
     "execution_count": 99,
>>>>>>> Stashed changes
     "metadata": {},
     "output_type": "execute_result"
    }
   ],
   "source": [
    "most_exp_work = works['valor'].max()\n",
    "\n",
    "this = 0\n",
    "\n",
    "print(\"The most expensive work cost was:\", most_exp_work)\n",
    "\n",
    "for i,valor in enumerate(works['valor']):\n",
    "    if(valor == most_exp_work):\n",
    "        this = i    \n",
    "        \n",
    "print(\"Work: \", works['unidade_responsavel'][this])        \n",
    "print(\"\\nDescription: \", works['descricao'][this])\n",
    "\n",
    "pd.DataFrame(works.iloc[this])"
   ]
  },
  {
   "cell_type": "markdown",
   "metadata": {},
   "source": [
<<<<<<< Updated upstream
    "### 3 ) Cheapest Work\n",
    "\n",
    "Now, it is time to show some discrepancies over prices for works.\n",
    "As you will see on the end, the most expensive work is really expensive(no, it's ``serious expensive``), whilee the cheapest work is ``extremely cheap``."
=======
    "### 8 ) Cheaper Work\n",
    "Strangely the cheapest work that appears in the data cost only R$ 1,00, which seems quite out of the standards found in the data frame. the work was requested by UFRN and as it is explicit in the work's description."
   ]
  },
  {
   "cell_type": "markdown",
   "metadata": {},
   "source": [
    "The value was designated to the construction of civil works of the Pilot Research Center of the International Institute of Neurosciences, name that is given to one of the main constructions of the Campus do Cérebro(Brain Campus), which does not seem to be a coincidence."
>>>>>>> Stashed changes
   ]
  },
  {
   "cell_type": "code",
<<<<<<< Updated upstream
   "execution_count": 32,
=======
   "execution_count": 100,
>>>>>>> Stashed changes
   "metadata": {},
   "outputs": [
    {
     "name": "stdout",
     "output_type": "stream",
     "text": [
      "The most cheap work cost was: R$             1,00\n",
      "Work:  UNIVERSIDADE FEDERAL DO RIO GRANDE DO NORTE\n",
      "\n",
      "Description:  CONSTRUÇÃO DE OBRAS CIVIS DO CENTRO DE PESQUISA PILOTO DO INSTITUTO INTERNACIONAL DE NEUROCIÊNCIAS\n"
     ]
    },
    {
     "data": {
      "text/html": [
       "<div>\n",
       "<style>\n",
       "    .dataframe thead tr:only-child th {\n",
       "        text-align: right;\n",
       "    }\n",
       "\n",
       "    .dataframe thead th {\n",
       "        text-align: left;\n",
       "    }\n",
       "\n",
       "    .dataframe tbody tr th {\n",
       "        vertical-align: top;\n",
       "    }\n",
       "</style>\n",
       "<table border=\"1\" class=\"dataframe\">\n",
       "  <thead>\n",
       "    <tr style=\"text-align: right;\">\n",
       "      <th></th>\n",
       "      <th>421</th>\n",
       "    </tr>\n",
       "  </thead>\n",
       "  <tbody>\n",
       "    <tr>\n",
       "      <th>id_obra</th>\n",
       "      <td>2878</td>\n",
       "    </tr>\n",
       "    <tr>\n",
       "      <th>descricao</th>\n",
       "      <td>CONSTRUÇÃO DE OBRAS CIVIS DO CENTRO DE PESQUIS...</td>\n",
       "    </tr>\n",
       "    <tr>\n",
       "      <th>periodo</th>\n",
       "      <td>01/01/2007 - 31/12/2007</td>\n",
       "    </tr>\n",
       "    <tr>\n",
       "      <th>qtd_dias</th>\n",
       "      <td>360</td>\n",
       "    </tr>\n",
       "    <tr>\n",
       "      <th>status_obra</th>\n",
       "      <td>FINALIZADA</td>\n",
       "    </tr>\n",
       "    <tr>\n",
       "      <th>licitacao</th>\n",
       "      <td>7/2006</td>\n",
       "    </tr>\n",
       "    <tr>\n",
       "      <th>empresa</th>\n",
       "      <td>08.288.581/0001-10 - I M COMERCIO E TERRAPLAN...</td>\n",
       "    </tr>\n",
       "    <tr>\n",
       "      <th>modalidade</th>\n",
       "      <td>TOMADA DE PREÇO</td>\n",
       "    </tr>\n",
       "    <tr>\n",
       "      <th>valor</th>\n",
       "      <td>R$             1,00</td>\n",
       "    </tr>\n",
       "    <tr>\n",
       "      <th>fonte_recurso</th>\n",
       "      <td>UNIV.FEDERAL DO RIO GRANDE DO NORTE (250154214)</td>\n",
       "    </tr>\n",
       "    <tr>\n",
       "      <th>vigencia_projeto</th>\n",
       "      <td>NaN</td>\n",
       "    </tr>\n",
       "    <tr>\n",
       "      <th>projeto</th>\n",
       "      <td>NaN</td>\n",
       "    </tr>\n",
       "    <tr>\n",
       "      <th>id_unidade_responsavel</th>\n",
       "      <td>605</td>\n",
       "    </tr>\n",
       "    <tr>\n",
       "      <th>unidade_responsavel</th>\n",
       "      <td>UNIVERSIDADE FEDERAL DO RIO GRANDE DO NORTE</td>\n",
       "    </tr>\n",
       "    <tr>\n",
       "      <th>Unnamed: 14</th>\n",
       "      <td>NaN</td>\n",
       "    </tr>\n",
       "  </tbody>\n",
       "</table>\n",
       "</div>"
      ],
      "text/plain": [
       "                                                                      421\n",
       "id_obra                                                              2878\n",
       "descricao               CONSTRUÇÃO DE OBRAS CIVIS DO CENTRO DE PESQUIS...\n",
       "periodo                                           01/01/2007 - 31/12/2007\n",
       "qtd_dias                                                              360\n",
       "status_obra                                                    FINALIZADA\n",
       "licitacao                                                          7/2006\n",
       "empresa                  08.288.581/0001-10 - I M COMERCIO E TERRAPLAN...\n",
       "modalidade                                                TOMADA DE PREÇO\n",
       "valor                                                 R$             1,00\n",
       "fonte_recurso             UNIV.FEDERAL DO RIO GRANDE DO NORTE (250154214)\n",
       "vigencia_projeto                                                      NaN\n",
       "projeto                                                               NaN\n",
       "id_unidade_responsavel                                                605\n",
       "unidade_responsavel           UNIVERSIDADE FEDERAL DO RIO GRANDE DO NORTE\n",
       "Unnamed: 14                                                           NaN"
      ]
     },
<<<<<<< Updated upstream
     "execution_count": 32,
=======
     "execution_count": 100,
>>>>>>> Stashed changes
     "metadata": {},
     "output_type": "execute_result"
    }
   ],
   "source": [
    "most_cheap_work = works['valor'].min()\n",
    "\n",
    "print(\"The most cheap work cost was:\", most_cheap_work)\n",
    "\n",
    "this = 0\n",
    "\n",
    "for i,valor in enumerate(works['valor']):\n",
    "    if(valor == most_cheap_work):\n",
    "        this = i\n",
    "        \n",
    "print(\"Work: \", works['unidade_responsavel'][this])\n",
    "print(\"\\nDescription: \", works['descricao'][this])\n",
    "\n",
    "pd.DataFrame(works.iloc[this])"
   ]
  },
  {
<<<<<<< Updated upstream
   "cell_type": "markdown",
   "metadata": {},
   "source": [
    "### 4) Valor"
=======
   "cell_type": "markdown",
   "metadata": {},
   "source": [
    "### 9 ) Work requests per year"
   ]
  },
  {
   "cell_type": "markdown",
   "metadata": {},
   "source": [
    "9.1 ) We can see that 2012 was a year of many applications, which almost lost to 2011. But what we can observe is that both annual ranges are within the data range of the Brain Campus as seen in topic 2.3."
>>>>>>> Stashed changes
   ]
  },
  {
   "cell_type": "code",
<<<<<<< Updated upstream
   "execution_count": 33,
=======
   "execution_count": 101,
>>>>>>> Stashed changes
   "metadata": {},
   "outputs": [
    {
     "name": "stdout",
     "output_type": "stream",
     "text": [
      "Works per year:\n"
     ]
    },
    {
     "data": {
      "text/html": [
       "<div>\n",
       "<style>\n",
       "    .dataframe thead tr:only-child th {\n",
       "        text-align: right;\n",
       "    }\n",
       "\n",
       "    .dataframe thead th {\n",
       "        text-align: left;\n",
       "    }\n",
       "\n",
       "    .dataframe tbody tr th {\n",
       "        vertical-align: top;\n",
       "    }\n",
       "</style>\n",
       "<table border=\"1\" class=\"dataframe\">\n",
       "  <thead>\n",
       "    <tr style=\"text-align: right;\">\n",
       "      <th></th>\n",
       "      <th>ano</th>\n",
       "    </tr>\n",
       "  </thead>\n",
       "  <tbody>\n",
       "    <tr>\n",
       "      <th>2012</th>\n",
       "      <td>908</td>\n",
       "    </tr>\n",
       "    <tr>\n",
       "      <th>2011</th>\n",
       "      <td>895</td>\n",
       "    </tr>\n",
       "    <tr>\n",
       "      <th>2009</th>\n",
       "      <td>703</td>\n",
       "    </tr>\n",
       "    <tr>\n",
       "      <th>2008</th>\n",
       "      <td>661</td>\n",
       "    </tr>\n",
       "    <tr>\n",
       "      <th>2010</th>\n",
       "      <td>631</td>\n",
       "    </tr>\n",
       "  </tbody>\n",
       "</table>\n",
       "</div>"
      ],
      "text/plain": [
       "      ano\n",
       "2012  908\n",
       "2011  895\n",
       "2009  703\n",
       "2008  661\n",
       "2010  631"
      ]
     },
<<<<<<< Updated upstream
     "execution_count": 33,
=======
     "execution_count": 101,
>>>>>>> Stashed changes
     "metadata": {},
     "output_type": "execute_result"
    }
   ],
   "source": [
    "years = work_requests.copy()\n",
    "yr = work_requests['ano'].value_counts()\n",
    "\n",
    "print(\"Works per year:\")\n",
    "yea = pd.DataFrame(yr)\n",
    "yea.head()"
   ]
  },
  {
   "cell_type": "markdown",
   "metadata": {},
   "source": [
    "9.2 ) The chart can help us see the divergence in the number of requests for works over the years. Note the peaks in the years 2011 and 2012."
   ]
  },
  {
   "cell_type": "code",
<<<<<<< Updated upstream
   "execution_count": 34,
=======
   "execution_count": 102,
>>>>>>> Stashed changes
   "metadata": {},
   "outputs": [
    {
     "data": {
      "image/png": "iVBORw0KGgoAAAANSUhEUgAAA34AAAHwCAYAAAD5DL2VAAAABHNCSVQICAgIfAhkiAAAAAlwSFlz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\n",
      "text/plain": [
<<<<<<< Updated upstream
       "<matplotlib.figure.Figure at 0x14e87c26f60>"
=======
       "<matplotlib.figure.Figure at 0x2e38dd97278>"
>>>>>>> Stashed changes
      ]
     },
     "metadata": {},
     "output_type": "display_data"
    }
   ],
   "source": [
    "work_requests.plot(kind='hist', y = 'ano', bins=30, figsize=(15,8), color = 'purple', alpha=0.3)\n",
    "plt.xlabel('Years')\n",
    "plt.title(\"Request per Year\")\n",
    "plt.show()"
   ]
  },
  {
   "cell_type": "markdown",
   "metadata": {},
   "source": [
<<<<<<< Updated upstream
    "### 5) Status "
=======
    "### 10 ) Work requests status "
   ]
  },
  {
   "cell_type": "markdown",
   "metadata": {},
   "source": [
    "10.1 ) We can see that most of the requests had their projects sent or were answered."
>>>>>>> Stashed changes
   ]
  },
  {
   "cell_type": "code",
<<<<<<< Updated upstream
   "execution_count": 38,
=======
   "execution_count": 103,
>>>>>>> Stashed changes
   "metadata": {
    "scrolled": true
   },
   "outputs": [
    {
     "name": "stdout",
     "output_type": "stream",
     "text": [
      "The work requests number by status:\n",
      "status    801\n",
      "dtype: int64\n",
      "status    50\n",
      "dtype: int64\n"
     ]
    },
    {
<<<<<<< Updated upstream
     "ename": "TypeError",
     "evalue": "drop() got an unexpected keyword argument 'index'",
     "output_type": "error",
     "traceback": [
      "\u001b[1;31m---------------------------------------------------------------------------\u001b[0m",
      "\u001b[1;31mTypeError\u001b[0m                                 Traceback (most recent call last)",
      "\u001b[1;32m<ipython-input-38-57d22fc986a3>\u001b[0m in \u001b[0;36m<module>\u001b[1;34m()\u001b[0m\n\u001b[0;32m     14\u001b[0m \u001b[0mstat\u001b[0m\u001b[1;33m.\u001b[0m\u001b[0mloc\u001b[0m\u001b[1;33m[\u001b[0m\u001b[1;34m'FINALIZADAS'\u001b[0m\u001b[1;33m]\u001b[0m \u001b[1;33m=\u001b[0m \u001b[1;33m[\u001b[0m\u001b[0msoma_fim\u001b[0m\u001b[1;33m[\u001b[0m\u001b[1;34m'status'\u001b[0m\u001b[1;33m]\u001b[0m\u001b[1;33m]\u001b[0m\u001b[1;33m\u001b[0m\u001b[0m\n\u001b[0;32m     15\u001b[0m \u001b[0mstat\u001b[0m\u001b[1;33m.\u001b[0m\u001b[0mloc\u001b[0m\u001b[1;33m[\u001b[0m\u001b[1;34m'PENDENTE AUTORIZAÇÃO'\u001b[0m\u001b[1;33m]\u001b[0m \u001b[1;33m=\u001b[0m \u001b[1;33m[\u001b[0m\u001b[0msoma_pend\u001b[0m\u001b[1;33m[\u001b[0m\u001b[1;34m'status'\u001b[0m\u001b[1;33m]\u001b[0m\u001b[1;33m]\u001b[0m\u001b[1;33m\u001b[0m\u001b[0m\n\u001b[1;32m---> 16\u001b[1;33m \u001b[0mpure_stat\u001b[0m \u001b[1;33m=\u001b[0m \u001b[0mstat\u001b[0m\u001b[1;33m.\u001b[0m\u001b[0mdrop\u001b[0m\u001b[1;33m(\u001b[0m\u001b[0mindex\u001b[0m\u001b[1;33m=\u001b[0m\u001b[1;33m[\u001b[0m\u001b[1;34m'FINALIZADA_ATENDIMENTO'\u001b[0m\u001b[1;33m,\u001b[0m\u001b[1;34m'FINALIZADA'\u001b[0m\u001b[1;33m]\u001b[0m\u001b[1;33m)\u001b[0m\u001b[1;33m\u001b[0m\u001b[0m\n\u001b[0m\u001b[0;32m     17\u001b[0m final_stat = pure_stat.drop(index = ['ENVIADA_LICITACAO','AUTORIZADA PELO CHEFE DA UNIDADE','CADASTRADA',\n\u001b[0;32m     18\u001b[0m                             \u001b[1;34m'ENVIADA'\u001b[0m\u001b[1;33m,\u001b[0m\u001b[1;34m'RETORNADA'\u001b[0m\u001b[1;33m,\u001b[0m\u001b[1;34m'ATENDIDA_LICITACAO'\u001b[0m\u001b[1;33m,\u001b[0m\u001b[1;34m'AUTORIZADA PARA INFRA'\u001b[0m\u001b[1;33m,\u001b[0m\u001b[1;33m\u001b[0m\u001b[0m\n",
      "\u001b[1;31mTypeError\u001b[0m: drop() got an unexpected keyword argument 'index'"
     ]
=======
     "data": {
      "text/html": [
       "<div>\n",
       "<style scoped>\n",
       "    .dataframe tbody tr th:only-of-type {\n",
       "        vertical-align: middle;\n",
       "    }\n",
       "\n",
       "    .dataframe tbody tr th {\n",
       "        vertical-align: top;\n",
       "    }\n",
       "\n",
       "    .dataframe thead th {\n",
       "        text-align: right;\n",
       "    }\n",
       "</style>\n",
       "<table border=\"1\" class=\"dataframe\">\n",
       "  <thead>\n",
       "    <tr style=\"text-align: right;\">\n",
       "      <th></th>\n",
       "      <th>status</th>\n",
       "    </tr>\n",
       "  </thead>\n",
       "  <tbody>\n",
       "    <tr>\n",
       "      <th>ENVIADA_PROJETO</th>\n",
       "      <td>33.671899</td>\n",
       "    </tr>\n",
       "    <tr>\n",
       "      <th>ATENDIDA</th>\n",
       "      <td>20.791013</td>\n",
       "    </tr>\n",
       "    <tr>\n",
       "      <th>ARQUIVADA</th>\n",
       "      <td>10.818713</td>\n",
       "    </tr>\n",
       "    <tr>\n",
       "      <th>ENVIADA_ORCAMENTO</th>\n",
       "      <td>7.494614</td>\n",
       "    </tr>\n",
       "    <tr>\n",
       "      <th>NEGADA</th>\n",
       "      <td>2.770083</td>\n",
       "    </tr>\n",
       "    <tr>\n",
       "      <th>ESTORNADA</th>\n",
       "      <td>1.738997</td>\n",
       "    </tr>\n",
       "    <tr>\n",
       "      <th>AGUARDANDO_EXECUCAO</th>\n",
       "      <td>0.138504</td>\n",
       "    </tr>\n",
       "    <tr>\n",
       "      <th>AUTORIZADA</th>\n",
       "      <td>0.123115</td>\n",
       "    </tr>\n",
       "    <tr>\n",
       "      <th>FINALIZADAS</th>\n",
       "      <td>12.326870</td>\n",
       "    </tr>\n",
       "    <tr>\n",
       "      <th>PENDENTE AUTORIZAÇÃO</th>\n",
       "      <td>0.769468</td>\n",
       "    </tr>\n",
       "  </tbody>\n",
       "</table>\n",
       "</div>"
      ],
      "text/plain": [
       "                         status\n",
       "ENVIADA_PROJETO       33.671899\n",
       "ATENDIDA              20.791013\n",
       "ARQUIVADA             10.818713\n",
       "ENVIADA_ORCAMENTO      7.494614\n",
       "NEGADA                 2.770083\n",
       "ESTORNADA              1.738997\n",
       "AGUARDANDO_EXECUCAO    0.138504\n",
       "AUTORIZADA             0.123115\n",
       "FINALIZADAS           12.326870\n",
       "PENDENTE AUTORIZAÇÃO   0.769468"
      ]
     },
     "execution_count": 103,
     "metadata": {},
     "output_type": "execute_result"
>>>>>>> Stashed changes
    }
   ],
   "source": [
    "status = work_requests.copy()\n",
    "sta = work_requests['status'].value_counts()\n",
    "\n",
    "print(\"The work requests number by status:\")\n",
    "\n",
    "# creates the dataframe containing only the data we need.\n",
    "stat = pd.DataFrame(sta)\n",
    "\n",
    "# calculations\n",
    "soma_fim = stat[stat.index.str.contains('FINALIZADA')].sum()\n",
    "soma_pend = stat[stat.index.str.contains('PENDENTE')].sum()\n",
    "print(soma_fim)\n",
    "print(soma_pend)\n",
    "stat.loc['FINALIZADAS'] = [soma_fim['status']]\n",
    "stat.loc['PENDENTE AUTORIZAÇÃO'] = [soma_pend['status']]\n",
    "pure_stat = stat.drop(index=['FINALIZADA_ATENDIMENTO','FINALIZADA'])\n",
    "final_stat = pure_stat.drop(index = ['ENVIADA_LICITACAO','AUTORIZADA PELO CHEFE DA UNIDADE','CADASTRADA',\n",
    "                            'ENVIADA','RETORNADA','ATENDIDA_LICITACAO','AUTORIZADA PARA INFRA',\n",
    "                            'AUTORIZADA DIREÇÃO CENTRO','AUTORIZADA PARA LICITAÇÃO',\n",
    "                            'PENDENTE AUTORIZAÇÃO CHEFE UNIDADE','PENDENTE AUTORIZAÇÃO CHEFIA'])\n",
    "\n",
    "porce = final_stat/pure_stat.sum()*100\n",
    "porce"
   ]
  },
  {
   "cell_type": "markdown",
   "metadata": {},
   "source": [
    "10.2 ) We calculated the percentage of request statuses to better understand data statistics."
   ]
  },
  {
   "cell_type": "code",
   "execution_count": 39,
   "metadata": {},
<<<<<<< Updated upstream
   "outputs": [
    {
     "ename": "NameError",
     "evalue": "name 'porce' is not defined",
     "output_type": "error",
     "traceback": [
      "\u001b[1;31m---------------------------------------------------------------------------\u001b[0m",
      "\u001b[1;31mNameError\u001b[0m                                 Traceback (most recent call last)",
      "\u001b[1;32m<ipython-input-39-793029845eff>\u001b[0m in \u001b[0;36m<module>\u001b[1;34m()\u001b[0m\n\u001b[0;32m      1\u001b[0m \u001b[0mexplode\u001b[0m \u001b[1;33m=\u001b[0m \u001b[1;33m(\u001b[0m\u001b[1;36m0.1\u001b[0m\u001b[1;33m,\u001b[0m \u001b[1;36m0.1\u001b[0m\u001b[1;33m,\u001b[0m \u001b[1;36m0.1\u001b[0m\u001b[1;33m,\u001b[0m \u001b[1;36m0.1\u001b[0m\u001b[1;33m,\u001b[0m \u001b[1;36m0.3\u001b[0m\u001b[1;33m,\u001b[0m \u001b[1;36m0.1\u001b[0m\u001b[1;33m,\u001b[0m \u001b[1;36m0.1\u001b[0m\u001b[1;33m,\u001b[0m \u001b[1;36m0.1\u001b[0m\u001b[1;33m,\u001b[0m \u001b[1;36m0.3\u001b[0m\u001b[1;33m,\u001b[0m \u001b[1;36m0.1\u001b[0m\u001b[1;33m)\u001b[0m\u001b[1;33m\u001b[0m\u001b[0m\n\u001b[1;32m----> 2\u001b[1;33m \u001b[0mlabels\u001b[0m \u001b[1;33m=\u001b[0m \u001b[0mporce\u001b[0m\u001b[1;33m.\u001b[0m\u001b[0mindex\u001b[0m\u001b[1;33m\u001b[0m\u001b[0m\n\u001b[0m\u001b[0;32m      3\u001b[0m \u001b[0mfig\u001b[0m \u001b[1;33m=\u001b[0m \u001b[0mplt\u001b[0m\u001b[1;33m.\u001b[0m\u001b[0mfigure\u001b[0m\u001b[1;33m(\u001b[0m\u001b[0mfigsize\u001b[0m\u001b[1;33m=\u001b[0m\u001b[1;33m(\u001b[0m\u001b[1;36m15\u001b[0m\u001b[1;33m,\u001b[0m\u001b[1;36m8\u001b[0m\u001b[1;33m)\u001b[0m\u001b[1;33m)\u001b[0m\u001b[1;33m\u001b[0m\u001b[0m\n\u001b[0;32m      4\u001b[0m \u001b[0mplt\u001b[0m\u001b[1;33m.\u001b[0m\u001b[0mpie\u001b[0m\u001b[1;33m(\u001b[0m\u001b[0mporce\u001b[0m\u001b[1;33m,\u001b[0m \u001b[0mexplode\u001b[0m\u001b[1;33m=\u001b[0m\u001b[0mexplode\u001b[0m\u001b[1;33m,\u001b[0m \u001b[0mautopct\u001b[0m\u001b[1;33m=\u001b[0m\u001b[1;34m'%1.1f%%'\u001b[0m\u001b[1;33m,\u001b[0m\u001b[0mshadow\u001b[0m\u001b[1;33m=\u001b[0m\u001b[1;32mTrue\u001b[0m\u001b[1;33m,\u001b[0m \u001b[0mstartangle\u001b[0m\u001b[1;33m=\u001b[0m\u001b[1;36m30\u001b[0m\u001b[1;33m,\u001b[0m \u001b[0mradius\u001b[0m\u001b[1;33m=\u001b[0m\u001b[1;36m0.9\u001b[0m\u001b[1;33m)\u001b[0m\u001b[1;33m\u001b[0m\u001b[0m\n\u001b[0;32m      5\u001b[0m \u001b[0mplt\u001b[0m\u001b[1;33m.\u001b[0m\u001b[0maxis\u001b[0m\u001b[1;33m(\u001b[0m\u001b[1;34m'equal'\u001b[0m\u001b[1;33m)\u001b[0m\u001b[1;33m\u001b[0m\u001b[0m\n",
      "\u001b[1;31mNameError\u001b[0m: name 'porce' is not defined"
     ]
=======
   "outputs": [],
   "source": []
  },
  {
   "cell_type": "code",
   "execution_count": 104,
   "metadata": {},
   "outputs": [
    {
     "data": {
      "image/png": "iVBORw0KGgoAAAANSUhEUgAABFkAAAHUCAYAAADhi/efAAAABHNCSVQICAgIfAhkiAAAAAlwSFlzAAALEgAACxIB0t1+/AAAADl0RVh0U29mdHdhcmUAbWF0cGxvdGxpYiB2ZXJzaW9uIDIuMS4yLCBodHRwOi8vbWF0cGxvdGxpYi5vcmcvNQv5yAAAIABJREFUeJzs3Xl81OW99vHPPdkngUDYhn0gTFgUQa3GvQq2atPaPmqtrVa7nS6ndtW2sZu0fdrGtmrt3nPq055qa2vtEavDIiYhLNEoQlgFh0BA9h2STCaZ5X7++A0YKUISJvllud6v17yEWX5zDSgmF/d9f421FhEREREREREROTsetwOIiIiIiIiIiPQFKllERERERERERFJAJYuIiIiIiIiISAqoZBERERERERERSQGVLCIiIiIiIiIiKaCSRUREREREREQkBVSyiIiIiPRTxpjFxphPuZ1DRESkr1DJIiIiItIDGWPuM8bMO+m+0Nvcd1s35Kk3xjQbYxqNMXuMMX8yxuR19ft2ljHmamPMjrN4/TeNMVuTn3eHMebvbR7rUDlljJljjHm8s1lERKT3UMkiIiIi0jMtAS43xqQBGGN8QAZwwUn3TUo+t92MozNfB77PWpsHzATOB+7rxDV6PGPMXcBHgWuTn/cdQLm7qUREpDdQySIiIiLSM72CU6rMTP78KqAS2HTSfXXW2l0AxpjLjDGvGGOOJv952fGLJVdf/NAYsxwIAxPbvpkxZqQxZo0x5t4zBbPW7gEWtsmBMSbLGPMzY8x2Y8xeY8zvjDE5bR7/mjFmtzFmlzHmE8YYa4yZ1Cbbp9o892PGmGVtfj7FGLPIGHPIGLPJGHNrm8feY4zZYIxpMMbsNMbca4zJBeYDo5IrURqNMaOMMRcbY1YYY44lMz70Nh/xImChtbbu+Oe11v5X8v1+CFwJ/Cp53V8l73/EGPNG8tqvGmOuTN5/PfBN4EPJ569O3l9vjLm2zec4sdrFGJNtjHncGHPQGHMk+Xs54ky/LyIi4j6VLCIiIiI9kLW2FajBKVJI/nMpsOyk+5YAGGMKgCDwC2AI8BAQNMYMaXPZjwKfBgYA247faYzxA1XAr6y1PztTNmPMGOAGYHObux8AinCKl0nAaOC7yedfD9wLvAsIANfSTsnCZBHwV2A48GHgN8aYc5JPeRT4jLV2AHAuUGGtbUrm22WtzUvedgGPAI9YawcChcCTb/O2LwF3JouhdxxfOQRgrf0Wzu/D3cnr3p186JXkZy9IZv2HMSbbWrsA+BHw9+TzZ7TjY98F5ANjcX4vPws0t+N1IiLiMpUsIiIiIj1XFW8WKlfifHO/9KT7qpI/LgFC1trHrLUxa+0TwEbgfW2u9ydr7frk49HkfdOAxcD9x1drnMZcY0wD8AawD7gfnO1HwH8AX7HWHrLWNuAUC8fPirkV+KO1dl2yAJnTgV+D9wL11to/JnOvBP4J3JJ8PApMM8YMtNYeTj7+dqLAJGPMUGtto7X2pVM9yVr7OPAF4DqcX999xpjS04W01j5urT2YzPggkAVM7sDnPDnnEGCStTZurX3VWnusk9cSEZFupJJFREREpOdaAlxhjBkMDLPWhoBq4LLkfefy5nkso2izOiVpG86KkuPeOMV73A7sBJ5qR54PJFeMXA1MAYYm7x8GeIFXk9tbjgALkvcfz9b2vU/OeTrjgeLj101e+3bAl3z8ZuA9wDZjTJUx5tLTXOuTOKttNia34Lz37Z5orf2LtfZaYBDOSpLvG2Oue7vnG2PuMca8ltyqdQRnJcrQt3v+GTyGsx3rb8ntVT8xxmR08loiItKNVLKIiIiI9Fwv4nyz/mlgOUByRcOu5H27rLVbk8/dhVNItDUOp0A5zp7iPeYAB4C/tt0WczrW2irgT8DxrUUHcLaznGOtHZS85ScPjQXYjbP1pW2utppwSprjfG1+/AZQ1ea6g5Lbbj6XzPKKtfb9OFuJ5vLmFqB/+6zW2pC19sPJ5z4APJXcjnS6zxq11v4DWINTav3btZPnr3wDZ8XOYGvtIOAoYN4uy+k+c/I9v2etnQZchrOa587T5RQRkZ5BJYuIiIhID2WtbQZWAF/F2SZ03LLkfW2nCs0DiowxHzHGpBtjPoSzFei5M7xNFPggkAs81oGpQz8H3mWMmWmtTQD/DTxsjBkOYIwZ3Wblx5PAx4wx04wxXpLbjNqoBW4yxniTh+F+ss1jzyU/10eNMRnJ20XGmKnGmExjzO3GmPzk9qdjQDz5ur3AEGNM/vELGWPuMMYMS+Y9krw7zkmSB++WGGMGGGM8xpgbgHNwzsg5fu22BwcPAGLAfiDdGPNdYGCbx/cC/pN+bWuB25Kf5x28uf0JY8w1xpjpydLrGM7v0b/lFBGRnkcli4iIiEjPVoWz8mJZm/uWJu87UbJYaw/irHi4BzgIfB14r7X2wJneIHnI7k3Ja/6/9hQt1tr9wJ+B7yTv+gbOQbgvGWOOAS+QPJPEWjsfp5SpSD6n4qTLPQy04pQR/wP8pc37NADvxjnfZRewB2cVSlbyKR8F6pPv+VngjuTrNgJPAFuS24xGAdcD640xjTiH4N5mrY2c4uMdw5kItB2njPkJ8Dlr7fHfg0eAW4wxh40xv8DZ2jMfeB1nK1SEt26P+kfynweNMcfPjPkOzuG7h4Hv4RyWe5wPZ/vWMeA1nH8HHj9FThER6WGMtadavSgiIiIi0nWMMRYIWGs3n/HJIiIivYRWsoiIiIiIiIiIpIBKFhERERERERGRFNB2IRERERERERGRFNBKFhERERERERGRFFDJIiIiIiIiIiKSAipZRERERERERERSQCWLiIiIiIiIiEgKqGQREREREREREUkBlSwiIiIiIiIiIimgkkVEREREREREJAVUsoiIiIiIiIiIpIBKFhERERERERGRFFDJIiIiIiIiIiKSAipZRERERERERERSQCWLiIiIiIiIiEgKqGQREREREREREUkBlSwiIiIiIiIiIimgkkVEREREREREJAVUsoiIiIiIiIiIpIBKFhERERERERGRFFDJIiIiIiIiIiKSAipZRERERERERERSQCWLiIiIiIiIiEgKqGQREREREREREUkBlSwiIiIiIiIiIimgkkVEREREREREJAVUsoiIiIiIiIiIpEC62wFERERExH3+0uAgYEzy5gMGAnmnuOW+zf1ZQCvQkry1/fHb/fwYsBvYlfzn8R/vrS8riXXxRxYREUk5Y611O4OIiIiIdDF/aXAEMLHNbQIwHqdUGY1TnvQUCWA/by1gdiVvm4F19WUle9yLJyIicmoqWURERET6EH9pMBeYCVyQvJ0PTKJnlSipcABYl7ytPf7j+rKSY66mEhGRfk0li4iIiEgv5S8N5vNmmXL8VkT/PndvO28tXlYD6+vLShKuphIRkX5BJYuIiIhIL+AvDWYAlwCXAxfiFCoTAONmrl7iMLAUWJy8rVbpIiIiXUEli4iIiEgP5S8NTgbeDbwLuBoY4GqgvkOli4iIdAmVLCIiIiI9hL80WABcy5vFyjh3E/UbbUuXSpzSRV8ki4hIh6lkEREREXFJcgvQZTiFyrtxtgH15/NUeopdwP8CTwFLtcpFRETaSyWLiIiISDfylwY9wCzgI8BNQL67ieQM9gBP4xQuVfVlJXGX84iISA+mkkVERESkG/hLgxcBtwO3AiNdjiOdsx+Yi1O4VNSXlcRcziMiIj2MShYRERGRLuIvDRbhFCsfBgIux5HUOgQ8g1O4LKovK4m6nEdERHoAlSwiIiIiKeQvDY4CbsPZDnShy3Gke+wDHgV+X19Wss3tMCIi4h6VLCIiIiJnKXnOyvuAu3HOW9Hhtf1TApgH/AZYqANzRUT6H5UsIiIiIp3kLw0OAD6JU64UuhxHepatwO+BR+vLSg64HUZERLqHShYRERGRDvKXBicCXwQ+Dgx0OY70bC0457b8tr6sZLnbYUREpGupZBERERFpJ39p8Brgy8B70ZYg6bg1wG+Bx+rLSprcDiMiIqmnkkVERETkNPylwSycQ2y/BMxwOY70DQeBnwO/rC8rOep2GBERSR2VLCIiIiKn4C8N5uGsWvkCMNzlONI3HQV+BTxcX1Zy0O0wIiJy9lSyiIiIiLSRXLnyOeCbwDCX40j/0ISzjein9WUl+9wOIyIinaeSRURERATwlwbTgI8B9wNj3U0j/VQT8EvgJ/VlJYfdDiMiIh2nkkVERET6NX9p0AC3AD8AJrscRwScbUQPAw/Vl5U0uB1GRETaTyWLiIiI9Fv+0uD1wA+BC9zOInIKB4GfAI/Ul5W0uB1GRETOTCWLiIiI9Dv+0uBlwI+Bq9zOItIOm4Ev1ZeVzHM7iIiInJ5KFhEREek3/KXBiTijc9/ndhaRTngW+HJ9WckWt4OIiMipqWQRERGRPs9fGswAvmat/bYxJsftPCJnIYKzhaisvqyk2e0wIiLyVipZREREpE/zlwavsNb+zhhzjttZRFKoHvhqfVnJ024HERGRN6lkERERkT7JXxossNY+AHzSGGPcziPSRRYCX6wvK3nd7SAiIqKSRURERPogf2nwo9bah4wxQ93OItINWnFGPv+gvqykye0wIiL9mUoWERER6TP8pcGAtfa3xpjZbmcRccEO4BP1ZSWL3A4iItJfqWQRERGRXs9fGswE7rPW3meMyXI7j4iLLPBL4Bv1ZSURt8OIiPQ3KllERESkV/OXBs+z1v7NGDPV7SwiPcgG4I76spJVbgcREelPVLKIiIhIrzX+G8/dDTxojMl0O4tID9QK3A/8pL6sJOF2GBGR/kAli4iIiPQ6/tJggY1HHzNpGe9xO4tIL7AUuLO+rKTe7SAiIn2dx+0AIiIiIh0x/mtzr7Hx6EYVLCLtdiWw2l8avMvtICIifZ1WsoiIiEiv4C8NpiVaIz8yGVlfM8YYt/OI9FL/BD5TX1Zy0O0gIiJ9kUoWERER6fH8pcGxiWjLXE9G1gVuZxHpA3bjHIpb4XYQEZG+RtuFREREpEcbd8//ftDGYxtUsIikzEjgeX9p8CtuBxER6Wu0kkVERER6JH9pMCsRjfzOk5H9MbeziPRh/4OzfajF7SAiIn2BShYRERHpccbfO9dnbXyRJyP7XLeziPQDNcBN9WUlu9wOIiLS22m7kIiIiPQoY+5+7DKL3aCCRaTbFAMr/KXBYreDiIj0dipZREREpMcY/Zk/fC7Nm7/Yk5452O0sIv3MSKBKY55FRM6OtguJiIiI64bd+HWTOTLwx/RBI+/SdGYR1z0C3FNfVhJ3O4iISG+jkkVERERcNfyD38vNHDb++fSBwy5zO4uInPAC8KH6spJDbgcREelNVLKIiIiIa0bc+v1xmSMmVqblDp7odhYR+TdbgPfWl5W85nYQEZHeQiWLiIiIuGLErd8rzho1ZZ4nO6/A7Swi8rYOAtfXl5WscDuIiEhvoINvRUREpNuNuO2Ht2WNPbdSBYtIjzcEKPeXBq9yO4iISG+glSwiIiLSbbyBYjPg/JIvZ4+f8ROTlp7udh4Rabdm4Ob6spL5bgcREenJtJJFREREuoU3UOzJm37t97P9M3+qgkWk18kBnvGXBm91O4iISE+mkkVERES6nDdQnJk77epHciYVf9N40tLcziMinZIBPOEvDX7C7SAiIj2VShYRERHpUt5AcZ53ypX/7Z18+X8aT5q+9hDp3TzAH/ylwS+7HUREpCfSFzoiIiLSZbyB4oHeKVc8mjv1nXeoYBHpMwzwsL80eL/bQUREehodfCsiIiJdwhsozvdOverR3KlX3WSMx7idR0S6xMP1ZSVfdTuEiEhPoZJFREREUs4bKB6UO+3qP3qnXPF+FSwifd5/1ZeVfMbtECIiPYGW7YqIiEhKeQPFg3PPmfVn75QrVbCI9A+f9pcGH3A7hIhIT6CVLCIiIpIy3kBxQe65sx/zFl12gzFGBYtI//K1+rKSn7kdQkTETSpZREREJCW8geIh3qlX/TF36jvfp35FpN/6eH1ZyZ/cDiEi4hZtFxIREZGz5g0UD80eP/NXuVOuLFHBItKv/cFfGrzR7RAiIm5RySIiIiJnxRsoHp4xfMJPB8y84SaNaRbp99KAv/tLg1e5HURExA36QkhEREQ6zRsoHp42cNgP8otvvsWkZ2S6nUdEeoRs4F/+0uBMt4OIiHQ3lSwiIiLSKd5Acb7Jyr1v0OUfucmT6c1zO4+I9Cj5wAJ/abDQ7SAiIt1JJYuIiIh0mDdQnI0n7UuDrrj9ljRv/lC384hIjzQCeN5fGvS5HUREpLuoZBEREZEO8QaK04FP5V922x0Zg3xj3M4jIj3aRGChvzQ4yO0gIiLdQSWLiIiItJs3UGyAWwdc+L5PZY0oDLidR0R6hfOAv/lLg/reQ0T6PP1BJyIiIh3xbu/Uqz6f4z9/httBRKRXuQ74gdshRES6mkoWERERaRdvoPii7HHn3Zs79apL3M4iIr3Sff7S4AfcDiEi0pVUsoiIiMgZeQPFRen5I7424PySK43x6OsHEekMA/zZXxqc4nYQEZGuoi+SRERE5LS8geLRpKXfk3/prVea9Iwst/OISK82AHjaXxoc4HYQEZGuYKy1bmcQERGRHsobKB4MfDv/stvelTWyaLrbeaTjbKyVPX/9BjYWhUQC7+TLGXTl7ez5y9dJtDYDkAgfJXNkEcNv+va/vX7vk9+lZdcmssdMY/gt95+4f/+zPyW6fxs5hRcx+J13AXBk+RNkDp+AN6AdZXJGc4Gb6stK9M2IiPQp6W4HEBERkZ7JGyjOBr7oDVw6XQVLL5aWwYjbfoQnMwcbj7HnL18nZ+KF+G7/yYmn7H/6R+QEik/58oEX34SNtdBYu+DEfa37tgIw6hO/csqaliYS0RZad7/OoMs/3LWfR/qKDwDfBH7odhARkVTSdiERERH5N8lRzR9KHzx6eu4511zldh7pPGMMnswcAGwiBok4GHPi8URLmMi21XgDl57y9Tn+mSdef+KannRsrBVrE9h4DIyHo0sfZ9CVd3TdB5G+6Pv+0uD1bocQEUkllSwiIiJyKpeY9Mx35V/6wStMWrrOYenlbCLOrj9+gR2/vINs/0yyRk0+8Vg49CLZ42fgyfK2+3oZQ8eSPmAYu//0JXKnXEHs8G4AMkcUpjy79Gke4K/+0uBEt4OIiKSKtguJiIjIW3gDxaOBT+Rf+qHpaTkDR7idR86e8aQx6uO/JBFpZN/TP6R1fz2Zw/wANG1YQt6Md3f4mgXXfvrEj/c99T0Krrubo9V/p3XfVrL9MxkwUwsUpF0G4xyEe2l9WUnY7TAiImdLK1lERETkBG+gOAf4vHfqVf7M4RPOczuPpJYnO4/ssdNp3rISgHjzMVp3v4638KJOXzMceolMXwAbjdB6YBvDPlBK0/pKEtFIqmJL33ce8JDbIUREUkEli4iIiAAnzmG5PWPouCm5U654p9t5JDXi4aMkIo0AJKItRLbVkjFkDADhjcvImXQRJj2zU9e28RjHVvyLgcXO4biQPOvFWojHUhFf+o/P+EuDHV9SJSLSw2i7kIiIiBx3hcnInpVffMuVxpOe4XYYSY144yEOBB8GmwCbwDvlSryTLgag6bUl5F/ywbc8v2V3iMba+Qy54YsA7PnL14ke3IGNRtjx67sYcsMXyZl4IQANK4PknTsbT0Y2GcMmAJZdj36enMJ34MnO69bPKX3Co/7S4PT6spIjbgcREeksY61G04uIiPR33kDxOOD+QVfcPjNzROEFbucRkX7rsfqykjvdDiEi0lnaLiQiItLPeQPFucDdWWOnD8oYPlEFi4i46aP+0uAH3A4hItJZKllERET6seQ5LHea9MzhA2a8+2pjjNuRRER+7y8NDnU7hIhIZ6hkERER6d+uBi4deNH/meTJyi1wO4yICDAc+K3bIUREOkMli4iISD/lDRT7gNuzRk2JZ44susztPCIibdziLw1+2O0QIiIdpZJFRESkH/IGij3AnXjS4nkzr7/BaJ+QiPQ8v/KXBke6HUJEpCNUsoiIiPRPlwPnDrzwxklpOQNHuB1GROQUCoD/djuEiEhHqGQRERHpZ7yB4iHAHRnDJrRkjTnnnW7nERE5jRJ/afATbocQEWkvlSwiIiL9SHKa0O0YYwZe+N7rjMeT5nYmEZEz+Im/NKiDuUWkV1DJIiIi0r+8A3jHgJnvGZuWO3is22FERNphCPBDt0OIiLSHShYREZF+whsoHgh8LH3QyOZs/4zZbucREemAT/tLg+e7HUJE5ExUsoiIiPQDyW1CHwKyBlxQcrnxpGe4nUlEpAM8ONOGNAlNRHo0lSwiIiL9w7nAlVljzyVj8Khz3A4jItIJlwF3uh1CROR0VLKIiIj0cd5AcS7wSWB/7rSr3+V2HhGRTjoAxN0OISJyOuluBxAREZEudyMw0Dv58pz0vIJxbocREemgGPAbYE59Wclht8OIiJyOShYREZE+zBsoHgW8G0/aTu+kSz7rdh4RkY6IRxpfScvOu6u+rOQ1t7OIiLSHShYREZE+KnnY7S1AS955757pyc4d4nYmEZH2SLQ0HWrauKyieXPNIWA3ZSVuRxIRaReVLCIiIn1XALjQk5W3K3v8jDvcDiMiciY2Hm2JvLG+qqF23iriMR/QAGiikIj0GipZRERE+iBvoNgDfBg4lnf+DZd50jNz3c4kIvJ2rLU2emD7qoaVz1XGGw/mAwXA34GKcKimxeV4IiLtppJFRESkbzofmJieP+JA1siiS90OIyLydmKNh7Y3rX1hfsuujTFgKLAUeDocqjnkcjQRkQ5TySIiItLHeAPFmcBHgAN5M6+/xnjSMtzOJCJyskRr89HmzS8vanqtqh4YDmwGHgqHara4m0xEpPNUsoiIiPQ9VwJDMn2TwhlDxs10O4yISFs2EY+27Ny4vGFV8GUbjQwDMnFGNL8SDtUkXI4nInJWVLKIiIj0Id5AcR7ORKE9udOuudEYowMjRaTHiB7asbZh1bwXYkf25OJsDXoGeD4cqml2OZqISEqoZBEREelbrgeyMoaO96YP8k1xO4yICEA8fHRX0/rKBZHta5qAIUAN8FQ4VLPPrUy+ytppwNQ918z8p1sZRKTvUckiIiLSR3gDxcOAG4BduVOvuk6rWETEbYloS2Nk68ryxrWLNgE+4Bjwa+D1cKjGupHJV1k7GPg+8Fkg7KusXbrnmpmulT0i0reoZBEREek7PgDE0/KGZGYM1VksIuIem0jEW/eEXmpY+Vx1oqVpCJAH/AF4MRyqibmRyVdZm4ZTrHwPZzUNwEDg/wKfdiOTiPQ9xlpXCmQRERFJIW+g2Af8GHhjYPEt78weM+0qtzOJSP8UPbJnU2PtguejB7dnAlnAAiAYDtU0upXJV1k721r7c2PMuad4OA6ct+eamRu6O5eI9D1aySIiItI3zAZiJjMnLcs36SK3w4hI/xOPNO4Pv7ZkQfOWFQeBAmA18LdwqGaXW5l8lbUTgYeA959mB2Ua8ADwvu7KJSJ9l1ayiIiI9HLeQHE+8CCwZ8D5JRfkTLzwBrcziUj/YWPR5sj21YsbaheswSZGAPuAx4D1Lp67kgd821r7ZWNMVjtfduWea2Yu68pcItL3aSWLiIhI73clYDCeeNaYaZe6HUZE+gdrE4novq0rjq0MLkmEjwwGBgOPA0vCoZqoG5l8lbUGuMta+yNjzMgOnv9dBlzRNclEpL/QShYREZFezBsozsFZCn8kd9rVgdypV93sdiYR6ftiDQe2NK5+fkHr3s0GyAEqgWfCoZqjbmXyVdZeaq19xBhzNlsm37PnmpnzUxZKRPodrWQRERHp3S4GsoGW7PEzL3M7jIj0bYmW8OFw6MWF4U3LdwFDgdeAJ8Khmm1uZfJV1o4GfgJ8JAWT628BVLKISKepZBEREemlvIHidOBG4EDOxHdMSPMOHOl2JhHpm2w81hrZsX5Jw6p5rxKPjgAM8AhQGw7VJNzI5KuszQa+Zq39hjEm9ywvtwq4f881M59NQTQR6cdUsoiIiPRe5+FM8NiWU3iRVrGISMpZa4kefKO2YeVzFfGGAwOBIcBTQHk4VBNxK5evsvZWa+1PjDHjz2b1im2J1Jms7K8Bc/dcM1PnKIjIWVPJIiIi0gt5A8UGeD9wNH3wqPy0AUMnuZ1JRPqWeOPhNxrXvTC/ZedrUZxyZRnwdDhUc9CtTL7K2pk4K2iuOptyJdFwbH/Li0tebKlaVA/Mi1RXqWARkZRQySIiItI7TQbGA/XewCVn9c2GiEhbidbIsea6VxY1bajcCgwHdgE/D4dqNruVyVdZOwz4obX2k8YYT2evk2hsONi64sWqSPn8dSQSBTirAccBoVRlFZH+TSWLiIhI71QCNAFkDp84w+UsItIH2EQ81rJr0/KGVcGXbGvzcCAL+C3wSjhUE3cjk6+yNgP4orX2O8aY/M4WyommpsOtr75YFXlh3hri8cE4JXUd8BvAtfJIRPoelSwiIiK9jDdQPAY4F9iePX7GOE+Wt8DtTCLSu0UP7VzfUDt/UezwLi8wDHgOWBAO1YTdyuSrrC2x1j5kjCnqdLkSDh9pXVWzJPL8c6uJxfJxypWtwO+BDdomJCKpppJFRESk97kEiAM2e/xMrWIRkU6Lh4/tbtpQuSCybXUDztaZV4B/hEM1e93K5KusnQI8BNzQ2XLFNoePtdauWNK88F+riEYH4mwJ2g78AVgfqa5yZSJSKpRXFBYBY2bPqqtwO4uI/DuVLCIiIr2IN1CcAVwN7DcZ2ekZBaPPcTmSiPRCiVhrU2TryorGtYtew9oRQCPO1qBN4VCNK6s7fJW1g4A51trPG2M69X2KjTQ3tK5+dWnzgmdW0tqah7Ny5Q3gj8DaXl6uFALfBW4HdpRXFAZmz6qLuhxLRE6ikkVERKR3mQzkAge8RZdON2npWW4HEpHewyYS8da9m2saVj63LBFpHAoMwCkglodDNTE3Mvkqa9OA/7DW/sAYM7Qzq1dsS6Sxdc3KZc0LnnmVSMQLjAX2AD8H1kSqq1w5UyYVyisKxwPfAe7ize/fxgMfA/7bpVgi8jZUsoiIiPQuVwHNAFmjps50OYuI9CKxo3s9+sMHAAAgAElEQVRfb6hdsDB6YFsGztSghUAwHKppcCuTr7L2amvtI8aY8zpVrrS2hFvXrloWmT/3FdvcnAOMAfYBvwRqe3m5Mhb4FvAJIOMUT/lmeUXhn7SaRaRnUckiIiLSS3gDxQOAC4Bd6YN8A9MGDJngdiYR6fkSkcYDTZuWLWje/PJ+YAiwFngiHKrZ6VYmX2WtH3gQuKlz5Uprc3T96uXN855+2YabsnDKlQM4W55ejVRXubIqJxXKKwpHAd8EPoUz4ent+IE7gUe7IZaItJNKFhERkd5jBpAGJLyBS84znT0RUkT6BRuLRiLb1yxuWL1gNYm4D+fA7AeBtS6eu5ILfNNa+1VjTHZHX2+jrZHohrUvNs+b+5JtPJYBjAIO40wLWhGpruq1qzrKKwpHAPcBnwHa+2tzT3lF4f+bPatOU5JEegiVLCIiIr2AN1BsgHcBRwAyhxdqq5CInJK11kb31796bOVzixNNhwcBg4G/AovDoZpWNzL5KmsN8FFr7Y+NMaM62hHbaLQlunHdS83z5r5ojx1JA0bi/Hn4KFDTy8uVocA3gP8EvB18+VTgemB+qnOJSOeoZBEREekdRuGMIN2WNfbc0Z7s3CFuBxKRnifWcHBr45rnF7TuCVlgGFAJPBMO1RxxK5OvsrYYeAQo7nC5Eou1RjdtqGme93S1PXLIAD7gGM5hvS9FqqtcKY1SobyisAD4GnA3kHcWl/oKKllEegyVLCIiIr3DxThL/ckeO11jm0XkLRIt4cPh0EvPhzct24FTrmwC/hoO1dS7lclXWTsKKLPW3tHR7Y02FovGQhtfbp739PLEoQMWOD5m+s9AdaS6qqULIneL8orCQcA9wJdwpjudrXeVVxSeO3tW3boUXEtEzpJKFhERkR7OGyhOB2bhHOpIRsGoye4mEpGewsZjrS07NyxtWDVvhY21jsA5t+kXwKpwqCbhRiZfZW0WcI+19j5jTF5H+hUbj8dimze+0jx/7vLE/n1xnHKlCXgcWB6prop0TequV15ROBBn1clXgPwUX/4rwCdTfE0R6QSVLCIiIj1fEc5S8oMZwycO9WTlFrgdSETcZa0lemjH6oaVwfL4sX0DgKHAP4EXwqEa14oIX2XtzdbanxpjJnSwXInHtry+onne3GWJfXuiOOVKBOcsmWWR6qrmLorc5corCvOAL+KsXumqP79vL68ovG/2rLp9XXR9EWknlSwiIiI93xU432yQPW66VrGI9HPxpiM7GteVL2jZsT6CM5L5ReCf4VDNAbcy+SprzwN+DlzToXIlEY/HtmxeGVnwzNL47p0tOGeutAL/AKoi1VXhLgncDcorCr045618DacE60pZwOeA73Xx+4jIGRhrNe1LRESkp/IGijOBXwH7gNiQ677wibS8wWNdjiUiLkhEIw3NdSteaFpfsRlnpcdW4C/hUE3IrUy+ytqhwA+stf9hjElr7+tsIpGI19fVNi/415L4zu3NOOVKFHgWqIxUVzV1UeQuV15RmINTeHwDGN6Nb70PGDd7Vl2vPa9GpC/QShYREZGerRDnjIVYWt4Qryd30Bi3A4lI97KJeKxl9+vVDSuDL9nW8DCcMb+/A14Oh2ribmTyVdamA3dba+83xgxq7+oVm0gk4tu3rmle+GxVfPvWJpxyJReYi1OuNHRd6q5VXlGYBXwGKMUZMd3dhgMfwjkcWERcopJFRESkZ5tBcqpQvOlQ87FXnn40a9SUooyCMQFPzoCRHR2HKiK9S/Twrg0NtfMXxQ7tzMaZGhQEFoRDNa6t9PBV1l5nrX3YGDO1A+WKje/YtrZ54bNV8fq6Bt4sV4LAC5HqqmNdGLlLlVcUZuIcOvtNwO0i/BOoZBFxlbYLiYiI9FDeQLEHeBhoJnkmS1tpA4fn5YyfEcgY5g+kDxxWaNLSM7s9pIh0iXjzsb1NG6rmR+pXHQUGA68CT4ZDNXvcyuSrrC0CHgJK2vsaa62N79y+PvJ8sCpWt+kITrkCsABYFKmuOtoFUbtFeUVhOvBx4FvAeJfjHGeBSbNn1W1xO4hIf6WVLCIiIj3XGGAAcPhUD8aP7WtsXLtoFbDKpGWkZY+fMS7TFwhkDB5V5MnOHdKtSUUkJWysNdxcX1vRuGbheqz14ZSs/wW8Fg7VuPK3o77K2nzgu9baLxhjMtrzGmst8V07NkReCC6Ovf7aIZztMz5gEfB8pLrqlH+u9QblFYVpwJ3At4GJLsc5mQE+BnzX5Rwi/ZZWsoiIiPRQ3kDxu4FPAXVAhw4yzBgybnD2uOmBjKHjitLyhviNx9PuAylFpPtZm0i07q17uWHlc0sTzQ1DcA6B/TuwLByqibqRyVdZ6wE+aa39v8aYdh/gGtu9Y2PkhfmLYxvXHcApVwzwAk65crCL4na58opCD/ARnAIj4HKc09kOTJg9qy7hdhCR/kgli4iISA/lDRSPAN4FXAzkJe8+ChzDWRLeLiYzJyPHf/6EzBGFRemDRgY8mdkDU59WRDordnTf5obVCxdE929NA3KA54FgOFTj2jklvsraq6y1jxhjZrb3NfE9u16PVCxYHF2/eh/OqpU0oBKYH6mucm289NlKliu3AvcDU1yO017vnj2rbpHbIUT6I5UsIiIiPVzybJZROF/cX8Kby9NbgEM4f+Pdbpkji0Zkj54WyBgyJuDJHTzW6PRcEVckIk0HmzYtW9C8uWYfMARYBzwRDtXsSPV7GWOuBx7BKT7+YK0tO+nxccD/kJExzDNk2JiBXyzNz7rkSlrX1dLw8x9BRgb53/4x6aPHkWhs4Oj3v8GgB36NMYb43t2bI5ULK6NrV+3BKVcygMU45cq+VH+W7lJeUWiAm3HKlXNdjtNRT8yeVfcRt0OI9EcqWURERHoZb6B4AM5S9QuSt6zkQ4eBxo5cy+PNz87xnz8pc/jEQHr+8EkmPdOb2rQicjIbj0Yi29dVNayev5p4bARwAHgMWNMV564YY9KA13FWxu0AXgE+bK3dcOI5GZmP5rz3Jt+AL3zjmvi2LTmH7/sCw56Yx5Hv3kPep79IfM9uWl9ZzoDP3UPDbx8k67J3kjZq7NZI1aLK6KpXdgIjgExgKRCMVFftTfXn6E7lFYUfAObgTHjrjSLAyNmz6o64HUSkv9HBtyIiIr1MOFTTAKwEVnoDxWk4Uy2mAcW8OeGiCad0iZ/uWonw0UjThsXrmjYsXocxJnvsuaMzR00JZBSMLkrLGeg73WtFpGOstTZ6YNvKhpXPLY43HsrHmRr0BLA4HKrp0LlLHXQxsNlauwXAGPM34P3ABgBfZe3t2bOu/1DasBG5xhgSTY2kDRnmvDI9HdvSgm1phrR0YjvfIFa/JZw2YtST4Scf246zcmUcUA08G6mu2t2Fn6PLlVcUvhenXLnQ5ShnKxv4MPBbt4OI9DdaySIiItKHeAPFBTirXC4CzsPZGpDAKVzCHblWev6IAdnjZ0zKGDa+KH3AsIkaES3SebHGQ9sa1yya37p7UwLIBZYAT4dDNV0+ZccYcwtwvbX2U8mffxQoHlGx6k84W4guix/cz5Gv/yeJhmPYSDODf/Y7MoqmEd28iYaHfwhZWeR9+su7jv3wvlZP/uDnPPmDMnBW0b0M/CtSXbWzqz9HVyqvKLwe+B5OIdVXLJ89q+4Kt0OI9DcqWURERPoob6A4E5gATMc5y6Ug+VAjcASnfGmXEyOiRwaKMgaPCniyNCJapD0Src1HwptrFoVfW7IdGIazbeev4VDN1u7KYIz5IHDd8ZIlffS4u9MnTPrP/O8/OOX4mUxN/3gMrCX31jtpXb+aYz/7HkMefQrj8ZA4fGhnZHllZfPcv8cSRw5dkDZqbF1sS2i8bYlsIx7/nLW2124NKq8onI1TrlzudpYukABGz55Vt8ftICL9ibYLiYiI9FHhUE0rsAnY5A0U/xMYDkzG2VY0GfAAMeAgZxgRbePRePOWFVubt6zYCizMGDq+IHvsuYGMoeMCGhEt8u9sIhZt2blxWcPK4Ms21jIc5zDYXwMrwqGa7h6tuwMY66uszQK+kn3de+eYtLSstmdeN8+by+AHfg1A5jkzoLWV+Late6Mb15a3LKvcbK0dHt+z68aMomm/bF278hLi8dsBP/BF4Fvd/HnOWnlF4VXA94F3up2lC3mADwC/czuISH+ikkVERKQfSB6muTd5W+INFOcAk3AOdbwY59BKaOeI6OiBbYeiB7bVADUm05uRM+H8iZkjCgPpg3wBT4ZGREv/Za0ldmjnmoZVwfLY0b15wFDgaeCFcKim2aVYr5jsnBnRN+o3pftGj2+peoH8b/34LU9IG+GjdeXL5Fx/I61rVx2IHz6Y2/Dfj/zOGDMcGB+rr8siEf+Dycl5gHj8f3FWSSSAXnVYdnlF4WXAD4BZbmfpJjehkkWkW2m7kIiISD+XHBE9Gmd1y6U4W4yg0yOiJ4/IHjM1kFEwtsiTO2iMRkRLfxEPH9nZuK5yQcsba8NAPvAS8FQ4VLPfrUy+ytpzgJ+3vLT02obf/AziCbJveD95d3yKxj/+hvSiaWRffjWx+jqO/vg70fi+PWHb3BRJHzP+5bQRIw8B6xPHjs6Lrl/9K+Dd1tqoMeZK4DdAK86Uotfd+nztVV5ReDHOypXr3M7SzaLAiNmz6rr87B8RcahkERERkbfwBooH4qxyuRBnRHQmzsqWI3R4RPSgnBz/+YWZwycUJUdE56Q8sIjLEtGWxuYtr77QtO6FEM6qsG3A40CoK0Yyt4evsrYA+L619rPJEc5vK9HYcKD15eWLIxUL1mPtUCAP2Aj8E9gcqa7qtd8wlFcUXoBTrpS4ncVFd82eVfdnt0OI9BcqWURERORteQPF6TjjWc/BOTx3ZPKhMO0YEf0WxpjssdPHZI6aHMgoGB3QiGjp7WwiEW/d8/qLx1Y+V21bwkOBCM5I5hfDoZr2/7eRQr7K2nTgc9baOcaYgtM9N9HUeKj1lRcXR8rnrSORKAAGACHgKeD1Xl6uzMA50Pb9bmfpAZ6ZPavuA26HEOkvVLKIiIhIuyVHRBfhjIieztmPiA5kDPMH0gcM1Yho6VWiR3ZvbFg1//nYoR1ZOKu95gPzw6GaDq32SiVfZe211tqfG2POOd3zEuGmw62v1iyJLHpuNfH4IJytTVuAfwAbe3m5cg7wPWvtTdqqeEIzMGz2rLomt4OI9AcqWURERKRTkiOiJwLnkooR0f6Z4zN9gUDG4JFFnqzc0/4NvIhb4s0N+8Iblyxo3vLqYWAwsBJ4Mhyq2e1WJl9l7STgQeDG0z0v0Rw+2rry5SWR55+tJRYbCAzC2dr0D2B9Ly9XpgBzrLUfNMZ43M7TA31w9qy6p9wOIdIfqGQRERGRs+YNFBucsyiKcAqXyYDBOXTxEGcYEX2yjKHjC7LHTQ9kDBlXlJZXMF4josVtNtba3LxtdUXj6oXrsYnhwD7gz8AGF89dGQB8x1r7JWPM264Es5HmY62rXlnavPBfK4lGB+AUottxypV1keqq7h4pnTLlFYWTgPuttR9RuXJaf5o9q+7jbocQ6Q9UsoiIiEjKeQPFXqAQmImztSgP5/DcY7RjRHRbJis3M8c/c0LmiMKi5IjoAV2RWeRUrE0kWvdtfaVh5XNLE+GjBTjF4ZPA0nCopkOTt1LFV1nrAT5mrf2RMWbE2z3PRiKNrWteXdq84JlXaWnJxSlXduHkX9PLy5UJwHettR8908G+AsAbs2fVjXM7hEh/oJJFREREulSbEdFTcFa5nN2I6FGTfdmjpwUyhowJeLwaES1dJ3Zsf13j6oULWvdtSQNygBeAZ8OhmqNuZfJV1l5urX3EGHPh2z3HtkSaWteuWtY8f+4KIpEcYAiwB6dcWR2prnLlUN5UKK8oHAd8B7gLyHA5Tm9TNHtWXcjtECJ9nUoWERER6VbJEdEBnPHQZzUiOi13cE62f+akzOETAukDR0wy6RkaES1nLdHSdCj8evXC8Osv7gaGAhuAJ8Khmu1uZfJV1o4FfgLc9nbPsa0t4ei62uXN8+e+YsPhLJzs+3DKlVW9vFwZDXwL+CTOnxnScZ+bPavud26HEOnrVLKIiIiIa5IjoscD03BWuYzCKVw6MSLaY7LHnjsma9SUQHrBqKK0nIFvu41C5FRsPNYSeWPdkoba+SuJR0fgrLR6HKh18dyVHODr1tqvG2O8p3qObW1tjm5YU9087+mXbVNjJk65cgDnzJVXI9VVsW6MnFLlFYUjgfuATwNZLsfp7Z6aPavug26HEOnrVLKIiIhIj+ENFA/BWeVy8ojoQzhjSNstPd+XHBE9vih94NCJxpOurQVyStZaGz2wfVXDyucq440HBybvfhqoCIdqOnRocyr5Kmtvs9Y+YIw55VkaNhqNRF9b+1LzvLkv2Yaj6cAwnHLySWBFpLrKlTNjUqG8onA4UAp8Fmerlpy9g8Dw2bPqeu1ZPCK9gUoWERER6ZHajIiejrPKZXDyoQbgKB0ZEZ2emZY9fsb4TF+gKGPwqIAny6sR0QJArPHQ9qa1L8xv2bUxhnNA81Lg6XCo5pBbmXyVtRcAjwBXnOpxG422RDetr2meN/dFe/SwB6dcOYazcuXlSHVVa/elTa3yisKhwNeBzwOnXLkjZ+XC2bPqVrodQqQvU8kiIiIiPV6bEdGTgWLOdkT0MP+Q7LHnBjKGjguk5WpEdH+UaG0+2lz38qKmDVX1wHCgDvhLOFRT51YmX2XtCOCH1tqPn2ocsY3FWqOvb3g5Mm9udeLwQXByNwBPAS/18nKlALgX+AJO2SVd4+uzZ9X91O0QIn2ZShYRERHpdZIjoicBM4CLgVzOakT0+RMzRxQG0geN0IjoPs4m4tGWXRuXN6wMvmyjkeMlxV+AV8KhGle2UfgqazOBL1lrv22MGXjy4zYei8ZCG19pnjd3eeLg/gRO4dgE/C+wPFJd5dqWprNVXlGYD3wV+DLwb59dUm7h7Fl117sdQqQvU8kiIiIivVpyRPQYnBHRxbw5IjqCcz5FZ0dEF3m8g0ZrRHTfET20c13DquCi2JE9uTjn/TwHPB8O1YTdyuSrrH2ftfZBY0zg5MdsPB6L1W1a0Txv7rLE/r1xnJUrzTjnxSyLVFdFujtvqpRXFA7AKVa+CgxyOU5/0gjk61wWka6jkkVERKQ7zckfA+xkzlH9D7iLnDQi+kIgg7MaEX3+pMzhE4rSBw6fZNIzslMeWLpcPHx0d9OGxfMj21Y34nxD/zLwj3CoZp9bmXyVtVOBh4HrTn7MxuPx2NbQq83z5i5N7N0dxVm50gLMBZZEqqs6dAh0T1JeUZiLsyXoXmCIy3H6q3Nnz6pb73YIkb5KJYuIiEh3mpO/CeebvPlAEHieOUePuhuq72ozIvocnMNzfcmHOjcietz0sVmjJgfSB48OpOUM0IjoHi4RbWmMbF1Z3rh20SacomIH8BjwuosjmQcD37PWfs4Yk972MZuIx2Nb61ZFFjyzNL5rRwTn39dW4F9AVaS6qsmFyClRXlGYg3OY7ddxDuoV93xs9qy6/3E7hEhfddqS5dVXXx2enp7+B+Bc4N8O3xJxWQJYF4vFPnXhhRe69jdRIiLtNiffD2w96d4YsByncAky5+iG7o7VnyRHRBfhnONy/Oubzo2IHuQbmD1+RiBjqD+QPnCIRkT3IDaRiLfuCb3UsPK56kRL0xCcrWN/A14Mh2pibmTyVdamAZ+x1n7fGPOWFRw2kUjEt22pbV7wryXxHdvCOOVKDHgWWByprurQCqyepLyiMBtnDPM3eLPkFHf9evasurvdDiHSV522ZFm9evW/fD7f1GHDhh3zeDxa8iI9SiKRMPv378/fs2fPhhkzZtzodh4RkTOak/9p4PdneFY9MC95q2DO0V67LaCn8waKs3hzRHQxZz0ieqY/c2QgkDFoZJEnyzv4zK+SrhA9sndT4+r5z0cPbM8EsoAFQDAcqnGtqPBV1s6y1v7cGDO97f02kbDxN+rXNC98tiq+bUsjMBKnXAkCFZHqqgY38qZCeUVhJvBp4D5glMtx5K1enj2rrtjtECJ91ZlKli3Tp08/rIJFeqpEImHWrl07eMaMGRPdziIicrIbJ2dkAXfhbFF47Znbcn5mjLmpA5doBip5c5XLti6IKZwYEe3DGQ19MWc9InpCckT02KK0vILxxni0IriLxSON+8OvLVnQvGXFQaAAWA38LRyq2eVWJl9l7UTgZ8D/aXu/tdbG39i2LvL8s4tjWzcfwylXEjjbCF+IVFcd6/60qVFeUZgBfBL4JjDW5Thyai3AgNmz6jp0KLiItE/6GR73qGCRniz576e+cBWRnmoCcAUQTTOYljgl2Wf6P+9b5QDvSd5+zZz8DRwvXGA5c466su2hL0qez7E7eVvcZkT0+cA7cM7zAOfw3AbOMCI6un/rwej+rQeBlzzZeZnZ42dOzBxRWJQ+yBfwZGTlddkH6YdsLNoc2b56cUPtgjXYxAicM0x+Bqxz8dyVPOBb1tqvGGOyTmS1lvjO7esji+Ytjm3eeASn2PPyZrlyxI28qVBeUZgOfAz4FuB3NYycSRZwHvCq20FE+qKOfaknIiIiHTEN5xu+HVeNTxubnf7mN1tncb1pwNeAo8zJfx6ncJnPnKM6myqFkiN91wBrvIHix3BGRE/FOTx3fPJpEZxVLqctuxKRxtbwpmUbw5uWbQTIGj11ZNboqYGMgjEBjzdfI6I7ydpEIrpv64pjK4NVifCRApztXo8DS8OhmlY3Mvkqaw1wp7X2x8aYkcd/a621xHfteC1SPm9xbNOGgzjlykhgEbAwUl112I28qVBeUZgG3AF8Byh0OY6030WoZBHpEh0qWfylwQtT+eb1ZSX6D1tERPqyi3Am2HDR6LRUf/ORD3wwebPMyV/Bm6tcXtWI6NQJh2oSwPbkbaE3UJyPMyL6QpyVLh0aEd2y87XdLTtf2w0sScsr8GaPnzkpc/iEgEZEt1+s4cCWxtXPL2jdu9ngTKqpBP4VDtW4thLEV1l7ibX2F8aYi9r2ZvHdOzdFKuYvjm5Yux+nXBkFVAALItVVB12Ke9bKKwo9wIeB7+IcJi29y0XA79wOIdIX9fiVLGlpaRcGAoETh/7ddNNNh370ox/tufjiiyeHw2HPunXrXgNYsmSJ99577x37wgsvhMaNG3deXV3d2iFDhpwYy3jttdcW3nbbbYfC4bBnxYoVuX/+85+3H39s8uTJ04qKipqfffbZExMfbr75Zv9LL700IC8vL97S0uI5//zzGx966KGdEyZMOLF3cfny5TlXXHHFtKeeeip08803n3bv7PHPEY/HzaRJk5qffPLJ+gEDBiTa3j927NiWJ598cuvQoUPjACtWrMi+++67x+3ZsyfTWsutt9568IEHHtjt8Xj4xS9+MeT45/jqV7866vHHHx9aUFBw4m/S7rnnnt0PPvjgSIDt27dnDR8+PJqdnZ2YOnVq+Omnn65fuHBh3r333ju2sbHRA/D5z39+77333nvgbH6vRETkTTdOzijA+YZqG8CkAk9Xnh1lcL5gvgiYA+xlTn7bEdG99nyHnigcqjkKrABWJEdE+3FWGF0KjDv+NNoxIjreeCjctL5iTdN61rw5InpKIH3wqKK0nAHDu+5T9E6JlvDhcOjFheFNy3cBQ4HXgCfCoRrXzivyVdaOBh6w1n6k7aqk+N7doUjFgsroutq9OH8WjAYWA/Mj1VX73Ul79sr/P3t3HhZVwf0B/HtnZ4cBFEQERDbZxA0lNLcszSilRM00q7cyLSt/LZrlvFaomVa2aK+mKUoimhqaqQmhApIbhAgoiBswiOzMMMMs9/fHBUR2DR3A83me+zw53LlzGBNmzpwl1pUBl9yVgavuIl3TQEMHQEh31emTLGKxWJ+ZmdnsOsvi4mLBzp07zadOnVr/4tHc3Fw/YsSI8sjISMs333yzuPY8/pkzZ0z37NmTu3nz5jum/Z89e1bCsiySk5PNKioqeObm5vWbBD777LMbc+bMKdXr9fj00097jB492iMzMzNdIpGwABAREWE9cODAqsjISGlbSZaG30dISIjL6tWrbWUyWWHD26dMmeK8atUq25UrV8qrqqqYyZMn9/vmm2+uTZkypaKyspL35JNPuq5cudJ20aJFTX4xv/7664XLli0rbHjbf/7zn1IAGDp0qMeXX355feTIkUoAuHbtmuDFF190iY6OzgkODlYWFBQIxo0b59a7d2/NtGnTylv7PgghhLSbK2rndgh4YGyMmQe5urQnuNkILwLQQGZRtyL6d1oR3bFq1wFnA8g2dguMAWANrsrl7ldEs3pWdTX1mupq6jUARwWW9uYSJ383ka2TO9/MxoXh8R/aFdGsTlujupF+rPLc72eg0/QE97x+AyClttLogbOLS5EA+D+WZT9kGMakLr+iuynPUf11OE6TeqYAXHKlN4DjAA6oEuO7bFtfbXJlMrjkim/rZ5MuwP1orCszdkwOVT0S0sE6fZKlNfPnzy9csWJFr4ZJFgCYNm1ayY8//tijLsmyfft2y5EjR1aYmZk1+SW8ZcsW6dSpU4szMzONfvnlF8vXXnutpPE5PB4PS5cuvRkTE2O1a9cui5kzZ5bp9Xrs37/f6tChQxdHjx7toVQqGWNj43b9kAoODq76559/jBrfPmzYMEXd7Rs2bLAePHhw1ZQpUyoAwMzMTL9u3bprY8eO9WguyXI3Vq9e3SMsLKw4ODhYCQD29vba8PDwG8uWLetFSRZCCOkwA1C7kca/J89GwGMM9QZZCGBU7bEKMotccOuhDwCIg6xcZaC4up3aIau3ao+kBiui/cCtiLatPbUSXGtRq68btGUFFVVlBWcAnGEEIr7EeYCzyM7NXWhp7/awrIhmWRaa4usplecOxOoqiszBJbF2ATiqvJRssP937eJSnmNZ9guGYZzrkytFhVdU8X/GaqS6XfUAACAASURBVM79nQcu0dkbQAK45IrcULF2hKOxriHgkisBBg6FdBxjcP+PXjd0IIR0N50+yaJWq3menp796/68cOHCgroKjREjRlTFxMRYxsTEmFlYWNSX44aGhla8+eabznK5nG9nZ6eLjo6Wzps3r9lPDvbt2yc9fPjwxfPnz1d/9913PZpLstTx8/NTZmRkSADgyJEjpo6Ojmpvb291YGBgZXR0tMXs2bPb7APWaDQ4dOiQ+fjx4+9IDGm1WsTFxZm9/PLLtwAgPT1dMnDgQGXDc7y9vdVKpZJXUlLSZJvO+vXre+7cudMaACwsLLTJyckXW4ohIyPDaNasWXf0AAcHByuzs7ObJH4IIYTcvRAPIR/cm5ESAPDuwbc3bER3cAEwr/aohswiFrdXRF9r9Z7krigvJavBtbNkGLsF7gRX1eAJLuHihtsroovBDUhuEaut0VVn/51Tnf13DoCDQlsXa0kfH3ehdR83vqlVt1wRrVOUXq86f/QP9Y0LanCtQQkAdisvJRtsjoldXIo/uAqaR+uTK7du3lAfj/2z5nTSNXB/x44AkgDsVyXGG2x9dEc4Gus6EcB/wW3YIt2POyjJQkiH6/RJltbahQBg8eLFBeHh4fYrV668UXebRCJhH3vssbKIiAirmTNnlmVkZBhPnjy5STtPfHy8sVQq1bq7u9f07du3Zu7cuc5FRUV8W1vbZvunWfb2B07btm2TPvvssyUAVzmzbds269aSLA2TRYGBgZULFiy41fD2vLw8kY+Pj/KZZ56pqH2sFpcNNHd7c+1CLWFZFgzDNPn0jJYbEEJIh7EHIAH3BhoulrzOlGRpyAjAk7UHILNIR11bEa2I7lCNVkTHGbsFmoBbET0A3BtYY3BJl7tZEZ0EIIknMRVJnANcRT37ugksuv6KaL1GVVGdc+pPRXrcZQA9AOQB+EZ5KTnbUDHZxaXYAvicZdmXGYbhAYDu1k25OjH+SE3yiVxwlStOAP4G8JsqMf5GK5fr9I7Guo4Hl1wZZuhYyH3lAeCooYMgpLvp9EmWtoSEhFTKZDKHEydOmDS8fcaMGSXh4eH2LMsy48ePLxOLxU1erEREREgvX74scXBw8AUAhULBj4iIsHr33XebHQCblpZmPG7cOLlWq8XBgwetjhw5YrlmzRp7lmVRVlYmKC0t5VlZWTXbF9xSsqju9uLiYv748eP7rVixoseSJUtuent7Vx8/fvyOF0kXLlwQGRsb61t6jPby8vKqPnXqlMnzzz9f3xqUkJBg7Orq2nqvOCGEkPa6I6nSy4zprEmWxrxrj/cBlDVaEd1lB3V2RspLyQoAqQBSa1dEO4Krcrm3FdGZxzOUmcczgDtWRLvzjC16dZUV0axep1XnZyVUnjtwkq2p7gEuUbkOwCnlpeRWBwjfL3ZxKUIAb7Is+wnDMBYMw0BXXFSkTjp+pCYpPhtcEsgJ3CDk31SJ8V26GuxorOtoAMsABBs6FvJAeBg6AEK6o7tKsnTWlcsffPBBwdtvv93H0dGxvtR20qRJla+++qrLxo0bbdesWdOkDE6n02H//v3Sc+fOpddtDIqJiTELDw+3b5xk0ev1CA8P71FUVCQMDQ2t2Ldvn7mnp6fyxIkTl+rOmTJlinNkZKTlvHnzWmw3ao21tbVu7dq115599tl+7733XtGrr75avGbNGvu9e/eaPfPMM5VVVVXMvHnz+rz55pv/uqd34cKFRcOGDfOcOnVqaVBQULVcLucvXry49+LFi7t0SSshhHQifVH7xpgBYP1gh952FEsAU2sPfYMV0b+DVkR3qNrBrVdrj4YrogeDq3SpWxFdCkDR1vXuXBFtbSxxHtBPZOvsLrDo4crwO+eKaE1pfnrlud+PaEvzjcHNrtkP4A/lpWRlG3e9b+ziUiayLLuGYRgPhmGgK7lVXHPyeKw64a+M2hidAKQA2KtKjL9iqDg7wtFY12AAn4Kb3UQeHrR6m5D7oNNXsjSeyTJmzJjyH374Ia/hOWFhYeXLli2741MePp+PiRMnlh44cMBqwoQJlY2ve/DgQbOePXvWNFzJPGHChMqXXnrJ5erVq0IAWLJkSe8VK1bYq1QqXkBAgCI2NjZLIpGwkZGR0pCQkDtag0JDQ0t//PHHHveaZAGARx55pNrLy6t648aNVvPmzSv59ddfs+fPn9/n7bffFur1ejz33HPFixYtugkAWq2WEYvF9RUtDWeyAMC+ffuyPTw8mu3vdnJy0mzatCn31VdfdVYoFDyWZZm5c+cWzpgxg4beEkJIx3AHUAUA3j14UhGfERs4nn+LB25bzlBwLQTyBiuij9CK6I7Vwopob3BVLnUrohXgWovaWBFdrFScP/qPAnUrov0cxb083AXSXm58ieFXROuqK+SK9L8Oqq6mVAKQAjgFIFp5KbldLdD3g11cigeArwBMYBgG+tKSUvXJYyfUCX+dBcvWJVfSAOwBkKtKjO+yCcejsa7DwCVXxhk6FmIQVMlCyH3ANJwz0lhqauoVf3//ZltniGG9/PLLjm5ubqoPP/zwoS/fTk1NtfH393c2dByEEAIAIR5CAbgWhwIA+hm+Qu9pPsJnDRzW/aQBcAK3V0RnGDiebsvYLZABt13HHVzCyxtcAkwHrsrlrtp+BVa9LCR9/NxEtk5uD3pFtF5bo1Dlno2tSjuSAZbtCSAfQASAzNr5NQ+cXVyKJYClLMvOYxhGqC8vLVMnHftbfSLuJFjWGoAZgHQAvwLI6eLJlSHg2oKeMHQsxKD0AIzHjslRGzoQQrqTTl/JQpoaOXKkm0ajYb744gtq7yGEkM6nB7g3vnoA6GvVZeax3CshgNG1x5e1K6Lr2opoRXQHarQiOrF2RbQrAF/cy4ro0vzyqtL80wBOM0KxQOI0wFls189NYNXLnScysrwf3wPL6vU18pzkyrMxx/WqKhtwiYufAZxQXko2yKBlu7gUHoD/sCz7KcMwtmxlRZkqMT5FnRB3Anq9JbjKlSwAuwFc6uLJlQHgkitPGToW0inwwP0MaXHJCCHk7lGSpQPJ5XL+qFGjmpTd/fXXX1l2dnYdNrDt2LFjl9o+ixBCiIHYgxvFAgDoZdZpNwvdLy4A5tceykYromlVaAeqXRF9AcCF2hXR9uDK/+9+RbRGra3OTs6uzk7OBnBQ1KOvjdjRx01o7ejON7Xq0xErorXlhRcrUw8d1hRdEYBLRh4CcEB5KblJW/eDYheX8ijLst8wDOPPKhWlqoS/jquPxyZBrzMCN4w4G8D3ALK6eHLFF8B/WZZ9pqsMQiYPTG9QkoWQDkVJlg5kZ2ena23dNCGEkIeCMxrMybAx7vaVLK0xBjCp9gBkFudRl3ABEiErN8jGmO6otsolv/ZouCI6ANwAXSPcxYrompuXb9XcvHwLQBJPYiaWOA/oK+rp6i6w6NnvbldE61VVtxRZJ/6ozv67CFy7UxqAX5SXkvPauOt9YxeX4gzgSwChUKmKqxPjEtXxf56GTgdw65hzAawHkNHFkyv9AchYln2W4Rg6JNL5PMy/owi5LyjJQgghhHQsD9QOvXW35llIBIyRgePpTHxqjw/ArYg+BC7h8getiO5YjVZEbwVXleGFO4fntnNFdKW66Yro/u5Cawc3npGFQ0tv3FmdRqW6lvZXZcrBVOh1duCSj6sBpBlw7ooJgEUsyy6EpqZKnRCfqPrrUDq02moAFuA2PG0AcEGVGK9v9WKd2NFYV3dwyZUwhmF4lFwhraAkCyEdjJIshBBCSAcJ8RDywVWyFAKAf8+HrlXoblgCCKs99JBZnMLtWS5naUV0x2m0IvoPY7dAS3DtRIPw71ZEx/PNrE0kTgP6iXq4uAnMbfsxfKGYZVlWU3TlTOXZA3/pFCVW4LYGRQL4S3kpudW2pfvFLi6FATCTZdnl0OlE6pPHklVHfr8CraYS3FyYmwB+AnC+iydXXAF8wrLs8wzD8Cm5QtrBztABENLdUJKFEEII6Tg2APiobRdylVKSpZ144OaIBIIbylnQaEW0wWZ2dEfKS8ll4FYlnzJ2CxTi36yIrixWKM4fTVUAqeDxeZI+fo56VVV1jfwSC24Q718A9ikvJZfen++mbXZxKUMBfMPqdK41Z5LPVP++5xY0NQoAEnCtUz8B+KeLJ1ecAXzMsuwshmEElFwhd4F+TxHSwe4uySKzGNShjy4rP9Oe07Zu3Wo5e/Zs17Nnz6ZrNBpm1qxZLgBQUFAgMjU11ZmZmemkUql28+bNV/z9/X2cnZ3rNxnMnz+/cP78+cUODg6+Pj4+ykOHDuUAwObNm632799vsXv37itr1661Xrp0aW87OzuNUqnkOTo6qpcuXZr/2GOPKQAgNDTUedKkSeVz5swpHTp0qMfNmzeFIpFIr9FomBEjRlSuWbMmz8bGRtdcvAEBAbRVgRBCHh53vFh1ePiG3nYUewAv1R4ayCyO4/aK6EyDRtbNKC8lawBcAnDJ2C1wH7hEoRuaroguAdde1DK9Tq+6cq4YXHIlC0Ck8lLylfsWfBvs4lLsAaxg9fonNBf+Oab8NTIHanVda1Q5uLagFFVifJedDXQ01tURwBIAcwAIKblC7gH9niKkg3WJSpYdO3ZIBw4cWBURESFds2ZNft1w2YbJDwDIysoSOTo6qlsaPpuWlmZ8+vRpyeDBg5u8SHjqqadKt27deg0AYmJizKZPn97v8OHDWQMHDmxy7tatWy+PHDlSqVKpmDfffNNhwoQJ/U6dOpXVXLwBAQG0ZpkQQh4efdBgoKjUiLFt5VzSPkIAY2qP1ZBZ5IBrKapbEa02ZHDdSe2clKLaI9HYLVACoC+4FdHDwG0EAoAKcEmKhi1dQnBv1soBrAVwrrZN6YGzi0sRA3iXZdnXtLnZccrInw6y1dUicMmiIgA7AZxTJcYbZGV0Rzga69oLwEcAXgEgMnA4pGujdiFCOti/Xsd3v5WXl/NOnz5tunnz5it79uyx+jfXmjdvXuGyZcvazNY+9dRTlTNnziz6/vvvW31xLJFI2HXr1t3Iz88XJSUlGXV0vIQQQrqc+qG3AGAshJkBY+muXAG8CeAggBLILH6DzOI1yCwcDRxXt6O8lKxSXkq+oLyUHAXgXXAVE9vAzRzqDS6paAegF7iNPL8CWKS8lHzGgAmWKSzLJujk+b0rli/Zr/jpO9PaBEsBgHUAFqkS40911QTL0VjXnkdjXb8GkAPgDVCChfx7VMlCSAfr9JUs27dvtxw1alS5n5+f2tLSUnfixAnj4OBgZUvnX79+Xezp6dm/7s9ff/31tSeeeKIKAGbNmlXy008/2Z4/f17c1uMOGjRIuWHDhjY/gRQIBPDy8lKeP39eMnz48Oq7jZcQQkj3EOIhZMB96l8MAHamjBGfx/ANG1W3ZwzgqdoDkFmk4fbwXFoR3YEarYiOrV0R7QZuRTQD4DflpeRbhorPLi7FF8B/9eWlVyt//PoAW17mC67S5hqAaACnVInxGkPF928djXW1BbeVay64/+8J6SimR2NdTceOyalq+1RCSHt0+iTLzp07pQsWLLgJAKGhoSURERHS1pIWrbULCQQCvPXWW/Jly5bZTZgwoaK1x2XZ9i81aHju3cZLCCGk27AG96myFgD6WPDMDRvOQ8m39vgQQGmjFdEGSwB0R7UrolNqD4Oxi0uxBvA+q6pmK9d/9ae+qHAUAE8AFwHsApCsSow3yEajjnA01tUawHsA5gMwMXA4pPuyRoMqTELIv9OpkyxyuZx/8uRJ84sXLxrNnz8fOp2OYRiGXbdu3Q0e7946nebOnVvy1Vdf2ffv37/V4W1nz541dnd3r27relqtFllZWcZ+fn759yNeQgghXYY1GsyosDNlqFXIsKwATKs99JBZ/A0u4XIAsvJzBo2M/Gt2cSkCALNZrbZH1U/fJeuu5U4C4A8gG8APAJJUifFddl7P0VhXKwALAbwFUNshue/oQwFCOlCnTrJERERYTZkypTgyMvJq3W1DhgzxOHz4sGldC9DdEovF7Ny5cwu/+eYbu6CgoGZXQh44cMB027ZttocPH85q7ut11Go1s2DBAgd7e/uawMDA6lWrVtl0dLyEEEK6DDNwbRMAAFtjSrJ0Ijxwg1uHAfgUMot8cDNdfgetiO5y7OJSRrAs66bc8XO25nyKJ7jNOtcArAKQqEqM77KbHY/GupoDeKf2sDBwOOThQb+vCOlAd7nCuX0rlztKdHS09fvvv1/Q8Lann366NCIiQtpS0qLxTJaZM2feWrJkyc2G5yxYsODWmjVr7hjyFBMTY+Xp6WmqUql4vXv3VkdGRmY3t1kIAGbNmtVXJBLpa2pqeCNGjKg4ePBg9r3GSwghpNswR4Mki5URJVk6sV4AXq49ahqtiG71AxZiOHZxKY4APKr//P2WOu6QFMBEALcAfAMgQZUY32YFcmd1NNbVFMACcNUrtDiBPGj0+4qQDsS0NnskNTX1ir+/P/Uwk04tNTXVxt/f39nQcRBCHm4hHsIwcGuGCwDgszHiSX49+YMMGxW5BzmoaysC4mlFtOHVrmTuVXPuFKvctW0YgCcBKAHsAXBMlRjfZWffHY11NQE3b+X/ANgYOJwuYdWqm0g+qYSlJR8bf+KWim3eXILEBCV4PMDSko/33reFjU3Tz5ILC7VYs7oIRUXccqnw5XawsxMiPPwmci/XYNgwY7z8ihQAsC2iFC59RXjkkYdiFM7UsWNyog0dBCHdRaduFyKEEEK6kB4A6gdsmoupkqWLcgU3B+MtAArILI7idpXLDYNG9hCyi0thalJO85XREU4AngPAB7ADwF+qxHiFYaO7d0djXY3ArWB+H9zPDtJOjz9uhmeetsDKlbcL1adOtcScOVxyZM+v5dgWUYq332m6JHTlypt4foYlBg02RnW1HgwDXM7h8qgbNvbG2wvyUVWlh1qtR2amGjNfeGiKimhjFSEdiJIshBBCSMewBlBf9WAqovLrbsAEQEjtAcgs/sHtFdFJtCL6/pIEPcqA2xQ0Ddy/rz8AxKkS47tsC/bRWFcxgNcALAJgZ+BwuiQ/PyPI5Xdu4zYxub1golqlb9C4edvVKzXQ6VgMGszlE4yMuPvwBQxq1Hro9Sy0WhZ8PvDzz6WY/eJDk2ABAImhAyCkO6EkCyGEENIxpADqB6gaC6mSpRvyqz0WASipXRH9O4CDkJUXGzSybkYS9GhPAFMA9ANwHMBRVWJ8lx1QfDTWVQTgFQCLATgYOJxuadNPJThypBImJjx8ubpXk6/fuKGBqQkfsqVyFMi1GDjQCK+8IoWTkwg9eggw9/U8jBtnirw8DcACbm5iA3wXBmNk6AAI6U4oyUIIIYT8SyEeQgG4wYElACDkgScR4KFo5H+ISQFMrz30kFkk43ZbEa2IvkeSoEeNAYwFEAjgDIBIVWJ8uWGjundHY12F4LYffQSgj4HD6dZeelmKl16WIjKyFPv2lmP2i9I7vq7TsUg7X43163ujZ08BPv20EIcPVWLCRHO8Me/2OJwlH8nx9js22L69FDk5NRg0yAhPPtntNxxTkoWQDsRr+xRCCCGEtMEMgL7uD30sGFMewzRTsE66KR6A4QA+A3AWMos8yCw2QGbxDGQWpgaOrauxAzd35UtVYvyerppgORrryj8a6zoHQBaAH0EJlgdm7FhTHD/edFyPja0A/fqJ0auXEHw+g0ceMcGlSzV3nJOQoIC7hxgqFYsruTX45JOe+PNIFVQqfZPrdTMPVdkOIfcbVbIQQggh/54ZgPp1fQ7mPGoVerj1Atca8gq4FdHHcLvK5aJBI+vkVInxlwFcNnQc9+porCsfwAwAn4BrdSIPwI0bGvTuLQQAJCYq4egoanKOh4cYVZV6lJXpYGnJR8q5ari7384taLUs9vxajs8+t+NahmrT5HqWm9XSzXX7LBIhD9JdJVl8t/h26CrKtNlpZ9pz3tatWy1nz57tevbs2fSAgABVVlaWyN/f38fZ2Vml0WgYPz8/xY4dO66KxWIWAA4dOmT6f//3f45VVVU8lmWZ1157rXDRokVFABAaGuo8adKk8jlz5pTWXd/Y2DhAqVSey8rKEk2aNMntzJkzGX369PHLyclJs7a2rh9qN27cONdp06aVvPLKK6UAMHbsWNfi4mJhSkpKZt057777bq9t27bZSKVSbXV1Nc/Dw6N6+fLleYMGDVLVnZOfny/o06eP3/Lly6+99957tCKbEEK6vjuSKj1NaB4LqScCMK72+Aoyi2zcHp5LK6K7iaOxrjwAYeCSK54GDqdb+/yzQqSmqlBersO0sKuYPdsKyX8rceO6BgzDoGdPAd5+m2v/ycpSY39MBRb+ny34fAavvSbFe/9XABYs3N3EmNigDWjfvgqMH28GiYSHvn1FAAu88sp1BA41hqkp31Df7oNCSRZCOlCXqGTZsWOHdODAgVURERHSgICAfABwdHRUZ2ZmXtBqtQgODnbftGmT1dy5c0uuXbsmePHFF12io6NzgoODlQUFBYJx48a5OTg4aGbNmlXWnsczNzfXjxgxojwyMtLyzTffLAaA4uJi/pkzZ0z37NmTCwC3bt3ip6enmxgbG+syMzNFnp6e9fWGr7/+euGyZcsKAWDDhg1Wjz/+uMc///yT3qtXLy0AbN261crf318RHR1tTUkWQgjpFszQoAXX2piSLKRF/QAsqD0UkFn8idtVLnkGjYz8G0+zLLucYRgnQwfS3X20pGeT2yZMbH5mioeHGB4et1c5DxpsjA0bm99WHBpqUf/fDMM0+zjdGG1KI6QDdfqZLOXl5bzTp0+bbt68+cqePXua7FITCAQYOHCgIi8vTwgAq1ev7hEWFlYcHBysBAB7e3tteHj4ja+++uqu1uRNmzatJDo6un5i1vbt2y1HjhxZYWZmpgeAiIgIq3HjxpVNnjy5ZMuWLdKWrvOf//yndMSIEeU//fRT/TnR0dHSL7/88rpcLhfm5uYK7yYuQgghnZJlwz8YCRjqbyftYQLgaQD/A3ADMosUyCw+h8ziEcgsuv1H593F8CAT8ZIl8tJPPimM2bOn/Eh+viZbr2e7fX8J6VaokoWQDtTpkyzbt2+3HDVqVLmfn5/a0tJSd+LEiTvSz0qlkjlz5ozJU089VQEAGRkZRoMHD1Y2PCc4OFiZnZ19V/vfQ0NDK86fP28sl8v5AJcYmT59eknd16Ojo6UzZ84smT17dsnu3btbTLIAQEBAgDIzM1MCANnZ2cJbt24JR48erQwJCSltLUFDCCGky+gJoL7tg8/r/L9fSafkD27F7wkAhZBZbIfM4nnILKwNHBdpxvAgE9HwIJMRAL4AMJtlUX3mTHXiDz8Ub1+/vvjr8+dV8SqVvsuunSYPFapkIaQDdfoXgTt37pROnz69FABCQ0NLIiIipABw/fp1saenZ39ra+sBDg4ONYGBgdUAwLIsGIZp8dOD5pY9NHebRCJhH3vssbKIiAirgoICQUZGhvHkyZMrah9bcPXqVfH48eOr/Pz81AKBgD116lSLSRy2wYcZW7ZskYaEhJQCwAsvvFCya9cuSrIQQkjXZ4MGSRYeA9osRP4ta3ADVLeBS7gkQGaxGDKLAQaOiwAYHmQSBGAlgJcA1AC4CqD+Q778fG3Fjh1lfy1ffvOrw4crdxQWarJZlqpbSKdFSRZCOlCnnskil8v5J0+eNL948aLR/PnzodPpGIZh2Hfeeedm3UyWq1evCh999FGP7du3Wzz//PPlXl5e1adOnTJ5/vnn61f+JSQkGPv6+ioBQCqVaktKSupLcAsLC/mWlpba5h5/xowZJeHh4fYsyzLjx48vqxusu2XLFmlFRQXf0dHRFwCqqqr4ERER0iFDhuQ3d52UlBTjQYMGKQFg9+7d0lu3bgl//fVXKQDcvHlTmJaWJvb19aXBd4QQ0nVZg3ujBQBgusCHGKRL4QMIqj0+h8wiD9zg3N8B/AlZeZUhg3tIPQFu3XQZgOqWTtLpwB47psg6dkyR5egotBwxwmSQq6soQCzmmTywSAlpG7ULEdKBOvWLwIiICKspU6YU5+fnp+Xl5aXJ5fJ/evfuXXPlypX6vWxOTk6aZcuW3Vi1apU9ACxcuLAoKirKOjEx0QjgEjWffPKJw0cffZQPAKNHj67cvXu3VKVSMQCwbt06m6CgoGZLOSdNmlR55coVycaNG21nzJhR3yq0a9cu6Z49ey7l5eWl5eXlpSUnJ1/Yu3dvsxUpP//8s+Xx48ctXnrppZLU1FSxUqnk37x585+6+86fP1++detWqmYhhJCuTYwGnwRSuxC5zxwA/AfAHgDFkFkchsxiAWQWtDL4wZEB+C+ANHB/H30AND9Rtdb165qyyMiyoytW3Fxz9GhldFGRNpeKW0gnQZUshHSgu6pkae/K5Y4SHR1t/f777xc0vO3pp58uDQ8Pt29428yZM8s+//zzXn/88YfpE088UbVp06bc1157zbmyspKfn58v+vbbb688+eSTVQAwffr08tOnTxv7+fl58Xg8ODk5qTdv3ny1ucfn8/mYOHFi6YEDB6wmTJhQCQBZWVmi/Px80ZgxYxR153l6etaYmprqYmNjTQBg/fr1PXfu3GldXV3Nc3d3rz506FBWr169tF9++WWPiRMnljZ8jGnTppXOmDGj76pVqwpACCGkq+IDqH+3RO1C5AESAXis9vgaMotL4LYVHQBwDLLymtbuTO5NUqJCDyATQObwIBMrAEMATADgBK6y5RZaqA7QaKCPi1NciItTXHBxEUkfecR4UN++ogEiEa/VJA0h9xElWQjpQExrGfTU1NQr/v7+XXrF8PLly203b95sm5CQkGVra0s/QLqh1NRUG39/f2dDx0EIeXiFeAjXAqgEoAGAj0eKxw9x4A83bFSEoApAwxXRzbY1k44xPMiED8ATwFgAdbNzitBKO1EdsZjhjxhh0t/XVzLI2lpAa6DJYL18mAAAIABJREFUg/bi2DE5WwwdBCHdRbdPspDuj5IshBBDC/EQfgegHLVJFtko8RMD7fmBho2KkCZSUJdwAU5CVk5zGO6T4UEm1gCGAXgcgBkABYBiNKh4a0m/fiKbRx4xGezsLPIXCpm72o5JyD16euyYnN8MHQQh3UWnHnxLCCGEdBF3tAsxoHYh0ikNqD0+AjfL5Q9wSZdDkJWXtHpPcleSEhXFAA4MDzI5BKA/gHEAfMG1EBUBULV03+zsmlvZ2TV/SCTMn6NGmfp4e4sHWVkJej+QwMnDqszQARDSnVCShRBCCPn3eLhzJgsNviWdnTWA52sPHWQWJ3G7rSjVoJE1Y9+SLfxzgly9TCbrUpNikxIVWgD/APhneJBJD3DVLeMB9ATXzlWCFqpbVCpW+8cflSl//FGZ4ukp7jl8uPFgJyeRn0DAiJo7n5B/obTtUwgh7UUvAgkhhJB/j5IspCvjA3gEQDiAFMgs3jdwPHdYHTbJ5OnPZuvG1PiI938UYf7l0hViQ8d0L5ISFTeTEhW/AXgHwDcAroPbStQb3IayFmVmqgs3by49sGpV0erEREVMebmOFiaQjkSVLIR0IKpkIYQQQv69xkkWahciXVUNgK2GDqIR/eqwSY8AMAIQ+1jfNyT7P4qwL+Mp9Nl8eZFMJutSs2WSEhUacPNxUoYHmdiBS3CNBff9VYKrbmmWQqGv+f33yrO//1551sdH0isw0HiQo6PQVyBghA8keNJdUZKFkA5Eg29Jl0eDbwkhhhTiIWQAbAZwpe62FePEz/S35fsbLChC7t1WyMpnGzIAX3dvSQ2j1WdlZd2xfnp12KQ+AF4Htx55c5jLB9Vp/Gv2NYxGdE5wJV8mk1UaJOAOMDzIRAzAB9ygXDcAWnCzW9pcwW1mxhOPGmXq5+UlHmxuzu9xfyMl3ZB27JgcStIR0oHuqpIlw9NrUEc+uFdmxpmOvB4hhBBiAAwazVTgU7sQ6bq+NnQARqzoWR6YZwa4+8RpoNuTfjEjHwAWRu2/BmDx6rBJwQD2ReWuzATwbZjLB+d76i2d9y352T2PV1J+k1dxuQtWt6gBnBkeZHIWQC9w1S1jwLURlaOVSoPKSr06JqbiVEwMTg0YIHEcMsR4UO/eQm8+n6GKddIe5YYOgJDuptO/COTz+YM8PT371x2LFy+2A4ChQ4d6+Pj4eNWdd+zYMeOhQ4d6VFRU8CwtLQcUFxfzG15n3Lhxrhs3brRau3at9axZs/o0/JqHh0f/p556yqXhbaGhoc4ODg6+Hh4e/Z2dnX0mT57snJube0eWNyEhwYhhmEG7d+82b+v7yMnJEY4dO9bVycnJx9HR0WfOnDmOKpWKAYD9+/ebmZmZDfDy8urv4uLi/eqrr94xQX7nzp3mPj4+Xn379vVu7ustxW9kZBRQWlpa/3c8Z84cR4ZhBhUUFAju5bndvXu3ed25xsbGAc7Ozj6enp79J0+e7AwAhw4dMvX19fVycXHxdnFx8f7yyy9t2npeCCGkG2DQaJsQQ+1CpGuKh6z8nCED8HawEyuUBcbCGu1eIStwEUHwk7+7z1e+7t7BHh4eQgBYGLX/BIBRAE4COByVuzIuIWfjwOxLu1JCaoZUDNL0HfbLkv8NlclkVob8Xu5FUqKCTUpU5CUlKnYCeBvAOnBDSZ0AOABoteIgJUV1fcOGkr1ffVW0+vRp5aGqKh1VpJO20NBbQjpYp0+yiMVifWZm5oW6Izw8XF73teLiYsHOnTvvSHCYm5vrR4wYUR4ZGWnZ4Dz+mTNnTMPCwppkas+ePSthWRbJyclmFRUVdzwfn3322Y2srKwLly9fPj9gwADl6NGjPeoSIwAQERFhPXDgwKrIyEhpa9+DXq/HM8880y8kJKTs6tWr53Nzc88rFAreggULHOrOGTx4cFVGRsaFtLS0C0eOHLE4fPiwCQCcOnVKsnDhwj4RERG5ly9fTr948WJ637591e2J39HRUf3LL79YAoBOp0NCQoJZjx49NPf63IaGhlbUnevj46PcunXr5czMzAt79uy5cu3aNcGLL77osm7duqu5ubnpiYmJWZs3b7bdsWOHRWvPDSGEdAN3zGMBaIUz6bIMXsUCrj3mVLWmzEOplIOtroyQ6AX5Igjek7DCX/zcfV7xcve0XRi1X78wav8mAB4A/gYQCSA3Knflyxezd14cofW6MLbG133vkp8nrFj6uadMJuty/yaTEhWqpETF3wCWAfgEQBwAG3DDclt9fVVWplft3VtxcsWKou/37i3/+caNmvN6Pau7/1GTLogScYR0sE6fZGnN/PnzC1esWNGr8e3Tpk0riY6Ork98bN++3XLkyJEVZmZmTUpHt2zZIp06dWrxyJEjK+oSEo3xeDwsXbr0po2NjWbXrl0WAJc42b9/v9XWrVuvHD9+3FypVLb4yzsmJsZMLBbrFyxYUAwAAoEA69evvx4VFWVTWVl5x9+Bqakp6+3tXX3t2jURAISHh9stXLiwICAgQAUAQqEQH374YVF74g8NDS3ZtWuXFAAOHDhgNmTIkCqBQNCu1YctPbctWb16dY+wsLDi4OBgJQDY29trw8PDb6xatcquvdcghJAuqkmSRa1re44CIZ3MZQC/GTqI9Dw5m54nPwfgMwBHNXrVmKpquU+NougPsZb5Q8wKgsQQbvdz91nl495/yP9SLikXRu1/H4A3gHPgNiRdj8pd+e3fOZs1g7WufzynHi4I0LpM/unjb0fJZLJWPxjrjGqrW64nJSoiwW0m2ghuQK4TuNaiVtuCTp+uvrp+fcnutWtvrTl3rvpPpVJPlQukoeuGDoCQ7qbTJ1nUajWvYUvLhg0b6ks/R4wYUSUSifQxMTFmDe8TGhpacf78eWO5XM4HgOjoaOn06dObndS+b98+6axZs0pnzJhREhUV1eovXj8/P2VGRoYEAI4cOWLq6Oio9vb2VgcGBlZGR0e3+IlCWlqakb+/v7LhbVKpVG9vb19z4cKFO1b2FRUV8XNzc8Xjx4+vBICsrCyjwMDAO+7b3vjd3d3VxcXFgqKiIn5kZKR0xowZdzwH9/LctiQjI8No8ODBd8QZHByszM7ONmrP/QkhpAtr8rtUqWFb/LlNSCe1FrLyTjPHJD1Prk7Pkx8E8D6AY3roxyjURROUSvl1gbpmkxEr1Igg+FzMCrf7unu/sOHcpZKFUfufBvAYgBwALwI4E5W78sTe3DU+2ZeiYx7XDMgZofEK3rlk4zSZTOZjwG/vniUlKpRJiYpEAEsB/BfACQA9wSVcWm1fv3VLp9y9uzxh+fKba/fvr4jIz9dk6PVsp/k7JwZzzdABENLddPqBWHUtLS19ffHixQXh4eH2K1euvFF3m0QiYR977LGyiIgIq5kzZ5ZlZGQYT548uaLxfePj442lUqnW3d29pm/fvjVz5851Lioq4tva2jZbTtlwE9O2bdukzz77bAnAVc5s27bNevbs2c0OJWNZFgzDNKkgqb0dAHD69GlTd3f3/leuXJHMmzdP3qdPH23Lz0r743/qqadKN23aJD179qzJ9u3brza8/708ty1p6Xus+/4IIaQba/KDrlINSrKQrqQCwCZDBpDh6TUCwCWvzAx5w9vT8+QlAH7ydrCLA/A8gKHV2nJvaMvlAp74ZxOxtIeGYSfzGGaWr7t3sg76nQPsLQMG2Vm/Bi4JEVR7FETlrlwP4Mcwlw8qfXSOw/Ys2Tz3Cq/oUjlPeVomk3WpFbZJiQoW3EazK8ODTHYDCAAwEVyypQbATQAtvJ4FTp5UXj55Unm5Rw+B6aOPmgS4u4sHGRnxqMX74URJFkI6WKevZGlLSEhIpVqt5p04ccKk4e0zZswo2bVrlzQiIsJq/PjxZWKxuEkCICIiQnr58mWJg4ODr5OTk69CoeBHRES0OCQtLS3NuH///tVarRYHDx60WrVqVS8HBwff9957r098fLxFwyGzDfn6+lanpKTcEV9JSQlPLpeLvLy81AA3k+XixYsXTp8+nb5lyxbbxMREIwBwd3dXJScnGzd33fbEP3v27NIVK1b0evTRRyv4fH5zl2lRS89tc7y8vKpPnTp1x3kJCQnGrq6u1Xf1oIQQ0vU0SbJUqKmShXQpmyArN/T642wACRmeXv2b+2J6nvwygM8BfAogD4C1Vq9+oqK6wE+lvBlrpMFmY1bUQwzB2rSCip83nbtckHqzdBCA78CtQ7YHl3S5FpW78n8HL3+rmPzZnHXP1QwvG6Zxf27Lxz/MkslkXXLtelKiQpGUqDgB4CNwbVbJ4L7fPgBMW7vvzZvaqujo8uPLl9/85uDBiki5XHNRr2fb1VpOug1KshDSwe6qkqWzrlz+4IMPCt5+++0+jo6O9T3wkyZNqnz11VddNm7caLtmzZomvYY6nQ779++Xnjt3Lt3FxUUDcLNTwsPD7d999907BkDp9XqEh4f3KCoqEoaGhlbs27fP3NPTU3nixIlLdedMmTLFOTIy0nLevHlN2pJCQkIqlyxZwvvuu++s58+fX6zVavHGG284Pvfcc7caz4nx8/NTL1iwoGD58uV2MTExuYsWLZI/99xzrmPGjKny8/NT63Q6fPrppz0//vjjwvbE7+bmVrN48eK8iRMn3tOLp+ae2+YsXLiwaNiwYZ5Tp04tDQoKqpbL5fzFixf3Xrx4cf69PC4hhHQhajRKtFSoWUowk65CD2CtoYPwyswoyPD0ugIgMcPTa4pXZkZs43PS8+R6AH97O9ilgWsLCgEAFnq/yppbQtTghrHA/LBEaOZTw9O+lpJXjrN5pccHO1g942Nr+RbDMOMBiMBVxDy/OmzSKXBJmK1hLh/0KNJWDN+5ZOPjl/jyNA2jPSGTyQydeLortdUtOQByhgeZRAMYBGAC2lHdoteDTUhQXkpIUF7q1UtgPnKk6cB+/UQDJRJeu9rGSZd2te1TCCF3o9NXsjSeG/LGG284ND4nLCysXCqV3tFew+fzMXHixNKysjLBhAkTmvySPHjwoFnPnj1r6hIUADBhwoTK7OxsydWrV4UAsGTJkt4eHh79XVxcfE6fPm0SGxubJZFI2MjISGlISMgdZaWhoaGlUVFR1s19DzweD3v37s3+9ddfrZycnHxcXFx8xGKxfu3atXnNnb9w4cKi5ORks8zMTFFgYGD1ypUrr0+fPr1v3759vd3d3b0LCgqE7Ym/znvvvXfL29tb3fhx7vW5bY6Tk5Nm06ZNua+++qqzi4uL97Bhw7xeeOGFWzNmzGiy0YkQQrqT37I0WnCJlvpywZJqqmQhXcY+yMpzO/qivlt8+7T29dFmZjajzcwaf9j3C7itOX9keHrNbum+6Xny6vQ8+W8AFgE4A0AMbhCsqVJb8WRFdV4PnbJ0q6lOtMuEFfum5FV8+HNKbkHGrfJlLMvmNLjUEABbwFW3vBZ7eV1CkNZj7QvqkRik6fvm95+smdOFq1sqkxIVf4F7jpaDe556gatuabVCOT9fW7FjR9lfy5ff/Orw4cqomze12SxL1S3dGFWyENLBmNZ+Zqampl7x9/entV6kU0tNTbXx9/d3NnQchJCHV4iHcBW4T4hVAODfk2f96RjJfMNGRUi7PApZ+bGOvqjvFt8EABPSZqc1mYkHAKPNzD4CoADwv7jKSiUAZHh6WQIoBFdtAgDLvDIzlrb2ON4OdgwANwAzwVVsFIL7t9gDAMOASTETWRdCIApWM1p/PaNXDu9jrXW1Mn2UYZjGrTRaAHsAfLswav/xGx8eD7zOuzU0my+3yuEVngODozKZrMsmUIcHmVgAGAyuusUa3M+rInDVTK3q00doGRxsMsjVVRQgFvPabCMnXYZi7JicVlvKCCF3j5IspMujJAshxNBCPIRLAFiB+zQddqaM0f+eMnrfsFER0qazkJUP6uiL+m7xHQkgHsCctNlpPzd3zmgzs7EA3gVwGsA3cZWVJQCQ4em1D7VtQLW2AnjFKzND0/Qqt3k72PEBDAMwA4AEQAG45IFt3Z+N+GZnJSKLfmpG+6hAxEqH97G26GVm5MYwTHOV3SngWokiw1w+sFJDMz5VcNUnhy/PVDDqkzKZ7Hx7n4/OZniQCQ+AO4Ax4FqKGAC3gLYHdguF4AUHm3j6+xsNtrbmu9CCgy4vc+yYHC9DB0FId0NJlg4kl8v5o0aN8mh8+19//ZVlZ2fXbA8s+fcoyUIIMbQQD+FbAPoBKAEAHgPm1zCjj3n0DoR0brMgK4/o6Iv6bvH9FcBkAIfTZqc93tw5o83MbAF8Aa7VrhrAmrjKyusZnl5hAHY0Oj0OwBSvzIw2NwB5O9iZgKvUmAhAA0AOgAW33tgKgFrACBPNxbaMlsc8bmbKeA9xtOotNRJLW7hkCYCNAH4Ic/mgAMCkbJ484CI/X5vPL00D8LtMJlO1FVdnNTzIxApAIIDHAViC+7soAvectcrFRSQNDjYe7OIiHiASMUb3N1JynxwaOybnCUMHQUh3Q0kW0uVRkoUQYmghHsLZ4D5FL6y7bedzRu9LBPTGg3RaBQCcIStvdbB9e5gHmDMA5gI44vS2kxbcpiAeuLadXmmz0242d7/RZmYfg2tb4YGrNvn6B4feV8D9O2rcwnABwESvzIx2Den0drCzBzAVwEAApQDqEjQicK1EfAZMmplQepUvMApysBU94WNv7mosFIhbuKQOQAy4VqLYGx8eH1IF1ahzglzny/zCdA2jOyqTybLaE1tnNDzIhA/AE8BYAAPAJVlugUu6tEosZvgjR5r09/GRDLa2FrQ6i4d0Ol+PHZPzjqGDIKS7uavtQoQQQghpVhmAO4aOq7VQSgSgJAvprH7oiARLLXcA48C9IffD7cUKfHCJju9auF8cgJfADd40BfD+G3k3fvq+l8M+hmGeb3RufwAnMzy9JrVn22V6nrzA28FuLQAvAC8AcAZX1aICcAMAw4LtV6Ep9oUGRao8U1lxidbJzcHkFWdrIzcBj9e4hYgP4BkAz6wOm5Re+z39EObygckIrdez6fzrb339yaqiMp4iDUCMTCbrqOf2gUhKVOgApANIHx5kYg0uafw4uISUAkAxWqhuUatZ3ZEjVWlHjlSlubmJbIOCTAY5O4v8hUJG8qDiJ/esy7a9EdKZUSUL6fKokoUQYmghHsJHAbyIBqsw//eU5CU7U56jwYIipGUqAI6QlXfIazzzAPO3APjyjHj83q/2DmUYxrzBl5PSZqcFNXe/0WZmFgC+AnAd3Bt4MQCH5ywsro02NfuohYdTAJjulZkR0974vB3shACCwSV8RADycecqY1NwFTUaPiNMcrV2MPZwMH/X1kzUt41LlwH4GcB3YS4fXAXwTDFTOfSM4LLZdV5xJsuw+2UyWU7rl+i8hgeZCMAltx4D4ANuxs1NcC1erZJIGMGoUaY+3t6SwVZW/CbbK0mnMWzsmJxkQwdBSHdDSRbS5VGShRBiaCEewiHg2iXqV2GunSCZ7mzJczdcVIS06CfIyl/piAuZB5jbgVsRfM1qpNXj5gPNA5s5zSVtdtqV5u4/2szs/8BtBSquvYnPB5xX93J4RtR0+08dPYAFXpkZLVXINMvbwc4cwJPgkgYqcAmDhoTgKjcEAJMxpI8Lz7WnxVvGYr59G5dmARwE8C2AQ2EuH/hroXsmVXClTyY/P6+aqTkH4DeZTKa9m3g7k+FBJj3AVbeMB7cCugrcvJo2Z7d4eop7Dh9uPNjJSeQnEDCits4nDwwLwHzsmJwqQwdCSHdzV+1C378e26ET6OetH9NmuSfDMINeeeWVwg0bNtwAgE8++aRnVVUVf82aNfnvvvtur23bttlIpdL6X1onTpzIsrGx0cXFxRl/8MEHjoWFhUITExNdjx49NF988UXe0KFD63tLPTw8+ru7u1fHxMTk1t0WGhrqfPLkSTNTU1OdWq3mBQQEVK1ZsybPxcWlfqp9QkKCUXBwcP9du3ZdCg0NbXY1ISGEkIdKNRq92VDUsF121Svp9r7uwGs9CkAHBjDxNGlpS8l0cImY5sQDeAO3kyw6HXA5U6XK8zMyarJMoBYPwLcZnl6uABZ6ZWa0uYIYANLz5BUAfvF2sDteG5NP7ePWvZbTAMgDwABsn1PXLpucuoZfRnv0kzhKLZ4X8BmLFi7NgBu0OxHAxajcld8DWBPm8oFwkNb1hXxeyeOnBDmP1Va17JTJZNdauE6nlZSouAngt+FBJgfBPW+PgWvF0oFLVrXYHpWZqS7MzFQfMDHhHRk1ysS3f3/JIAuLNhNX5P67SgkWQu6P5lbWdSoikYj9/fffrQoKCppNCL3++uuFmZmZF+oOGxsb3fXr1wUzZ850/fzzz29cvXr1/IULFzIWLVokz8rKqh9mdvbsWQnLskhOTjarqKi443n47LPPbmRlZV24fPny+QEDBihHjx7toVKp6jdEREREWA8cOLAqMjKypUn0hBBCHi5KNE6yaNpeh0qIAfwJWXmHzGEwDzA3BTeLpdB8sLkH35hv3sKp01u5zAVwb9T5DW5j/1FVJ7UjhLcB7Mrw9Lqr2UfpefIbAL4EsAZcVYwzuFal+scHN/T1KgB9XFa2UdSplD0FZZW/syzb6ippcPNpvgFwIyp35X+jclf+0UsvfePpmiGHZqpGOntoe3322dJlK2UyWYhMJuO3ca1OJylRoUlKVJxLSlR8AWARuAoeSwB9ALT6ulih0NccOFB5ZtWqov9FRZVtyM2tOafTtfl8kvsnzdABENJddfokC5/PZ2fNmlUUHh7es733+fLLL3tMnTq1+LHHHlPU3fb4449XvfDCC/Wr/7Zs2SKdOnVq8ciRIyt++eUXy+auw+PxsHTp0ps2NjaaXbt2WQCAXq/H/v37rbZu3Xrl+PHj5kqlktZzEkIIaZJQqVCz9Akh6Yw6soolEFxyRGPqbTqslfN8fbf4+jT3hbjKSgWAM+BmotRLUiqvKvX69lQLTwYQl+Hp1aOdMQMA0vPkbHqePBXAYgCR4BIEDmj62lgB4Jpaq8s7eD4rf19Kxr7iKmV6Ox7CDMA8ABeiclcejMpdqduXu+atEVqvlS+qR2N0jfdzZnrJOplM9oFMJut1N7F3FkmJCnlSomI3gHcAfA9uK5QTuOex1bagtDRV/k8/lfy2enXR6uRk5e8VFbpmN1CR+4qG3hJyn3T6JAsAvPfeezd//fVXaXFxcZOM//r163t6enr29/T07B8YGOgOABkZGUaDBg1q9RPEffv2SWfNmlU6Y8aMkqioqFYz735+fsqMjAwJABw5csTU0dFR7e3trQ4MDKyMjo5uqXSUEELIw0MJrmWg3rVyPc00I51NFoDfO+JC5gHmAgCTANwycjWyE1oKndq4y4xWvpYIboVzPRZATo26vW8CAwEkZXh6tdRe1KL0PHlNep78MIAPASSAq8iwbeZULYC8EoXywr6UC3F/ZV3+o0pd055/4wy41prfAFyKyl35RFTuyuWuers3w2oeyQhTB/k56qxX/Hfpf7+RyWRPyGSyLvfhXVKiQp2UqDgDIBzAEgB/gktaOYGrcmlRRYVeHRNTceqLL4rW7dpVtunatZp/dDq2y86u6WIoyULIfdIlkixSqVT/3HPPFa9YsaLJpxQN24WSk5MvNnd/Pz8/z759+3rPmTPHEQDi4+ONpVKp1t3dvSYkJKQiPT3duKioqMWSzYbDgbdt2yZ99tlnSwBg2rRpJTt27KCWIUIIIdVo9Ds1o0hfZKBYCGnJWsjK2xxU2k4+AKwAKM0HmbdWxVJnWitfywQ3D+WONehJCsXdtDP0BZdoGXkX96mXnicvTc+T/wxABm77kAu4rUONsQCKLxeVJO86nfZz6vWCxBqtTnUXMX4JIC8qd+XKqNyVR8xYoxce1wyImqMebT5U02+WmBVsqq1uaXcFd2eRlKhgkxIVeUmJiihwrVzrAJSCS7b0QqO/38ZSUlTX//e/kj1ff31rzenTykNVVbri1s4n/xolWQi5T7pEkgUAFi1aVBgZGWmjUCjajNnLy6v6zJkzxnV//ueffzI//vjj/IqKCj4ARERESC9fvixxcHDwdXJy8lUoFPyIiAirlq6XlpZm3L9//2qtVouDBw9arVq1qpeDg4Pve++91yc+Pt6itLS0yzyPhBBCOt5vWRoNuMGP9Qn7i8X6Mg3NGyCdRymALR1xIfMAcwZcFUuF0FpoKrYTN9sK1IiL7xbf4c19Ia6yUg0gCYBNw9tTVCp5hU53NxVhVgCOZHh6tVY106r0PPkVcEN614L799wHLSQH9CyrOHM178ies+e/vXKrNE3Psu0awAvAGMCrANKiclcejcpdKYnO/eIVP52T7AX1o6XPqIcMsdabrZYtlf0gk8nGdtHqFlVSouJvAMsALAXwF7gKIScArVaBl5bqqvfurTi5YkXRd3v3lm+5cUOTrtezutbuQ+6aEtw8JELIfdBlkgM9e/bUPfXUU6WRkZE2bZ27cOHCm1FRUdZHjhwxqbutLjmj0+mwf/9+6blz59Lz8vLS8vLy0n755Zfs6OjoJhUper0en332WY+ioiJhaGhoxb59+8w9PT2Vcrn8n7y8vLT8/Py0J554ojQyMrLVUkhCCCEPhTI0mEPAAihTsVTNQjqLDZCVK9o+rV2cAPQDUGIxzGIIw2PaO8C1tQG4J9FMMuOiut0tQ3VEALZleHotucv71UvPk+vT8+RnwA12/RVAT3CVGM0mOxQ1GmVsZs6vh9MvrSuuUl69y4cbBWAXgNyo3JWhUbkrw21Y8zmTa4aenK1+tHd/be85fJYXKZPJFspkMus2rtXp1Fa3XEtKVESCq27ZAG79c111S6ubTk+frr6yfn3xrrVrb605d676T6VSX3r/o34o/D12TA61ZRFynzANW2EaS01NveLv72/QnnJjY+MApVJ5DgCuX78ucHd39507d25hSyuc9+3bl+3h4VFz9OhRkw8//LB3YWH0dj/0AAAgAElEQVSh0NraWmtlZaWVyWT5FRUV/I8++sghNTU1s+4+Wq0W9vb2fqdPn8549913HepWOKtUKl5AQIBi9erVN1xdXTWhoaHOgYGBivfff7/+RfP27dstfvzxxx7Hjh279GCfGVInNTXVxt/f39nQcRBCHm4hHsJ54Faa1v/eXDFO/Ex/W76/4aIiBAA3T6QvZOXXO+Ji5gHm/wEwmBExRb1f6f0OT8QzbvNOnEIADmmz05pUJYw2MxOAG8pbCUBdd7ubSCx9x9b2zXsM9ScAr3tlZtzTm8nvX4+VAuj/Q8yMTABTAATVxtdqG4t3r55ufr3tnjASCe+lpVwFYAeAb8NcPjgHbnvTy9d5t4QJwixNFaOqABAhk8mO38O1O4XhQSYMuCTLSAAjwCVaSnF7lXaLGAYIDDTuO3Cg0WA7O4EHj8d0mQ+MO5nwsWNyPjJ0EIR0V50+yUJIWyjJQgjpDEI8hE8AeA5A/RvZBYGioLF9BY8ZLipCAABRkJW3NhOl3cwDzKXg5orcsBpp5W8+0DzkLi8xPm122pHmvjDazCwMXFIhr+Htn/W0+49UILjXDTxHADzrlZnRnk1FTXz/eqwjuKG4G3+ImVEJYCa4eS2FaGarWB0+j+EN79tnaF9b60cFfJ6kpfPakIj/Z+/Mw6Iq2z/+PbOwz7AKsoOgzKCIIG64Q24lWFparm2WS+mbS/ZWv9eTlUpq9bpbqQGJgpqK9mpZWmpD7uIIM6jIjsi+DcOs5/fHEWIZcGEQyOdzXV5Xneec59znADPn+Z77/t7AJgAHp3mvcAewQAl14J98+b0sTpEVQ+EUgBiapstbn6bzMiTU0hJAfwDjATiDLbssBNvWu1WcnHhWI0daBvfsaRpsbs4hjSgejYnhYek/dXQQBMI/FSKyELo8RGQhEAidgUg/fj8A76KByDLJj9fzjWCTx/aHIBCMxBDQFX8ZYyJhkHASgEgAOa5vus7nWfEeqXUygO+lc6SvGRoYLRD0ANudJrvh9pk2tkNCLS3HPlbALNcBPCeWy3If5+At804JASQAyKlWlvxfzK/vegOYAdZbJR9sppBBhGamFkN9PcO6WwuCKYp6XG+VfAA7AOyY5r2iCsBMBswrcm5+4UXebRM1pS0GsJOmaaP8jDuC+9ktPQCMBJsxxAFQCra0qFU4HFBDhlj4BgWZhzg68npyOI99n58WGAD24WHppPSKQGgniMhC6PIQkYVAIHQGIv34rgA+AVC/kOtlz7FeP9bsXx0XFYGA86ArHqb7zwMRBgnNAHwJoMKqr5WLfZj97MeYpgKAk3SOVNV0YLRAwAGbJaMB27ELAODK4ws+dHR8rw0iBcAKFc+J5bJrLe0Q4BXaA0ChNFPSbGG/Zd4pPlihYwqAT09d2/GtPOePcADP3Y/3HtjFq0E87GycBni7jbc2N/NqwzWoAewHsGlp/LHzuR+cHQVgYTmlsD7DTy0ppCptQCERwA80TVe14TwdypBQSwHY7JZnwZrlqgAU4SGyW1xceMIRI6yCfX1Ngs3MOIL2jbTLIgsPS/fv6CAIhH8yRGQhdHmIyEIgEDoDkX58EwDbwWayMADrknlgqvm/+VzKpLVjCYR25GXQFfHGmEgYJAwFMBdAlvNM5+kmDiY9H3OqKdI50h8NDYwWCCIBTEKDjDAAoJ2c5jjy+F6Peb46qgFMFctlxw0NBniFTgEwBEAiAIk0U9IsQ2XLvFMfA/gUwC0AS7cenX4BwFQAIWDNr1vNDgh0dxb3cXEaa8rntbVpwkWwpUTx07xXdAcwXwf9mKu8jDQpN9tBR+kzAeygafpKG8/TYQwJteSANVgeDWAg2I/UEgAPNHDm8cAZOtSyV2CgeUi3blyftulz/zh2hoelv9nRQRAI/2SIyELo8hCRhUAgdBYi/fhR9/+z/i38d5Fmbzpaclw7KCTC000OWMPbNncREQYJOQBWA+CbupnynaY4vduGhesB6RzpS4YGRgsEbmBFjEZdel60tg4OsxJEPO4JG6ADsFAsl+1oOhDgFUoBGAtgNoAMAD8ASJNmSho9LG+Zd2oGgF1gOxn9otNr39vx02wGwCywHXPuocFnQFP4XC4v1MdjiJeD7TAuh9NWAbYQwDcAtk/zXlECtoPTWwVUWfEZvkxVyVHaANgLYC9N0y16yHR2hoRaWgMYAGACADuwBsFFAB7YNtvDg28zfLhl/x49TIJMTTmWD9r/KeD18LD03R0dBIHwT4aILIQuDxFZCARCZyHSj78AgD8adxia5N+N26/joiI8xXwAuiLqwbs9GGGQ0B/A+wAyHSc7PmvuYT6gDdPVAnCUzpE2K2kZLRBQuC/moIEfhz2Xa047dV/KpR66XfSDWAdghVgua/YgHOAVGgK23bAlgF8B7JdmSgob7rNl3qmRAA4BsAXrybKtuDJ7VcIfH/QGMA2AKdgSpRZLXOwszQVDfDzDHQWWgUbItNDej2fT0vhjZ3M/ODsUwDtqaHtK+Glp6ZwCL4bCVbDZLdK2nqyjGBJqyQXQC0AY2JIigP28faCAxOeDM3y4lbhvX7P+9vZc76c4u0UUHpae1tFBEAj/ZIjIQujyEJGFQCB0Fu53GJqKBsadpMMQoYNQAHAHXWEUc0thkHApgB5cAbfK9VXXJRSX4rdxyjnSOdIYQwOjBYIxAF5Gk5KhjxwdX3Hlm/Rq43kbkgBgjlguq206EOAV6gtgKQAnsCVAPwE4Ic2U1C/mt8w7JQLwP7DdhgDWqHVlwh//ji2uzJoAYBxYQelea0H0cLBz7e/lOl5gZupmhGsCgGsANgOIm+a9whbA2wCm3eYUSJP4N81UlMYKwG4ACTRNN7v2rsKQUEtbAIPAdiayBps9VIRWvHHq6NHDxH7oUIv+3t6m/UxMKPP2jbRTkR8elk4yKwmEduaRRJYN0yb2b3Hnx2Bp/LHLD9qHy+X279mzZ33K5eTJk0tXr15dsHfvXutVq1a56vV6aLVaat68efeKi4t5R44csQOAW7dumdcdN3PmzOKPP/64cP369Q5btmxxAgArKyv9+vXrc8aNG1cNAAMHDvQrLCzkm5qa6vl8PvPNN99khoaGKgHA1dU1oE+fPjU///xzOgDs3r3b9tixY9YHDx7MrIsrPDzcp6SkhH/t2jV53bYlS5a4/PDDDw52dnZapVLJ8fPzU65Zsyavf//+9V9o+fn5PA8Pj75r1qzJXr58ORG0HgMishAIhM5CpB8/EMAiNFgcRvrxfN8MNpnRcVERnlK2ga5YYIyJhEFCFwCfA8i2H2s/xMrfyhii4c/SOdLxhgZGCwSOANaiSZehCIGwzwShcIoRzt2QPwFMEstlJU0HArxCuwN4D4Aj2IV7NYA4ABelmRIdAGyZd8oRwFGwniF13ADw3taj02Vgs1oCwQowFa0F0t/Tta/YudszJjyesQxbSwF8B2DrNO8Vd8G2mH+nGrWaP/ipuXc5ZWJQ+B3Adpqmu2xmw/3sFhHY9t+BYH9WRWAFrlYxNaW4I0ZY+gcEmIXY2fE82jfSTsGu8LD0Nzo6CALhnw6nowN4EKampnq5XJ5a92/16tUFKpWKWrx4seexY8dupaWlpd64cSN17NixVVFRUQV1+zU87uOPPy7cu3ev9e7du7tJJJK0jIyMlG3btmW9+uqr3tnZ2by6c8XExNxJS0tLnTt3buGyZcsavU2QSqUWly5dMjMUY3FxMTclJcWysrKSK5fLG9XWzps3755cLk/Nysq68dJLL5WOGzfOLz8/v+E5bQMDAxX79++3N/a9IxAIBMITp6jpBlmRvtk2AqGdYQD814jzjQagBQew6GEx8IF7PxzhAdEB3QwNnK6qKgSQCaCROewpRXWalmE0Rjp/HUMB/CUTiX2bDkgzJQVgxaVb9zepAcwH8PH9TBcs3B5WCGAUgMMNDu0D4OSCiLitbz8XcwR/d0zyAltGZJDLWXnXD1y6sSmzuOyMXs+02UcHrHfJ+wDS4zOi4uMzou66rR0+xApmS5/TBGtfV4UJyy/n9/v6q6+vCoXCGl9f3ziaphs9x1IUNYKiqCsURWkpinqxwXY/iqIuUxSVTFHUkPvbeBRF/UpRlIURYn9okiQKXZJEkZIkUfz3/vUeAtte2xOAA1jDXIOoVIzu5Mlq6ZdfFu+Oji7deuuW6oJGw3TZ7J6H4ERHB0AgPA10epHFEOXl5RytVks5OTlpAcDc3JwJDAxs1gqwIevXr+++Zs2aXGdnZy0ADBs2rGbq1KklGzZscGy674gRIxT37t1r9CWzcOHCe6tWrXI2NHdsbKztM888U/7CCy+URkdH27UUw9y5c8uGDx9esXPnzvp99u/fb7d+/fqcgoICfkZGRltTbwkEAoHQsdQJKvUP9bdK9RVqHaPuoHgITyfHQVcYJTNBGCQUgBVZ7lkPtPbnmHGsjTEvAB7Y0rqWOA1A2HCDQq/X5Go07ZFx4QsgSSYShzYdkGZKKgFsAHABbDvhbLAL9/8L8Ap9K8Ar1H7h9jAl2NbOTYWtSC6Hl7ogIm7WhAFL14I10rUD4IYWnsFrtVrNKXn66Z+uyzcXVylSjXR9XADPA/htw7SJN+IzovrHZ0TNz6+4N/S7n38IsWBM+aZ6HpOfl/9CQUGBnKbpKJqme9w/dgzYUpwqAP+hKMrz/vYPAAjAmv+uvr9tIQCDz8pPiiSJojhJojgGYAmAr8AaGHuAvectClwAcOuWuig6uuz4F18UfnnunOJIebkur/0jfqLoAJzs6CAIhKeBTi+yqFQqjkgk8q/79+2339o6OTnpxowZU+7h4dE3IiLCe9u2bXY6XYu+YgCA27dvmw8dOrSRKdaAAQNqZDJZszrMo0ePCidMmFDecNvs2bNLb9y4YXHjxo1mH9D79++3mzlzZumcOXNKDx482KLIAgBBQUE1crnc7H5M/OLiYv7o0aNrIiMjy1oTaAgEAoHQ+UlM02jAmjA2ynwsUjD5HRMR4SnlayPONQTs86LWSmw12IjzAmwnnJaoM2dtlIVwRVnTXqatDgB+k4nEzYQfaaZEBeBbsGVBnmAFhyywbZvXBniFPrf9xMcmC7eH/QusYW7DjjcmAJZ7d++fuiAizsPSzO4DAGcAuIMtQzJIUbWiIjFZtv/crczvFSp1gZGuEQB6A9gGIHfT1dVfKzRKnlav8T/95g9vmoHPKU/KtRZrXV0pBgk0Tf8yfPhwjY+PTz8ARwD8BeCL+/P0ARALNnPEl6IoGwDzAHzBMEyHdzFKkii0SRLF9SSJYgOAFQCOgRWFPAHYo5XsFqWS0Zw4UXVt/fqi7/bsKduRnq66pNX+I4TypPCw9PIH70YgENpKpxdZmpYLzZ07twwA4uPjs06cOHEzJCREsXHjxu5Tp071etS5GYZBQ2fx2bNn93Bycuq7adOm7suXL2/kIs/j8bBo0aKCVatWdW+4PScnh5eVlWU6duzY6r59+6p4PB5z8eJFg2VFdeesIzo62i4yMrIMAGbNmlV64MABIrIQCARC1ycTbFeSem6X6u90TCiEp5AU0BVGeVstDBLyAUwEUGThZ+HKs+YZy5i1jtCA6ABPQwOnq6rKAaSCzfyo5w+F4rZar2+xPXIbMQOwTyYSv9904L4Hy0EAO8G2aTYH2z2oCMCLANYEeIX2337i400AJqN5txsnADvnjNl8ckFEXDoAGmxWjDfYxb9Bbt4rzkq4eP2blLx7RzU6naKtF9gAm1JFzTShmanZiudCv/r57tbSstrKI8dkp3KHakWqN1ThnmPUfaufGz0+eObMmdc8PDyCrK2ti8BmhADARbCZSJ+B9aD5HKxnjUEz444kSaIoTJIoDoPNbtkIIBd/Z7e02kJbJlMV7N5d9tO6dUUbkpIUxyoqdMYUvJ40xzs6AALhaaHTiyytMXDgQOXKlSsLT506dfPEiRO2re3r6+ur/PPPPxvViF6+fNlCJBLVf1HHxMTcyc7Olj7//POlc+fObWZ+NX/+/NLz588LsrKy6j+Qo6Oj7SorK7nu7u4Brq6uAXl5eaaxsbEtiiXXrl2zEIvFtQBw8OBBu/j4eHtXV9eAyZMn+6alpZlLpdJWUxkJBAKB0OlJB+sHUM+lfF1GB8VCePowZhZLX7AlO0phkNDYWSwAm03wcivjZwBYNdygYRh9pkZtrDKalmKKkonE22QicaN20dJMCSPNlPwB1mPFGmz7ZjXYrBYdgMUAPth+4uNrYH1aDHUV6g/g3IKIuKg3xn8XB7bEiAKbYWFwwc8AzPmMnCsHL9/YlFNanqRnGL2h/R6VGrUGpjweADwH4ESwp8tYcHQO8RlR/wIg8tR3Oz9DNbzfjNrhxQKehZWNjc3igQMHOtA0HWFhYfEFgBKwYtJmAOFghZYYiqLiKYoyZhcoo5AkUaiTJIqrSRJFFIAPwYoONmDvfavrCIVCr/7pp6rL69YV7YiPL/82M1N9Vaczuj9Qe0NEFgLhCdElRZaKigrOsWPH6lX/8+fPm7u4uLSaxrdkyZKCDz/80K2goIALABKJxDw+Pt5+yZIljQwJTU1Nma+++irv2rVrlleuXDFrOjZ//vx7O3bsqE/vPHDggN2hQ4du5eXlSfPy8qTnz59PPXz4sEGR5fvvv7c5e/as9euvv16anJxsWlNTwy0sLLxed+w777xTEBMTQ7JZCAQCoWtzD01aiP6Zo8tT65hWvcMIBCNQDNb3o80Ig4QUgAgAFfxufIGJo4m/MeY1wPRWxlLAiheNxI5LNcob7RRLQ+YBSJSJxFZNB6SZkrrMDQZ/l/xUA7gDwBXAJ9tPfOyfWSgbC0DWwvzTTPkW8gURcZEj+76xCsB+sJ4vrmjh+bxGrVGdTL39y883bm4tVdTcbMvFAYCFCR+qBuX2Wp3e2sHSwgVAXnxG1CfxGVFHAPiYw2QNU62105erTT8cOe86n+EuWr58+emVK1eeWrly5RQACwDcBissuYDNzFnf1vjakySJ4m6SRHEQbPeoLWAzkjzB3v9WPRKl0tr8774rTdywoWjDhQs1x6uqdIWt7d9JKADb2ptAIDwBeA/e5W8epuWysanzZKn7/7CwsIrPP//87rp165zeeecdTzMzM72FhYV+586drb4lnDFjRkVubq7J4MGDxRRFMZaWlvpdu3ZleHp6NlOhraysmPnz599bu3atU0JCQlbDscWLFxd/+eWXzgCQlpZmkp+fbxIWFlafvikSidRWVla6U6dOWQLA9u3bnRISEuyVSiWnV69eyp9//jnNxcVFu379esdnn322rOHcL7/8ctn06dN7rFu37u7j3S0CgUAgdALy0KTeX6sHk1/FZHnZdL63u+1JToUesw8rUVDNgEMBbwXzsXiwKZb/UoujN7Uw4QI+dhzsnmQOG7PmFgn//UuFb69owACYG8zHvwazyZ4rTtbi+G0t+nXnIuYF1lotNlmNUiWDxYOf6oTQHaArjNUZpQfYRWeWzWCbcIpDtdeLub4B0QH+0jnSZtkpp6uqFKMFgqtgfUTqF7KSGkXWC9bWVeYcjrFaHbfEswDOyETiiWK5rJGvkjRTkhXgFfoZ2OwVN7AlKAC7WC8BMPzElT1DHYTOH00ZMn8xRXFGGpjfHMDK3p7hb/T2DF+x9ej0DwC8AGAYWNGm2FBQdyuqSg5fTd3r7+LoE+jmPN7chO/wOBfXw8Eev8luo6S6BtbmZsgoLkOguzPAiiQLASyIz4j69Wiy7Exq4R0qsLvok/4cX9f+Kt+xZVT1xT/4qf4XMpKTBQKBWVhY2OIjR468Dda75TLY1tGdniSJQgXg0pBQy8tgBaJhYI2eTcG23G7Rw6SyUq9KTKy8kJiIC0FBZu4DBliEuLry/blc6pHWV0+In8PD0pkH70YgEIwB1dAjpCnJycmZgYGBBj/gCYTOQnJyskNgYKBXR8dBIBAIABDpx6fAvsXVAqgvSV04wGTQOF/e+A4LrAO4W6XH3WoGwc5cVKkY9P9GgcMvmyO3kkGYNxc8DoUVJ1lNIGpMYzuzG4U6vHxAiQtzLWHCBcb/UINtz5nB0ZKDiXtrcPY1S8z4sQYfDDWFrx277cQMC/C5LfpZ/tNRA/ACXWGUFzXCIOF8AIEcM06J6xuu73H4nGaNAozI59I50o8NDYwWCALBChnZDbcvsLcf28fMfEg7xtSQHADPieWyZqa7AV6hlmCzXgLAxtiwlMcUgDOPyy+dPmKJr4WpIOIB5/kTwL+2Hp1eBmAGAB+w4lKLXixciuIM8vEY4NvNfhSPy2nRE9AQOr0enx79DXwuFxQFqLU6zBs1GNdy8uFua4Perk64nJmL+IvXwaEoBoBSx+izs98/MwTAa3qGWThu92tuAhth1sRXni+LP5Dgn5GRoa6trS1jGCafYRhDwlKnZ0iopRmAQADjwQqNWrDi2QPLg2xtueYjR1oGikSmIVZWXPv2jfSRmBIelv5jRwdBIDwtdMlyIQKBQCAQOiuJaRoGwFWwtf71nM/TPnW+LM4CDoKd2UoPgSkFcTcO8ioZjPXhgcdhxZDBblzkVjW3mJAV6THYjQsLPgUeh8JITx4OybXgUIBax4BhGCg1AJ8LrJOosWigydMssABAghEFlm4ABgIotB5sHdjOAgvQui+LHOwit1F2QJKi3boMGcIdwDmZSDym6YA0U6IAa6Z6GoAXGsepApCp1WkQczqqPLNQ9usDzjMUwIUFEXEfvz7um28BbAUr1HiihRIWHcPoJbezzh+6mrIxv7zyItPa29MmcDkcTBsYCC6HAwoUhvX0QnfrxslBlzJzYWHCh6PQinIUWlmIujv2jM+IiorPiDr5v7Tfe5XWlMt2jKNzXleFBSwNmXPRwsyC6+Dg4D1t2jQtTdNhNE13uT/KJImiNkmiOA9gFViD4j/AlnJ5gvXiaZGyMp3y8OHKv9auLdp8+HBFdG6uJkWvZ1pvgdr+VAL4XwfHQCA8VZBMFkKXh2SyEAiEzkakH78fgEVo8vY9/kXzZeZ8ytLwUf9sMsv1GLFbgRsLrCA0/XvdFbG3BtN68zCzb2PPT1mRDpP2KZH0hgXM+RTCY2oQ4szBpmfN8cWfKsRJNQj35mFZqAneOlaLo69YND3l00Z/0BVXjDGRMEg4BWypTI7bW24LuRbcxypHeUQGS+dIzxsaGC0QvAZgMIBGIlJUd+d3BNwnmi2gBfC2WC7b1XQgwCuUAnvPpoHtOmSobMupv8+oPiG+YUMoisM1MN6QKgCrz0h3b7+ReXIU2C5POrDeGi0+vLvZWjsO9HYfb2Nh5m1oPP5CMlLvFsLK1ATLxzdPNKlRa5BwMRkl1TXgcTmYOiAQztYCVNeq8L3kMpRqDSYE+KGPa3cA+P3zY6cstXr95NTFJy0AvAPgVRU0t/7kp8nucO4FgwIXwDcAvqdpuuQB19xpGRJqaQGgH4AJYMvDNGCzjLQPOtbBgWsxcqRVkJ+faX8LC06rBrvtRGx4WPrsDjgvgfDUQkQWQpeHiCwEAqGzEenHtwbwFZqILOvHmk7pZc/t0zFRdRzVagYjv1fgo+GmmCz++4X852dUuHRXhx+nmoOimr/w3nlFjS0X1bAyoeDfjQNzHoWvxjeuiHgzUYmFA0xw+a4Ov6Rr0deJi49HPHW+LGdBV4wwxkTCIKE52N/dUkGQwMNupN0MY8z7EPxXOkf6L0MDowUCMYDlaPL39Kad3ahgc4uOKEn5XCyXGSxvCvAKHQzgLQBlYIWSpnB7ufTrP6L3pHAel99q++D7pANYtvXodAnYVtGDwHqFlLZ2UF+37n59XLuPM+PzGi3q04tKYMrjYe/5awZFlqPJMpjyuBjbuxcKK6vx45UbmDdqMM7ezACfy0U/Dxd8d+YC3gkPRUr+PeSVVWBs717ZALYB+Haa9wo1gDlgBRfHNG7+r+d5twRqSjsMrF/LDpqmzz7EdXdKhoRaUmAzlobf/8cD+7Mw9LNuBEUBgwZZ+AQHm4d0787rxWk/n6OmPBcelk4yWQiEJwgpFyIQCAQCwcgkpmkqwL51b9SZRFakv9MxEXUcGh2DKQk1mBHAbySwRF9T49gtLfZMNiywAMAbwSa48rYVzrxmCTtzCj3tGz+2XL3LZuH3sucgJlmDhJcscKNQh1slHZ2d/8QxZtvmAWBLVNSCPoL2aNvcEtMCogNaei69BbZVcCP17Ey14kmWDDXkI5lI/INMJG4mkkgzJX8BWAvW1NZQBpDuZv61Cz9fjYtVqhUteq00wAfAoQURcXHznos5A2A12PIPr/vnMMj13IK0hIvXt9wuLPlVp9fXd+D06WYPC5OWm+fcq6xCT0c2bEehFcoUSlTVqsDlcKDR6aDT60FRrJ/L2ZsZGOXnAwAeANYwDJMbnxH13/iMqD8BiAG87KdzMZ+tGjlmmir0cne9DRcM9tI0fYOm6UU0Tdu0GEgnJUmiYJIkiowkiSIGwL8A7AZbFuYJwBlNOmE1hGGAv/6qSd+6tSR+y5aSr65fV55WKvUV7RxyCYCT7XwOAoHQBCKyEAgEAoHQPlxBk/r9c9m6p8qXhWEYvJFYC7EDF0uG/L0+PnFbi6g/1Uh82RwW/JYtGwoVrFdLdoUeP8q0eKVP48Xh/51WYdVoU2j0gO5+Yi6HAmoeaE/5jyIDwGFjTCQMEnLBtm0uMfM068a35/sYY96HpDuAMEMDp6uqtADOoYlocVOtKinTaTuqI+MMACdlInGz8g9ppuQmgM/Algw5Gzo4p/hW7tELu7ZXKcsetv1vOIfDu7YgIm7xy6O+2AhgJ1gR1x0tdAvV6vW6Mzcz/jxyLXVTQUXVtYexa3GxFkKaVwAAyC4pR1mNEhU1tQjycEHavSJ8e+YCxvbuBcntLPT3coMJ729NgaIoMwCvAbgSnxF1Lj4jyi4+I2oygF4CxvzSRHX/8a+rRuuDNd7XuQznJQB5NE3vpml60EPeg+vOaEwAACAASURBVE5FkkShSJIozgD4CGxL7/Ngf94eaCKwN+XePW11QkLFmTVrCv974kTl3oICzc1H8dN5BH4MD0t/uj4RCYROACkXInR5SLkQgUDojET68f0BLEOTEocfJpsvEppSHVGX/8Q5l63F8N01CHDk4L7PLVaHm2LR8VqodIC9+d/mt9snmiO/So83E2vxvxmsv8rw3QqU1DDgc4Evx5ohvMffa8nDcg2SC/RYOYoVb5b9Uouf07Xo68TBnslPlT/LEtAVXxljImGQsA/Y39lMpxedIszczIKNMe8jsEs6R/qGoYHRAoEPgI8BZDXcPtPGdkiopeXYJxFcC8gBPCuWy5oJqAFeoTZgy2Z6gO1Q1Oyh24xvwY8Y+PpL9oLuPR/hnGUAPjks+fT7/BLZWLA+IWoA9wydow4ve1vnEG+3CVqdzn3n2YsGy4VqNRocvpqK/PJKdLcWoLCyGlMH9IWLjbB+nxq1Bj8kXcGc0P5IvJaKGo0GI3v1gJdD8481hmHyKYraAWDHNO8VVQBmAngXgN89quLkGX5qTQWnZgxYsXAHgD00TT+w9KazMiTUUgA2G2w8WLNcFVjvlubu3k1wdeVbDx9uGezraxJkZma09uTPhIel/2akuQgEwkPySCJL7gdn+xvz5G5rh1825nyEpxMishAIhM5IpB/fAsAmALlosPD5PMw0IsCJ+6QXr4R/JlUA3EBXVLZ1ImGQkALwPgB3njVP4TLbZQnFpQxmSLQj5QC6S+dIVU0HRgsEHAAbwIoJ9a3R3fh8wb+7Ob5HtVRz9mQoBBAplsuaGfcGeIWaAXgDbLembLDmtY3gUFzq2ZDZz7rZ+4Q84nllAN7benT6dbAdmvqB9QdptQTF28F24IWMnHErJoxqNaOdYRis/uk0lo4bDjP+31lkR66moo+rE4qqFNAzDII9XbD73CXMH91yR22GYdQURe0HsGlp/LHzuR+cHQVWbJmkgVaexLuVfIub34eh0ANAHIDtNE1ffai70AkZEmrJAeALYDTYnz0FtnTngSViPB44Q4da9goMNA/p1o3r04Zf7QIAruFh6Q8UeAgEgnHpEuVCMTExNhRF9b969Wq9251UKjUdPXq0r7u7e5/evXuLBw0a1Ov48eNWALBkyRKX//znP04N53B1dQ24e/cur7U509LSTMzMzIJFIpG/j49P7xdeeMFLpVJRAHDs2DGBQCDoJxaL/b28vPqEhIT47d27t1kbNz8/P/+IiIhGju5TpkzxcnR07KtUKikAuHv3Ls/V1TWg4TnFYrF/jx49egcEBIg3bdrUyCk/NjbWplevXv7e3t69e/Xq5R8bG9tqDeuUKVO8XF1dA0Qikb9IJPIPCgoSAQBN005Tp071rNtv27ZtdqNGjfKtu2eOjo59644RiUT+xcXFXAA4ffq0RUhIiJ+Xl1cfb2/v3tOmTfOsqqriPOg+Z2dn8yZOnNjD3d29j4+PT++RI0f6Xr9+vT5f/JNPPnE0NTUNLikpaVS/+vPPP1sFBASIvb29e3t7e/dev379k+hqQCAQCEYlMU1TAyATgLDh9pSn0JeF0G7sNobAch83sD4aJTZDbEI6QGAB2LbnEwwNnK6q0oNtk9zomSBXo6kq0umyDR3zBHEEcFomEr/QdECaKakFsB1sC11PAM18XPSMjjl2cfdP8twrJx+xYkQM4MSCiLhv334u5icAX4AVoTwBmLV0UEr+vZtlCmXJnaLS33V6faNSEqVaA62OXZOfv5ODHt3sGgksRVUKVNbWwsfRHhqdDhyKAkBBq299HU9RlAnYEqu/1k997kJ8RpR7fEbUKwB68ME7OkIrHveGKtw7XB3wixnDdwaQRNP0BZqm36BpusulpiVJFPokieJmkkSxA8BSAHvBrrs8ATihlTWYVgv9H38o5Bs3Fv/w7belG2Wy2j9VKv3D+Pc05QARWAiEjqFLiCz79u2zCw4Oro6NjbUDgJqaGioiIqLnm2++WZSTk3MjJSVFtnnz5uxbt249dDuBpnPW4e7urpLL5alpaWkpd+/eNdm1a1d97mNISEi1TCZLzczMvLFx48bsZcuWeRw5cqQ+ne/KlStmDMPg/PnzgsrKykb3lsvlMhs3bjQoFri7u6tkMlnqnTt3UuLj49O3bNni9N///tceAJKSksw/+ugjt8TExNsZGRkpiYmJtz/66CO38+fPt2h2BgCfffZZrlwuT5XL5alXr16VA8BHH3107/r165a//PKLZXFxMfezzz5z3bp1a/2Dybx58+7VHSOXy1MdHBx0OTk5vBkzZvisXbs2NzMz80Z6enrK+PHjK8vLy1v93dHr9YiMjPQdMWJEVU5Ozo309PSUNWvW5OXn59d/Ux84cMC+T58+ij179tSLRtnZ2bxXX33Ve9u2bVkZGRkpEokkbffu3d327dvXTNAiEAiELsBlNBFZfs/UZrRP6T3hKUMP4L9GnC8cgIbiUZS5t/kAI877qExvZewqDDy7ptbWdpQBbkPMARyQicTNOiRJMyU6AAkAvgfgCsCgaPD7jR8ll26f2q/X6x7YFrgJz3E5vBsLIuJefz70P18AiAUrWLmjiRHrnaKSKdkl5W9o9Xr77b//1X/Tb5Lff0qW5Utus1VY9yqrsf7nPxB1/HfICwoxKah3oxMdl6ZhfB8/AEA/DxdczMzBpt/+xEi/Hg8dLEVRAwDEMAyTE58RNTc+I2ozWJFvsbfe0XumakTEK7XDrrjp7G6BwccA8mma3kzTdJfszJYkUZQnSRQnwWaKfQHgBtjr9UAr5sUAkJ2tKduzp/zXqKiir06dqj5QXKzNfIRTxzxuzAQCoW10epGloqKCc+nSJavdu3dnHjp0yBYAduzYYR8cHFw9Y8aM+nTIAQMG1C5atKjkcedsCo/HQ3BwsCIvL8+gBXtoaKhy+fLl+Zs3b3as2xYdHW03derUkhEjRlTu3bu3UbbJ22+/Xbht2zYnjaZ17yl/f3/1F198kbN9+3YnAIiKiuq+ZMmSuyKRSA0AIpFI/d577xWsWbOm+8Nca0P4fD42bdqUtWjRIs93333Xbfr06cX+/v7q1o7ZsGGD49SpU0ueeeYZBQBwOBy89tprZe7u7q0+ABw7dkzA4/GY999/v6huW2hoqHL8+PHVAJCSkmJaU1PDWbVqVV5CQkK90LVhwwbHadOmlQwbNqwGAJydnbWrV6/OXbdu3SNfL4FAIHQCbjXdkF/F1JQomY4y6yT8czgKusIoWVHCIKE1gGEACqwHWvfmmBrND+JxmBgQHdDS+XPB+o40MhX9rboqVc8wneGNPQfAVzKR+L8ykbjRM7Y0U8JIMyWnAHwJwA6sCNKMy+mnU0/fOBSt0aprHvHcfABLXOxFsgURcb5W5vYfgM38cQObaQMA6NHN/qDI2XGDv4vTpyJnxy+F5maSe1WKb7V6/a5qlfqul4MtPnh2NFZMGIVXh4Y060Q0OzQY3QSWAACBmSneDR+K5eNHoq+bQX/fVqEoyhHAxwzDZO67szY6PiPqltva4cEAhlnCNHu8JmjqG6ows0Gansd5DEcMIJmm6T9pmp5F03SLmTqdlSSJQpckUciSJIotYL2PEsB2zPIE69/SYl2QWs3oTp2qTvn66+LoXbtKN6elqZLUakbZ0v4AksPD0i8a9QIIBMJD0+lFlj179tiMGjWqom/fviobGxvduXPnLFJSUsyCgoIe9cun1Tmb7lNTU0NdvnzZMiIiosU03IEDB9akp6fXf8gfOXLEbvbs2WXTp08vjY+Pb5Qh4+npqR4wYED11q1b7ZvP1JjQ0NCajIwMMwC4efOm2aBBgxpd6+DBgxU3b95s9cvl448/dqsr+4mMjKwvXxozZoyiZ8+eyrNnzwpXrVpV0PCY7du3O9UdM2jQoF4AkJqaah4SEvLI9/r69evmgYGBLR4XHR1tN3ny5NLx48dXZ2RkmOXl5fEAQCaTNTvfsGHDam7fvt2q0k8gEAidlCywfiyN3iYnF+hvdEw4hH8QxmzbPBTsM6HOUmz5JNs2G8IcwPOGBk5XVTEAToEVKeop0emUd7Xa9CcQ28OyCMAhmUjc7PlSmilJBtuJhosG4kdDbuVfy/3f5ejvlGrFQ708bEI3ADtmP7Pp9IKIuBwA/wH7OeQNoEXx7HZhSU7CxevfSHMLjqi1uurHOO9jQ1EUj6KoqQDOrp/63LX4jCi/+IyoVwF4UqC+DdB5jH5VNXrkZNWgX+30Vrlg8CXYzkRf0jTt9yRjNRZJEkVpkkRxAqzYsgGsIO9+/1+rz/h37qhLYmPLfvnii8Iv//ij+lBpqTbHwG7fGj1oAoHw0HR6kSUhIcHulVdeKQOAKVOmlDYt7wGAMWPG+PTs2bP32LFjfQCAoiiDedh121ubMycnx1QkEvnb29v3c3V1VQ8aNKhFlbhhuvcff/xhYWdnp+3Vq5c6MjKyMiUlxaKoqKjRQ/XKlSvvbty4sbv+AXWrDedlGIbicDjNxh9kgtWwXCgxMbHe8b6iooJz/fp1S61WS+Xn5zeqt25YLnT+/PmbrZ4AD77PrXHo0CG72bNnl3K5XEyYMKEsJibGtsG1NTu+Y/3sCAQC4fFITNOoAaShSSvnI2kaqZ7UDBEen2ugK343xkTCIKEJgGcBFFr6W3rwBDwXY8zbRl5pZewaDLzxl9YqO0PJUEMiAfwhE4mdmg5IMyUZAFaBNfp1NXTw3bKssh+Ttu+sqCl9XL+ZfgB+XxAR9+Xbz0bvA1DXgcqgL0wdFzNzrx28fGNTdkn5n3qGaWbS295QFBUIYKeeYfL33Vm7KD4j6juwZTWv2jFWNpPVg6a+qhpV1lvrdoJiqOEA5DRNn6Zp+mWaplu8rs5KkkShTZIobiRJFF+DLSc6BLaczBOs/1CLD8C1tYz25Mnq619+WbwrOrp0W2pqrYxhmEqwxtA/PIn4CQSCYTq1yFJQUMD966+/hAsXLvR0dXUN2Lx5c/fExETb3r171169erX+7cDJkyfTd+7cmVFeXs4DAHt7e21ZWVkjAUGhUHAdHBx0Lc1ZJ3zUebLI5fIbV65csdqzZ0+LXiAXL1608PX1rQWA2NhYuzt37pi5uroGeHp6BigUCm5sbGyjUqQ+ffqo/P39a6Kjo1tt3ZmUlGTRo0cPJQD06tVLmZSU1OhNyIULFyx69uxZ+1A3sQnLli1zefHFF0uWLFly95133nF/0P5isVh56dIlg7XDrd3ngIAAZXJyssHjzp8/b56VlWU6fvz4Xq6urgGJiYl2Bw4csKs738WLFy0b7v/nn39a+Pj4tJYSSSAQCJ2Zy2hS3pBZzlTlVzHNWr4SCA+JMbNY+gGwBFAr6Cfo6CyWOsYERAcY9LE7XVVVCNZQutHz2anqarmWYVqvyX7yhAD4SyYS+zcdkGZKigCsBpvB4AkDi+kqZZnywJ9bYgorclPaEMOLXC5fviAi7sXRgW9/BmAf2MW7K1pYByg1GvWvstu/HpembSmprklrw7kfGw5F2VIUtYJhmDt776xNiM+IyndbO3wQgEE8cP8aovV78Q1VmP84db8jloxpOYCdAHJpmo6iafrhDWI6EUkSRXGSRHEMrFHu12DbWnuAzW5p1Xfy1i21Ni6uPJaiKGcA48LD0lvtMEUgENqXR3KOf9Itl2NjY20nT55cEhcXl1W3bcCAAX5isbj2q6++6r5nzx7rOl8WhUJR/0URHh5ePWvWLO+ysrK7tra2+ujoaBuRSFTD4/FanPOXX36x8vb2rvcn8fT01KxatSp33bp1zg29X+o4f/68+bp161y2bt2aqdPpcOzYMburV6+meHt7awDg6NGjgtWrVzsvWbKkuOFxK1euvDtp0qSeLV1zWlqayQcffOD29ttvFwLAihUrCl555RWfCRMmVPn5+anT0tJMvvzyS+d9+/Y9clrshQsXzH/99VfrlJSUVFNTUyY2Ntbh0KFDwhdeeKHFkqhly5YVDho0SBwZGVkRFhamAICtW7faTZw4sbK1+xwREVH1f//3f9SGDRscli5dWgyw2T7V1dWc//3vf9ZLly7NX7NmTX25kqura8DNmzdNli5dWjR48GDR1KlTy0JDQ5UFBQXcDz/80O3DDz/Mf9TrJRAIhE5CM18WALiQp7vuJuR0ycUAoUMpANuppM3cb9scAaDcpLuJjUk3E5Ex5jUCPAAvAdjWwvhpAK+iQaviar1ek6vRpHmZmHQ2c1QvAH/KROLJYrnsdMMBaaakOsAr9GsAswCMAJADoJHnnUan0v2YtOPA+KDp5V5O4qGPGYMZgI/EHiNfFXuM/Pe3x99YodEqX7h/TgWAIkMH3ausLjtyLXWfqHs3734ezuMtTEwMlje1JxRFcSlgEoBJX7z0XBqHwtcURc2f5r1iGYC33PX2819RDXOphfryOb48LZNT9AIoLKdp+lewXZ0SaZp+VCPhDiVJotAASAaQPCTU0hFAKIBnADiDbdteCrYMtSECADHhYek1AM4+wXAJBIIBOnUmy/79++0nT55c1nDbpEmTymJjY+2OHDly+5tvvunm5uYW0K9fP9Fnn33mXLcQHzRokHLu3LmFgwcPFolEIv9vvvmm265duzIfNGfT88+cObNcqVRyTpw4YQUAly5dsqpr4bxgwQKPdevWZU+aNKnq+PHjAicnJ3WdwAIAEyZMqLp9+7ZZVlZWI8ewkJCQ2t69ezfyHMnJyTGta+H84osv+rz99tuFixcvLgFYs9hVq1blRkRE+Hp7e/eOiIjw/fTTT3NDQ0Nbzexo6MkiEon8lUolNX/+fI+oqKgcCwsLhsvlYsuWLVnLli1zr62tpYDGniwikcg/LS3NxN3dXRsTE3Nn+fLlbl5eXn169OjR+9y5cwJbW1t9a/eZw+EgMTEx/bfffhO6u7v38fX17b1y5UoXDw8PzeHDh+2mTp1a3jDeCRMmlEVHR9t5enpqdu3alfHWW295eXt79x48eLB41qxZxdOnTyeKPIFA6KrkAihEk2yWI3KNTKvvdG/eCZ2fbaArWjWtfwR6gn1LXmEzyGYg1blqc1vrMlRXGtQo3mtKZWf1OrIBcEImEs9qOiDNlKgB7AZwEGzWggE/DgYnru75VZqVdEzPPKDmvHVcAcTMnbDz+IKIuBQAnwDIB+vXYtXSQfKCooyEi9LtsruF/9PqdB2WWczlUH4URW3TM8zduPS1H8VnRO0FmwU0zQwmymc0fae/oQqzG6YRHeAzXD1YY9lsmqY/pWnao6PibgtJEkVhkkRxGMASsN3E8sD+nrjh77IvEwC1+PvvgkAgdDBUayXhycnJmYGBgcUt7kAgdAKSk5MdAgMDvTo6DgKBQGiJSD/+GLA+E438FdaPNZ3Sy57b2d68EzovKgDuoCsMZh48KsIg4bsA/DkWnDK3192WUDyq1ZKEJwwDwFM6R2rI1BOjBYL3wS40S+u2mVAU9wtn52UmFKczd56hxXLZJ4YGArxCQwHMBXtNVQb38RziO7jXuJe4XF5b/UcYAD+oNIp/7zwx1wXATLDZEHcBtCj+WpmamIX6eo5ytREOoCiqQ1/WMgyj1zHMKR6Hsx7AL9O8VwQCeBesQGdaQdX8/gc/9V4hVTEKFBwBHAewA8BPNE13hm5Uj8WQUEtnsGbV4WBFORMAiUkSRXyHBkYgEOrp1JksBAKBQCD8Q7gK9q17ozfvZ7N01zsmHEIXZY8RBRYnAMEACm2G2AR1MoEFYP9WWjPA/QNNsi/UDKPLUmtS2zWqtkPLROLvZSIxv+mANFMiAfAF2Osy2I1SmpV0+2Tyvl0qTa1BEeYRoADMMuVbpi2IiBsb7DtpJVjTVScALmjBcLVapa79JeXWiV9Sbm0rq1F2aEcniqI4PA7nGQAntHp9Rlz62pHxGVH/Aiu+/duasfCJVIe8/JpqdG0/rVc8h6FsASQCyKRp+j80TXcGk+dHJkmiuJskURwA8C8AWwBIAPzeoUERCIRGkEyWLsysWbM8Ll682OgBY/78+ffqSo2eFkgmC4FA6ApE+vE/BLuAqS9Z5XPA+WGy+RJzPmXZ8pEEQj19QVcYpSRAGCScCmAsKOS5veX2Dtec26xsuhNwTTpHGmRoYLRAYIW/yyfqsxKGWVh6Tbe1nfOE4msLpwBMFstlzcqhA7xC3QC8B9aQuKDpOADYC5wFz/afNcPSTNise9Fjkglg+daj038H8CKAIWA9b0pbOQZ9XJ169XXrPs6Mz+8Uvz96hlFq9Po4Uy533TTvFbfBdnl6F8BoAOoCqvyXM/xUVSVHOQZsF59jYL1bfqFpmnR8IxAIRoGILIQuDxFZCARCVyDSjz8YwFtoUjL0ySjTCUHO3IEdExWhC3EKdEW4MSYSBgktwbb0LRKGCHvYDrN92RjzthP+0jlSmaGB0QLBOwDEaGDcygGodc4u75lzOIInFWAbSAHwnFguy2o6EOAVagtgEVj/DYMlUxYmViYTB74+1c7K0ceIMf0BYPHWo9NrwBryeoD1lKpp6QAuh+IM8fEc1KOb3Ugeh9MpMqIYhmHUOn0Sl0NF8TicY9O8V/gDeAdsWZSlGtrrEn6a9DanIBAU+gC4A+BbALtomi7syNgJBELXh5QLEQgEAoHwZLgB1geB23DjbxlaUjJEeBi+MuJcgwDwAWiselt1lrbNLdFaydA5AOYNN+gB5o5a1ZaWx0+S3mBbPPdvOiDNlJSBLR26BtaYttkze426Wn1QsjUuvzTjihFjGgngyoKIuGWzntm4BazwYAFWbDHYlVSnZ/TnbmUmHbmauuluRdUVprU3uE8IiqIoUx43lMfhHNHo9Hnf3/z8+fiMqA/AlhItMQHPcpSm94w3VeHuo9W9D5gyfBlYI+BcmqbjaZoO69grIBAIXRmSyULo8pBMFgKB0FWI9OPPBxAA9s1wPbEvmL9jbUYZ9GAgEMC2AfcDXdHmxaswSMgDu3jXmfcwt3KMdJzX5ujal9vSOdKehgZGCwRmADaC/Xuqb9Pb39zc5Q07+7lPKD5joADwslguO9Z0IMArlAdgKoDxYDNaDJrShvV9cVhP58BwIzeIqgCw6vjFL3dmFFx6BsBzANQA7qF5C+F6POxsug/0dhsvNDfzNGYwbUXPMGqlVneEz+F8Nsv33zcATABbSjQWAFWN2nNn+Kk5+ZyyoaDgAeAmgG8AfE/T9FNVik8gENoGyWQhEAgEAuHJcQ4GWrQm3yMGuIRW2WgMgeU+vQHYAlAI+ws7exYLAPgGRAcMMDRwuqqqFsB5AN0abr+sVOZX63Steol0MiwBHJaJxAuaDkgzJVoAewH8ADYLw7zpPgBw6vqBc1fSfz+o1+t0RozLGsCGCQOWnF8QEVcL4EMAqQC8wLalNkh2aXnBgcs3vr+SlbdfpdU285zpKDgUZWLJ571kwuUkf3/z86vfpX1mF58R9RzYkrNNVjALfFYT/MrrqjBeiMZnH5fh3AWwDkAeTdM/0DQ9rGOvgEAgdBUeKZOFpulm6Yxtgabpyw+zX0xMjM2cOXN8rly5khIUFFR77NgxwYYNG5xOnz59u26fKVOmeE2cOLEiLi7OLicnx7SmpoZTVlbGc3V1VQPApk2bsoYPH16zYMECt5MnT1pzOBz4+voqv/nmm2wfHx8NAHC53P49e/ZU6nQ6yt3dXZWQkJDh4OCgS0tLM5k4cWLPW7dupbz77ruuJ0+etK47b21tLScnJ8e0tLT0qrW1tR4AwsPDfUpKSvjXrl2T1+23ZMkSlx9++MHBzs5Oq1QqOX5+fso1a9bk9e/fv7Zun/z8fJ6Hh0ffNWvWZC9fvpxkED0kJJOFQCB0FSL9+CZgzTrLwL4RBgCIHDg2X4wxW9xhgRE6M+UA3EBXKNo6kTBISAH4N4DufDu+ynmm83sUh+I+6LhOwNfSOdL3DA2MFgj8ASxDE6+juXZ2o4PMLUY8ieCMzJcAlonlsmYP6AFeof0BLABQCTbLpBki12CPof4TX+ZzTQyKMW3khE6vfW/HT7M5YP1anMEa89a2dACfy+WF+nqEetnbDuNyOM06KnU0ap2+tEaj/d6Ey1nzWq+PVADmgPVu8QOgLaYqf/2Dn1pVxlGEA7ADcAHAYGKSSyAQWqNLZLLs27fPLjg4uDo2NvaBzuUnT55Ml8vlqVu3bs0KCQmplsvlqXK5PHXMmDGKRYsWuVZXV3MyMjJuZGVl3YiMjCx//vnnffV61pTe1NRUL5fLU2/dupViY2OjXbduXbem82/atCmvbk65XJ7at29fxcKFC+/WCSzFxcXclJQUy8rKSq5cLjdpeOy8efPuyeXy1KysrBsvvfRS6bhx4/zy8/Pr61tjYmJsAwMDFfv37ycp4wQCgfAPJDFNowZwFk3evMuL9eUF1XqD5paEp57vjCGw3McDQC8ApdaDrQd0EYEFAKYFRAe09Mx6C+wiv9Ez11mFwihdmDqAJQD2y0TiZiKJNFNyGcBqsH46zZ5RAUCedyX7+OUfdtaqa8oMjbeR8VwOT7ogIu6tl0asXg/gewBCAO5o4jVVh0an0/6RlnHmaLJsU2Fl9fVOYNfSCBMux87GzGSJGY979xv5pwmbUz5JBpvZMg7ACQdGOHaKevBLc2pHFYq1rnEmDO8YEVgIBMKD6PQiS0VFBefSpUtWu3fvzjx06JDt485TVVXFSUhIcNi+fXsOj8fqGosXLy4xMTHRHz16tJkD/eDBgxV5eXkmzSZqwNatW+0yMzNNN2zYkF+3LTY21vaZZ54pf+GFF0qjo6NbFIXmzp1bNnz48IqdO3fW77N//3679evX5xQUFPAzMjI6ndpPIBAIBKNwHgYMJC/k6a51QCyEzo0OwCYjzvcMABXFp7jmXuYhRpy3vXEGMMrQwOmqKg2AM2gqXKpUxeU6ncH2x12AKQBOyUTiZkKKNFOSDuBTAFUAXAwdnF96p+TQX998V1lTltsOJrrTjwAAIABJREFUsfEALO5m7SVfEBEndhB6/hvAr2BLmVpsJ12qUFYduy4/dOZmxs7qWlVeO8TVJjgUxbM2NRnfzcLszM60z25uvEH7r7n68WQAPQF8yQe3+1CtaPps1chmvjkEAoHQlE4vsuzZs8dm1KhRFX379lXZ2Njozp07Z/E486Smppo6Ozur7ezs9A239+vXr0YqlTZ6W6DVanH69GnB888/X97SfGlpaSaffPKJW1xcXAaf/7cesn//fruZM2eWzpkzp/TgwYOtZt4EBQXVyOVyMwC4ffs2v7i4mD969OiayMjIstYEGgKBQCB0aTIAlILt2FHPvhua67VapsU2qYSnkh9BV2Q/eLcHIwwS2gIIBVBoM9gmgGPCsTTGvE+Q1roMXYIB4VJeW9tVs1kAYDDYzkO9mg5IMyX3AHwO9rPEA0Azt9uKmuKag5It0UWV+QbbXxsBBwBbp45cc3ZBRNw9AP8HIB1sJyRhSwelF5XmJlySfnc99+5htVZX1U6xtQkrE76vk6X5V64Ci9JNKZ98tD75P5vAikgvuq0dfrWj4yMQCJ2fTi+yJCQk2L3yyitlADBlypTS2NhYO4qiDKbptbQdAPR6vcFxhmFQ58SuUqk4IpHI39bWtl95eTnv+eefrzQ0l1arxfTp070//PDDvD59+qjqtufk5PCysrJMx44dW923b18Vj8djLl682MzgsOG564iOjraLjIwsA4BZs2aVHjhwgIgsBAKB8A8kMU2jB3AaQKPS0Go1tJfzdRc7JipCJ+VrI85VZ9qps/Cz6AqGt02ZEhAd0FKG8R2wHiWNXpr9rqi+0dnKUx6RHgCSZCLx8KYD0kxJFVj/lr/AGtE2K9dRaWu1PyZt359VlJbUjjEGAPhtQUTcxrefi/4RwAawGVieAExbOuhSZl7ygUvSTVklZWf1ekbb0n4diSmXa+VoYfa6m8DiZnxG1I74jKjfOjomAoHQNejUIktBQQH3r7/+Ei5cuNDT1dU1YPPmzd0TExNtu3XrpquoqGj0xqKsrIzXrVu3Fj+ke/furcrPzzctKytrdM3Xr1+36NOnjxL425MlMzNTqlarqbVr1zoammvFihXOjo6OmsWLFzdq5xYdHW1XWVnJdXd3D3B1dQ3Iy8szbc1H5tq1axZisbgWAA4ePGgXHx9v7+rqGjB58mTftLQ0c6lU2uKXE4FAIBC6NJdg4Dt4j1RzUdtJFxyEJ84F0BUSY0wkDBKagm1XW2gVYOXFs+K1WNbRibEF28a4GaerqvQAfkcT4TJbo6ks1umMkgnUgdgBOCkTiZtl8kgzJSoA3wE4ghZEDYbRM8cvx/6Skn3+fwyjb0/F6QUuh5+6ICLulXEh/1oNtiOSHQBXtLDeqNVqNb/J0k/9TyrfUlytaK+MmzZDURQfwCCwhsMEAoHwQDq1yBIbG2s7efLkkvz8fGleXp60oKDgupubm7qoqIh77949/pUrV8wA4ObNmyZyudx88ODBypbmEgqF+hdffLF4/vz57lot+/y6efNm+9raWk5ERESjdEV7e3vdxo0bs7ds2eKkUqkapWD+9ttvlvv27XOIiYnJanqOAwcO2B06dOhWXl6eNC8vT3r+/PnUw4cPGxRZvv/+e5uzZ89av/7666XJycmmNTU13MLCwut1x77zzjsFMTExJJuFQCAQ/pncA/v2vZHXWG4lo5AX60k7ZwJg3CyWYLBZHipBX8EQI877pJneythlGHiuTenaJUN1mALYIxOJP2w6IM2U6AEcAiu2OAOwMjTB2dSjF/9K+2WfTq/VtHOcH/g4D0xZEBHnYsIzXwG2bb07WjDqBYDCKkV54jVZwp+3M6MVKvW9doyvLWxaGn9M/+DdCAQCwUD9ams8bMtlY7F//377999//27DbZMmTSqLi4uz2717953XXnvNS6VScXg8HrNly5Yse3t7XWvzbdq0KW/evHlu3t7efTgcDnx8fGoPHz58m8NprjUNHTpUKRaLld99953tM888U123feXKlS61tbWc4cOH+zXc/+DBg+n5+fkmYWFh9R0ARCKR2srKSnfq1ClLANi+fbtTQkKCvVKp5PTq1Uv5888/p7m4uGjXr1/v+OyzzzZygX/55ZfLpk+f3mPdunWNrp9AIBAIXZ/ENA0T6cf/CcC7YNs513MgVfNX726c4LpSVsJTSR6A/caYSBgk5ACIBFBm6mpqx3fg9zTGvB1EREB0gJV0jrTawFgugCKwIkP9+KnqqpQRlpYTOBTVqV8sPgQUgM9lIrE3gPliuaw+402aKWEAnAnwCi0BsAhsp6XSphMkZ567Waks2z064IXpJjwzg2KMkXAGsPvNCTsXAPjX1qPTfwcwA2xnq2I0+Pk0JK2gOPNmQfGOQT3cg3s6OYTxudzH8mFsByoA7OroIAgEQteBaq1WNTk5OTMwMLD4CcZD+H/27jy8qTL7A/g3W/emG1CgFMqeAgEqq4yOgqC4UEfUUdGRcX6jIuC4MDoj4zgVHRwGVwTZVGzByr6EoizaAkLYl5KWNG2hodDSvU2TZrvJvb8/Lu20SVq226TL+TwPz4z3vXlzKIUmJ+c9h9y0zMzMLiNGjIjzdRyEEHIzEgfLpAAWA3AAaDKi98sHA57tEy4e4JPASFswH0mGj4TYSJ4gjwfwNwD6bo91ezCwT+BYIfb1oec0MzXfe1qYGBr6AICnADQ5IvRut+gZPWXtOrnkai+AJ+JztG6NY5VxE3oDeANAAPiKOTddw2LCHrzjuWeD/EObrS4R2A82xvy3b3b/uRuA5wCEA7gKwN7cA4L9/QIm9O9zT0yEfGwbSJB9Nm9D2ps+joEQ0o74+h8tQgghpFNS6RgHgJ3gp3Q0sSvPIUgvDtIumQGsFHC/qQDMkhCJf0CvgJEC7usrLR0ZOgsPk3Y0VktW64XjE/cDOKRVxPdyXdDo1YUAPgRf1eO2DgDlhiLDFvXyb2pM5QWtG2aDZ/xlQTmzp6U+cmf8M+8D2Az++FCz/VrqbHbrvvN5e/Zk5X5VXWfJ81Kcngg9Rp0Q0glQkoUQQgjxnaPgP81tMjVld76joKyOLfJNSMTH1iLJ4HbU41bIE+Q9AAwHUB5+Z/gdIomouek87ckUZbIyqpm1MgCXAIQ1vphuMuU4uQ7XUHo4+BHPI1wXNHp1JYD/AMgGP3nI7fV+na3Wtkn91bqS6kuZrR3oNUEAkhIGTMucPS01BMDfAZwA37C3uT9PXDUYK7edyU49dvHy9xY744vq+tR5G9K8lYwihHQQlGQhhBBCfESlY8zgS//dptn9mOc46P2IiI9xAL4QcL+JABwQA4H9A8cJuK8vyQA86Wkhw2jkwE8ZCm983ciy9isMo2v90LwuBsCvWkW829QljV5tBl+BkQ4+0SJzvcfJMuz2Y6u351/V7G/lOBvrDWD97Gmp22dPSz0J4APwfVr6Aghu7kHZxaX5G0+cW64rKd/jcLJWL8XKAljopecihHQglGQhhBBCfOsA+J/HTX4mb9U6civNbIlvQiI+sgdJBkFG2coT5KEAJgEoDRsTFi8JkIRd7zHtiNs440YywSermhwbOmOxdIQpQ56EAtipVcS/6Lqg0asdANYCWA/+6FCgpw1+ztxw4MzFg9tZjvXm9Jy7AJyYPS31necnL10FYDn46US90cxgDifHsYfzLx3dfib7y+Ka2pNcS40lhbF53oa0nFZ+DkJIB0RJFkIIIcSHVDqmAsARANGua7vzHb96PyLiQ0KObR4PQALAETwkeLyA+7YFdyuTlR77jWQYjdUAdHAZj76/zpRv5zhvVUB4mxTAKq0i/j9aRXyT5JJGr+Y0evWPAJaC74Mi97TBsdy9mYfO71zrcDLe/BqJAfwpJDAyZ/a01LsVsff8E3yfqh7XfnkcsVZrtZl3Z+Xu+lmbv9JgsepbKTYOfG8bQgi5aZRkIYQQQnxvN/i+LE3eVGzMdpyvtnDlvgmJeNl5JBn2CLGRPEEuA/AIgPKggUE9ZWGyWCH2bUNEAJ5uYX0/+FHODewc57xktwtSJdSG/Q3AD1pFvL/rgkavPgHgI/BTh9yabQPA+csn9HvOpH5rYyyG1g3TjRzAfyeNfPnk7GmpTgDzAZwDf8wporkHXa4ylG45lZV86lLRRhvjqBE4ph3zNqR11OonQkgr81iO15xf0vuPEvLJ75t04dT17pFIJKMGDhxoqf/vHTt25Ofl5fl/8skn0RkZGflLliyJev311+OOHDlyfty4cRYAGDhw4NC0tLS8wYMH2wHg8OHDgXfdddeQzZs35z3++OO19XsFBQUlmM3mM42f78033+wZEhLifO+990qHDRs2pPFaaWmpbMKECcZdu3ZdBIDi4mJp7969h3/00UeFb731VkMzrpiYGGVwcLATAJxOp+jhhx+uXrRo0dXAwMCGssb333+/28KFC3sVFxdnRkVFOQHAaDSKn3322T45OTmBHMeJ5HK5Iz09PS8sLMyb5ZuEEEK8TKVjLicOlp0GMASNxq5yAH4pcBx6YojsMZ8FR7xFyF4sSvBvXC/J75C79evoIGYA+LiZtWzwf33E4PtqAABOWcyagf7+CV6IzZeeAhCjVcT/Lj5HW9l4QaNX5ynjJnwAfsRzD/BjlJu4XJFXvv3oqtUPjZ45IzQwvKd3Qm4wAMCO2dNS9zlZxxsrdz3/C4A/gE+2lAKweHpQ5uWr2vPFpbl39u9zZ98uEXdLxOLbbfDMAXjvNvcghHRibb6Sxd/fn83JyTlf/6s+cdJYdHS0fcGCBT2a22Pt2rVRd9xxhyk1NTXyRp9XKpWi8fPu2bMnz9/fn0tKSiquvyclJSVixIgRdZs2bXLrin7gwIHc3Nzc86dPn9YWFBT4P/vss30ar2/evDlq2LBhdd9//31Dc7aFCxd269atG5Obm3s+Ly8v+9tvv9X7+fm19nlTQgghbUMa+J4JTapZUjWMptbGCTJthrRZleB7Z9w2eYJcBGAagFpZF1moX7TfUCH2bYMSlMnKwZ4WMoxGE/jeLE1enx2qq9NbWNbkjeB87C4Aaq0ivr/rgkavvgrg3wAKwU/2cTuSU11XXrdZvey7ytqrvmoWPEUilmbOnpY696l7Fn0O4BvwlUmx4I/AuWGcrPNgbsEh1Vntl6W1pszbbNeyiapYCCG3o80nWW7EfffdZ8jNzQ3MzMx0K49kWRZpaWkRKSkp+l9//VVuNps9nu9sCcuymDFjRtzcuXNLxowZ03BWddOmTZEff/zx5ZKSEllBQYFb13YACAsLY5OTky/t27cvvLS0VAIA2dnZ/mazWbxgwYKijRs3NiR+rl69KouJiWHq/3vEiBG2xtUvhBBCOjQ9+BL5ro0vOlhwu3Id6T6JiHjLKiQZPH5Kfwv6gv/kvzp8fPgYkVjUIV7rNWNGC2u/wqXRKwtwBXZ7duuG1GYMAj/i+U7XBY1ebQBfBXQc/PeKW+LCxliYzUeWb7hckXe8tQNthgTAnCh5bM7saakje0bFzwc/iS0GQHc006+l2mwx7TqXs32/7uJqo9V25WaflOM4FkDSbcRNCCFtP8lis9nECoViiEKhGDJlyhS3jDwAiMVivPbaayXvv/++WzXLvn37QmJjY21Dhw61jRs3zrhp06ab7q6/YMGCaKlUys2fP7+s/lp+fr6soqJCNnHiRHNiYmJ1cnJys1UykZGRbExMjD07OzsAAJKTkyOnT59eNXXqVFNBQUFAUVGRFABeeumlii+//LL7yJEjFX/5y196ajQat6QRIYSQjkmlYzgAKgBBrms/ZDHZxUZW7/WgiDcw4JuSCmUKALvYXywN6BMwWsB926KWpgxpATjgcjT+qLmuM1UodAGQrlXEP+G6oNGrbQBWAdgFvqLF7YgNx7HcrpPJP2kvn9xzvUk+jMOOxVtn46NNL+LDjX/CrhPfud2TX3wO/9nyMv6yagrOXDzQcL205jIWbZmFjza9iIslfA7MyTrxZdpbsDPWSABLfjfhn4dnT0utAvAugFzwyaFmX9MXVFQXbzqp+ebs5atb7Q5HbXP3uRKJRD/M25DW0Xv3EEJaWZtPsjQ+LrRv374Lzd338ssvV54+fTokJyenyQ+JdevWRT7xxBNVAPD0009XrV+//oaPDAHAkSNHAleuXNlt3bp1erH4f1+u5OTkyMTExGoA+MMf/lC1efPmFvdt/LNp27Ztkc8//3yVRCLBgw8+WJ2SkhIBABMmTLAUFBRo3njjjZKqqirphAkT4k+fPh1wM/ESQghp1y4AyIGHxpTfnmF2s60/spR43yYkGYqvf9v1yRPkXQCMA1AaNj5shFgm9jiytwMZqExWekwkZRiNVvCVGk3+Lp20WIpMTme1N4JrIwIAbNQq4t9yXdDo1U4AmwCsAV8hEuxpgwPZ248ez/t5o5N1Opp7EqlEhr9M+wTvPLka7zy+CuevnEBB6fkm90SEdsMf7n0bowfc1+T6ofM7kTjuz/i/+/+FX85tAgD8el6FMQMnw0/W8DJ4KIC9s6elrnj54RQVgMUA7OATRM1+KHn6UpFm00nNUn1F9UGWZZuNHwA4jrOBerEQQgTQ5pMsN0omk2Hu3LklCxYs6F5/zeFw4KeffopYvHhxz5iYGOVbb73V+8CBA2HV1dU39Ps2mUyi559/vt+nn35aGBsb2+Qf5i1btkRu2LAhKiYmRjl9+vQBOp0usLnKk+rqanFxcbGfUqm0Hjt2LPDSpUv+U6dOHRQTE6NUqVSRjRM0YWFh7MyZM2vWrVtX+Nhjj1Xt2LHjpitvCCGEtE/Xqlm2w2UyCgAcL3KWakrZ6zaMJ+2OkGObfwu+aScbPCh4nID7tmUtVbMcgYc34Hl2W2eqZgH4ozX/1Sriv9Iq4pscDbo24jkDwCcAwtHMNJ8zFw/kZGi2fMc4bHUen0Akgr+Mz+k5WQecrAMilxM9UaHdERPVHyJR0+sSsRSMww67wwaJWAKzzYSsS0cwbtD9np5qmkQszZ49LXXmo3e+uwjAumsx90Iz/VpsDieTnnMhI+1cztJyY12zx8VEItGX8zakXWxunRBCblSHSbIAwNy5cysPHTokr6qqkgLAjh075AqFwlxSUnKuqKhIU1xcrJk6dWp1ampq+PX2AoBXXnkldvz48cZnnnmmySi7zMxMf7PZLCkrKztXVFSkKSoq0sydO7ckJSXFrZrFYDCIX3jhhT5Tpkyp6dq1qzMlJSVy3rx5xfWPKysrO1dSUuKXm5vrt3fv3uDy8nIJAFitVlFubm5AXFycW6NfQgghHZoOQBaAaNeFZSfs6TYHZ3V/CGmnDiPJcEKIjeQJ8kDwR4VKQ0eG9pcES7pe7zEdxFPKZGVzr2dzwU+kaVLlfKiuUx0ZauwVADu0ini3ihWNXn0OfENcEYBunh6cf/Vc0a6Tyd9YbKZKT+ss68RHm1/C31MehyJmFOKi428oqN8OfRTp5zZj/cHP8EDCDPx0KgUPJDzrloxpxA/AX2O6DDk/e1pqXEhg1N8BHACfaPEYOwBUmMyGnZnazb/m6dfU2exNJitxHFcB4MMbCpgQQq7jpkY438jIZV8KCAjgXnrppbJ//vOfsQCQmpoamZiYWNP4nscff7x65cqV3ebMmVNltVrF0dHRw+vXXnnllYaxmXq9XrZu3bquffv2tSoUioZRzoMGDbIMGDDA9tBDDzUpNX366aerZ8yY0W/x4sVXAeCee+4ZxHGciGVZPPTQQzWLFi0qBoDt27dHpqWl5TV+7IMPPlidnJwc2aNHD2bu3Ll9AIBlWdHkyZMNM2fO7EwlrYQQ0umpdAyXOFi2HsAH4D+ZddavlZg4S3qBI+PBgbIHfRYgEZKQVSyjwVdt2EOUIeMF3LetiwFfwbPfdSHDaGQmhoYeAnAvgIYjWVqbraLG6SwNl0jcEpmdwMMADmoV8Y/E52ibJBo0erVeGTdhAYDXwScs3BrHltQUVm85suLraWNeeDosOKrJ5EyxWIJ3nlgFs82E1XvfQ3FVAXpG9r1uQJGh0Xg98VMAQLmhCAZzJaLDY5Gc/hGcTgceHvNHRIfHenpoNICvn5/85WwAr321c8a/wDdDjgdQAcDo6UF5pRWF+aUVq8f0jU0YFB01xU8qDRCJREnzNqQZPN1PCCE3S9TS8e7MzEz9iBEjKrwYDyE3LTMzs8uIESPifB0HIYQIKXGw7GnwlQmXG1+XiiH6OjFwVmSgqNlPbEm7cAlAfyQZnNe98zrkCXIJgI8AiAN6BwR0e6zbnBaqADqi1ZqZmpc8LUwMDR0AYD74kcUNZkZE/GZcUPBkbwTXRhUCeDg+R5vluqCMmxAMvupl6LX73N4sSCV+kmljXng0OjxW6WnzH0+mwE8WgMkjfu+2tjZjEYb1GY+Efve4rX277wM8MvYFHNXtwYDuSkSGdsfu0+vwx/vm38jvaaPDyby16seZUQCeAxAJ4Cr43i2e9Azx9zv/+zHDAwB8PG9DWos9Wwgh5EZ1qONChBBCSAeyC4AVLmNoHSy49VnMbt+ERAT0pRAJlmsU4Ed/m8LGhI3vZAkWAHhcmayUNbNWAL6iockggf0mU1Yn7yPdG8AhrSL+PtcFjV5dB+AL8Edw+sJD5bvDaXduO7pq68WS7F8BwGipgdlmAgDYHTboik41V33SrLziTIQFR6FbWC8wDhtEIjHEYjHsjhs+Ifl7qUSWM3ta6mP3DP+/DwBsBN/4uCfc3/NIAUhMNnvqvA1p/6EECyFESJRkIYQQQtoglY4xAlgPD71Zduc7Ci5UsTRmtP0yAfhawP0eBlAnlUsD/Xv6D7/u3R1PJICpnhYyjEYn+KNETaYMXWIYQ6XTednTYzqRMAA/aRXxL7guaPRqBkAK+ERFb7gkqXgc9p79If2c/rCqpq6CXbJzHhZu+jMWb50NRa9RUPa5E2kn1uCcXg0AuFSWg3fXPYUzFw/ih4Of4cONf/rfThyH3afX4cFRfwAA/Cb+Yew4vhpf703CfR6qYVoQCOCfQ/vcp5k9LTUSwN8BHLv2e2j8PdATwI/ZRSVlN7M5IYTcCDouRNo9Oi5ECOmoEgfLpOBHioYDqGq8NjhKHP7RZP85UrHopvqrkTbhSyQZ/iLERvIEeS/w/XsKox6I+k1IfIhbZUIn8YNmpmaGp4WJoaG9ASTB5cjQU2HhY+4JCXlIqACSq6qw2VADEYBB/v74d/ce8Bf/7/PM9TXV+KG6BmIRECwWIym6Owb4++O02YwFpaXwE4uwuEdP9PHzQ63TiXnFxVjVq1dLDWCF9GF8jvafnhaUcRPuBPAS+H+DPPY5GdZ7fL/xg6f+XiqRNjtO2UeOgO/XUgngWQADwP8eRADezi4q8TgtiRBCbgdVshBCCCFtlErHOMCPKA0Dms5D1VWyNceLnGqfBEZuBwtgiYD7TQLAQAJRUL+gsQLu294kKpOVblNzrrkMvhFqk/WMOlM2y3GsEE9eyjBYV1ONTX3ioOrbD04APxprm9zzSKgcO/r2xba4vvhTZCT+W8YXUXxXXYXPY2LwepeuWF/DzztYXlmBl6KivJVgAYB3tYr4tVpFvJ/rgkavPgLgPwCC4FIRVC+r8OjFfWd/+NbGWGo9rfvQnQCOzZ6W+t6fHlj1DYBlABgAqZRgIYS0FkqyEEIIIW2YSsfkAlAD6OG6tuy4/VCdnWtrb2pIy3YhyZAvxEbyBHkY+Mk6pWFjw4aI/cWhQuzbTgUDSPS0kGE0cgAyAEQ1vl7mcJhLHY6LQgXg5DhYOQ4OjoOVZdFN2rRNTIhE0vD/LSzXkDaVikSwsSwsLAuZSIRCux1lDgfGBAUJFdqNeg7AHq0iPtx1QaNX68BXTFnh4d8iALhUritTHf/ma5PVUNK6Yd40EYCZAX4hutnTUu/7w31f/D27qOSwr4MihHRclGQhhBBC2r4t4N8oNPmU2WgHk5br2OebkMgt+kzAve4E/1rOGRIfcqeA+7ZXHo8LXXMGLtVgAHDOatEI8cTRMhleiIzEfRfycc+FfISIJfhNsHthTWp1NR64eAGflJdhfje+3dKLkVH4V2kJ1lZXY0Z4BL6oKMerXboKEdatuBeAWquIj3Nd0OjVxQA+BFAEvseJ29ez0lhi3KL+ak2VsVSQRKLAQgAsDA3qen7ZrPTpvg6GENJxUZKFeI3JZBI98cQTcYmJiX1ff/31nr6OhxBC2guVjqkAsB0ePkH+XsNkXTWyl7wfFbkFmUgyZAixkTxB7ge+4W1ZcHxwrFQupZ+rwAPKZGVkM2ul4HuyyBtfzDCZcpwcd9uTZQxOJ9JNJuzr1x/7+w+AhWOhMhjc7psREYE9/frjza5dsbKSb3sYHxCA9X3i8F3v3rjCMOgm5dssvVlchLeLi1Hh8Prgm3gAR7WK+DGuCxq9ugbAYvBJqzh4eC9hsdfZN6u/Si2qvHiqtQO9Rf0AbFk2K/2XZbPSPY6gJoSQ20FJFuI1ISEh3ObNm/Uqlarg888/L/Z1PIQQ0s78AqAagNuRkM+P2nfYnZzd+yGRm/SFgHuNAP+9YA0dGTpewH3bMxmAJzwtNDoy1OQoTC3L2q8wTO7tPvERcx1iZDJESqWQiUSYEhKKs1ZLs/c/FCrHLyZTk2scx2FFZQVmRXXBsooKzI3qgmlhcqyrrr7d8G5FNID9WkX871wXNHq1BcBXAHaDT7S49XFhOSe388S3abqiMz+34VHZkwCcWTYrffmyWekee80QQsituKkkS/eMs6OE/HUjzymRSEYpFIohAwcOHPrggw/2MxqN4sbX63/Nnz+/OwCMHTt28LBhw+LrH3/w4MGgsWPHDgaAtLS00NDQ0JHx8fFD4uLiho0ePXrwDz/8EFZ/75tvvtmzW7duwxvvW1FRIUlLSwsViUSjUlNTG+6dOHHigLS0tNApU6b0VygUQ3r37j0sNDR0ZP3j9u3bFzx27NjBcXFxw+rW0cFSAAAgAElEQVSvTZ06tV9zv8/77ruv/8iRIxWNrz3++ONxa9asiWh8LSgoKOH48eOB9XuGhYWNjImJUSoUiiETJkwYBAAnT54MGD9+/KC4uLhhffr0GfbWW2/1YFm+r9uSJUuiIiIiRigUiiF9+/Yd+v7773dr/Pt/7733oh0OBxp/DRQKxZCIiIgRDz/8cEP8xcXFUqlUesfixYub/FAyGAziGTNm9ImNjR02YMCAoaNHjx6cnp7eUC+bkpISLhKJRp05c6bJKMCWYiaEEAKodIwVwFq49JUAAG0FW70r1/GT96MiN6EUQKoQG8kT5CIA0wDU+EX7hfl184u/3mM6kZaODJ0Df8SlyTGXTMvtHxnqIZUh02KBhWXBcRyOmuvQz69p7kFv/18e9ECdCX1kTde31xpwT0gIwiQSWDkWYpEIYohgFaY3760IArBFq4h/zXVBo1c7wY+YTwYQc+1eNxmaLYdPXcjYzLJOr5fj3CAJgFkA8pbNSn992ax02fUeQAgh19PmK1n8/f3ZnJyc83l5edkymYz75JNPuja+Xv9r4cKFDU22KisrpRs3bpR72m/06NEmrVZ7Xq/XZy1ZsqTwr3/9a+8dO3Y0fCo4a9as0sb7dunSxQkA0dHRzKJFi9zKtPft23chJyfn/FdffXVp9OjRpvrHTZkypQ4AUlJSLtZf2717t8fmahUVFZLs7Ozg2tpaSU5OjtunAa7Gjh1rqd9z8uTJNR9++OGVnJyc82q1OtdkMokee+yxAW+//XaJXq/PysrKOn/s2LGQRYsWNRzunTZtWnVOTs75I0eO5Hz++ec98vPzm/xAkUqlaPw12LNnT56/vz+XlJTUUH2SkpISMWLEiLpNmzY1ebH/7LPPxkVERDj0en1Wfn5+dkpKSkFZWVnDeNH169dH3nHHHaa1a9c2lPPeSMyEEEIAAGcBnAfQzXVhzVnmbF6lM9v7IZEbtAJJBptAew0AEAugJmxc2FiRF0fQtAN3K5OVMZ4WMozGKgA6AE0+wMqoM+UxHHdbfzYjAgNxf2gonrikx6P6ArAAfh8Wji8rypFu4qcep1ZXY1rBRTymL0ByVTUW9vjfy0oLy2KHoRZPh/OhzYyIxGtFRfisvKzhmo+IAXyuVcR/oVXEN3nfoNGrOY1e/Qv4PkORcKkSqncyPz17f9b2FMZpb760x/fCwf8+zi2blT7V18EQQtq3Np9kaeyuu+4y5efn+1/vvrlz55b+5z//ue7Z5AkTJljeeuut4qVLl7q9WHUVHx9vDg0NdW7bts1j8uZ2rF27NmLy5Mk1jz32WFVycnJzZ4lvyOrVq6NGjx5tmj59ei0AhIaGssuXLy/84osv3BJE3bt3d/bu3dt2+fLlZrP2LMtixowZcXPnzi0ZM2aMtf76pk2bIj/++OPLJSUlsoKCAhkAZGdn+585cyb4iy++KJJc66A/ZMgQ+9NPP20A+CqXkydPhqxZs0a/bdu2hlcMNxMzIYR0Ziodw4GvhggEIHVdX3TYnmaiaUNtkQ3AcgH3ux+AVRwolgX0DrhDwH07AjGAp1tY3w+XI3c2jnNestu1t/vEr3bpil19+0HVtx8W9egJP7EYr3bpikkh/NPNj47Gzr79sC2uL77r3RsD/f/3kjZQLMZ3vXtDdi1fNjooCDv69sXmuL6I87vu52/e8BfwVS1uFSsavfosgIXgq0I8vqbOLT5z+adTa7+22OuqWjfM26YA8NOyWem7ls1KH+zrYAgh7VO7SbIwDIM9e/bIlUqlBQBsNpu48XGW1atXN7xpv/vuu01+fn7szp07rzvKcOzYseYLFy40HF1ZsWJFdP2e48aNG9T43nfffffqwoULb+qN//PPP9+vfr+XX365l6d7Nm3aFPncc89VzZw5s2rLli23lWTJzs4OuOOOO8yNrw0dOtRmNpvFVVVVTf688/Ly/Gw2m3jcuHHNfrKwYMGCaKlUys2fP7+s/lp+fr6soqJCNnHiRHNiYmJ1fWLo7NmzAUOGDDFLpW6v+wEA33//ffi9995rGD58uC08PNx56NChoJuNmRBCOjuVjrkCYCv4SoYmyuo4a/JZZhvbhpsgdFI/IMlQKsRG8gR5NwCjAZSH3xmeIJaKA673mE7omRbWsgGwcHkNfNJiFmTKUAf3OwAZWkW8WyJFo1dfBD/i2QD++JCb4qqCqu1HV31Ta6663LphCuIhAJpls9I/XTYrPey6dxNCSCNt/g1sfTJFqVQO6dWrl/21116rANyPC7344otNuoLNnz//hhIirq9DGx8XOnbsWJNGaFOnTjUBwO7du0NuNP7Gx4VWrlx5xXX98uXL0kuXLvnff//9puHDh9ukUil34sSJAADwVP17vYpgjuOarRquv75z586IAQMGDI2Pj1e+8sorpUFBQR5fjB85ciRw5cqV3datW6cXi//3rZKcnByZmJhYDQB/+MMfqjZv3nxDiaGNGzdGPvPMM9UA8Pjjj1fVHxm6kZgJIYQ08ROAXPDNKZvYc8GhP1HkVHs/JNKCzwXc67cAnADYoIFB4wTctyMZpUxWDvK0kGE0GsH3Zmly3PlwXV2BlWVNnh5DmhgLfvKQwnVBo1eXga9oyQfQBx5GPBvMlebN6q9SygxX2sPRRhmAN8D3a3l52az0Nv++iRDSNrT5fywaJ1OSk5MvBwQE3NCnc4mJiUabzSY+dOhQcEv3nThxImjAgAHWlu5p7J133rn673//W7BjLMnJyZG1tbWS2NhYZUxMjLKoqMi/PvkQGRnpqKqqktTfW1paKgkPD2+xcdjQoUMtp06dalLKef78eb+goCA2IiKCBfieLPn5+dm7d+/Oee+992ILCwvdSk9MJpPo+eef7/fpp58WxsbGNnnOLVu2RG7YsCEqJiZGOX369AE6nS5Qo9H4jxw50qrVaoOcTqdbXCUlJZKjR4/K58yZ0ycmJka5dOnS7iqVKoJl2RuKmRBCyP+odIwDwGrw5fmBruuL1fb08jr2qtcDI57sR5IhU4iN5AnyIPBHhUrlo+SDJIGS26p+7eBaqmb5FS6NWp0Ad9Fubw9v/NuCvgDUWkX8va4LGr3aCL63ifrafW6vMe0Oq2PrkZWb9WU5h1s7UIF0BbACwOlls9Lv9XEshJB2oM0nWW7H3/72t6tffvll9+bWjx07Frh48eKec+bMKWvuHlfTp0+vNRgMEq1W67GL+s3avHlz5LZt2/KKioo0RUVFmmPHjp3fvn17JABMnDjRuGXLlkir1SoCgOXLl3eZMGGCsaX9XnrppcoTJ06Ebt++PRTgkyVz5szp/eqrr5a43jt58uS66dOnVy5atMjtk9BXXnkldvz48cZnnnnG0Ph6Zmamv9lslpSVlZ2rj3nu3LklKSkpkUOHDrUNHz687s033+xZPxlIo9H4r1u3Lnzt2rUR06dPrywuLtYUFRVpSkpKzvXq1cu+d+/ekJuJmRBCCE+lY8oArAHQHS6fGNudYJccs29xsBzjk+BIY58JuNc48J+uMyHDQmhsc8taSrJoATjgkgA4ZjZntWpEHUsEgD1aRfxzrgsavdoO4BsA2wD0BuChnyKH3afX/Zx16egujmPby/HGEQAyls1K37xsVnqcr4MhhLRdnptnNKNk4shTrRXIzao/RlT/35MmTTJ89dVXRY3veeqppwwLFixoUoVx8uTJkPj4+CEWi0UcFRXFLF68uPDRRx9tSFysWLEieuPGjQ0lpDt27Mh3fe6//e1vV5977rkBNxLn888/3y8gIIAF+MoUtVrdcARJp9P5FRcX+02aNKmu/ppCobCHhIQ409PTg5955hnDyZMng4YPHx4vFovRp08f25o1ay619HwhISHc1q1b8+fOndv79ddfl7EsiyeffLLynXfe8ZhI+te//lUyevToIR9++GHDJ556vV62bt26rn379rU2/hoPGjTIMmDAANtDDz3U5GjW008/XT1jxox+ixcvvrpu3Tr97NmzY2NjY5UAEBMTY1+8ePHlJUuWRL/99ttNPlV99NFHq9euXRs5depU083ETAghpMFR8C/8RwNociQ1s5St3J3v2PPIINkjPomMAPyxiTQhNpInyCUAHgFQEdg3sJssQtZXiH07sMHKZOUdmpma064LGUajZWJo6HEAowA0fKBzwmK+8iQbVh0ilvh0nE874gdgrVYR3zc+R/tB4wWNXs0q4yZsB1AG4EUAFQDcjmMd0qadrDVX1YwbfP+TErG0TXT4vQGPA3h42az0TwF8NGfFJDpmRghpQtRSb7zMzEz9iBEjKrwYD+kgWJbFE088Ebd161Z9az9XZmZmlxEjRsS19vMQQkhblDhYFgK+4STAN51s4oupAU/3jRDTlAzfeA1JhiVCbCRPkA8H3x/iUvST0YkBMQEJQuzbwX2iman5q6eFiaGhwwC8CaCw8fWXIqMmjQwMvNsbwXUwawC8HJ+jdaueU8ZNGAJ+OpEdgMfpQn2jh3SfOGz6DD9ZwHWHVrQxxQDeAbB2zopJ7aUihxDSyjr0cSHiGwaDQTxkyJAhBQUFNPGAEEJamUrHmMD3C4iAhwrV/xyyqcwMR5+0ep8BwLdCbCRPkIvAV7GYpOHSIP8e/sOF2LcTeEqZrGyug74O/GjtJtUTh+vqaMrQrXkBwI9aRbzbJB6NXn0ewIfgGzZ7PMZfUHq+ZOeJb7+us9a2tyrmngCSARxdNiudjvARQgBQkoW0grCwMDYnJ+f8mTNncnwdCyGEdAYqHaMDoALQy3XtqokzrzvHbKepzl73DZIMQiW3egMYBKAy/M7wMSKxSHK9BxAA/N+H33payDAaGQCHAXRpfD3bZi03OJ3t7Y1+WzEZwCGtIr6364JGr74CvuKuFB7GzwNAeW1x7ZYjy7+tNpVfbN0wW8VYAOpls9LXLpuV7nGENSGk87hekoVlWZZm6JI269r3J00gIoQQYCeAAvCTMJpIy3VcOFnMHvF+SJ2WE8CXAu53HwC7SCaSBPYNHC3gvp1BSw1wj8FD9VeOzUrVLLduGPgRz3e4Lmj06ioAiwBoAMTBw/sQs81o26xe9v3VKv2Z1g60FYgAPAdAt2xW+rvLZqVTRTchndT1kixZ5eXlYZRoIW0Ry7Ki8vLyMAA0DYAQ0umpdAwDYBX44w9uL+4/OmTbd6mGdWvmTlrFdiQZ9EJsJE+QRwD4DYDSsHFhw8R+4hAh9u1EnlAmK2XNrF0E34y1yd+Xg3V1WVT5dVt6ADioVcQ/7Lqg0avNAJYC+Bl8osXtz8bJOtgdx79W5RWfy2jtQFtJMPiqHe2yWelP+joYQoj3tdj49tSpU92kUunX4LPSdLSItDUsgCyHw/HnUaNGUWkvIYQASBws+y2AP4OvamnyQz4iAH6fTQ34U2SgONonwXUedyPJcEiIjeQJ8kcATAdQGPN/MS9LQ6Uee1qQFj2imanZ5WlhYmjo4wAehMt0rgXR3f/URSr1eKyF3DAngFfjc7TLXReUcRNEAO4HMAP8hCeLpw3GDpyiHNnv7kfFInF7PiJ3EMBrc1ZMOuvrQAgh3tFikoUQQggh7UviYJkIwBzwo52LXNcHRIrlH07yfzFIJqKKiNZxEkmGMUJsJE+Q+wP4FEBtyLCQ7lGTo/4oxL6dUKpmpuZZTwsTQ0P7APgXXKYMPRMePvbu4JAHvRFcJ/AxgLfjc7RubzqUcRNGAZgNoBYepqMBgKLXqD53xT/ytFQia8/Hb1gA3wD4x5wVk8p9HQwhpHVRdQohhBDSgah0DAcgBYAZQLjren4VW7v0uP0HB8u5jVolgvhcwL0SAAQBsIWOCL1TwH07m0eVycqgZtYKAVSCP+LRIN1kymbpk0ih/BXARq0i3i1JotGrTwH4CPwxR7d+UgCQc+XUpd2n131jtZtrWjfMViUG8CKAvGWz0uctm5Xe3BE2QkgHQEkWQgghpINR6Zha8G/2Q8G/SW/iUKGz+AcNs5XeRAquGMBGITaSJ8jFABIBVPv39I+QdZENEmLf67nyzRVoX9Ui7x95DdcMxw3Im5+HrBeyYCnweKoDAFCxtwJ5/8hD3vw8VOypaLhesrEEee/m4cqq/53IqT5cjYq9FZ62aQ3B4L+WbjKMRg5AOoDIxtdLHY66UoejPU65aaueAJCuVcR3cV3Q6NX54HuYmMCPRHZzpfJCxfZjq742WmrcqvPamTDwlT1Zy2alP+LrYAghrYOSLIQQQkgHpNIxBQCWAYiGh+aSm847cjIKnD97PbCO7SskGYSqEBoE/g1nbdjYsHEikcgrQwgi7opA3Ly4Jtf8e/mj96u9ETSouWIQwHrFiuoD1ej/Xn8M+GAAjJlG2EpscJqdMOebMfDDgeBYDtbLVrB2FjWHahA1KaqVfzdNtDRl6Cw8vCbOstKUIYHdCX7y0EDXBY1eXQLg3wD04EeWu32/19RV1G0+vPS7itqrOa0dqBcMAvDvZbPS6b0YIR0Q/cUmhBBCOiiVjjkNYD2AWHj4mf/FMbtaU+o85fXAOiYLgBUC7jcVgFkSLPEP6BWQIOC+LQoeHAxJcNMeowE9A+Dfw7/Fx9mKbQjqHwSxvxgiiQjBg4NRe7oWEAGcgwPHceAYDiKJCBU/VSBqShREUq8Or5yqTFZGNLNWAr7xrbzxxXSTMcfJcY5Wj6xz6Q/giFYRf5frgkavrgXwCYDj4CcPuTW7tTmsji1Hlm8sLM892tqBesGrc1ZMYn0dBCFEeJRkIYQQQjq23QB+Af/psJuk/bYfLxvYC94NqUNahyRDpRAbyRPk3cE3Li4PuzMsQSQV+Qmxb2vy7+WPOl0dHCYHWBsL4zkjmEoGkkAJ5KPluPDeBci6yCAOEsNy0QL5HfLrbyosPwCPe1podGSoSQ8jA8vaihgmz9NjyG2JAvCzVhH/lOuCRq+2AVgNQAWgDwC37B7HsdyPp1L2nL98YjfXfo88rp+zYtJBXwdBCGkdlGQhhBBCOrBrjXBTAWgA9HJdZ1iw72XYNlVbOJp4cXuEbHh7LwAHREDQgKBxAu7bagJ6BqDLQ12gX6yH/hM9AmIDIJLwlSpdH+qKAR8MQI9neqBsaxm6Te+GqgNVKFxWiDJVmTfDnNHC2rlr/9ukvCbTaqEjQ63DH8APWkX8310XNHq1E8BW8NN4esClKXG9g9k7jh3L3bvByTrbWxPvOgBv+ToIQkjroSQLIYQQ0sGpdAwDYCWAMgDdXNcrLZxt4a+2VAvD1Xk9uI5hL5IM54XYSJ4gDwFwH4DSsDFhCkmAxG1CVFsVeU8kBrw/AP3m94MkRAK/6KYFOJZLfNNc/+7+qDlcg95zesN2xQZbic1bId6jTFZ6bKyaYTRWAsiHSzXLfpMpj+E4rwXYyYgAfKRVxK/UKuKljRc0ejWn0asPgG8SGwbA41GvswW/6tLPbfrO7rC1p3+7/jFnxaQr17+NENJeUZKFEEII6QRUOsYEvtqCBf+mpQldJVuz7IT9BwdLPShugZBVLOPB96JwBA8JHi/gvq3OUct/69gr7ag9WYvw8U3zQ2Vby9DtsW7gHBz/XQgAYoC1e60thRiA2xGVRjLAT+RqYOE4xyW7XduqUZGXAOzUKuJDXRc0enUWgA8BcOCbeLu5UJJVvOvkd1+bbcY2X43HcdwxAF/6Og5CSOuiJAshhBDSSah0TBmAz8A3+Ax0XT94yVm0IYvZRqOdb0oO+L43t02eIJcCeARARdCAoB6ycJnHPjqt6fLyy7j44UXYSmzIeSMHVQeqUHuqFjlv5MBywQL9Z3roP9YDAJhqBvpP9Q2PLVxaiLz5eSj8vBA9n+/ZpIFu7alaBPYNhCxCBkmwBIEDApH3Lt/uJLC327dia2ppylAW+DfzTV4fn7ZYslo1IgLwjZ5/1SriY1wXNHp1IfgRzxXwcOQRAEprLtdsPbLi25q6Cn2rRnkbOI5jRCLRn6nZLSEdn4heRxFCCCGdS+Jg2WgAfwFQCMCtcuVZpWzYk0Ol08VeGhvczr2CJIMgU4XkCfIE8H8ul7o/1f0x/x7+w4XYl7gZqJmpyfe0MDE09DUAA8G/oQcASADR4h495wWIxR57gxBBFQF4OD5Hm+m6oIybEAzgZQDDwf/b5ZaskEr8JI+M/mNi94jebfHvzgdzVkx6z9dBEEJaH1WyEEIIIZ2MSsecBLAB/MQht0TK9xom6wcNs9nJcvSJa8uqAKQIsZE8QS4CX8VSK4uShfhF+w0VYl/iUUsNcA/BpdGqE+AK7Pbs1g2JXBMDvqLlftcFjV5dB/6oTQb4Ec9S13scTrtz+7FV2y6UZB1o7UBvBsuxOvDHngghnQAlWQghhJDO6Ufwb1b6eFrckO04v+4cs9HJck7vhtWurEKSwSzQXnEA+gGoDhsfNkYkFkmucz+5dS0dGToPvrqrydf/mNlMU4a8JxTALq0i/hHXBY1ezYBPbG4AEAsgwNMG+86u33+24NAOlmN9nijmOI4Ti8T/N2fFJLuvYyGEeAclWQghhJBO6Npo53Xg31TGerpni9ah++4ss4ESLR45ACwVcL8pAGwiP5E0MC5wtID7EncKZbIywdNChtFoAXACQJfG149bzFfqWLbGG8ERAIAWwK+eFq5NHtoFYBn4ZrhyT/cd1e0+e/h82jqHk/H1dKiv5qyYdNjHMRBCvIiSLIQQQkgndW2081Lwo2s9Jlp26Bx535xhaOqQu81IMhQJsZE8QR4FfqpQWfj48OFimThIiH1Ji1qqZlED8He9mG+zUQNc77gC4KH4HK2hpZs0evVxAB+Bb+LdxdM92ZePF+w5k/qNjbG0uFdrYVn2okgk+psvnpsQ4juUZCGEEEI6MZWOMYMfQawD36PFTVqu48KqU8z3jJNjvBpc2/aZgHvdDX6qDRs8uH2NbW7HnlYmK5tr7JwLwAZA1vjiYXMdHRlqfQYAD8bnaK/cyM0avToX/OQhC4Cenu65XJFXvuPY11+bLIarwoV5fRzHOcVi8Yw5KybVefN5CSG+R0kWQgghpJNT6RgLgCUAstFMomV3vkO//KR9HePkqK8AcARJhuNCbCRPkAcAeABAaeiI0H6SYElXIfYl1xUL4C5PCxlGox18NUuT6ogsq7XM4HSWeSG2TsnJcayNZR+Pz9HeVMWQRq8uBt9UthDNNPOuMpWaNquXrak0luQKE+31ceA+nLNi0jFvPR8hpO2gJAshhBBCoNIxVvBHh86Bb4br9kbl54vOwi+P29fanZyvexz42ucC7jUKfPNOe4gyhKpYvKulKUPH4FLJAgA6OjLUKpwcxx6uq/vojavF6bfyeI1ebQDwMYCT4JtIuzWOtjJmZot6+forFRdO3FawN8DhZE6JRWKaJkRIJ0VJFkIIIYQAAFQ6xgbgKwCn0UyiZb/eeeWLo/YUm4Ozeju+NqIQwBYhNpInyMUAEgFUBcQGRMmiZAOF2JfcsCeUyUq3McDXXABggsv0moN1JjoyJDAnx7EZJtPS9Yaa9zKMRu5W99Ho1VYAK8FPTusDwM/1HpZzcmkn1/yYc+XUXo675adqEcs666QS2RNzVkyiPlaEdFKUZCGEEEJIA5WOsQNYAeA4+E+E3RItvxY6iz89Yk+2OjiLl8NrC5YiySDUtCUF+OkoRvkY+XiRqLkWIaSVdAFwv6eFDKPRCeAAXI4MXbTbayodjhvqF0Kuj+U4bp/J+N3WWsO8DKPxtscta/RqJ4CNAL4DEAMg2NN9+7O2HTmR/8tGJ+sUPBHCctxLc1ZM0gu9LyGk/aAkCyGEEEKauDZ1aBWAw2gm0XLkirPkY7U92cJwnampYx2A1QLu9xCAOkmoJCAgJmCEgPuSG9fSlKFT8HDs5LzNStUsAmA5jvvRWLtRVVs7N8NoFCzZcW3EczqATwBEAAj3dN/pC/u1+zVbkxmH3SzUc9sdth9eW31/qlD7EULaJ0qyEEIIIcSNSsc4AHwL4FfwiRa31wzHi5yl/0i3raows16d2uFD3yHJUCPERvIEeQyAoQAqwieEjxJJRG79P4hX/E6ZrAxsZu0SgEq4VENkmEzZbGudNekkriVYtv9oNL6cYTS2SkWcRq8+B74hrhhAN0/35F3NvLLr5HdfW+x1lbf7fHaHLc9P6v9/t7sPIaT9oyQLIYQQQjy6lmhZAyADfI8Dt9cN+VVs7V9+sn6bW+ns6A1BOQBfCLjfJAAMJBAF9QsaK+C+5OaEAJjmaeFaf5AMAJGNr5c4HHVlDkeBF2LrkFiO434yGlU/Go1/yjAaDa35XBq9Wg9+xHM1gF6e7impKazeemTFNwZzVeGtPo/DydRJxJIH5qyY1BmPUBJCXFCShRBCCCHNUukYJ4C1AH5BM4kWkx2Ov+61bckocPzSgT/h/xFJhjwhNpInyOUAfgugLGxMWLzYXywXYl9yy1qaMnQGHr7ns6x0ZOhWsBzH7TYa03YZa1/IMBoFqQq7Ho1eXQ7gIwA6NNPQ22iptmw+vCylrObKTSeLOY7jbIzl2b+sup8Sb4QQAJRkIYQQQsh1XEu0rAOwB/zRIY9HWz47aj+UfJZZ30FHPH8m4F53gu/14QgZEnKngPuSW/OgMlnpsW8HgKsAigA0SYSlm0xaJ8cJ1QC5U2A5jttjNP6YZqz9Y4bRWO3N59bo1SbwlWi/AugLwG2qFOO0ObceXbmloFR76Gb2NlpqPn/7u9/tECZSQkhHQEkWQgghhFyXSsewANYD+B582X2Ip/u25Thy/33Q9rXBylV5M75WpkGS4RchNpInyGUAHgFQHqwI7iWVS2OE2JfcFj8Aj3taaHRkqEkSpoZ12ooZRpDKps7AyXHsLmNt2k5j7fMZRqNP/m3Q6NV28FOHNgPoDZfx3DwOe858/8s5vXony7HXnXZkstaq5UER8wQOlRDSzlGShRBCCCE3RKVjWJWO2QNgMYBQuIy3rXemhK14Y491daGBveDVAFuPkL1YRoD/2oSmtRwAABh+SURBVFlCR4aOF3BfcntamjKUCf6ISZNjJplWCx0ZugF2lrWn1lRv/MlofMFXCZZ6Gr2a1ejVKvBj6qPB/110o8758fSRnJ9SnU6Hvbm9bIylTCbxe2jOikkd9YgkIeQWUZKFEEIIITdFpWOyACQBMKGZZpIVZs76+m7r9yeKnEe8GVsrKAdfvXPb5AlyEfgmqzV+3fzkft384oXYlwhiojJZ2d3TQobRWAEgDy7VLBkmUy7Dcc2+CSdAHcuaVlZVph4xm1/NMBpve4KPUDR6tRrAIvCTo6I83nPpyIW9Z9d/a2OsRtc1h5OxWex1D775zUOt2riXENI+UZKFEEIIITdNpWOugh+PmgW+x4HE9R4HC+6Dg7a9m88z25xsu+1fsQJJBqtAe/UHf0yhJmx82FiRWESvw9oOMYCnWlg/AJe+LBaOcxTa7dpWjaodq3Y6qj4vL/9ea7O9fS1R1aZo9Ooc8JOH7AA8JtguleeUqo5/s7rOWltaf43lWLa6rvz5f6z9/WkvhUoIaWfohzshhBBCbolKx5gAfAlABX5qR6Cn+1IymXOfHbWvMTOc2yfCbZwdwFcC7nc/AJs4UCwLiA0YJeC+RBgtTRnSgB/j3eS182mLpaOPLr8lxQxTvLisfG2Rg/lnhtFY7ut4mqPRq4vAJ4uvAoj1dE+l8apxi/qrb6uMpRcAoKK2eGFS6nMbvRgmIaSdEXXcSYuEEEII8YbEwTIRgLEAXgJ/hMjj5JC4cFHoP+72/310iNjjEaM2KAVJhplCbCRPkHcF8F8AlyMnRo4KHRH6kBD7EsEN0MzUeOwlNDE09A3w1UgNVRlSQPzfHj3fDBCLg70VYFuXZ7MVLK+sSLZy3OcZRmO7OE6jjJsQCODPAEYDuATAremtWCTpd/fQxKKlaW+94+34CCHtC1WyEEIIIeS2qHQMp9Ixx8CX3rMAeni6T1/DGV/ZZf12v97xSzs5PvS5gHvdA/5rwwYNDBon4L5EWC01wD0IvodHAwfAFtjt51s3pPbjlNl8/vOK8s+sHLeovSRYAECjV1sALEfzY+p7sZzz1IGsbe96OzZCSPtDSRZCCCGECEKlY/QAFgAoBH98yO11hoMF9+kR+6GFv9pWVZjZEi+HeDMOIslwRoiN5AnyIABTAJSG3hE6UBIk8dhok7QJLSVZtACccOk/dMJi7vRThjiO434xGk9+U121iAOWZxiNQvUx8hqNXu0A8AOAdeAbegddW4oGf5xotUavbg/JYUKIj1GShRBCCCGCUemYavAjng+A/0TYz9N9J4rZsllp1tWHCh0HWI5zK81vAz4TcK8x4L8O9tBhNLa5jRuiTFaO8LSQYTSaAZyEy+jyY2bzZTPLtpuqDaHZWNaSXF3985Zaw/sA1mYYjQ5fx3SrNHo1p9Gr94If2x4Fvk+LHcDnGr3a7NPgCCHtBiVZCCGEECIolY6xA0i+9qsngAhP99mdYP972L7/v4ftX1dZuDJvxngdF8E3871t8gS5BPzY5sqAuICuskhZPyH2Ja2qpQa4hwH4N77AAci32TplA9wKh6Pkv+Vlacct5vczjMa0DKOxQzR71OjVpwEsBN+f5TONXt1mxk8TQto+anxLCCGEkFaTOFjWH3xD3K4AisAft3ATKIXkjTv97h0bI/mNWCQSeTNGD95AkkGQfizyBLkSwJsALkU/ET0toFfAHULsS1pVIYA4zUyN24vkiaGhfuCrHKoAMPXXlQEB0a9EdZnlvRB9L9tq0ayqqjrBcNynGUZjtq/jIYSQtoIqWQghhBDSalQ65gKAfwHYC770PtzTfRYHnAt/tf/y2RH7tzVWzpefGtcC+EaIjeQJchGARwCYpOHSIP8e/sOF2Je0ut4AfuNpIcNotAM4ApcjQxqrtdTgdLbZUcVCcnKcY2etIX1ZZeV+huM+oAQLIYQ0RUkWQgghhLQqlY6xqnTMevDl9w7wb2I9vgY5cMl5ZfYuy4pTxc6jrG/Kbb9FksEo0F6xAAYDqAy/M3y0SCKSCrQvaX0tNcA9BvfpM8i12Tp8A1yT01m9tLJi109G434ACzKMRr2PQyKEkDaHkiyEEEII8QqVjskF8B6AdPDTh+Se7jPZ4Xj/gG3P0uP272ptXLUXQ2QBLBFwv/sA2EUykSSwb+AYAfclre9JZbKyuaRYPoA6uPRmOVhn6tB9WS7b7fkflpXu0dlsmwAsyjAaK3wdEyGEtEWUZCGEEEKI16h0jFmlY9YBWARABL7aw+PrkZ8vOgtn77IsP3PVedxLE4h2IMlQIMRG8gR5OIC7AJSGjQ0bKvYThwixL/GargAme1rIMBqd4KdnNTkydMFur650OIq8EJtXsRzHHa6rO/JRedmBWpZdAiD12rEpQgghHlCShRBCCCFep9Ix5wG8C+AQ+FHPoZ7uq7WB+dd+209J+23LC6pZXSuHJUiz22vqe3o4gxXBNLa5fWppytApAG6VLlqbtUMdGTI6nVWrqip3fl9TfQj88aAjHWWCECGEtBaaLkQIIYQQn0kcLBMBGAbgRQBB4CcQNfvi5P7+kj5PDZXd3zVY3FPgUE4jyTBKiI3kCXJ/AJ8AMAUPDe7WZUqXF4TYl3idEUC0ZqbG4rowMTRUDGAx+GlZ5vrrPaTSkH90i36zDUzIum05Vuvp1VWVORaOOwpgTYbRaPJ1TIQQ0h5QJQshhBBCfEalYziVjtEA+AeA4wD6Aghu7v69F5yX/qyyrt6QxWwx2rgaAUMRsoplBPjfg1U+Qn6ngPsS7woFPx3KTYbRyALIABDV+PpVh8NU7nDoWz+01mNhWdOGmuqtSyorNBaO+x7AMkqwEELIjaMkCyGEEEJ8TqVjjABWA/gMQCD4Xi0eG49yAL7XMFl/VlmW/nLRsc/m4Ky3+fRXAWy4zT0ANIxtfhRAjX8P/3BZV9lgIfYlPtPSlKHT8PBaOsvafo8MFdhtmg/KSrccqKsrAfDfDKPxx2sJJUIIITeIkiyEEEIIaROuVbWcAfB3AD8C6AGgJ5p5vWJxwPnFMbt67o/WJaeKnUedLOe8xadejiSDUI08B4GP2RA2NmycqAMcG+nkHlImK8OaWbsKoBgu/YTS60xaJ3fL34s+YWFZ01ZDzebF5eVnapxODYB/ZhiN530dFyGEtEeUZCGEEEJIm6LSMSaVjtkCPtlyAkBvAN2au7+0jrO8f8C2Z/4vtmV5lc7sm3w6K4AVtx6tmwcAWMRBYr+A2IAEAfclvuEPYLqnhWsNYNMBhDe+Xu10WosZJs8LsQnigs2W+UFp6YafTSYDgO8AfJZhNFb5OCxCCGm3KMlCCCGEkDZJpWPKVTpmNYAkAJfA92sJb+5+bQVbPW+vbfPHatvXV41s4Q0+zfdIMpTffrSAPEHeHcBIAOXhd4YniKQifyH2JT7X0pShTPCvp5tULJ2zWrNaNSIBGJ3Oyo01Nes/qSg/W8M6LwN4L8NozKDjQYQQcnsoyUIIIYSQNk2lY/QA/gvgYwAW8COfg5q7/+AlZ9HLadY1yWft60tN7JXrbC9kw9t7ALAQAUEDgsYJuC/xrYnKZGW0p4UMo7ECQD6AJkeKMkxGHcNxQh1BExTDcfajdXX7/lFydeP+OpMFwGYACzOMxmJfx0YIIR2Bx4ZyhBBCCCFtiUrHcAA0iYNl/wQwHsDTALoAKAHg8c3sFq1Dt0Xr0E3qK4l9dLDsN3HhosEuLVJ+RpJBkIoDeYI8GMBkAKXy0fLBkkBJhBD7kjZBAuApAEuaWT8A4E8AGqZdmTnOcZmx5/Tz8x/uhfhuCMdxKLDbz31fU73/qsMRBqAcwNcZRuNlX8dGCCEdCSVZCCGEENJuqHSMA8ChxMGy0wDuA5B4bekqAI/HHNILnJfTC5zrR0SLo36nkE0e2V3cXyIWySBsFct48G/GmZChIeMF3Je0Dc+g+SRL/TQhMRp9D542WzRtJclS7XBcVdXW/nTMYraBb9S7CcDeDKOR8XFohBDS4Yg4jvN1DIQQQgghtyRxsCwSwDQA94JvYlsGfsqzJyIAvZ8aKv3s2eF+DwD4GEmG234hJE+QSwEsBsAE9g+Ud5vW7eXb3ZO0Sf00MzUFnhYmhobOA3+MrbL+mhQQL+7Rc56/WNzs0bbWZmNZ82Fz3S9bDQYdyzePzgPwXYbReL1jdIQQQm4RVbIQQgghpN1S6ZgqAMmJg2W/AHgcfONZBkApANcxul0AZD271XIOwDkBwxgGviHvJfmo/2/vboLjOBMCDL89Mz3SSDPtH9mx49jE+Xc2cTYim0CShcVVkIUNlWI5AAkH3yi4UHCi4EJRRXGhoIoLZ3JYajksVBl2lywFsh2cYpMFJxknjh1v1o4dK3Ys2Z4eSfOnbg49WjuK5finNZKd97G7pmp61PNJp9Gr7/s6ei7H62p1eRH4qyXO7QMe4bLI0oPkJ53OuzuGh78yiMFdLknT9L12+41vXTi///z8/BjZXZL+HnjDjW0laXkZWSRJ0i1vz5HuKeDvXngovAt4Dvhq/9QZLu3ZMgp8P8/3jcajAPh1IA7HwurQ5qFH87y+VpWXWDqyvEsW9YpcFvfemJutDzKyJGmaHu926nsuNvYf7bRDYAz4LvD9iTieHdQ4JOmLzOVCkiTpttNfRvQ14Otkf8VvAReBP9tzpJvbX/Kj8Wg78OfAiQ3Pb9g1+sDoL+Z1ba1Kj9V31+tXOrGrVvsD4DGysAdk69P++s4tfzxSKETLOag0iyuH9jQa+460212yuPIm8O2JOJ5czveWJH2aM1kkSdJtp7+M6F9eeCh8BXgaeB74Tp6Bpe+XgU4QBsXK3ZWBLwvRwL0E/OkS5w4AT17+RAr8uN0+tLNSeWY5BpOmaXqi231nT+Pivvfa7QZwJ9mSpb8B6hNx7F9TJWnAjCySJOm2tedIdxb4zxceCv+rfxvo3ETj0XrgGeDU2qfXfrlQXrkNTjUwv8PSkeU9sv2Awv4jAK/NztTzjiwLceVfGxf3HW63z5PFlSHgn4CJiThu5/l+kqRrZ2SRJEm3vbwDS98vkE1WSEYeHPG2zV8M23e+vPOZ+u76a4tPTMRxZ1et9hrwLHB64fm3Wq2PG/Pz56JiccPNvnmapnzY7b7zb43GvnfarWlgM3AXsBf47kQcT131ApKkZWdkkSRJuk7ReDRMtt/L2epj1XtK1dIdKz0mDcyLwGciS98PyW4n/ilH2+36V0ZGdt3oG/bStHOs3X77P5rxD/szVxbiyj6yTW3P3ui1JUn5MrJIkiRdv58FKsDZ2mM1Z7F8sfzWzpd3/lF9d33xLcIBjgEzZEt3frpkZ/9M84YiSzw/P/1Wa+717zXiNy8k812yZUF3AfvJ4sqZq19BkjRoRhZJkqTrEI1HBeAFYHpo69D6cCx8cKXHpIG6g2zD41cWn5iI496uWm0/8CvARwvPH+t0zk/3eqfXl0pbPu/iaZoy2eu9f2Bm5vW9M81jKRTIZq6EwKtky4KMK5K0ShlZJEmSrs8Osl96j695as03giBY6fFo8F7kCpGl7w3gVxc/ebjdrj97lcjSSdPW++3Wm6/E8evHOp3zZJ/Tt5DFlf8miysf3/zQJUnLycgiSZJ0fX4NmClWi0PDdw0/vtKD0Yr45s6Xd/5+fXe9dYVzJ4DzwAgwu/DkRDM+9MzIyHPBoip3vtebfKvV+t/vxY23m0nS7X/d3UCPLK78YCKOJ5ftO5Ek5crIIkmSdI2i8WgL8Cjw4XxzPp2emP7H2mO1p8KN4Y7FvzzrthYBzwPfWXxiIo6TXbXaXuA3uCyynO71mmd7veObwvCe2SS5eLTdfvvVmebbh9vtc0AAjAGjwAXgW8DrE3HcGMD3IknKkZFFkiTp2u0im2GQAjQPNY83DzWPlzeV16x5as2Tw9uGHy+UC6MrO0QNyEtcIbL0/R/wzcVPvtKM9xYJ9r02O3Oif0/xkGwj2xJwGPh34N2JOO4tx4AlScsvSNN0pccgSZK06kXjUQ34W+AMWWj5rCKFaDx6YPSh0fFwLHwgKASFQY5RA9UCNtV31z8z22RXrRYAfwkMA/EVvrZKNnOlC0wA+yfi+KMrvE6SdItxJoskSdK1GQfWAEtvPjpP0vhR40jjR40j4VhYjZ6IvlzZXhkvjhTHBjZKDcow8JvAPyw+MRHH6a5abYJststCZAmBjf3Hc8DLwBsTcTwzkNFKkgbCyCJJknRt3iVbzvEs2R4anwBzS724O9VtTv1g6gBwYPTh0W3VR6qPlzeVdxTCwshghqsB+G2uEFn63gJ+l+yWzxWymS/7gf8BPpiI42QQA5QkDZbLhSRJkq5DNB6tBZ4GvkG27GOObGbC5//SXKRQe7S2feT+kS+VN5UfLpQNLregeWAv8G3gn+u769NLvXBXrfZ7QBl4FTg8EcedgYxQkrRijCySJEk3IBqPQmAH8EtkS4kApoHmNV2gQFB9pLp99MHRheDihrmrVDqfdjufdE53z3f3Vh+u/kl9d/3MSo9JkrQ6GVkkSZJuUn92yxPA18n23egCZ1lqg9zFAoLRHaNbK/dW7h/aPHR/sVrc4h2hV1bSThrtM+2jc8fnjjYPNX+SdtIA2AD8YeNgo73S45MkrU5GFkmSpJxE41EA3AN8tX+UgA7ZcqJrvi1vaW1ppPql6n3DW4fvDzeE9znLZfmlSTrfa/ROdT7u/Hjm6MzRuQ/mFs9WqQJbgb9oHGwcXoEhSpJuAUYWSZKkZRCNR0PAg8DPA09yg8EFoHJfZfPIvSP3ljeWt5XWlrYZXW5eOp/2eo3eyc7ZzonWydbxmSMzp9JuOr/oZVVgHdlGx2fJ9mLZ1zjYWHLDY0nSF5uRRZIkaZldFlx+jiy4hGRLiqaB6156MrR1aH1le2Xb0OahnwnXhdsKI4WNLi+6uqSTNHuN3mR3qntq7sTc8dn3Zz+6QlQpAGvJ4grAGeAAcBA43TjY8IOzJOmqjCySJEkDFI1HZbLg8kT/qJLNlGgAF7mWuxQtUopKlcq9lS3lO8qbwnXh5mKtuKk4UtwQFIJCnmO/VSTtJO41epPd893TnTOdybkTc5Pdc914iZeXgTGy8JUAh8lus3wUOGdYkSRdDyOLJEnSConGowJwJ1l0eRJ4iCy49IALwOyNXjsIg+LwtuENQ1uGNodj4aZSVNpYHCmuLwwV1gSFoJjH+FdSmqZp0k4ayUxyrtfsTfUu9qa6092p1snWme5U92p3eArJZqtUgJTsZ/w68CZwzKVAkqSbYWSRJElaJaLxqALcCzxCNsvlDi7NbGkAMTcw0+VTAoLyHeWovLG8LlwfritFpXXFanFdsVJcGwwF1UJYGA2KQXhT75GDNEnnk04SJ+0kTlpJnMwl8fzsfNy70JvunO1MtU63ptNOei1725TJosowWVRpAYeAt4HjwGTjYOPmfqaSJPUZWSRJklapaDyqAduA+4CdZAEmINs7ZBZoArnPvCgMF8LS2tJoaU1ptFQtjRZHi6OFSmGkEBaGg1IQBmFQDkpBOSgGYVAIShQoBcWg1B9buvAv+0/60+cS5pNe0k57aTvtpu2km7TTTtpO2kk76STtpJW0eo1eszvdjXsXejcyiyckW35Vvey5OaBOFlVOAB8bVSRJy8XIIkmSdIvo7+eyBbgbeJgsumwgm91SAObJwssM13kHo1tMQLbcpwKMkM1QKZDNUjkGHAE+BCaBKfdVkSQNipFFkiTpFhaNR8Nky4o2kcWXB/qPZbL4EvSPVv+YI7uz0WoXkH0PCyElJItIC7dR+gQ4CXzQf5wEpg0qkqSVZGSRJEm6zUTjUUC2D8m6/jEGbCWbBbMJGOXS3i4Ly49SoEMWYBYee2RhI48PjAFQAoqLHsv9I100JsjutvQx2ayUk8BU/zjfONi4nWfqSJJuUUYWSZKkL5j+BrtryWLLwhGRxZh1/XNryGaQDHMpwix8cPy8D5ALkWRhGU9AFlDmyPaSWTiaZNHkEy5t7LtwzLh3iiTpVmNkkSRJ0pL6s2KKZLNNQrLZJwvHQnxJuBRhLj8SoN0/ei7lkSTd7owskiRJkiRJOSis9AAkSZIkSZJuB0YWSZIkSZKkHBhZJEmSJEmScmBkkSRJkiRJyoGRRZIkSZIkKQdGFkmSJEmSpBwYWSRJkiRJknJgZJEkSZIkScqBkUWSJEmSJCkHRhZJkiRJkqQcGFkkSZIkSZJyYGSRJEmSJEnKgZFFkiRJkiQpB0YWSZIkSZKkHBhZJEmSJEmScmBkkSRJkiRJyoGRRZIkSZIkKQdGFkmSJEmSpBwYWSRJkiRJknJgZJEkSZIkScqBkUWSJEmSJCkHRhZJkiRJkqQcGFkkSZIkSZJyYGSRJEmSJEnKgZFFkiRJkiQpB/8PcL89sjxG+8kAAAAASUVORK5CYII=\n",
      "text/plain": [
       "<matplotlib.figure.Figure at 0x2e38e460668>"
      ]
     },
     "metadata": {},
     "output_type": "display_data"
>>>>>>> Stashed changes
    }
   ],
   "source": [
    "explode = (0.1, 0.1, 0.1, 0.1, 0.3, 0.1, 0.1, 0.1, 0.3, 0.1)\n",
    "labels = porce.index\n",
    "fig = plt.figure(figsize=(15,8))\n",
    "plt.pie(porce, explode=explode, autopct='%1.1f%%',shadow=True, startangle=30, radius=0.9)\n",
    "plt.axis('equal')\n",
    "plt.legend(loc='best',labels=labels, bbox_to_anchor=(-0.1,0.6))\n",
    "plt.title(\"Work Requests Status\")\n",
    "plt.show()"
   ]
  }
 ],
 "metadata": {
  "kernelspec": {
   "display_name": "Python 3",
   "language": "python",
   "name": "python3"
  },
  "language_info": {
   "codemirror_mode": {
    "name": "ipython",
    "version": 3
   },
   "file_extension": ".py",
   "mimetype": "text/x-python",
   "name": "python",
   "nbconvert_exporter": "python",
   "pygments_lexer": "ipython3",
   "version": "3.6.2"
  }
 },
 "nbformat": 4,
 "nbformat_minor": 2
}
