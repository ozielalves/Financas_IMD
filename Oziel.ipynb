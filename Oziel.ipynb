{
 "cells": [
  {
   "cell_type": "markdown",
   "metadata": {},
   "source": [
    "# UFRN Constructions's Finances\n",
    "On this NoteBook we will present our discoveries over constructions and investments all over UNIVERSIDADE FEDERAL DO RIO GRANDE DO NORTE([UFRN](www.ufrn.br)).\n",
    "All this made as a project for a subject on UFRN called `PROBABILIDADE`, where we choose some of several available open data about our university.\n",
    "\n",
    "## Choosen Data\n",
    "We decided to work on the financial values over UFRN, like how much money cost a specific work, how long it generally takes to finish a construction, the most expensive work, and so on. For that, we used the following 'csv' files:\n",
    "- [obras.csv](http://dados.ufrn.br/dataset/a8b897f9-4659-44d4-842e-ac70ae21eb83/resource/067e7cad-934c-4134-a5d5-807915c074b4/download/obras.csv)\n",
    "- [requisicaoobras.csv](http://dados.ufrn.br/dataset/15f55d0c-7ac8-4c1e-a73c-b0e37b9ef873/resource/0d923d18-1ffa-41d7-972f-33a12e9daf62/download/requisicaoobras.csv)"
   ]
  },
  {
   "cell_type": "markdown",
   "metadata": {},
   "source": [
    "Importing some useful libs"
   ]
  },
  {
   "cell_type": "code",
   "execution_count": 10,
   "metadata": {},
   "outputs": [],
   "source": [
    "import pandas as pd\n",
    "import numpy as np\n",
    "import matplotlib.pyplot as plt"
   ]
  },
  {
   "cell_type": "markdown",
   "metadata": {},
   "source": [
    "## Working with *Values*\n",
    "\n",
    "In this part we will show in numbers and compare the values of the works with the nature of the requests."
   ]
  },
  {
   "cell_type": "markdown",
   "metadata": {
    "scrolled": true
   },
   "source": [
    "Just reading and showing the dataframe we are about to work with"
   ]
  },
  {
   "cell_type": "code",
   "execution_count": 11,
   "metadata": {},
   "outputs": [],
   "source": [
    "works = pd.read_csv(\"res/obras.csv\", sep=';')\n",
    "work_requests = pd.read_csv(\"res/requisicaoobras.csv\", sep=';')"
   ]
  },
  {
   "cell_type": "markdown",
   "metadata": {},
   "source": [
    "#### Works Data Frame"
   ]
  },
  {
   "cell_type": "code",
   "execution_count": 12,
   "metadata": {},
   "outputs": [
    {
     "data": {
      "text/html": [
       "<div>\n",
       "<style scoped>\n",
       "    .dataframe tbody tr th:only-of-type {\n",
       "        vertical-align: middle;\n",
       "    }\n",
       "\n",
       "    .dataframe tbody tr th {\n",
       "        vertical-align: top;\n",
       "    }\n",
       "\n",
       "    .dataframe thead th {\n",
       "        text-align: right;\n",
       "    }\n",
       "</style>\n",
       "<table border=\"1\" class=\"dataframe\">\n",
       "  <thead>\n",
       "    <tr style=\"text-align: right;\">\n",
       "      <th></th>\n",
       "      <th>id_obra</th>\n",
       "      <th>descricao</th>\n",
       "      <th>periodo</th>\n",
       "      <th>qtd_dias</th>\n",
       "      <th>status_obra</th>\n",
       "      <th>licitacao</th>\n",
       "      <th>empresa</th>\n",
       "      <th>modalidade</th>\n",
       "      <th>valor</th>\n",
       "      <th>fonte_recurso</th>\n",
       "      <th>vigencia_projeto</th>\n",
       "      <th>projeto</th>\n",
       "      <th>id_unidade_responsavel</th>\n",
       "      <th>unidade_responsavel</th>\n",
       "      <th>Unnamed: 14</th>\n",
       "    </tr>\n",
       "  </thead>\n",
       "  <tbody>\n",
       "    <tr>\n",
       "      <th>0</th>\n",
       "      <td>493</td>\n",
       "      <td>CONSTRUÇÃO DO BLOCO H DO SETOR DE AULAS TEÓRIC...</td>\n",
       "      <td>23/03/2005 - 19/11/2005</td>\n",
       "      <td>240</td>\n",
       "      <td>FINALIZADA</td>\n",
       "      <td>6/2004</td>\n",
       "      <td>03.166.687/0001-28 - CRS-CONSTRUÇÕES E EMPREE...</td>\n",
       "      <td>CONCORRÊNCIA</td>\n",
       "      <td>R$       829.454,21</td>\n",
       "      <td>NaN</td>\n",
       "      <td>NaN</td>\n",
       "      <td>NaN</td>\n",
       "      <td>NaN</td>\n",
       "      <td>NaN</td>\n",
       "      <td>NaN</td>\n",
       "    </tr>\n",
       "    <tr>\n",
       "      <th>1</th>\n",
       "      <td>521</td>\n",
       "      <td>CONSTRUÇÃO DO BLOCO A1 DO SETOR DE AULAS TEÓRI...</td>\n",
       "      <td>04/05/2005 - 30/12/2005</td>\n",
       "      <td>240</td>\n",
       "      <td>FINALIZADA</td>\n",
       "      <td>7/2004</td>\n",
       "      <td>03.166.687/0001-28 - CRS-CONSTRUÇÕES E EMPREE...</td>\n",
       "      <td>CONCORRÊNCIA</td>\n",
       "      <td>R$       833.702,12</td>\n",
       "      <td>NaN</td>\n",
       "      <td>20/04/2005 - 20/11/2005</td>\n",
       "      <td>19O ENECIC/2005 (852005)</td>\n",
       "      <td>NaN</td>\n",
       "      <td>NaN</td>\n",
       "      <td>NaN</td>\n",
       "    </tr>\n",
       "    <tr>\n",
       "      <th>2</th>\n",
       "      <td>848</td>\n",
       "      <td>CONSTRUÇÃO DO SETOR DE ANTIBIÓTICOS PRODUÇÃO D...</td>\n",
       "      <td>02/06/2005 - 29/01/2006</td>\n",
       "      <td>240</td>\n",
       "      <td>FINALIZADA</td>\n",
       "      <td>4/2004</td>\n",
       "      <td>03.722.669/0001-85 - CONSTRUTORA CAGEO LTDA</td>\n",
       "      <td>CONCORRÊNCIA</td>\n",
       "      <td>R$     1.561.230,93</td>\n",
       "      <td>TESOURO - EDUCAÇÃO (112000000)</td>\n",
       "      <td>NaN</td>\n",
       "      <td>NaN</td>\n",
       "      <td>252.0</td>\n",
       "      <td>NUCLEO DE PESQUISA EM ALIMENTOS E MEDICAMENTOS</td>\n",
       "      <td>NaN</td>\n",
       "    </tr>\n",
       "    <tr>\n",
       "      <th>3</th>\n",
       "      <td>925</td>\n",
       "      <td>Complementação da 2ª Etapa e Realização da 3ª ...</td>\n",
       "      <td>28/01/2005 - 22/01/2006</td>\n",
       "      <td>360</td>\n",
       "      <td>FINALIZADA</td>\n",
       "      <td>2/2004</td>\n",
       "      <td>40.761.454/0001-08 - AR PROJETOS &amp; CONSTRUÇÕE...</td>\n",
       "      <td>CONCORRÊNCIA</td>\n",
       "      <td>R$       814.550,74</td>\n",
       "      <td>NaN</td>\n",
       "      <td>20/12/2002 - 31/07/2007</td>\n",
       "      <td>UFRN/CONV.133/02 - HUOL (862003)</td>\n",
       "      <td>446.0</td>\n",
       "      <td>HOSPITAL UNIVERSITÁRIO ONOFRE LOPES</td>\n",
       "      <td>NaN</td>\n",
       "    </tr>\n",
       "    <tr>\n",
       "      <th>4</th>\n",
       "      <td>182</td>\n",
       "      <td>CONSTRUÇÃO DO DEPARTAMENTO DE FISIOTERAPIA - CCS</td>\n",
       "      <td>08/02/2006 - 02/02/2007</td>\n",
       "      <td>360</td>\n",
       "      <td>FINALIZADA</td>\n",
       "      <td>1/2005</td>\n",
       "      <td>01.694.415/0001-75 - HASTE-HABITAÇÃO E SERVIÇ...</td>\n",
       "      <td>CONCORRÊNCIA</td>\n",
       "      <td>R$     1.455.865,61</td>\n",
       "      <td>NaN</td>\n",
       "      <td>20/12/2004 - 30/03/2010</td>\n",
       "      <td>CONVENIO 121/2004 UFRN (732005)</td>\n",
       "      <td>446.0</td>\n",
       "      <td>HOSPITAL UNIVERSITÁRIO ONOFRE LOPES</td>\n",
       "      <td>NaN</td>\n",
       "    </tr>\n",
       "  </tbody>\n",
       "</table>\n",
       "</div>"
      ],
      "text/plain": [
       "   id_obra                                          descricao  \\\n",
       "0      493  CONSTRUÇÃO DO BLOCO H DO SETOR DE AULAS TEÓRIC...   \n",
       "1      521  CONSTRUÇÃO DO BLOCO A1 DO SETOR DE AULAS TEÓRI...   \n",
       "2      848  CONSTRUÇÃO DO SETOR DE ANTIBIÓTICOS PRODUÇÃO D...   \n",
       "3      925  Complementação da 2ª Etapa e Realização da 3ª ...   \n",
       "4      182   CONSTRUÇÃO DO DEPARTAMENTO DE FISIOTERAPIA - CCS   \n",
       "\n",
       "                   periodo  qtd_dias status_obra licitacao  \\\n",
       "0  23/03/2005 - 19/11/2005       240  FINALIZADA    6/2004   \n",
       "1  04/05/2005 - 30/12/2005       240  FINALIZADA    7/2004   \n",
       "2  02/06/2005 - 29/01/2006       240  FINALIZADA    4/2004   \n",
       "3  28/01/2005 - 22/01/2006       360  FINALIZADA    2/2004   \n",
       "4  08/02/2006 - 02/02/2007       360  FINALIZADA    1/2005   \n",
       "\n",
       "                                             empresa    modalidade  \\\n",
       "0   03.166.687/0001-28 - CRS-CONSTRUÇÕES E EMPREE...  CONCORRÊNCIA   \n",
       "1   03.166.687/0001-28 - CRS-CONSTRUÇÕES E EMPREE...  CONCORRÊNCIA   \n",
       "2        03.722.669/0001-85 - CONSTRUTORA CAGEO LTDA  CONCORRÊNCIA   \n",
       "3   40.761.454/0001-08 - AR PROJETOS & CONSTRUÇÕE...  CONCORRÊNCIA   \n",
       "4   01.694.415/0001-75 - HASTE-HABITAÇÃO E SERVIÇ...  CONCORRÊNCIA   \n",
       "\n",
       "                 valor                   fonte_recurso  \\\n",
       "0  R$       829.454,21                             NaN   \n",
       "1  R$       833.702,12                             NaN   \n",
       "2  R$     1.561.230,93  TESOURO - EDUCAÇÃO (112000000)   \n",
       "3  R$       814.550,74                             NaN   \n",
       "4  R$     1.455.865,61                             NaN   \n",
       "\n",
       "          vigencia_projeto                           projeto  \\\n",
       "0                      NaN                               NaN   \n",
       "1  20/04/2005 - 20/11/2005          19O ENECIC/2005 (852005)   \n",
       "2                      NaN                               NaN   \n",
       "3  20/12/2002 - 31/07/2007  UFRN/CONV.133/02 - HUOL (862003)   \n",
       "4  20/12/2004 - 30/03/2010   CONVENIO 121/2004 UFRN (732005)   \n",
       "\n",
       "   id_unidade_responsavel                             unidade_responsavel  \\\n",
       "0                     NaN                                             NaN   \n",
       "1                     NaN                                             NaN   \n",
       "2                   252.0  NUCLEO DE PESQUISA EM ALIMENTOS E MEDICAMENTOS   \n",
       "3                   446.0             HOSPITAL UNIVERSITÁRIO ONOFRE LOPES   \n",
       "4                   446.0             HOSPITAL UNIVERSITÁRIO ONOFRE LOPES   \n",
       "\n",
       "   Unnamed: 14  \n",
       "0          NaN  \n",
       "1          NaN  \n",
       "2          NaN  \n",
       "3          NaN  \n",
       "4          NaN  "
      ]
     },
     "execution_count": 12,
     "metadata": {},
     "output_type": "execute_result"
    }
   ],
   "source": [
    "pd.DataFrame(works.head())"
   ]
  },
  {
   "cell_type": "markdown",
   "metadata": {},
   "source": [
    "#### Work Requests Data Frame"
   ]
  },
  {
   "cell_type": "code",
   "execution_count": 13,
   "metadata": {
    "scrolled": false
   },
   "outputs": [
    {
     "data": {
      "text/html": [
       "<div>\n",
       "<style scoped>\n",
       "    .dataframe tbody tr th:only-of-type {\n",
       "        vertical-align: middle;\n",
       "    }\n",
       "\n",
       "    .dataframe tbody tr th {\n",
       "        vertical-align: top;\n",
       "    }\n",
       "\n",
       "    .dataframe thead th {\n",
       "        text-align: right;\n",
       "    }\n",
       "</style>\n",
       "<table border=\"1\" class=\"dataframe\">\n",
       "  <thead>\n",
       "    <tr style=\"text-align: right;\">\n",
       "      <th></th>\n",
       "      <th>numero</th>\n",
       "      <th>ano</th>\n",
       "      <th>id_unidade_requisitante</th>\n",
       "      <th>nome_unidade_requisitante</th>\n",
       "      <th>id_unidade_custo</th>\n",
       "      <th>nome_unidade_custo</th>\n",
       "      <th>data_envio</th>\n",
       "      <th>descricao</th>\n",
       "      <th>local</th>\n",
       "      <th>observacoes</th>\n",
       "      <th>status</th>\n",
       "      <th>processo</th>\n",
       "    </tr>\n",
       "  </thead>\n",
       "  <tbody>\n",
       "    <tr>\n",
       "      <th>0</th>\n",
       "      <td>1467</td>\n",
       "      <td>2018</td>\n",
       "      <td>445</td>\n",
       "      <td>CENTRO DE TECNOLOGIA</td>\n",
       "      <td>445</td>\n",
       "      <td>CENTRO DE TECNOLOGIA</td>\n",
       "      <td>27/02/2018</td>\n",
       "      <td>REPARO DO FORRO E RECUPERAÇÃO DE PEÇAS METÁLIC...</td>\n",
       "      <td>CENTRO DE TECNOLOGIA - UFRN</td>\n",
       "      <td>RDC 01/2018 - R$ 40.984,69</td>\n",
       "      <td>CADASTRADA</td>\n",
       "      <td>NaN</td>\n",
       "    </tr>\n",
       "    <tr>\n",
       "      <th>1</th>\n",
       "      <td>1463</td>\n",
       "      <td>2018</td>\n",
       "      <td>4885</td>\n",
       "      <td>ESCOLA DE CIÊNCIAS E TECNOLOGIA</td>\n",
       "      <td>4885</td>\n",
       "      <td>ESCOLA DE CIÊNCIAS E TECNOLOGIA</td>\n",
       "      <td>27/02/2018</td>\n",
       "      <td>RECUPERAÇÃO ESTRUTURAL DA COBERTURA DO PRÉDIO ...</td>\n",
       "      <td>CENTRO DE TECNOLOGIA-UFRN</td>\n",
       "      <td>RDC 01/2018 - R$ 136.974,42</td>\n",
       "      <td>PENDENTE AUTORIZAÇÃO CHEFE UNIDADE</td>\n",
       "      <td>NaN</td>\n",
       "    </tr>\n",
       "    <tr>\n",
       "      <th>2</th>\n",
       "      <td>1388</td>\n",
       "      <td>2018</td>\n",
       "      <td>6919</td>\n",
       "      <td>INSTITUTO DE MEDICINA TROPICAL - IMT-RN</td>\n",
       "      <td>6919</td>\n",
       "      <td>INSTITUTO DE MEDICINA TROPICAL - IMT-RN</td>\n",
       "      <td>23/02/2018</td>\n",
       "      <td>Projeto de sinalização interna e externa do IM...</td>\n",
       "      <td>Unidade clínica do IMT-RN, ao lado do HGT.</td>\n",
       "      <td>NaN</td>\n",
       "      <td>AUTORIZADA PARA INFRA</td>\n",
       "      <td>NaN</td>\n",
       "    </tr>\n",
       "    <tr>\n",
       "      <th>3</th>\n",
       "      <td>1340</td>\n",
       "      <td>2018</td>\n",
       "      <td>3362</td>\n",
       "      <td>ASSESSORIA ADMINISTRATIVA (AS/CT)</td>\n",
       "      <td>87</td>\n",
       "      <td>DIREÇÃO DO CENTRO DE TECNOLOGIA</td>\n",
       "      <td>23/02/2018</td>\n",
       "      <td>Conforme parecer técnico realizado pela coorde...</td>\n",
       "      <td>Complexo tecnológico de engenharia (CTEC)</td>\n",
       "      <td>Construção de um abrigo para fins de destinaçã...</td>\n",
       "      <td>AUTORIZADA PARA INFRA</td>\n",
       "      <td>NaN</td>\n",
       "    </tr>\n",
       "    <tr>\n",
       "      <th>4</th>\n",
       "      <td>927</td>\n",
       "      <td>2018</td>\n",
       "      <td>196</td>\n",
       "      <td>DEPARTAMENTO DE FARMACIA</td>\n",
       "      <td>196</td>\n",
       "      <td>DEPARTAMENTO DE FARMACIA</td>\n",
       "      <td>08/02/2018</td>\n",
       "      <td>DIANTE DA CRIAÇÃO DA PRIMEIRA E ÚNICA EMPRESA ...</td>\n",
       "      <td>LOCAL SE TRATA DE PARTE DA ANTIGA PRAÇA DO XAR...</td>\n",
       "      <td>UNIDADE DE CUSTO CCS.</td>\n",
       "      <td>CADASTRADA</td>\n",
       "      <td>NaN</td>\n",
       "    </tr>\n",
       "  </tbody>\n",
       "</table>\n",
       "</div>"
      ],
      "text/plain": [
       "   numero   ano  id_unidade_requisitante  \\\n",
       "0    1467  2018                      445   \n",
       "1    1463  2018                     4885   \n",
       "2    1388  2018                     6919   \n",
       "3    1340  2018                     3362   \n",
       "4     927  2018                      196   \n",
       "\n",
       "                 nome_unidade_requisitante  id_unidade_custo  \\\n",
       "0                     CENTRO DE TECNOLOGIA               445   \n",
       "1          ESCOLA DE CIÊNCIAS E TECNOLOGIA              4885   \n",
       "2  INSTITUTO DE MEDICINA TROPICAL - IMT-RN              6919   \n",
       "3        ASSESSORIA ADMINISTRATIVA (AS/CT)                87   \n",
       "4                 DEPARTAMENTO DE FARMACIA               196   \n",
       "\n",
       "                        nome_unidade_custo  data_envio  \\\n",
       "0                     CENTRO DE TECNOLOGIA  27/02/2018   \n",
       "1          ESCOLA DE CIÊNCIAS E TECNOLOGIA  27/02/2018   \n",
       "2  INSTITUTO DE MEDICINA TROPICAL - IMT-RN  23/02/2018   \n",
       "3          DIREÇÃO DO CENTRO DE TECNOLOGIA  23/02/2018   \n",
       "4                 DEPARTAMENTO DE FARMACIA  08/02/2018   \n",
       "\n",
       "                                           descricao  \\\n",
       "0  REPARO DO FORRO E RECUPERAÇÃO DE PEÇAS METÁLIC...   \n",
       "1  RECUPERAÇÃO ESTRUTURAL DA COBERTURA DO PRÉDIO ...   \n",
       "2  Projeto de sinalização interna e externa do IM...   \n",
       "3  Conforme parecer técnico realizado pela coorde...   \n",
       "4  DIANTE DA CRIAÇÃO DA PRIMEIRA E ÚNICA EMPRESA ...   \n",
       "\n",
       "                                               local  \\\n",
       "0                        CENTRO DE TECNOLOGIA - UFRN   \n",
       "1                          CENTRO DE TECNOLOGIA-UFRN   \n",
       "2         Unidade clínica do IMT-RN, ao lado do HGT.   \n",
       "3          Complexo tecnológico de engenharia (CTEC)   \n",
       "4  LOCAL SE TRATA DE PARTE DA ANTIGA PRAÇA DO XAR...   \n",
       "\n",
       "                                         observacoes  \\\n",
       "0                         RDC 01/2018 - R$ 40.984,69   \n",
       "1                        RDC 01/2018 - R$ 136.974,42   \n",
       "2                                                NaN   \n",
       "3  Construção de um abrigo para fins de destinaçã...   \n",
       "4                             UNIDADE DE CUSTO CCS.    \n",
       "\n",
       "                               status processo  \n",
       "0                          CADASTRADA      NaN  \n",
       "1  PENDENTE AUTORIZAÇÃO CHEFE UNIDADE      NaN  \n",
       "2               AUTORIZADA PARA INFRA      NaN  \n",
       "3               AUTORIZADA PARA INFRA      NaN  \n",
       "4                          CADASTRADA      NaN  "
      ]
     },
     "execution_count": 13,
     "metadata": {},
     "output_type": "execute_result"
    }
   ],
   "source": [
    "pd.DataFrame(work_requests.head())"
   ]
  },
  {
   "cell_type": "markdown",
   "metadata": {},
   "source": [
    "### 1 ) TODO"
   ]
  },
  {
   "cell_type": "code",
   "execution_count": 36,
   "metadata": {},
   "outputs": [],
   "source": [
    "# This cell clears the dataset of all unlabeled data\n",
    "\n",
    "valid_indexes = []\n",
    "for i,_ in enumerate(works['unidade_responsavel'].isnull()):\n",
    "    if (_ == False ):\n",
    "        valid_indexes.append(i)\n",
    "works_filter = works.loc[valid_indexes]\n",
    "#pd.DataFrame(works_filter.info())"
   ]
  },
  {
   "cell_type": "markdown",
   "metadata": {},
   "source": [
    "1.1 ) TODO"
   ]
  },
  {
   "cell_type": "code",
   "execution_count": 15,
   "metadata": {},
   "outputs": [
    {
     "data": {
      "text/html": [
       "<div>\n",
       "<style scoped>\n",
       "    .dataframe tbody tr th:only-of-type {\n",
       "        vertical-align: middle;\n",
       "    }\n",
       "\n",
       "    .dataframe tbody tr th {\n",
       "        vertical-align: top;\n",
       "    }\n",
       "\n",
       "    .dataframe thead th {\n",
       "        text-align: right;\n",
       "    }\n",
       "</style>\n",
       "<table border=\"1\" class=\"dataframe\">\n",
       "  <thead>\n",
       "    <tr style=\"text-align: right;\">\n",
       "      <th></th>\n",
       "      <th>unidade_responsavel</th>\n",
       "    </tr>\n",
       "  </thead>\n",
       "  <tbody>\n",
       "    <tr>\n",
       "      <th>UNIVERSIDADE FEDERAL DO RIO GRANDE DO NORTE</th>\n",
       "      <td>108</td>\n",
       "    </tr>\n",
       "    <tr>\n",
       "      <th>CENTRO DE TECNOLOGIA</th>\n",
       "      <td>38</td>\n",
       "    </tr>\n",
       "    <tr>\n",
       "      <th>CENTRO DE BIOCIÊNCIAS</th>\n",
       "      <td>27</td>\n",
       "    </tr>\n",
       "    <tr>\n",
       "      <th>CENTRO DE CIÊNCIAS EXATAS E DA TERRA</th>\n",
       "      <td>26</td>\n",
       "    </tr>\n",
       "    <tr>\n",
       "      <th>CENTRO DE CIÊNCIAS DA SAÚDE</th>\n",
       "      <td>21</td>\n",
       "    </tr>\n",
       "  </tbody>\n",
       "</table>\n",
       "</div>"
      ],
      "text/plain": [
       "                                             unidade_responsavel\n",
       "UNIVERSIDADE FEDERAL DO RIO GRANDE DO NORTE                  108\n",
       "CENTRO DE TECNOLOGIA                                          38\n",
       "CENTRO DE BIOCIÊNCIAS                                         27\n",
       "CENTRO DE CIÊNCIAS EXATAS E DA TERRA                          26\n",
       "CENTRO DE CIÊNCIAS DA SAÚDE                                   21"
      ]
     },
     "execution_count": 15,
     "metadata": {},
     "output_type": "execute_result"
    }
   ],
   "source": [
    "pd.DataFrame(works_filter['unidade_responsavel'].value_counts()).head()"
   ]
  },
  {
   "cell_type": "markdown",
   "metadata": {},
   "source": [
    "1.2 ) Fixing string 'Valor'"
   ]
  },
  {
   "cell_type": "markdown",
   "metadata": {},
   "source": [
    "We will fix the value column to make it easier to handle on the data. It is important to remember that the works cost before was analyzed with two spaces after a comma being pennies.\n",
    "Therefore:\n",
    "\n",
    "Ex. ) `100` = ` RS 1,00` "
   ]
  },
  {
   "cell_type": "code",
   "execution_count": 16,
   "metadata": {},
   "outputs": [
    {
     "name": "stderr",
     "output_type": "stream",
     "text": [
      "/home/cyborg/anaconda3/lib/python3.6/site-packages/ipykernel_launcher.py:8: SettingWithCopyWarning: \n",
      "A value is trying to be set on a copy of a slice from a DataFrame\n",
      "\n",
      "See the caveats in the documentation: http://pandas.pydata.org/pandas-docs/stable/indexing.html#indexing-view-versus-copy\n",
      "  \n"
     ]
    }
   ],
   "source": [
    "df = works_filter.copy()\n",
    "for index,i in enumerate(df['valor']):\n",
    "    i = i.replace(\" \", \"\")\n",
    "    i = i.replace(\"R$\", \"\")\n",
    "    i = i.replace(\".\",\"\")\n",
    "    i = i.replace(\",\", \"\")\n",
    "    i = int(i)\n",
    "    df['valor'][index] = i"
   ]
  },
  {
   "cell_type": "markdown",
   "metadata": {},
   "source": [
    "### TODO"
   ]
  },
  {
   "cell_type": "code",
   "execution_count": 37,
   "metadata": {},
   "outputs": [
    {
     "data": {
      "text/html": [
       "<div>\n",
       "<style scoped>\n",
       "    .dataframe tbody tr th:only-of-type {\n",
       "        vertical-align: middle;\n",
       "    }\n",
       "\n",
       "    .dataframe tbody tr th {\n",
       "        vertical-align: top;\n",
       "    }\n",
       "\n",
       "    .dataframe thead th {\n",
       "        text-align: right;\n",
       "    }\n",
       "</style>\n",
       "<table border=\"1\" class=\"dataframe\">\n",
       "  <thead>\n",
       "    <tr style=\"text-align: right;\">\n",
       "      <th></th>\n",
       "      <th>0</th>\n",
       "    </tr>\n",
       "  </thead>\n",
       "  <tbody>\n",
       "    <tr>\n",
       "      <th>0</th>\n",
       "      <td>UNIVERSIDADE FEDERAL DO RIO GRANDE DO NORTE</td>\n",
       "    </tr>\n",
       "    <tr>\n",
       "      <th>1</th>\n",
       "      <td>CENTRO DE TECNOLOGIA</td>\n",
       "    </tr>\n",
       "    <tr>\n",
       "      <th>2</th>\n",
       "      <td>CENTRO DE BIOCIÊNCIAS</td>\n",
       "    </tr>\n",
       "    <tr>\n",
       "      <th>3</th>\n",
       "      <td>CENTRO DE CIÊNCIAS EXATAS E DA TERRA</td>\n",
       "    </tr>\n",
       "    <tr>\n",
       "      <th>4</th>\n",
       "      <td>CENTRO DE CIÊNCIAS DA SAÚDE</td>\n",
       "    </tr>\n",
       "    <tr>\n",
       "      <th>5</th>\n",
       "      <td>CENTRO DE CIÊNCIAS HUMANAS, LETRAS E ARTES</td>\n",
       "    </tr>\n",
       "    <tr>\n",
       "      <th>6</th>\n",
       "      <td>CENTRO DE CIÊNCIAS SOCIAIS APLICADAS</td>\n",
       "    </tr>\n",
       "    <tr>\n",
       "      <th>7</th>\n",
       "      <td>HOSPITAL UNIVERSITÁRIO ONOFRE LOPES</td>\n",
       "    </tr>\n",
       "    <tr>\n",
       "      <th>8</th>\n",
       "      <td>NUCLEO DE PESQUISA EM ALIMENTOS E MEDICAMENTOS</td>\n",
       "    </tr>\n",
       "    <tr>\n",
       "      <th>9</th>\n",
       "      <td>ESCOLA AGRÍCOLA DE JUNDIAÍ</td>\n",
       "    </tr>\n",
       "  </tbody>\n",
       "</table>\n",
       "</div>"
      ],
      "text/plain": [
       "                                                0\n",
       "0     UNIVERSIDADE FEDERAL DO RIO GRANDE DO NORTE\n",
       "1                            CENTRO DE TECNOLOGIA\n",
       "2                           CENTRO DE BIOCIÊNCIAS\n",
       "3            CENTRO DE CIÊNCIAS EXATAS E DA TERRA\n",
       "4                     CENTRO DE CIÊNCIAS DA SAÚDE\n",
       "5      CENTRO DE CIÊNCIAS HUMANAS, LETRAS E ARTES\n",
       "6            CENTRO DE CIÊNCIAS SOCIAIS APLICADAS\n",
       "7             HOSPITAL UNIVERSITÁRIO ONOFRE LOPES\n",
       "8  NUCLEO DE PESQUISA EM ALIMENTOS E MEDICAMENTOS\n",
       "9                      ESCOLA AGRÍCOLA DE JUNDIAÍ"
      ]
     },
     "execution_count": 37,
     "metadata": {},
     "output_type": "execute_result"
    }
   ],
   "source": [
    "dep_names = df['unidade_responsavel'].value_counts().index.tolist()\n",
    "pd.DataFrame(dep_names).head(10)"
   ]
  },
  {
   "cell_type": "code",
   "execution_count": null,
   "metadata": {},
   "outputs": [],
   "source": []
  },
  {
   "cell_type": "code",
   "execution_count": 53,
   "metadata": {},
   "outputs": [],
   "source": [
    "values = {}\n",
    "for i in dep_names:\n",
    "    values[i] = 0\n",
    "    \n",
    "for index,row in df.iterrows():\n",
    "#     pd.DataFrame(row['unidade_responsavel'])\n",
    "#     print(row['unidade_responsavel'])\n",
    "    i = row['valor'].replace(\" \", \"\")\n",
    "    i = i.replace(\"R$\", \"\")\n",
    "    i = i.replace(\".\",\"\")\n",
    "    i = i.replace(\",\", \"\")\n",
    "    i = int(i)\n",
    "    #print(i)\n",
    "    #print(row['valor'])\n",
    "    values[row['unidade_responsavel']] += i"
   ]
  },
  {
   "cell_type": "code",
   "execution_count": null,
   "metadata": {},
   "outputs": [],
   "source": []
  },
  {
   "cell_type": "code",
   "execution_count": 54,
   "metadata": {},
   "outputs": [],
   "source": [
    "#for i in values.keys():\n",
    "   # if (values[i] == values.items().max()):#\n",
    "#    print (i,values.items()\n",
    "top11 = {}\n",
    "## os 11 maiores incluindo o campus do cerebro\n",
    "big_resources = sorted(values, key=values.get, reverse=True)[:11]\n",
    "for i in big_resources:\n",
    "    top11[i] = values[i]\n",
    "          \n",
    "#print (top11)\n",
    "#pd.DataFrame(top6)\n",
    "campus_cerebro = list(top11.keys())[0]\n",
    "CT = list(top11.keys())[1]\n",
    "def without_keys(d, keys):\n",
    "    return {k: v for k, v in d.items() if k not in keys}\n",
    "#excluindo o campus do cerebro\n",
    "top10 = without_keys(top11,list(top11.keys())[0])\n",
    "#print (top10)"
   ]
  },
  {
   "cell_type": "code",
   "execution_count": null,
   "metadata": {},
   "outputs": [],
   "source": []
  },
  {
   "cell_type": "code",
   "execution_count": 55,
   "metadata": {
    "scrolled": false
   },
   "outputs": [
    {
     "name": "stdout",
     "output_type": "stream",
     "text": [
      "CAMPUS DO CÉREBRO : 13542746035\n",
      "CENTRO DE TECNOLOGIA : 4652257395\n",
      "UNIVERSIDADE FEDERAL DO RIO GRANDE DO NORTE : 4642647978\n",
      "ADMINISTRAÇÃO CENTRAL - GASTOS CT : 2559877946\n",
      "CENTRO DE BIOCIÊNCIAS : 1906259928\n",
      "CENTRO DE CIÊNCIAS SOCIAIS APLICADAS : 1696968476\n",
      "CENTRO DE CIÊNCIAS EXATAS E DA TERRA : 1421224590\n",
      "CENTRO DE CIÊNCIAS HUMANAS, LETRAS E ARTES : 1117356965\n",
      "CENTRO DE CIÊNCIAS DA SAÚDE : 1087542221\n",
      "HOSPITAL UNIVERSITÁRIO ONOFRE LOPES : 854753581\n",
      "SUPERINTENDÊNCIA DE INFRAESTRUTURA : 793802347\n"
     ]
    }
   ],
   "source": [
    "for names,values in top11.items():\n",
    "    print (names ,\":\", values)"
   ]
  },
  {
   "cell_type": "code",
   "execution_count": 60,
   "metadata": {
    "scrolled": false
   },
   "outputs": [
    {
     "data": {
      "image/png": "[encoded data removed]",
      "text/plain": [
       "<matplotlib.figure.Figure at 0x7fabcf3a47b8>"
      ]
     },
     "metadata": {},
     "output_type": "display_data"
    }
   ],
   "source": [
    "names = list(top11.keys())\n",
    "\n",
    "fig, ax = plt.subplots()\n",
    "bar_positions = np.arange(len(names)) + 0.75\n",
    "xtick_pos = np.arange(len(names)) + 1\n",
    "ax.set_xticks(xtick_pos)\n",
    "ax.set_xticklabels(names,rotation= 90)\n",
    "ax.bar(bar_positions, top11.values())\n",
    "plt.show()"
   ]
  },
  {
   "cell_type": "code",
   "execution_count": null,
   "metadata": {},
   "outputs": [],
   "source": []
  },
  {
   "cell_type": "code",
   "execution_count": 67,
   "metadata": {},
   "outputs": [
    {
     "data": {
      "text/html": [
       "<div>\n",
       "<style scoped>\n",
       "    .dataframe tbody tr th:only-of-type {\n",
       "        vertical-align: middle;\n",
       "    }\n",
       "\n",
       "    .dataframe tbody tr th {\n",
       "        vertical-align: top;\n",
       "    }\n",
       "\n",
       "    .dataframe thead th {\n",
       "        text-align: right;\n",
       "    }\n",
       "</style>\n",
       "<table border=\"1\" class=\"dataframe\">\n",
       "  <thead>\n",
       "    <tr style=\"text-align: right;\">\n",
       "      <th></th>\n",
       "      <th>id_obra</th>\n",
       "      <th>descricao</th>\n",
       "      <th>periodo</th>\n",
       "      <th>qtd_dias</th>\n",
       "      <th>status_obra</th>\n",
       "      <th>licitacao</th>\n",
       "      <th>empresa</th>\n",
       "      <th>modalidade</th>\n",
       "      <th>valor</th>\n",
       "      <th>fonte_recurso</th>\n",
       "      <th>vigencia_projeto</th>\n",
       "      <th>projeto</th>\n",
       "      <th>id_unidade_responsavel</th>\n",
       "      <th>unidade_responsavel</th>\n",
       "      <th>Unnamed: 14</th>\n",
       "    </tr>\n",
       "  </thead>\n",
       "  <tbody>\n",
       "    <tr>\n",
       "      <th>37</th>\n",
       "      <td>5803</td>\n",
       "      <td>execução, pela CONTRATADA, da CONSTRUÇÃO DO CE...</td>\n",
       "      <td>11/06/2010 - 22/12/2013</td>\n",
       "      <td>720</td>\n",
       "      <td>FINALIZADA</td>\n",
       "      <td>10/2009</td>\n",
       "      <td>86.712.247/0001-56 - EDCON - COMÉRCIO E CONST...</td>\n",
       "      <td>CONCORRÊNCIA</td>\n",
       "      <td>R$    75.574.557,43</td>\n",
       "      <td>TESOURO - EDUCAÇÃO (112000000)</td>\n",
       "      <td>NaN</td>\n",
       "      <td>NaN</td>\n",
       "      <td>5229.0</td>\n",
       "      <td>CAMPUS DO CÉREBRO</td>\n",
       "      <td>NaN</td>\n",
       "    </tr>\n",
       "    <tr>\n",
       "      <th>38</th>\n",
       "      <td>5810</td>\n",
       "      <td>CONSTRUÇÃO DA ESCOLA LYGIA MARIA ROCHA LEÃO LA...</td>\n",
       "      <td>14/06/2010 - 31/12/2011</td>\n",
       "      <td>565</td>\n",
       "      <td>FINALIZADA</td>\n",
       "      <td>10/2009</td>\n",
       "      <td>86.712.247/0001-56 - EDCON - COMÉRCIO E CONST...</td>\n",
       "      <td>CONCORRÊNCIA</td>\n",
       "      <td>R$    59.817.003,64</td>\n",
       "      <td>NaN</td>\n",
       "      <td>17/12/2007 - 31/07/2013</td>\n",
       "      <td>FUNPEC/UFRN CONV. 147/2007 - CAMPUS DO CEREBRO...</td>\n",
       "      <td>5229.0</td>\n",
       "      <td>CAMPUS DO CÉREBRO</td>\n",
       "      <td>NaN</td>\n",
       "    </tr>\n",
       "    <tr>\n",
       "      <th>350</th>\n",
       "      <td>6814</td>\n",
       "      <td>EXECUÇÃO DE SERVIÇOS DE ARQUITETURA VISANDO À ...</td>\n",
       "      <td>09/05/2011 - 09/11/2012</td>\n",
       "      <td>550</td>\n",
       "      <td>CONTRATO FINALIZADO</td>\n",
       "      <td>1/2011</td>\n",
       "      <td>01.641.113/0001-39 - J. GALBINSK &amp; CIA LTDA.</td>\n",
       "      <td>INEXIGIBILIDADE DE LICITAÇÃO</td>\n",
       "      <td>R$        35.899,28</td>\n",
       "      <td>NaN</td>\n",
       "      <td>01/01/2000 - 31/12/2015</td>\n",
       "      <td>MANUTENCAO II (1512001)</td>\n",
       "      <td>5229.0</td>\n",
       "      <td>CAMPUS DO CÉREBRO</td>\n",
       "      <td>NaN</td>\n",
       "    </tr>\n",
       "  </tbody>\n",
       "</table>\n",
       "</div>"
      ],
      "text/plain": [
       "     id_obra                                          descricao  \\\n",
       "37      5803  execução, pela CONTRATADA, da CONSTRUÇÃO DO CE...   \n",
       "38      5810  CONSTRUÇÃO DA ESCOLA LYGIA MARIA ROCHA LEÃO LA...   \n",
       "350     6814  EXECUÇÃO DE SERVIÇOS DE ARQUITETURA VISANDO À ...   \n",
       "\n",
       "                     periodo  qtd_dias          status_obra licitacao  \\\n",
       "37   11/06/2010 - 22/12/2013       720           FINALIZADA   10/2009   \n",
       "38   14/06/2010 - 31/12/2011       565           FINALIZADA   10/2009   \n",
       "350  09/05/2011 - 09/11/2012       550  CONTRATO FINALIZADO    1/2011   \n",
       "\n",
       "                                               empresa  \\\n",
       "37    86.712.247/0001-56 - EDCON - COMÉRCIO E CONST...   \n",
       "38    86.712.247/0001-56 - EDCON - COMÉRCIO E CONST...   \n",
       "350       01.641.113/0001-39 - J. GALBINSK & CIA LTDA.   \n",
       "\n",
       "                       modalidade                valor  \\\n",
       "37                   CONCORRÊNCIA  R$    75.574.557,43   \n",
       "38                   CONCORRÊNCIA  R$    59.817.003,64   \n",
       "350  INEXIGIBILIDADE DE LICITAÇÃO  R$        35.899,28   \n",
       "\n",
       "                      fonte_recurso         vigencia_projeto  \\\n",
       "37   TESOURO - EDUCAÇÃO (112000000)                      NaN   \n",
       "38                              NaN  17/12/2007 - 31/07/2013   \n",
       "350                             NaN  01/01/2000 - 31/12/2015   \n",
       "\n",
       "                                               projeto  \\\n",
       "37                                                 NaN   \n",
       "38   FUNPEC/UFRN CONV. 147/2007 - CAMPUS DO CEREBRO...   \n",
       "350                            MANUTENCAO II (1512001)   \n",
       "\n",
       "     id_unidade_responsavel unidade_responsavel  Unnamed: 14  \n",
       "37                   5229.0   CAMPUS DO CÉREBRO          NaN  \n",
       "38                   5229.0   CAMPUS DO CÉREBRO          NaN  \n",
       "350                  5229.0   CAMPUS DO CÉREBRO          NaN  "
      ]
     },
     "execution_count": 67,
     "metadata": {},
     "output_type": "execute_result"
    }
   ],
   "source": [
    "cerebro_list = []\n",
    "for idx,rows in df.iterrows():\n",
    "    if (rows['unidade_responsavel'] == campus_cerebro):\n",
    "        cerebro_list.append(idx)\n",
    "\n",
    "# As duas obras (caríssimas por sinal) do campus do cérebro\n",
    "df.loc[cerebro_list]\n"
   ]
  },
  {
   "cell_type": "code",
   "execution_count": 64,
   "metadata": {},
   "outputs": [
    {
     "name": "stdout",
     "output_type": "stream",
     "text": [
      "execução, pela CONTRATADA, da CONSTRUÇÃO DO CENTRO DE PESQUISAS, LOCALIZADO NO CAMPUS DO CÉREBRO NA ESCOLA AGRÍCOLA DE JUNDIAÍ - MUNICÍPIO DE MACAÍBA / RN: conforme especificações, anexas a CONCORRÊNCIA Nº 10/2009-DMP.\n",
      "\tUnidade 01 - CONSTRUÇÃO DA ESCOLA LYGIA MARIA ROCHA LEÃO LAPORTA\n",
      "\t Unidade 02 -  CONSTRUÇÃO DO CENTRO DE PESQUISAS\n",
      "\n",
      "\n",
      "CONSTRUÇÃO DA ESCOLA LYGIA MARIA ROCHA LEÃO LAPORTA, LOCALIZADO NO CAMPUS DO CÉREBRO NA ESCOLA AGRÍCOLA DE JUNDIAÍ - MUNICÍPIO DE MACAÍBA/RN.\n"
     ]
    }
   ],
   "source": [
    "cc_describe = df.loc[cerebro_list]\n",
    "print(cc_describe.iloc[0]['descricao'])\n",
    "print(cc_describe.iloc[1]['descricao'])"
   ]
  },
  {
   "cell_type": "code",
   "execution_count": 65,
   "metadata": {
    "scrolled": true
   },
   "outputs": [
    {
     "data": {
      "image/png": "[encoded data removed]",
      "text/plain": [
       "<matplotlib.figure.Figure at 0x7fabcf1ada58>"
      ]
     },
     "metadata": {},
     "output_type": "display_data"
    }
   ],
   "source": [
    "names = list(top10.keys())\n",
    "\n",
    "fig, ax = plt.subplots()\n",
    "bar_positions = np.arange(len(names)) + 0.75\n",
    "xtick_pos = np.arange(len(names)) + 1\n",
    "ax.set_xticks(xtick_pos)\n",
    "ax.set_xticklabels(names,rotation= 90)\n",
    "ax.bar(bar_positions, top10.values())\n",
    "plt.show()"
   ]
  },
  {
   "cell_type": "markdown",
   "metadata": {},
   "source": [
    "### Analyzing Works Times\n",
    "On the next 3 cells, we will check, respectively, a construction's minimun time, max time and the mean of all these times."
   ]
  },
  {
   "cell_type": "code",
   "execution_count": 22,
   "metadata": {},
   "outputs": [
    {
     "name": "stdout",
     "output_type": "stream",
     "text": [
      "The fastest work took 5 days\n",
      "It also cost R$         8.320,70\n"
     ]
    },
    {
     "data": {
      "text/html": [
       "<div>\n",
       "<style scoped>\n",
       "    .dataframe tbody tr th:only-of-type {\n",
       "        vertical-align: middle;\n",
       "    }\n",
       "\n",
       "    .dataframe tbody tr th {\n",
       "        vertical-align: top;\n",
       "    }\n",
       "\n",
       "    .dataframe thead th {\n",
       "        text-align: right;\n",
       "    }\n",
       "</style>\n",
       "<table border=\"1\" class=\"dataframe\">\n",
       "  <thead>\n",
       "    <tr style=\"text-align: right;\">\n",
       "      <th></th>\n",
       "      <th>277</th>\n",
       "    </tr>\n",
       "  </thead>\n",
       "  <tbody>\n",
       "    <tr>\n",
       "      <th>id_obra</th>\n",
       "      <td>2849</td>\n",
       "    </tr>\n",
       "    <tr>\n",
       "      <th>descricao</th>\n",
       "      <td>RECUPERAÇÃO DE ENLACE ÓPTICO NA AV. RODRIGUES ...</td>\n",
       "    </tr>\n",
       "    <tr>\n",
       "      <th>periodo</th>\n",
       "      <td>15/01/2007 - 19/01/2007</td>\n",
       "    </tr>\n",
       "    <tr>\n",
       "      <th>qtd_dias</th>\n",
       "      <td>5</td>\n",
       "    </tr>\n",
       "    <tr>\n",
       "      <th>status_obra</th>\n",
       "      <td>FINALIZADA</td>\n",
       "    </tr>\n",
       "    <tr>\n",
       "      <th>licitacao</th>\n",
       "      <td>585/2006</td>\n",
       "    </tr>\n",
       "    <tr>\n",
       "      <th>empresa</th>\n",
       "      <td>01.009.821/0001-51 - PROTELE ENGENHARIA LTDA</td>\n",
       "    </tr>\n",
       "    <tr>\n",
       "      <th>modalidade</th>\n",
       "      <td>DISPENSA DE LICITAÇÃO</td>\n",
       "    </tr>\n",
       "    <tr>\n",
       "      <th>valor</th>\n",
       "      <td>R$         8.320,70</td>\n",
       "    </tr>\n",
       "    <tr>\n",
       "      <th>fonte_recurso</th>\n",
       "      <td>UNIV.FEDERAL DO RIO GRANDE DO NORTE (250154214)</td>\n",
       "    </tr>\n",
       "    <tr>\n",
       "      <th>vigencia_projeto</th>\n",
       "      <td>NaN</td>\n",
       "    </tr>\n",
       "    <tr>\n",
       "      <th>projeto</th>\n",
       "      <td>NaN</td>\n",
       "    </tr>\n",
       "    <tr>\n",
       "      <th>id_unidade_responsavel</th>\n",
       "      <td>605</td>\n",
       "    </tr>\n",
       "    <tr>\n",
       "      <th>unidade_responsavel</th>\n",
       "      <td>UNIVERSIDADE FEDERAL DO RIO GRANDE DO NORTE</td>\n",
       "    </tr>\n",
       "    <tr>\n",
       "      <th>Unnamed: 14</th>\n",
       "      <td>NaN</td>\n",
       "    </tr>\n",
       "  </tbody>\n",
       "</table>\n",
       "</div>"
      ],
      "text/plain": [
       "                                                                      277\n",
       "id_obra                                                              2849\n",
       "descricao               RECUPERAÇÃO DE ENLACE ÓPTICO NA AV. RODRIGUES ...\n",
       "periodo                                           15/01/2007 - 19/01/2007\n",
       "qtd_dias                                                                5\n",
       "status_obra                                                    FINALIZADA\n",
       "licitacao                                                        585/2006\n",
       "empresa                      01.009.821/0001-51 - PROTELE ENGENHARIA LTDA\n",
       "modalidade                                          DISPENSA DE LICITAÇÃO\n",
       "valor                                                 R$         8.320,70\n",
       "fonte_recurso             UNIV.FEDERAL DO RIO GRANDE DO NORTE (250154214)\n",
       "vigencia_projeto                                                      NaN\n",
       "projeto                                                               NaN\n",
       "id_unidade_responsavel                                                605\n",
       "unidade_responsavel           UNIVERSIDADE FEDERAL DO RIO GRANDE DO NORTE\n",
       "Unnamed: 14                                                           NaN"
      ]
     },
     "execution_count": 22,
     "metadata": {},
     "output_type": "execute_result"
    }
   ],
   "source": [
    "# This cell creates 2 variables, one containing the minimun value and the other it's index.\n",
    "works_min_time = works['qtd_dias'].min()\n",
    "works_min_index_time = works['qtd_dias'].idxmin()\n",
    "\n",
    "# Then, we print to observe it's values and costs.\n",
    "print(\"The fastest work took\",works_min_time,\"days\")\n",
    "print(\"It also cost\", works.iloc[works_min_index_time]['valor'])\n",
    "pd.DataFrame(works.iloc[works_min_index_time])"
   ]
  },
  {
   "cell_type": "code",
   "execution_count": 23,
   "metadata": {},
   "outputs": [
    {
     "name": "stdout",
     "output_type": "stream",
     "text": [
      "The slowest work took 1306 days\n",
      "It also cost R$       272.555,36\n"
     ]
    },
    {
     "data": {
      "text/html": [
       "<div>\n",
       "<style scoped>\n",
       "    .dataframe tbody tr th:only-of-type {\n",
       "        vertical-align: middle;\n",
       "    }\n",
       "\n",
       "    .dataframe tbody tr th {\n",
       "        vertical-align: top;\n",
       "    }\n",
       "\n",
       "    .dataframe thead th {\n",
       "        text-align: right;\n",
       "    }\n",
       "</style>\n",
       "<table border=\"1\" class=\"dataframe\">\n",
       "  <thead>\n",
       "    <tr style=\"text-align: right;\">\n",
       "      <th></th>\n",
       "      <th>548</th>\n",
       "    </tr>\n",
       "  </thead>\n",
       "  <tbody>\n",
       "    <tr>\n",
       "      <th>id_obra</th>\n",
       "      <td>5931</td>\n",
       "    </tr>\n",
       "    <tr>\n",
       "      <th>descricao</th>\n",
       "      <td>O PRESENTE CONTRATO TEM COMO OBJETO A EXECUÇÃO...</td>\n",
       "    </tr>\n",
       "    <tr>\n",
       "      <th>periodo</th>\n",
       "      <td>15/07/2007 - 09/08/2011</td>\n",
       "    </tr>\n",
       "    <tr>\n",
       "      <th>qtd_dias</th>\n",
       "      <td>1306</td>\n",
       "    </tr>\n",
       "    <tr>\n",
       "      <th>status_obra</th>\n",
       "      <td>FINALIZADA</td>\n",
       "    </tr>\n",
       "    <tr>\n",
       "      <th>licitacao</th>\n",
       "      <td>4/2010</td>\n",
       "    </tr>\n",
       "    <tr>\n",
       "      <th>empresa</th>\n",
       "      <td>05.937.949/0001-36 - ATUAL ENGENHARIA E SERVI...</td>\n",
       "    </tr>\n",
       "    <tr>\n",
       "      <th>modalidade</th>\n",
       "      <td>TOMADA DE PREÇO</td>\n",
       "    </tr>\n",
       "    <tr>\n",
       "      <th>valor</th>\n",
       "      <td>R$       272.555,36</td>\n",
       "    </tr>\n",
       "    <tr>\n",
       "      <th>fonte_recurso</th>\n",
       "      <td>TESOURO - EDUCAÇÃO (112000000)</td>\n",
       "    </tr>\n",
       "    <tr>\n",
       "      <th>vigencia_projeto</th>\n",
       "      <td>NaN</td>\n",
       "    </tr>\n",
       "    <tr>\n",
       "      <th>projeto</th>\n",
       "      <td>NaN</td>\n",
       "    </tr>\n",
       "    <tr>\n",
       "      <th>id_unidade_responsavel</th>\n",
       "      <td>447</td>\n",
       "    </tr>\n",
       "    <tr>\n",
       "      <th>unidade_responsavel</th>\n",
       "      <td>MATERNIDADE ESCOLA JANUÁRIO CICCO</td>\n",
       "    </tr>\n",
       "    <tr>\n",
       "      <th>Unnamed: 14</th>\n",
       "      <td>NaN</td>\n",
       "    </tr>\n",
       "  </tbody>\n",
       "</table>\n",
       "</div>"
      ],
      "text/plain": [
       "                                                                      548\n",
       "id_obra                                                              5931\n",
       "descricao               O PRESENTE CONTRATO TEM COMO OBJETO A EXECUÇÃO...\n",
       "periodo                                           15/07/2007 - 09/08/2011\n",
       "qtd_dias                                                             1306\n",
       "status_obra                                                    FINALIZADA\n",
       "licitacao                                                          4/2010\n",
       "empresa                  05.937.949/0001-36 - ATUAL ENGENHARIA E SERVI...\n",
       "modalidade                                                TOMADA DE PREÇO\n",
       "valor                                                 R$       272.555,36\n",
       "fonte_recurso                              TESOURO - EDUCAÇÃO (112000000)\n",
       "vigencia_projeto                                                      NaN\n",
       "projeto                                                               NaN\n",
       "id_unidade_responsavel                                                447\n",
       "unidade_responsavel                     MATERNIDADE ESCOLA JANUÁRIO CICCO\n",
       "Unnamed: 14                                                           NaN"
      ]
     },
     "execution_count": 23,
     "metadata": {},
     "output_type": "execute_result"
    }
   ],
   "source": [
    "# This cell creates 2 variables, one containing the maximun value and the other it's index.\n",
    "works_max_time = works['qtd_dias'].max()\n",
    "works_max_index_time = works['qtd_dias'].idxmax()\n",
    "\n",
    "# Then, we print to observe it's values and costs.\n",
    "print(\"The slowest work took\",works_max_time,\"days\")\n",
    "print(\"It also cost\", works.iloc[works_max_index_time]['valor'])\n",
    "pd.DataFrame(works.iloc[works_max_index_time])"
   ]
  },
  {
   "cell_type": "code",
   "execution_count": 24,
   "metadata": {},
   "outputs": [
    {
     "name": "stdout",
     "output_type": "stream",
     "text": [
      "184 is the mean amount of days taken to finish a construction on UFRN\n"
     ]
    }
   ],
   "source": [
    "works_mean_time = works['qtd_dias'].mean()\n",
    "print( int(works_mean_time),\"is the mean amount of days taken to finish a construction on UFRN\")"
   ]
  },
  {
   "cell_type": "markdown",
   "metadata": {},
   "source": [
    "### Considerations\n",
    "After our analysis over times, we concluded that UFRN actually takes approximately 6 months for a construction to be finished."
   ]
  },
  {
   "cell_type": "code",
   "execution_count": 25,
   "metadata": {},
   "outputs": [
    {
     "name": "stdout",
     "output_type": "stream",
     "text": [
      "511\n",
      "61 %\n"
     ]
    }
   ],
   "source": [
    "less_than_mean = 0\n",
    "for i in works.qtd_dias:\n",
    "    if i < works_mean_time:\n",
    "        less_than_mean = less_than_mean + 1\n",
    "        \n",
    "amount_works = len(works.id_obra)\n",
    "print(less_than_mean)\n",
    "print(int (less_than_mean*100/amount_works),\"%\")\n",
    "\n",
    "# Most of works done on UFRN are faster than the mean time."
   ]
  },
  {
   "cell_type": "markdown",
   "metadata": {},
   "source": [
    "### Information on Requested Works\n",
    "Following we will start our abstractions over the requested works of UFRN's departments.\n",
    "\n",
    "For example, as we can see on the next cell, the department that made more requests is SuperIntendencia de Infraestrutura. "
   ]
  },
  {
   "cell_type": "code",
   "execution_count": 26,
   "metadata": {},
   "outputs": [
    {
     "name": "stdout",
     "output_type": "stream",
     "text": [
      "SUPERINTENDÊNCIA DE INFRAESTRUTURA             505\n",
      "RESIDENCIAS UNIVERSITÁRIAS                     222\n",
      "UNIVERSIDADE FEDERAL DO RIO GRANDE DO NORTE    186\n",
      "PRÓ-REITORIA DE ADMINISTRAÇÃO (PROAD)          160\n",
      "CENTRO DE BIOCIÊNCIAS                          160\n",
      "DIRETORIA DE OBRAS                             144\n",
      "CENTRO DE CIÊNCIAS DA SAÚDE                    134\n",
      "HOSPITAL UNIVERSITÁRIO ONOFRE LOPES            134\n",
      "DIREÇÃO DO CCSA                                129\n",
      "ESCOLA AGRÍCOLA DE JUNDIAÍ                     116\n",
      "Name: nome_unidade_requisitante, dtype: int64\n",
      "<class 'pandas.core.series.Series'>\n"
     ]
    }
   ],
   "source": [
    "print(work_requests['nome_unidade_requisitante'].value_counts()[:10])\n",
    "# SuperIntendencia de Infraestrutura has more than double requests than the second most requester(Residencias Universitárias).\n",
    "print(type(work_requests['nome_unidade_requisitante'].value_counts()[:10]))"
   ]
  },
  {
   "cell_type": "code",
   "execution_count": null,
   "metadata": {},
   "outputs": [],
   "source": []
  },
  {
   "cell_type": "markdown",
   "metadata": {},
   "source": [
    "### 2 ) Most expensive Work\n",
    "The most expensive work was on Campus do Cérebro, researching about it we found that the Campus is located in Macaiba. According to the work description, the money was invested in the construction of the Lygia Maria Rocha Leão Laporta school and in the construction of the Search center. Because it is a project of an environment of academic studies focused on the neurological medical area it is justified the cost of about 76 million reais, The work took 2 years to finish. "
   ]
  },
  {
   "cell_type": "markdown",
   "metadata": {},
   "source": [
    "2.1 ) This cell shows in detail the two works carried out on the Campus do Cérebro."
   ]
  },
  {
   "cell_type": "code",
   "execution_count": 27,
   "metadata": {},
   "outputs": [
    {
     "data": {
      "text/html": [
       "<div>\n",
       "<style scoped>\n",
       "    .dataframe tbody tr th:only-of-type {\n",
       "        vertical-align: middle;\n",
       "    }\n",
       "\n",
       "    .dataframe tbody tr th {\n",
       "        vertical-align: top;\n",
       "    }\n",
       "\n",
       "    .dataframe thead th {\n",
       "        text-align: right;\n",
       "    }\n",
       "</style>\n",
       "<table border=\"1\" class=\"dataframe\">\n",
       "  <thead>\n",
       "    <tr style=\"text-align: right;\">\n",
       "      <th></th>\n",
       "      <th>id_obra</th>\n",
       "      <th>descricao</th>\n",
       "      <th>periodo</th>\n",
       "      <th>qtd_dias</th>\n",
       "      <th>status_obra</th>\n",
       "      <th>licitacao</th>\n",
       "      <th>empresa</th>\n",
       "      <th>modalidade</th>\n",
       "      <th>valor</th>\n",
       "      <th>fonte_recurso</th>\n",
       "      <th>vigencia_projeto</th>\n",
       "      <th>projeto</th>\n",
       "      <th>id_unidade_responsavel</th>\n",
       "      <th>unidade_responsavel</th>\n",
       "      <th>Unnamed: 14</th>\n",
       "    </tr>\n",
       "  </thead>\n",
       "  <tbody>\n",
       "    <tr>\n",
       "      <th>37</th>\n",
       "      <td>5803</td>\n",
       "      <td>execução, pela CONTRATADA, da CONSTRUÇÃO DO CE...</td>\n",
       "      <td>11/06/2010 - 22/12/2013</td>\n",
       "      <td>720</td>\n",
       "      <td>FINALIZADA</td>\n",
       "      <td>10/2009</td>\n",
       "      <td>86.712.247/0001-56 - EDCON - COMÉRCIO E CONST...</td>\n",
       "      <td>CONCORRÊNCIA</td>\n",
       "      <td>R$    75.574.557,43</td>\n",
       "      <td>TESOURO - EDUCAÇÃO (112000000)</td>\n",
       "      <td>NaN</td>\n",
       "      <td>NaN</td>\n",
       "      <td>5229.0</td>\n",
       "      <td>CAMPUS DO CÉREBRO</td>\n",
       "      <td>NaN</td>\n",
       "    </tr>\n",
       "    <tr>\n",
       "      <th>38</th>\n",
       "      <td>5810</td>\n",
       "      <td>CONSTRUÇÃO DA ESCOLA LYGIA MARIA ROCHA LEÃO LA...</td>\n",
       "      <td>14/06/2010 - 31/12/2011</td>\n",
       "      <td>565</td>\n",
       "      <td>FINALIZADA</td>\n",
       "      <td>10/2009</td>\n",
       "      <td>86.712.247/0001-56 - EDCON - COMÉRCIO E CONST...</td>\n",
       "      <td>CONCORRÊNCIA</td>\n",
       "      <td>R$    59.817.003,64</td>\n",
       "      <td>NaN</td>\n",
       "      <td>17/12/2007 - 31/07/2013</td>\n",
       "      <td>FUNPEC/UFRN CONV. 147/2007 - CAMPUS DO CEREBRO...</td>\n",
       "      <td>5229.0</td>\n",
       "      <td>CAMPUS DO CÉREBRO</td>\n",
       "      <td>NaN</td>\n",
       "    </tr>\n",
       "    <tr>\n",
       "      <th>350</th>\n",
       "      <td>6814</td>\n",
       "      <td>EXECUÇÃO DE SERVIÇOS DE ARQUITETURA VISANDO À ...</td>\n",
       "      <td>09/05/2011 - 09/11/2012</td>\n",
       "      <td>550</td>\n",
       "      <td>CONTRATO FINALIZADO</td>\n",
       "      <td>1/2011</td>\n",
       "      <td>01.641.113/0001-39 - J. GALBINSK &amp; CIA LTDA.</td>\n",
       "      <td>INEXIGIBILIDADE DE LICITAÇÃO</td>\n",
       "      <td>R$        35.899,28</td>\n",
       "      <td>NaN</td>\n",
       "      <td>01/01/2000 - 31/12/2015</td>\n",
       "      <td>MANUTENCAO II (1512001)</td>\n",
       "      <td>5229.0</td>\n",
       "      <td>CAMPUS DO CÉREBRO</td>\n",
       "      <td>NaN</td>\n",
       "    </tr>\n",
       "  </tbody>\n",
       "</table>\n",
       "</div>"
      ],
      "text/plain": [
       "     id_obra                                          descricao  \\\n",
       "37      5803  execução, pela CONTRATADA, da CONSTRUÇÃO DO CE...   \n",
       "38      5810  CONSTRUÇÃO DA ESCOLA LYGIA MARIA ROCHA LEÃO LA...   \n",
       "350     6814  EXECUÇÃO DE SERVIÇOS DE ARQUITETURA VISANDO À ...   \n",
       "\n",
       "                     periodo  qtd_dias          status_obra licitacao  \\\n",
       "37   11/06/2010 - 22/12/2013       720           FINALIZADA   10/2009   \n",
       "38   14/06/2010 - 31/12/2011       565           FINALIZADA   10/2009   \n",
       "350  09/05/2011 - 09/11/2012       550  CONTRATO FINALIZADO    1/2011   \n",
       "\n",
       "                                               empresa  \\\n",
       "37    86.712.247/0001-56 - EDCON - COMÉRCIO E CONST...   \n",
       "38    86.712.247/0001-56 - EDCON - COMÉRCIO E CONST...   \n",
       "350       01.641.113/0001-39 - J. GALBINSK & CIA LTDA.   \n",
       "\n",
       "                       modalidade                valor  \\\n",
       "37                   CONCORRÊNCIA  R$    75.574.557,43   \n",
       "38                   CONCORRÊNCIA  R$    59.817.003,64   \n",
       "350  INEXIGIBILIDADE DE LICITAÇÃO  R$        35.899,28   \n",
       "\n",
       "                      fonte_recurso         vigencia_projeto  \\\n",
       "37   TESOURO - EDUCAÇÃO (112000000)                      NaN   \n",
       "38                              NaN  17/12/2007 - 31/07/2013   \n",
       "350                             NaN  01/01/2000 - 31/12/2015   \n",
       "\n",
       "                                               projeto  \\\n",
       "37                                                 NaN   \n",
       "38   FUNPEC/UFRN CONV. 147/2007 - CAMPUS DO CEREBRO...   \n",
       "350                            MANUTENCAO II (1512001)   \n",
       "\n",
       "     id_unidade_responsavel unidade_responsavel  Unnamed: 14  \n",
       "37                   5229.0   CAMPUS DO CÉREBRO          NaN  \n",
       "38                   5229.0   CAMPUS DO CÉREBRO          NaN  \n",
       "350                  5229.0   CAMPUS DO CÉREBRO          NaN  "
      ]
     },
     "execution_count": 27,
     "metadata": {},
     "output_type": "execute_result"
    }
   ],
   "source": [
    "cerebro_list = []\n",
    "CT_list = []\n",
    "for idx,rows in df.iterrows():\n",
    "    if (rows['unidade_responsavel'] == CT):\n",
    "        CT_list.append(idx)\n",
    "    elif (rows['unidade_responsavel'] == campus_cerebro):\n",
    "        cerebro_list.append(idx)\n",
    "        \n",
    "df.loc[cerebro_list]"
   ]
  },
  {
   "cell_type": "markdown",
   "metadata": {},
   "source": [
    "2.2 ) This cell shows a Picture of the Campus do Cérebro during the construction"
   ]
  },
  {
   "cell_type": "code",
   "execution_count": 28,
   "metadata": {},
   "outputs": [
    {
     "ename": "TclError",
     "evalue": "couldn't open \"campus_cerebro.png\": no such file or directory",
     "output_type": "error",
     "traceback": [
      "\u001b[0;31m---------------------------------------------------------------------------\u001b[0m",
      "\u001b[0;31mTclError\u001b[0m                                  Traceback (most recent call last)",
      "\u001b[0;32m<ipython-input-28-f2eb2eaf55c5>\u001b[0m in \u001b[0;36m<module>\u001b[0;34m()\u001b[0m\n\u001b[1;32m      2\u001b[0m \u001b[0mroot\u001b[0m \u001b[0;34m=\u001b[0m \u001b[0mtk\u001b[0m\u001b[0;34m.\u001b[0m\u001b[0mTk\u001b[0m\u001b[0;34m(\u001b[0m\u001b[0;34m)\u001b[0m\u001b[0;34m\u001b[0m\u001b[0m\n\u001b[1;32m      3\u001b[0m \u001b[0;34m\u001b[0m\u001b[0m\n\u001b[0;32m----> 4\u001b[0;31m \u001b[0mimagem\u001b[0m \u001b[0;34m=\u001b[0m \u001b[0mtk\u001b[0m\u001b[0;34m.\u001b[0m\u001b[0mPhotoImage\u001b[0m\u001b[0;34m(\u001b[0m\u001b[0mfile\u001b[0m \u001b[0;34m=\u001b[0m \u001b[0;34m\"campus_cerebro.png\"\u001b[0m\u001b[0;34m)\u001b[0m\u001b[0;34m\u001b[0m\u001b[0m\n\u001b[0m\u001b[1;32m      5\u001b[0m \u001b[0mw\u001b[0m \u001b[0;34m=\u001b[0m \u001b[0mtk\u001b[0m\u001b[0;34m.\u001b[0m\u001b[0mLabel\u001b[0m\u001b[0;34m(\u001b[0m\u001b[0mroot\u001b[0m\u001b[0;34m,\u001b[0m \u001b[0mimage\u001b[0m\u001b[0;34m=\u001b[0m\u001b[0mimagem\u001b[0m\u001b[0;34m)\u001b[0m\u001b[0;34m\u001b[0m\u001b[0m\n\u001b[1;32m      6\u001b[0m \u001b[0mw\u001b[0m\u001b[0;34m.\u001b[0m\u001b[0mimagem\u001b[0m \u001b[0;34m=\u001b[0m \u001b[0mimagem\u001b[0m\u001b[0;34m\u001b[0m\u001b[0m\n",
      "\u001b[0;32m~/anaconda3/lib/python3.6/tkinter/__init__.py\u001b[0m in \u001b[0;36m__init__\u001b[0;34m(self, name, cnf, master, **kw)\u001b[0m\n\u001b[1;32m   3537\u001b[0m         \u001b[0mValid\u001b[0m \u001b[0mresource\u001b[0m \u001b[0mnames\u001b[0m\u001b[0;34m:\u001b[0m \u001b[0mdata\u001b[0m\u001b[0;34m,\u001b[0m \u001b[0mformat\u001b[0m\u001b[0;34m,\u001b[0m \u001b[0mfile\u001b[0m\u001b[0;34m,\u001b[0m \u001b[0mgamma\u001b[0m\u001b[0;34m,\u001b[0m \u001b[0mheight\u001b[0m\u001b[0;34m,\u001b[0m \u001b[0mpalette\u001b[0m\u001b[0;34m,\u001b[0m\u001b[0;34m\u001b[0m\u001b[0m\n\u001b[1;32m   3538\u001b[0m         width.\"\"\"\n\u001b[0;32m-> 3539\u001b[0;31m         \u001b[0mImage\u001b[0m\u001b[0;34m.\u001b[0m\u001b[0m__init__\u001b[0m\u001b[0;34m(\u001b[0m\u001b[0mself\u001b[0m\u001b[0;34m,\u001b[0m \u001b[0;34m'photo'\u001b[0m\u001b[0;34m,\u001b[0m \u001b[0mname\u001b[0m\u001b[0;34m,\u001b[0m \u001b[0mcnf\u001b[0m\u001b[0;34m,\u001b[0m \u001b[0mmaster\u001b[0m\u001b[0;34m,\u001b[0m \u001b[0;34m**\u001b[0m\u001b[0mkw\u001b[0m\u001b[0;34m)\u001b[0m\u001b[0;34m\u001b[0m\u001b[0m\n\u001b[0m\u001b[1;32m   3540\u001b[0m     \u001b[0;32mdef\u001b[0m \u001b[0mblank\u001b[0m\u001b[0;34m(\u001b[0m\u001b[0mself\u001b[0m\u001b[0;34m)\u001b[0m\u001b[0;34m:\u001b[0m\u001b[0;34m\u001b[0m\u001b[0m\n\u001b[1;32m   3541\u001b[0m         \u001b[0;34m\"\"\"Display a transparent image.\"\"\"\u001b[0m\u001b[0;34m\u001b[0m\u001b[0m\n",
      "\u001b[0;32m~/anaconda3/lib/python3.6/tkinter/__init__.py\u001b[0m in \u001b[0;36m__init__\u001b[0;34m(self, imgtype, name, cnf, master, **kw)\u001b[0m\n\u001b[1;32m   3493\u001b[0m                 \u001b[0mv\u001b[0m \u001b[0;34m=\u001b[0m \u001b[0mself\u001b[0m\u001b[0;34m.\u001b[0m\u001b[0m_register\u001b[0m\u001b[0;34m(\u001b[0m\u001b[0mv\u001b[0m\u001b[0;34m)\u001b[0m\u001b[0;34m\u001b[0m\u001b[0m\n\u001b[1;32m   3494\u001b[0m             \u001b[0moptions\u001b[0m \u001b[0;34m=\u001b[0m \u001b[0moptions\u001b[0m \u001b[0;34m+\u001b[0m \u001b[0;34m(\u001b[0m\u001b[0;34m'-'\u001b[0m\u001b[0;34m+\u001b[0m\u001b[0mk\u001b[0m\u001b[0;34m,\u001b[0m \u001b[0mv\u001b[0m\u001b[0;34m)\u001b[0m\u001b[0;34m\u001b[0m\u001b[0m\n\u001b[0;32m-> 3495\u001b[0;31m         \u001b[0mself\u001b[0m\u001b[0;34m.\u001b[0m\u001b[0mtk\u001b[0m\u001b[0;34m.\u001b[0m\u001b[0mcall\u001b[0m\u001b[0;34m(\u001b[0m\u001b[0;34m(\u001b[0m\u001b[0;34m'image'\u001b[0m\u001b[0;34m,\u001b[0m \u001b[0;34m'create'\u001b[0m\u001b[0;34m,\u001b[0m \u001b[0mimgtype\u001b[0m\u001b[0;34m,\u001b[0m \u001b[0mname\u001b[0m\u001b[0;34m,\u001b[0m\u001b[0;34m)\u001b[0m \u001b[0;34m+\u001b[0m \u001b[0moptions\u001b[0m\u001b[0;34m)\u001b[0m\u001b[0;34m\u001b[0m\u001b[0m\n\u001b[0m\u001b[1;32m   3496\u001b[0m         \u001b[0mself\u001b[0m\u001b[0;34m.\u001b[0m\u001b[0mname\u001b[0m \u001b[0;34m=\u001b[0m \u001b[0mname\u001b[0m\u001b[0;34m\u001b[0m\u001b[0m\n\u001b[1;32m   3497\u001b[0m     \u001b[0;32mdef\u001b[0m \u001b[0m__str__\u001b[0m\u001b[0;34m(\u001b[0m\u001b[0mself\u001b[0m\u001b[0;34m)\u001b[0m\u001b[0;34m:\u001b[0m \u001b[0;32mreturn\u001b[0m \u001b[0mself\u001b[0m\u001b[0;34m.\u001b[0m\u001b[0mname\u001b[0m\u001b[0;34m\u001b[0m\u001b[0m\n",
      "\u001b[0;31mTclError\u001b[0m: couldn't open \"campus_cerebro.png\": no such file or directory"
     ]
    }
   ],
   "source": [
    "import tkinter as tk\n",
    "root = tk.Tk()\n",
    "\n",
    "imagem = tk.PhotoImage(file = \"campus_cerebro.png\")\n",
    "w = tk.Label(root, image=imagem)\n",
    "w.imagem = imagem\n",
    "w.pack()\n",
    "\n",
    "root.mainloop()"
   ]
  },
  {
   "cell_type": "markdown",
   "metadata": {},
   "source": [
    "2.3 ) Here we use the data to find the most expensive done or in progress work"
   ]
  },
  {
   "cell_type": "code",
   "execution_count": null,
   "metadata": {},
   "outputs": [],
   "source": [
    "most_exp_work = works['valor'].max()\n",
    "\n",
    "this = 0\n",
    "\n",
    "print(\"The most expensive work cost was:\", most_exp_work)\n",
    "\n",
    "for i,valor in enumerate(works['valor']):\n",
    "    if(valor == most_exp_work):\n",
    "        this = i    \n",
    "        \n",
    "print(\"Work: \", works['unidade_responsavel'][this])        \n",
    "print(\"\\nDescription: \", works['descricao'][this])\n",
    "\n",
    "pd.DataFrame(works.iloc[this])"
   ]
  },
  {
   "cell_type": "markdown",
   "metadata": {},
   "source": [
    "### 3 ) Cheaper Work"
   ]
  },
  {
   "cell_type": "code",
   "execution_count": null,
   "metadata": {},
   "outputs": [],
   "source": [
    "most_cheap_work = works['valor'].min()\n",
    "\n",
    "print(\"The most cheap work cost was:\", most_cheap_work)\n",
    "\n",
    "this = 0\n",
    "\n",
    "for i,valor in enumerate(works['valor']):\n",
    "    if(valor == most_cheap_work):\n",
    "        this = i\n",
    "        \n",
    "print(\"Work: \", works['unidade_responsavel'][this])\n",
    "print(\"\\nDescription: \", works['descricao'][this])\n",
    "\n",
    "pd.DataFrame(works.iloc[this])"
   ]
  },
  {
   "cell_type": "code",
   "execution_count": null,
   "metadata": {},
   "outputs": [],
   "source": [
    "# works_cost_mean = works['valor'].mean()\n",
    "# print(\"The Works coust mean was:\", works_cost_mean)"
   ]
  },
  {
   "cell_type": "markdown",
   "metadata": {},
   "source": [
    "### 4. Valor"
   ]
  },
  {
   "cell_type": "code",
   "execution_count": null,
   "metadata": {},
   "outputs": [],
   "source": [
    "years = work_requests.copy()\n",
    "yr = work_requests['ano'].value_counts()\n",
    "\n",
    "print(\"Works per year:\")\n",
    "yea = pd.DataFrame(yr)\n",
    "yea.head()"
   ]
  },
  {
   "cell_type": "code",
   "execution_count": null,
   "metadata": {},
   "outputs": [],
   "source": [
    "work_requests.plot(kind='hist', y = 'ano', bins=30, figsize=(15,8), color = 'purple', alpha=0.3)\n",
    "plt.xlabel('Years')\n",
    "plt.title(\"Request per Year\")\n",
    "plt.show()"
   ]
  },
  {
   "cell_type": "markdown",
   "metadata": {},
   "source": [
    "### 5. Status "
   ]
  },
  {
   "cell_type": "code",
   "execution_count": null,
   "metadata": {
    "scrolled": true
   },
   "outputs": [],
   "source": [
    "status = work_requests.copy()\n",
    "sta = work_requests['status'].value_counts()\n",
    "\n",
    "print(\"The work requests number by status:\")\n",
    "\n",
    "stat = pd.DataFrame(sta)\n",
    "soma_fim = stat[stat.index.str.contains('FINALIZADA')].sum()\n",
    "soma_pend = stat[stat.index.str.contains('PENDENTE')].sum()\n",
    "stat.loc['FINALIZADAS'] = [soma_fim['status']]\n",
    "stat.loc['PENDENTE AUTORIZAÇÃO'] = [soma_pend['status']]\n",
    "pure_stat = stat.drop(index = ['FINALIZADA_ATENDIMENTO','FINALIZADA'])\n",
    "final_stat = pure_stat.drop(index = ['ENVIADA_LICITACAO','AUTORIZADA PELO CHEFE DA UNIDADE','CADASTRADA',\n",
    "                            'ENVIADA','RETORNADA','ATENDIDA_LICITACAO','AUTORIZADA PARA INFRA',\n",
    "                            'AUTORIZADA DIREÇÃO CENTRO','AUTORIZADA PARA LICITAÇÃO',\n",
    "                            'PENDENTE AUTORIZAÇÃO CHEFE UNIDADE','PENDENTE AUTORIZAÇÃO CHEFIA'])\n",
    "\n",
    "porce = final_stat/pure_stat.sum()*100\n",
    "porce"
   ]
  },
  {
   "cell_type": "markdown",
   "metadata": {},
   "source": [
    "->>>>"
   ]
  },
  {
   "cell_type": "code",
   "execution_count": null,
   "metadata": {},
   "outputs": [],
   "source": [
    "explode = (0.1, 0.1, 0.1, 0.1, 0.3, 0.1, 0.1, 0.1, 0.3, 0.1)\n",
    "labels = porce.index\n",
    "fig = plt.figure(figsize=(15,8))\n",
    "plt.pie(porce, explode=explode, autopct='%1.1f%%',shadow=True, startangle=30, radius=0.9)\n",
    "plt.axis('equal')\n",
    "plt.legend(loc='best',labels=labels, bbox_to_anchor=(-0.1,0.6))\n",
    "plt.title(\"Work Requests Status\")\n",
    "plt.show()"
   ]
  }
 ],
 "metadata": {
  "kernelspec": {
   "display_name": "Python 3",
   "language": "python",
   "name": "python3"
  },
  "language_info": {
   "codemirror_mode": {
    "name": "ipython",
    "version": 3
   },
   "file_extension": ".py",
   "mimetype": "text/x-python",
   "name": "python",
   "nbconvert_exporter": "python",
   "pygments_lexer": "ipython3",
   "version": "3.6.4"
  }
 },
 "nbformat": 4,
 "nbformat_minor": 2
}
