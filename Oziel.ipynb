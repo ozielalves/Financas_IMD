{
 "cells": [
  {
   "cell_type": "markdown",
   "metadata": {},
   "source": [
    "# Finanças UFRN"
   ]
  },
  {
   "cell_type": "code",
   "execution_count": 57,
   "metadata": {},
   "outputs": [],
   "source": [
    "import pandas as pd\n",
    "import numpy as np\n",
    "import matplotlib.pyplot as plt\n"
   ]
  },
  {
   "cell_type": "markdown",
   "metadata": {},
   "source": [
    "## Working with *Valores*"
   ]
  },
  {
   "cell_type": "code",
   "execution_count": 75,
   "metadata": {
    "scrolled": true
   },
   "outputs": [
    {
     "name": "stdout",
     "output_type": "stream",
     "text": [
      "   id_obra                                          descricao  \\\n",
      "0      493  CONSTRUÇÃO DO BLOCO H DO SETOR DE AULAS TEÓRIC...   \n",
      "1      521  CONSTRUÇÃO DO BLOCO A1 DO SETOR DE AULAS TEÓRI...   \n",
      "2      848  CONSTRUÇÃO DO SETOR DE ANTIBIÓTICOS PRODUÇÃO D...   \n",
      "3      925  Complementação da 2ª Etapa e Realização da 3ª ...   \n",
      "4      182   CONSTRUÇÃO DO DEPARTAMENTO DE FISIOTERAPIA - CCS   \n",
      "\n",
      "                   periodo  qtd_dias status_obra licitacao  \\\n",
      "0  23/03/2005 - 19/11/2005       240  FINALIZADA    6/2004   \n",
      "1  04/05/2005 - 30/12/2005       240  FINALIZADA    7/2004   \n",
      "2  02/06/2005 - 29/01/2006       240  FINALIZADA    4/2004   \n",
      "3  28/01/2005 - 22/01/2006       360  FINALIZADA    2/2004   \n",
      "4  08/02/2006 - 02/02/2007       360  FINALIZADA    1/2005   \n",
      "\n",
      "                                             empresa    modalidade  \\\n",
      "0   03.166.687/0001-28 - CRS-CONSTRUÇÕES E EMPREE...  CONCORRÊNCIA   \n",
      "1   03.166.687/0001-28 - CRS-CONSTRUÇÕES E EMPREE...  CONCORRÊNCIA   \n",
      "2        03.722.669/0001-85 - CONSTRUTORA CAGEO LTDA  CONCORRÊNCIA   \n",
      "3   40.761.454/0001-08 - AR PROJETOS & CONSTRUÇÕE...  CONCORRÊNCIA   \n",
      "4   01.694.415/0001-75 - HASTE-HABITAÇÃO E SERVIÇ...  CONCORRÊNCIA   \n",
      "\n",
      "                 valor                   fonte_recurso  \\\n",
      "0  R$       829.454,21                             NaN   \n",
      "1  R$       833.702,12                             NaN   \n",
      "2  R$     1.561.230,93  TESOURO - EDUCAÇÃO (112000000)   \n",
      "3  R$       814.550,74                             NaN   \n",
      "4  R$     1.455.865,61                             NaN   \n",
      "\n",
      "          vigencia_projeto                           projeto  \\\n",
      "0                      NaN                               NaN   \n",
      "1  20/04/2005 - 20/11/2005          19O ENECIC/2005 (852005)   \n",
      "2                      NaN                               NaN   \n",
      "3  20/12/2002 - 31/07/2007  UFRN/CONV.133/02 - HUOL (862003)   \n",
      "4  20/12/2004 - 30/03/2010   CONVENIO 121/2004 UFRN (732005)   \n",
      "\n",
      "   id_unidade_responsavel                             unidade_responsavel  \\\n",
      "0                     NaN                                             NaN   \n",
      "1                     NaN                                             NaN   \n",
      "2                   252.0  NUCLEO DE PESQUISA EM ALIMENTOS E MEDICAMENTOS   \n",
      "3                   446.0             HOSPITAL UNIVERSITÁRIO ONOFRE LOPES   \n",
      "4                   446.0             HOSPITAL UNIVERSITÁRIO ONOFRE LOPES   \n",
      "\n",
      "   Unnamed: 14  \n",
      "0          NaN  \n",
      "1          NaN  \n",
      "2          NaN  \n",
      "3          NaN  \n",
      "4          NaN  \n",
      "   numero   ano  id_unidade_requisitante  \\\n",
      "0    1467  2018                      445   \n",
      "1    1463  2018                     4885   \n",
      "2    1388  2018                     6919   \n",
      "3    1340  2018                     3362   \n",
      "4     927  2018                      196   \n",
      "\n",
      "                 nome_unidade_requisitante  id_unidade_custo  \\\n",
      "0                     CENTRO DE TECNOLOGIA               445   \n",
      "1          ESCOLA DE CIÊNCIAS E TECNOLOGIA              4885   \n",
      "2  INSTITUTO DE MEDICINA TROPICAL - IMT-RN              6919   \n",
      "3        ASSESSORIA ADMINISTRATIVA (AS/CT)                87   \n",
      "4                 DEPARTAMENTO DE FARMACIA               196   \n",
      "\n",
      "                        nome_unidade_custo  data_envio  \\\n",
      "0                     CENTRO DE TECNOLOGIA  27/02/2018   \n",
      "1          ESCOLA DE CIÊNCIAS E TECNOLOGIA  27/02/2018   \n",
      "2  INSTITUTO DE MEDICINA TROPICAL - IMT-RN  23/02/2018   \n",
      "3          DIREÇÃO DO CENTRO DE TECNOLOGIA  23/02/2018   \n",
      "4                 DEPARTAMENTO DE FARMACIA  08/02/2018   \n",
      "\n",
      "                                           descricao  \\\n",
      "0  REPARO DO FORRO E RECUPERAÇÃO DE PEÇAS METÁLIC...   \n",
      "1  RECUPERAÇÃO ESTRUTURAL DA COBERTURA DO PRÉDIO ...   \n",
      "2  Projeto de sinalização interna e externa do IM...   \n",
      "3  Conforme parecer técnico realizado pela coorde...   \n",
      "4  DIANTE DA CRIAÇÃO DA PRIMEIRA E ÚNICA EMPRESA ...   \n",
      "\n",
      "                                               local  \\\n",
      "0                        CENTRO DE TECNOLOGIA - UFRN   \n",
      "1                          CENTRO DE TECNOLOGIA-UFRN   \n",
      "2         Unidade clínica do IMT-RN, ao lado do HGT.   \n",
      "3          Complexo tecnológico de engenharia (CTEC)   \n",
      "4  LOCAL SE TRATA DE PARTE DA ANTIGA PRAÇA DO XAR...   \n",
      "\n",
      "                                         observacoes  \\\n",
      "0                         RDC 01/2018 - R$ 40.984,69   \n",
      "1                        RDC 01/2018 - R$ 136.974,42   \n",
      "2                                                NaN   \n",
      "3  Construção de um abrigo para fins de destinaçã...   \n",
      "4                             UNIDADE DE CUSTO CCS.    \n",
      "\n",
      "                               status processo  \n",
      "0                          CADASTRADA      NaN  \n",
      "1  PENDENTE AUTORIZAÇÃO CHEFE UNIDADE      NaN  \n",
      "2               AUTORIZADA PARA INFRA      NaN  \n",
      "3               AUTORIZADA PARA INFRA      NaN  \n",
      "4                          CADASTRADA      NaN  \n"
     ]
    }
   ],
   "source": [
    "works = pd.read_csv(\"res/obras.csv\", sep=';')\n",
    "work_requests = pd.read_csv(\"res/requisicaoobras.csv\", sep=';')\n",
    "\n",
    "print(works.head())\n",
    "print(work_requests.head())"
   ]
  },
  {
   "cell_type": "markdown",
   "metadata": {},
   "source": [
    "### Most expensive Work"
   ]
  },
  {
   "cell_type": "code",
   "execution_count": 76,
   "metadata": {},
   "outputs": [
    {
     "name": "stdout",
     "output_type": "stream",
     "text": [
      "The most expensive Work was: R$    75.574.557,43\n",
      "37\n"
     ]
    },
    {
     "data": {
      "text/plain": [
       "id_obra                                                                5803\n",
       "descricao                 execução, pela CONTRATADA, da CONSTRUÇÃO DO CE...\n",
       "periodo                                             11/06/2010 - 22/12/2013\n",
       "qtd_dias                                                                720\n",
       "status_obra                                                      FINALIZADA\n",
       "licitacao                                                           10/2009\n",
       "empresa                    86.712.247/0001-56 - EDCON - COMÉRCIO E CONST...\n",
       "modalidade                                                     CONCORRÊNCIA\n",
       "valor                                                   R$    75.574.557,43\n",
       "fonte_recurso                                TESOURO - EDUCAÇÃO (112000000)\n",
       "vigencia_projeto                                                        NaN\n",
       "projeto                                                                 NaN\n",
       "id_unidade_responsavel                                                 5229\n",
       "unidade_responsavel                                       CAMPUS DO CÉREBRO\n",
       "Unnamed: 14                                                             NaN\n",
       "Name: 37, dtype: object"
      ]
     },
     "execution_count": 76,
     "metadata": {},
     "output_type": "execute_result"
    }
   ],
   "source": [
    "most_exp_work = works['valor'].max()\n",
    "print(\"The most expensive Work was:\", most_exp_work)\n",
    "for i,valor in enumerate(works['valor']):\n",
    "    if(valor == most_exp_work):\n",
    "        print(i)\n",
    "works.iloc[37]"
   ]
  },
  {
   "cell_type": "markdown",
   "metadata": {},
   "source": [
    "### Cheaper Work"
   ]
  },
  {
   "cell_type": "code",
   "execution_count": 77,
   "metadata": {},
   "outputs": [
    {
     "name": "stdout",
     "output_type": "stream",
     "text": [
      "The most cheap Work was: R$             1,00\n",
      "421\n"
     ]
    },
    {
     "data": {
      "text/plain": [
       "id_obra                                                                2878\n",
       "descricao                 CONSTRUÇÃO DE OBRAS CIVIS DO CENTRO DE PESQUIS...\n",
       "periodo                                             01/01/2007 - 31/12/2007\n",
       "qtd_dias                                                                360\n",
       "status_obra                                                      FINALIZADA\n",
       "licitacao                                                            7/2006\n",
       "empresa                    08.288.581/0001-10 - I M COMERCIO E TERRAPLAN...\n",
       "modalidade                                                  TOMADA DE PREÇO\n",
       "valor                                                   R$             1,00\n",
       "fonte_recurso               UNIV.FEDERAL DO RIO GRANDE DO NORTE (250154214)\n",
       "vigencia_projeto                                                        NaN\n",
       "projeto                                                                 NaN\n",
       "id_unidade_responsavel                                                  605\n",
       "unidade_responsavel             UNIVERSIDADE FEDERAL DO RIO GRANDE DO NORTE\n",
       "Unnamed: 14                                                             NaN\n",
       "Name: 421, dtype: object"
      ]
     },
     "execution_count": 77,
     "metadata": {},
     "output_type": "execute_result"
    }
   ],
   "source": [
    "most_cheap_work = works['valor'].min()\n",
    "print(\"The most cheap Work was:\", most_cheap_work)\n",
    "this = 0\n",
    "for i,valor in enumerate(works['valor']):\n",
    "    if(valor == most_cheap_work):\n",
    "        print(i)\n",
    "        this = i\n",
    "works.iloc[this]"
   ]
  },
  {
   "cell_type": "markdown",
   "metadata": {},
   "source": [
    "### Fixing string 'Valor'"
   ]
  },
  {
   "cell_type": "code",
   "execution_count": 65,
   "metadata": {},
   "outputs": [
    {
     "name": "stderr",
     "output_type": "stream",
     "text": [
      "C:\\Users\\oziel\\Anaconda3\\lib\\site-packages\\ipykernel_launcher.py:7: SettingWithCopyWarning: \n",
      "A value is trying to be set on a copy of a slice from a DataFrame\n",
      "\n",
      "See the caveats in the documentation: http://pandas.pydata.org/pandas-docs/stable/indexing.html#indexing-view-versus-copy\n",
      "  import sys\n"
     ]
    }
   ],
   "source": [
    "for index,i in enumerate(works['valor']):\n",
    "    i = i.replace(\" \", \"\")\n",
    "    i = i.replace(\"R$\", \"\")\n",
    "    i = i.replace(\".\",\"\")\n",
    "    i = i.replace(\",\", \"\")\n",
    "    i = int(i)\n",
    "    works['valor'][index] = i\n"
   ]
  },
  {
   "cell_type": "code",
   "execution_count": 48,
   "metadata": {},
   "outputs": [
    {
     "name": "stdout",
     "output_type": "stream",
     "text": [
      "The Works coust mean was: 91264780.6882494\n"
     ]
    }
   ],
   "source": [
    "works_cost_mean = works['valor'].mean()\n",
    "print(\"The Works coust mean was:\", works_cost_mean)"
   ]
  },
  {
   "cell_type": "markdown",
   "metadata": {},
   "source": [
    "### Valor"
   ]
  },
  {
   "cell_type": "code",
   "execution_count": 74,
   "metadata": {},
   "outputs": [
    {
     "data": {
      "image/png": "[encoded data removed]",
      "text/plain": [
       "<matplotlib.figure.Figure at 0x19ae92cc860>"
      ]
     },
     "metadata": {},
     "output_type": "display_data"
    }
   ],
   "source": [
    "fig = plt.figure(figsize=(15,8))\n",
    "plt.plot(works['licitacao'], works['valor'], c='gray', label='Work Cost')\n",
    "plt.ylabel('')\n",
    "plt.xlabel('')\n",
    "plt.legend(loc='upper right')\n",
    "plt.title('')\n",
    "plt.show()"
   ]
  },
  {
   "cell_type": "markdown",
   "metadata": {},
   "source": [
    "### Status "
   ]
  },
  {
   "cell_type": "code",
   "execution_count": 103,
   "metadata": {
    "scrolled": true
   },
   "outputs": [
    {
     "name": "stdout",
     "output_type": "stream",
     "text": [
      "ENVIADA_PROJETO                       2188\n",
      "ATENDIDA                              1351\n",
      "FINALIZADA_ATENDIMENTO                 800\n",
      "ARQUIVADA                              703\n",
      "ENVIADA_ORCAMENTO                      487\n",
      "ENVIADA_LICITACAO                      231\n",
      "NEGADA                                 180\n",
      "AUTORIZADA PELO CHEFE DA UNIDADE       151\n",
      "ESTORNADA                              113\n",
      "CADASTRADA                             109\n",
      "PENDENTE AUTORIZAÇÃO CHEFE UNIDADE      47\n",
      "ENVIADA                                 30\n",
      "RETORNADA                               22\n",
      "AGUARDANDO_EXECUCAO                      9\n",
      "AUTORIZADA                               8\n",
      "ATENDIDA_LICITACAO                       7\n",
      "AUTORIZADA PARA INFRA                    5\n",
      "PENDENTE AUTORIZAÇÃO CHEFIA              3\n",
      "AUTORIZADA DIREÇÃO CENTRO                2\n",
      "AUTORIZADA PARA LICITAÇÃO                1\n",
      "FINALIZADA                               1\n",
      "Name: status, dtype: int64\n"
     ]
    },
    {
     "data": {
      "text/html": [
       "<div>\n",
       "<style scoped>\n",
       "    .dataframe tbody tr th:only-of-type {\n",
       "        vertical-align: middle;\n",
       "    }\n",
       "\n",
       "    .dataframe tbody tr th {\n",
       "        vertical-align: top;\n",
       "    }\n",
       "\n",
       "    .dataframe thead th {\n",
       "        text-align: right;\n",
       "    }\n",
       "</style>\n",
       "<table border=\"1\" class=\"dataframe\">\n",
       "  <thead>\n",
       "    <tr style=\"text-align: right;\">\n",
       "      <th></th>\n",
       "      <th>numero</th>\n",
       "      <th>ano</th>\n",
       "      <th>id_unidade_requisitante</th>\n",
       "      <th>nome_unidade_requisitante</th>\n",
       "      <th>id_unidade_custo</th>\n",
       "      <th>nome_unidade_custo</th>\n",
       "      <th>data_envio</th>\n",
       "      <th>descricao</th>\n",
       "      <th>local</th>\n",
       "      <th>observacoes</th>\n",
       "      <th>status</th>\n",
       "      <th>processo</th>\n",
       "    </tr>\n",
       "  </thead>\n",
       "  <tbody>\n",
       "    <tr>\n",
       "      <th>0</th>\n",
       "      <td>1467</td>\n",
       "      <td>2018</td>\n",
       "      <td>445</td>\n",
       "      <td>CENTRO DE TECNOLOGIA</td>\n",
       "      <td>445</td>\n",
       "      <td>CENTRO DE TECNOLOGIA</td>\n",
       "      <td>27/02/2018</td>\n",
       "      <td>REPARO DO FORRO E RECUPERAÇÃO DE PEÇAS METÁLIC...</td>\n",
       "      <td>CENTRO DE TECNOLOGIA - UFRN</td>\n",
       "      <td>RDC 01/2018 - R$ 40.984,69</td>\n",
       "      <td>CADASTRADA</td>\n",
       "      <td>NaN</td>\n",
       "    </tr>\n",
       "    <tr>\n",
       "      <th>1</th>\n",
       "      <td>1463</td>\n",
       "      <td>2018</td>\n",
       "      <td>4885</td>\n",
       "      <td>ESCOLA DE CIÊNCIAS E TECNOLOGIA</td>\n",
       "      <td>4885</td>\n",
       "      <td>ESCOLA DE CIÊNCIAS E TECNOLOGIA</td>\n",
       "      <td>27/02/2018</td>\n",
       "      <td>RECUPERAÇÃO ESTRUTURAL DA COBERTURA DO PRÉDIO ...</td>\n",
       "      <td>CENTRO DE TECNOLOGIA-UFRN</td>\n",
       "      <td>RDC 01/2018 - R$ 136.974,42</td>\n",
       "      <td>PENDENTE AUTORIZAÇÃO CHEFE UNIDADE</td>\n",
       "      <td>NaN</td>\n",
       "    </tr>\n",
       "    <tr>\n",
       "      <th>2</th>\n",
       "      <td>1388</td>\n",
       "      <td>2018</td>\n",
       "      <td>6919</td>\n",
       "      <td>INSTITUTO DE MEDICINA TROPICAL - IMT-RN</td>\n",
       "      <td>6919</td>\n",
       "      <td>INSTITUTO DE MEDICINA TROPICAL - IMT-RN</td>\n",
       "      <td>23/02/2018</td>\n",
       "      <td>Projeto de sinalização interna e externa do IM...</td>\n",
       "      <td>Unidade clínica do IMT-RN, ao lado do HGT.</td>\n",
       "      <td>NaN</td>\n",
       "      <td>AUTORIZADA PARA INFRA</td>\n",
       "      <td>NaN</td>\n",
       "    </tr>\n",
       "    <tr>\n",
       "      <th>3</th>\n",
       "      <td>1340</td>\n",
       "      <td>2018</td>\n",
       "      <td>3362</td>\n",
       "      <td>ASSESSORIA ADMINISTRATIVA (AS/CT)</td>\n",
       "      <td>87</td>\n",
       "      <td>DIREÇÃO DO CENTRO DE TECNOLOGIA</td>\n",
       "      <td>23/02/2018</td>\n",
       "      <td>Conforme parecer técnico realizado pela coorde...</td>\n",
       "      <td>Complexo tecnológico de engenharia (CTEC)</td>\n",
       "      <td>Construção de um abrigo para fins de destinaçã...</td>\n",
       "      <td>AUTORIZADA PARA INFRA</td>\n",
       "      <td>NaN</td>\n",
       "    </tr>\n",
       "    <tr>\n",
       "      <th>4</th>\n",
       "      <td>927</td>\n",
       "      <td>2018</td>\n",
       "      <td>196</td>\n",
       "      <td>DEPARTAMENTO DE FARMACIA</td>\n",
       "      <td>196</td>\n",
       "      <td>DEPARTAMENTO DE FARMACIA</td>\n",
       "      <td>08/02/2018</td>\n",
       "      <td>DIANTE DA CRIAÇÃO DA PRIMEIRA E ÚNICA EMPRESA ...</td>\n",
       "      <td>LOCAL SE TRATA DE PARTE DA ANTIGA PRAÇA DO XAR...</td>\n",
       "      <td>UNIDADE DE CUSTO CCS.</td>\n",
       "      <td>CADASTRADA</td>\n",
       "      <td>NaN</td>\n",
       "    </tr>\n",
       "  </tbody>\n",
       "</table>\n",
       "</div>"
      ],
      "text/plain": [
       "   numero   ano  id_unidade_requisitante  \\\n",
       "0    1467  2018                      445   \n",
       "1    1463  2018                     4885   \n",
       "2    1388  2018                     6919   \n",
       "3    1340  2018                     3362   \n",
       "4     927  2018                      196   \n",
       "\n",
       "                 nome_unidade_requisitante  id_unidade_custo  \\\n",
       "0                     CENTRO DE TECNOLOGIA               445   \n",
       "1          ESCOLA DE CIÊNCIAS E TECNOLOGIA              4885   \n",
       "2  INSTITUTO DE MEDICINA TROPICAL - IMT-RN              6919   \n",
       "3        ASSESSORIA ADMINISTRATIVA (AS/CT)                87   \n",
       "4                 DEPARTAMENTO DE FARMACIA               196   \n",
       "\n",
       "                        nome_unidade_custo  data_envio  \\\n",
       "0                     CENTRO DE TECNOLOGIA  27/02/2018   \n",
       "1          ESCOLA DE CIÊNCIAS E TECNOLOGIA  27/02/2018   \n",
       "2  INSTITUTO DE MEDICINA TROPICAL - IMT-RN  23/02/2018   \n",
       "3          DIREÇÃO DO CENTRO DE TECNOLOGIA  23/02/2018   \n",
       "4                 DEPARTAMENTO DE FARMACIA  08/02/2018   \n",
       "\n",
       "                                           descricao  \\\n",
       "0  REPARO DO FORRO E RECUPERAÇÃO DE PEÇAS METÁLIC...   \n",
       "1  RECUPERAÇÃO ESTRUTURAL DA COBERTURA DO PRÉDIO ...   \n",
       "2  Projeto de sinalização interna e externa do IM...   \n",
       "3  Conforme parecer técnico realizado pela coorde...   \n",
       "4  DIANTE DA CRIAÇÃO DA PRIMEIRA E ÚNICA EMPRESA ...   \n",
       "\n",
       "                                               local  \\\n",
       "0                        CENTRO DE TECNOLOGIA - UFRN   \n",
       "1                          CENTRO DE TECNOLOGIA-UFRN   \n",
       "2         Unidade clínica do IMT-RN, ao lado do HGT.   \n",
       "3          Complexo tecnológico de engenharia (CTEC)   \n",
       "4  LOCAL SE TRATA DE PARTE DA ANTIGA PRAÇA DO XAR...   \n",
       "\n",
       "                                         observacoes  \\\n",
       "0                         RDC 01/2018 - R$ 40.984,69   \n",
       "1                        RDC 01/2018 - R$ 136.974,42   \n",
       "2                                                NaN   \n",
       "3  Construção de um abrigo para fins de destinaçã...   \n",
       "4                             UNIDADE DE CUSTO CCS.    \n",
       "\n",
       "                               status processo  \n",
       "0                          CADASTRADA      NaN  \n",
       "1  PENDENTE AUTORIZAÇÃO CHEFE UNIDADE      NaN  \n",
       "2               AUTORIZADA PARA INFRA      NaN  \n",
       "3               AUTORIZADA PARA INFRA      NaN  \n",
       "4                          CADASTRADA      NaN  "
      ]
     },
     "execution_count": 103,
     "metadata": {},
     "output_type": "execute_result"
    },
    {
     "data": {
      "text/plain": [
       "<matplotlib.figure.Figure at 0x19ae789eeb8>"
      ]
     },
     "metadata": {},
     "output_type": "display_data"
    }
   ],
   "source": [
    "plt.savefig(\"image.png\",bbox_inches='tight',dpi=100)\n",
    "#cols = ['','Ganhadores_Quina','Ganhadores_Quadra']\n",
    "#\n",
    "status = work_requests.copy()\n",
    "sta = work_requests['status'].value_counts()\n",
    "#st = sta.unstack().value_counts()\n",
    "\n",
    "print(sta)\n",
    "work_requests.head()\n",
    "\n",
    "#sta = tatus['status']\n",
    "#fig = sta.plot(kind = 'hist', range=(0,4000), alpha=0.3, figsize=(15,8))\n",
    "#plt.title(\"\")\n",
    "#plt.xlabel(\"\")\n",
    "#plt.ylabel(\"\")\n",
    "#plt.show()"
   ]
  }
 ],
 "metadata": {
  "kernelspec": {
   "display_name": "Python 3",
   "language": "python",
   "name": "python3"
  },
  "language_info": {
   "codemirror_mode": {
    "name": "ipython",
    "version": 3
   },
   "file_extension": ".py",
   "mimetype": "text/x-python",
   "name": "python",
   "nbconvert_exporter": "python",
   "pygments_lexer": "ipython3",
   "version": "3.6.4"
  }
 },
 "nbformat": 4,
 "nbformat_minor": 2
}
