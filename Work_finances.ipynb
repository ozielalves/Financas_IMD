{
  "nbformat": 4,
  "nbformat_minor": 0,
  "metadata": {
    "colab": {
      "name": "Work_finances.ipynb",
      "version": "0.3.2",
      "provenance": [],
      "collapsed_sections": [
        "vg7_UDIjff-k",
        "ZZInp0iDff_F"
      ],
      "toc_visible": true
    },
    "language_info": {
      "codemirror_mode": {
        "name": "ipython",
        "version": 3
      },
      "file_extension": ".py",
      "mimetype": "text/x-python",
      "name": "python",
      "nbconvert_exporter": "python",
      "pygments_lexer": "ipython3",
      "version": "3.6.4"
    },
    "kernelspec": {
      "display_name": "Python 3",
      "language": "python",
      "name": "python3"
    }
  },
  "cells": [
    {
      "metadata": {
        "id": "ii1kd4YNff8r",
        "colab_type": "text"
      },
      "cell_type": "markdown",
      "source": [
        "# UFRN Constructions's Finances\n",
        "On this NoteBook we will present our discoveries over constructions and investments all over UNIVERSIDADE FEDERAL DO RIO GRANDE DO NORTE ([UFRN](www.ufrn.br)).\n",
        "All this made as a project for a subject on UFRN called `PROBABILIDADE`, where we choose some of several available open data about our university.\n",
        "\n",
        "## Choosen Data\n",
        "We decided to work over some financial values at UFRN, like how much money cost a specific work, how long it generally takes to finish a construction, the most expensive work, and so on. For that, we used the following 'csv' files:\n",
        "- [obras.csv](http://dados.ufrn.br/dataset/a8b897f9-4659-44d4-842e-ac70ae21eb83/resource/067e7cad-934c-4134-a5d5-807915c074b4/download/obras.csv)\n",
        "- [requisicaoobras.csv](http://dados.ufrn.br/dataset/15f55d0c-7ac8-4c1e-a73c-b0e37b9ef873/resource/0d923d18-1ffa-41d7-972f-33a12e9daf62/download/requisicaoobras.csv)"
      ]
    },
    {
      "metadata": {
        "id": "2-P2BsBRff8u",
        "colab_type": "text"
      },
      "cell_type": "markdown",
      "source": [
        "Importing some useful libs"
      ]
    },
    {
      "metadata": {
        "id": "42qMJg8VfiJR",
        "colab_type": "code",
        "colab": {}
      },
      "cell_type": "code",
      "source": [
        "!pip install -q plotly_express"
      ],
      "execution_count": 0,
      "outputs": []
    },
    {
      "metadata": {
        "id": "9_VhN3sNff8x",
        "colab_type": "code",
        "colab": {}
      },
      "cell_type": "code",
      "source": [
        "import pandas as pd\n",
        "import numpy as np\n",
        "import matplotlib.pyplot as plt\n",
        "import plotly_express as px\n",
        "import plotly \n",
        "plotly.tools.set_credentials_file(username='ozielalves', api_key='tbvRq28Pi5iHHYWq7vWK')"
      ],
      "execution_count": 0,
      "outputs": []
    },
    {
      "metadata": {
        "scrolled": true,
        "id": "eJ3XJunFff86",
        "colab_type": "text"
      },
      "cell_type": "markdown",
      "source": [
        "Just reading and showing the dataframe we are about to work with."
      ]
    },
    {
      "metadata": {
        "id": "l_QaATJfff89",
        "colab_type": "code",
        "colab": {}
      },
      "cell_type": "code",
      "source": [
        "works = pd.read_csv(\"obras.csv\", sep=';')\n",
        "work_requests = pd.read_csv(\"requisicaoobras.csv\", sep=';', parse_dates=['data_envio'])"
      ],
      "execution_count": 0,
      "outputs": []
    },
    {
      "metadata": {
        "id": "Wy9Xa4b3ff9G",
        "colab_type": "text"
      },
      "cell_type": "markdown",
      "source": [
        "#### Works Data Frame"
      ]
    },
    {
      "metadata": {
        "id": "Ih05KWssff9J",
        "colab_type": "code",
        "outputId": "9d3e0adb-7361-422f-fda6-7efd3840d70e",
        "colab": {
          "base_uri": "https://localhost:8080/",
          "height": 873
        }
      },
      "cell_type": "code",
      "source": [
        "print(works.info())\n",
        "works.head()"
      ],
      "execution_count": 4,
      "outputs": [
        {
          "output_type": "stream",
          "text": [
            "<class 'pandas.core.frame.DataFrame'>\n",
            "RangeIndex: 846 entries, 0 to 845\n",
            "Data columns (total 14 columns):\n",
            "id_obra                   846 non-null int64\n",
            "descricao                 846 non-null object\n",
            "periodo                   846 non-null object\n",
            "qtd_dias                  846 non-null int64\n",
            "status_obra               846 non-null object\n",
            "licitacao                 846 non-null object\n",
            "empresa                   846 non-null object\n",
            "modalidade                846 non-null object\n",
            "valor                     846 non-null object\n",
            "fonte_recurso             554 non-null object\n",
            "vigencia_projeto          337 non-null object\n",
            "projeto                   337 non-null object\n",
            "id_unidade_responsavel    473 non-null float64\n",
            "unidade_responsavel       473 non-null object\n",
            "dtypes: float64(1), int64(2), object(11)\n",
            "memory usage: 92.6+ KB\n",
            "None\n"
          ],
          "name": "stdout"
        },
        {
          "output_type": "execute_result",
          "data": {
            "text/html": [
              "<div>\n",
              "<style scoped>\n",
              "    .dataframe tbody tr th:only-of-type {\n",
              "        vertical-align: middle;\n",
              "    }\n",
              "\n",
              "    .dataframe tbody tr th {\n",
              "        vertical-align: top;\n",
              "    }\n",
              "\n",
              "    .dataframe thead th {\n",
              "        text-align: right;\n",
              "    }\n",
              "</style>\n",
              "<table border=\"1\" class=\"dataframe\">\n",
              "  <thead>\n",
              "    <tr style=\"text-align: right;\">\n",
              "      <th></th>\n",
              "      <th>id_obra</th>\n",
              "      <th>descricao</th>\n",
              "      <th>periodo</th>\n",
              "      <th>qtd_dias</th>\n",
              "      <th>status_obra</th>\n",
              "      <th>licitacao</th>\n",
              "      <th>empresa</th>\n",
              "      <th>modalidade</th>\n",
              "      <th>valor</th>\n",
              "      <th>fonte_recurso</th>\n",
              "      <th>vigencia_projeto</th>\n",
              "      <th>projeto</th>\n",
              "      <th>id_unidade_responsavel</th>\n",
              "      <th>unidade_responsavel</th>\n",
              "    </tr>\n",
              "  </thead>\n",
              "  <tbody>\n",
              "    <tr>\n",
              "      <th>0</th>\n",
              "      <td>848</td>\n",
              "      <td>CONSTRUÇÃO DO SETOR DE ANTIBIÓTICOS PRODUÇÃO D...</td>\n",
              "      <td>02/06/2005 - 29/01/2006</td>\n",
              "      <td>240</td>\n",
              "      <td>FINALIZADA</td>\n",
              "      <td>4/2004</td>\n",
              "      <td>03.722.669/0001-85 - CONSTRUTORA CAGEO LTDA</td>\n",
              "      <td>CONCORRÊNCIA</td>\n",
              "      <td>R$     1.561.230,93</td>\n",
              "      <td>TESOURO - EDUCAÇÃO (112000000)</td>\n",
              "      <td>NaN</td>\n",
              "      <td>NaN</td>\n",
              "      <td>252.0</td>\n",
              "      <td>NUCLEO DE PESQUISA EM ALIMENTOS E MEDICAMENTOS</td>\n",
              "    </tr>\n",
              "    <tr>\n",
              "      <th>1</th>\n",
              "      <td>521</td>\n",
              "      <td>CONSTRUÇÃO DO BLOCO A1 DO SETOR DE AULAS TEÓRI...</td>\n",
              "      <td>04/05/2005 - 30/12/2005</td>\n",
              "      <td>240</td>\n",
              "      <td>FINALIZADA</td>\n",
              "      <td>7/2004</td>\n",
              "      <td>03.166.687/0001-28 - CRS-CONSTRUÇÕES E EMPREE...</td>\n",
              "      <td>CONCORRÊNCIA</td>\n",
              "      <td>R$       833.702,12</td>\n",
              "      <td>NaN</td>\n",
              "      <td>20/04/2005 - 20/11/2005</td>\n",
              "      <td>19O ENECIC/2005 (852005)</td>\n",
              "      <td>NaN</td>\n",
              "      <td>NaN</td>\n",
              "    </tr>\n",
              "    <tr>\n",
              "      <th>2</th>\n",
              "      <td>493</td>\n",
              "      <td>CONSTRUÇÃO DO BLOCO H DO SETOR DE AULAS TEÓRIC...</td>\n",
              "      <td>23/03/2005 - 19/11/2005</td>\n",
              "      <td>240</td>\n",
              "      <td>FINALIZADA</td>\n",
              "      <td>6/2004</td>\n",
              "      <td>03.166.687/0001-28 - CRS-CONSTRUÇÕES E EMPREE...</td>\n",
              "      <td>CONCORRÊNCIA</td>\n",
              "      <td>R$       829.454,21</td>\n",
              "      <td>NaN</td>\n",
              "      <td>NaN</td>\n",
              "      <td>NaN</td>\n",
              "      <td>NaN</td>\n",
              "      <td>NaN</td>\n",
              "    </tr>\n",
              "    <tr>\n",
              "      <th>3</th>\n",
              "      <td>925</td>\n",
              "      <td>Complementação da 2ª Etapa e Realização da 3ª ...</td>\n",
              "      <td>28/01/2005 - 22/01/2006</td>\n",
              "      <td>360</td>\n",
              "      <td>FINALIZADA</td>\n",
              "      <td>2/2004</td>\n",
              "      <td>40.761.454/0001-08 - AR PROJETOS &amp; CONSTRUÇÕE...</td>\n",
              "      <td>CONCORRÊNCIA</td>\n",
              "      <td>R$       814.550,74</td>\n",
              "      <td>NaN</td>\n",
              "      <td>20/12/2002 - 31/07/2007</td>\n",
              "      <td>UFRN/CONV.133/02 - HUOL (862003)</td>\n",
              "      <td>446.0</td>\n",
              "      <td>HOSPITAL UNIVERSITÁRIO ONOFRE LOPES</td>\n",
              "    </tr>\n",
              "    <tr>\n",
              "      <th>4</th>\n",
              "      <td>478</td>\n",
              "      <td>CONSTRUÇÃO DO BLOCO H DO SETOR DE AULAS TEÓRIC...</td>\n",
              "      <td>23/03/2005 - 19/11/2005</td>\n",
              "      <td>240</td>\n",
              "      <td>FINALIZADA</td>\n",
              "      <td>5/2004</td>\n",
              "      <td>03.166.687/0001-28 - CRS-CONSTRUÇÕES E EMPREE...</td>\n",
              "      <td>CONCORRÊNCIA</td>\n",
              "      <td>R$       847.582,26</td>\n",
              "      <td>APLICACOES FINANCEIRAS (280154215)</td>\n",
              "      <td>NaN</td>\n",
              "      <td>NaN</td>\n",
              "      <td>NaN</td>\n",
              "      <td>NaN</td>\n",
              "    </tr>\n",
              "  </tbody>\n",
              "</table>\n",
              "</div>"
            ],
            "text/plain": [
              "   id_obra                                          descricao  \\\n",
              "0      848  CONSTRUÇÃO DO SETOR DE ANTIBIÓTICOS PRODUÇÃO D...   \n",
              "1      521  CONSTRUÇÃO DO BLOCO A1 DO SETOR DE AULAS TEÓRI...   \n",
              "2      493  CONSTRUÇÃO DO BLOCO H DO SETOR DE AULAS TEÓRIC...   \n",
              "3      925  Complementação da 2ª Etapa e Realização da 3ª ...   \n",
              "4      478  CONSTRUÇÃO DO BLOCO H DO SETOR DE AULAS TEÓRIC...   \n",
              "\n",
              "                   periodo  qtd_dias status_obra licitacao  \\\n",
              "0  02/06/2005 - 29/01/2006       240  FINALIZADA    4/2004   \n",
              "1  04/05/2005 - 30/12/2005       240  FINALIZADA    7/2004   \n",
              "2  23/03/2005 - 19/11/2005       240  FINALIZADA    6/2004   \n",
              "3  28/01/2005 - 22/01/2006       360  FINALIZADA    2/2004   \n",
              "4  23/03/2005 - 19/11/2005       240  FINALIZADA    5/2004   \n",
              "\n",
              "                                             empresa    modalidade  \\\n",
              "0        03.722.669/0001-85 - CONSTRUTORA CAGEO LTDA  CONCORRÊNCIA   \n",
              "1   03.166.687/0001-28 - CRS-CONSTRUÇÕES E EMPREE...  CONCORRÊNCIA   \n",
              "2   03.166.687/0001-28 - CRS-CONSTRUÇÕES E EMPREE...  CONCORRÊNCIA   \n",
              "3   40.761.454/0001-08 - AR PROJETOS & CONSTRUÇÕE...  CONCORRÊNCIA   \n",
              "4   03.166.687/0001-28 - CRS-CONSTRUÇÕES E EMPREE...  CONCORRÊNCIA   \n",
              "\n",
              "                 valor                       fonte_recurso  \\\n",
              "0  R$     1.561.230,93      TESOURO - EDUCAÇÃO (112000000)   \n",
              "1  R$       833.702,12                                 NaN   \n",
              "2  R$       829.454,21                                 NaN   \n",
              "3  R$       814.550,74                                 NaN   \n",
              "4  R$       847.582,26  APLICACOES FINANCEIRAS (280154215)   \n",
              "\n",
              "          vigencia_projeto                           projeto  \\\n",
              "0                      NaN                               NaN   \n",
              "1  20/04/2005 - 20/11/2005          19O ENECIC/2005 (852005)   \n",
              "2                      NaN                               NaN   \n",
              "3  20/12/2002 - 31/07/2007  UFRN/CONV.133/02 - HUOL (862003)   \n",
              "4                      NaN                               NaN   \n",
              "\n",
              "   id_unidade_responsavel                             unidade_responsavel  \n",
              "0                   252.0  NUCLEO DE PESQUISA EM ALIMENTOS E MEDICAMENTOS  \n",
              "1                     NaN                                             NaN  \n",
              "2                     NaN                                             NaN  \n",
              "3                   446.0             HOSPITAL UNIVERSITÁRIO ONOFRE LOPES  \n",
              "4                     NaN                                             NaN  "
            ]
          },
          "metadata": {
            "tags": []
          },
          "execution_count": 4
        }
      ]
    },
    {
      "metadata": {
        "id": "TgxE20C9ff9S",
        "colab_type": "text"
      },
      "cell_type": "markdown",
      "source": [
        "#### Work Requests Data Frame"
      ]
    },
    {
      "metadata": {
        "scrolled": false,
        "id": "FXul6KWKff9U",
        "colab_type": "code",
        "outputId": "9cd7f761-2a7a-4b12-ca29-b4de53a56406",
        "colab": {
          "base_uri": "https://localhost:8080/",
          "height": 771
        }
      },
      "cell_type": "code",
      "source": [
        "print(work_requests.info())\n",
        "work_requests.head()"
      ],
      "execution_count": 5,
      "outputs": [
        {
          "output_type": "stream",
          "text": [
            "<class 'pandas.core.frame.DataFrame'>\n",
            "RangeIndex: 6530 entries, 0 to 6529\n",
            "Data columns (total 12 columns):\n",
            "numero                       6530 non-null int64\n",
            "ano                          6530 non-null int64\n",
            "id_unidade_requisitante      6530 non-null int64\n",
            "nome_unidade_requisitante    6530 non-null object\n",
            "id_unidade_custo             6530 non-null int64\n",
            "nome_unidade_custo           6530 non-null object\n",
            "data_envio                   4175 non-null datetime64[ns]\n",
            "descricao                    6530 non-null object\n",
            "local                        3636 non-null object\n",
            "observacoes                  1151 non-null object\n",
            "status                       6530 non-null object\n",
            "processo                     4938 non-null object\n",
            "dtypes: datetime64[ns](1), int64(4), object(7)\n",
            "memory usage: 612.3+ KB\n",
            "None\n"
          ],
          "name": "stdout"
        },
        {
          "output_type": "execute_result",
          "data": {
            "text/html": [
              "<div>\n",
              "<style scoped>\n",
              "    .dataframe tbody tr th:only-of-type {\n",
              "        vertical-align: middle;\n",
              "    }\n",
              "\n",
              "    .dataframe tbody tr th {\n",
              "        vertical-align: top;\n",
              "    }\n",
              "\n",
              "    .dataframe thead th {\n",
              "        text-align: right;\n",
              "    }\n",
              "</style>\n",
              "<table border=\"1\" class=\"dataframe\">\n",
              "  <thead>\n",
              "    <tr style=\"text-align: right;\">\n",
              "      <th></th>\n",
              "      <th>numero</th>\n",
              "      <th>ano</th>\n",
              "      <th>id_unidade_requisitante</th>\n",
              "      <th>nome_unidade_requisitante</th>\n",
              "      <th>id_unidade_custo</th>\n",
              "      <th>nome_unidade_custo</th>\n",
              "      <th>data_envio</th>\n",
              "      <th>descricao</th>\n",
              "      <th>local</th>\n",
              "      <th>observacoes</th>\n",
              "      <th>status</th>\n",
              "      <th>processo</th>\n",
              "    </tr>\n",
              "  </thead>\n",
              "  <tbody>\n",
              "    <tr>\n",
              "      <th>0</th>\n",
              "      <td>7051</td>\n",
              "      <td>2018</td>\n",
              "      <td>52</td>\n",
              "      <td>DEPARTAMENTO DE ENGENHARIA CIVIL</td>\n",
              "      <td>52</td>\n",
              "      <td>DEPARTAMENTO DE ENGENHARIA CIVIL</td>\n",
              "      <td>2018-09-19</td>\n",
              "      <td>Novo dimensionamento de extintores de incêndio...</td>\n",
              "      <td>prédio do LARHISA.</td>\n",
              "      <td>NaN</td>\n",
              "      <td>AUTORIZADA PARA INFRA</td>\n",
              "      <td>NaN</td>\n",
              "    </tr>\n",
              "    <tr>\n",
              "      <th>1</th>\n",
              "      <td>7050</td>\n",
              "      <td>2018</td>\n",
              "      <td>1463</td>\n",
              "      <td>RESIDENCIAS UNIVERSITÁRIAS</td>\n",
              "      <td>1463</td>\n",
              "      <td>RESIDENCIAS UNIVERSITÁRIAS</td>\n",
              "      <td>2018-09-19</td>\n",
              "      <td>Solicitamos por gentileza a revisão geral na r...</td>\n",
              "      <td>Residência Universitária Biomédica.</td>\n",
              "      <td>NaN</td>\n",
              "      <td>PENDENTE AUTORIZAÇÃO CHEFE UNIDADE</td>\n",
              "      <td>NaN</td>\n",
              "    </tr>\n",
              "    <tr>\n",
              "      <th>2</th>\n",
              "      <td>7007</td>\n",
              "      <td>2018</td>\n",
              "      <td>8031</td>\n",
              "      <td>PROAD - DIRETORIA DE GESTÃO DA INFORMAÇÃO</td>\n",
              "      <td>1422</td>\n",
              "      <td>PRÓ-REITORIA DE ADMINISTRAÇÃO (PROAD)</td>\n",
              "      <td>2018-09-18</td>\n",
              "      <td>De acordo com o Relatório de Inspeção de Segur...</td>\n",
              "      <td>ARQUIVO GERAL</td>\n",
              "      <td>NaN</td>\n",
              "      <td>AUTORIZADA PARA INFRA</td>\n",
              "      <td>NaN</td>\n",
              "    </tr>\n",
              "    <tr>\n",
              "      <th>3</th>\n",
              "      <td>6934</td>\n",
              "      <td>2018</td>\n",
              "      <td>20</td>\n",
              "      <td>SUPERINTENDÊNCIA DE INFRAESTRUTURA</td>\n",
              "      <td>9160</td>\n",
              "      <td>MANUTENÇÃO E CONSERVAÇÃO DA INFRA-ESTRUTURA FÍ...</td>\n",
              "      <td>2018-09-14</td>\n",
              "      <td>RECUPERAÇÃO ESTRUTURAL DA CAPELA ECUMÊNICA DO ...</td>\n",
              "      <td>CAPELA ECUMÊNICA DO CAMPUS CENTRAL</td>\n",
              "      <td>RDC 11/2018  - R$ 95.436,38</td>\n",
              "      <td>FINALIZADA_ATENDIMENTO</td>\n",
              "      <td>NaN</td>\n",
              "    </tr>\n",
              "    <tr>\n",
              "      <th>4</th>\n",
              "      <td>6763</td>\n",
              "      <td>2018</td>\n",
              "      <td>62</td>\n",
              "      <td>ADMINISTRAÇÃO DO CERES - CURRAIS NOVOS</td>\n",
              "      <td>9170</td>\n",
              "      <td>MANUTENÇÃO DA REDE ELÉTRICA</td>\n",
              "      <td>2018-10-09</td>\n",
              "      <td>SERVIÇOS DE ILUMINAÇÃO DO ESTACIONAMENTO DO CE...</td>\n",
              "      <td>ESTACIONAMENTO DO CERES - CURRAIS NOVOS/RN</td>\n",
              "      <td>RDC 12/2018 - R$ 111.444,99</td>\n",
              "      <td>FINALIZADA_ATENDIMENTO</td>\n",
              "      <td>NaN</td>\n",
              "    </tr>\n",
              "  </tbody>\n",
              "</table>\n",
              "</div>"
            ],
            "text/plain": [
              "   numero   ano  id_unidade_requisitante  \\\n",
              "0    7051  2018                       52   \n",
              "1    7050  2018                     1463   \n",
              "2    7007  2018                     8031   \n",
              "3    6934  2018                       20   \n",
              "4    6763  2018                       62   \n",
              "\n",
              "                   nome_unidade_requisitante  id_unidade_custo  \\\n",
              "0           DEPARTAMENTO DE ENGENHARIA CIVIL                52   \n",
              "1                 RESIDENCIAS UNIVERSITÁRIAS              1463   \n",
              "2  PROAD - DIRETORIA DE GESTÃO DA INFORMAÇÃO              1422   \n",
              "3         SUPERINTENDÊNCIA DE INFRAESTRUTURA              9160   \n",
              "4     ADMINISTRAÇÃO DO CERES - CURRAIS NOVOS              9170   \n",
              "\n",
              "                                  nome_unidade_custo data_envio  \\\n",
              "0                   DEPARTAMENTO DE ENGENHARIA CIVIL 2018-09-19   \n",
              "1                         RESIDENCIAS UNIVERSITÁRIAS 2018-09-19   \n",
              "2              PRÓ-REITORIA DE ADMINISTRAÇÃO (PROAD) 2018-09-18   \n",
              "3  MANUTENÇÃO E CONSERVAÇÃO DA INFRA-ESTRUTURA FÍ... 2018-09-14   \n",
              "4                        MANUTENÇÃO DA REDE ELÉTRICA 2018-10-09   \n",
              "\n",
              "                                           descricao  \\\n",
              "0  Novo dimensionamento de extintores de incêndio...   \n",
              "1  Solicitamos por gentileza a revisão geral na r...   \n",
              "2  De acordo com o Relatório de Inspeção de Segur...   \n",
              "3  RECUPERAÇÃO ESTRUTURAL DA CAPELA ECUMÊNICA DO ...   \n",
              "4  SERVIÇOS DE ILUMINAÇÃO DO ESTACIONAMENTO DO CE...   \n",
              "\n",
              "                                        local                  observacoes  \\\n",
              "0                          prédio do LARHISA.                          NaN   \n",
              "1        Residência Universitária Biomédica.                           NaN   \n",
              "2                               ARQUIVO GERAL                          NaN   \n",
              "3          CAPELA ECUMÊNICA DO CAMPUS CENTRAL  RDC 11/2018  - R$ 95.436,38   \n",
              "4  ESTACIONAMENTO DO CERES - CURRAIS NOVOS/RN  RDC 12/2018 - R$ 111.444,99   \n",
              "\n",
              "                               status processo  \n",
              "0               AUTORIZADA PARA INFRA      NaN  \n",
              "1  PENDENTE AUTORIZAÇÃO CHEFE UNIDADE      NaN  \n",
              "2               AUTORIZADA PARA INFRA      NaN  \n",
              "3              FINALIZADA_ATENDIMENTO      NaN  \n",
              "4              FINALIZADA_ATENDIMENTO      NaN  "
            ]
          },
          "metadata": {
            "tags": []
          },
          "execution_count": 5
        }
      ]
    },
    {
      "metadata": {
        "id": "ytj_6bWdff9d",
        "colab_type": "text"
      },
      "cell_type": "markdown",
      "source": [
        "## Obs.:\n",
        "Unfortunately, the `data_envio` column, which is referent to when the request were submitted has null elements. Because of that, our inicial ideia of using this column as a `DateTimeIndex` has been destroyed."
      ]
    },
    {
      "metadata": {
        "id": "ZMKwl51Aff9e",
        "colab_type": "text"
      },
      "cell_type": "markdown",
      "source": [
        "### 1 ) Cleaning all unlabeled data\n",
        "We choose to discharge those informations which had no unit responsible for the infrastructure work.\n",
        "As a matter of fact, we have 473 infrastructure works with a responsible unit described (out of 846)."
      ]
    },
    {
      "metadata": {
        "id": "uqE4947Mff9g",
        "colab_type": "code",
        "outputId": "c795d3dc-2dee-4067-b47f-2f6e2b6e1dc0",
        "colab": {
          "base_uri": "https://localhost:8080/",
          "height": 4862
        }
      },
      "cell_type": "code",
      "source": [
        "valid_indexes = []\n",
        "for idx, isnull in enumerate(works['unidade_responsavel'].isnull()):\n",
        "    if (isnull == False ):\n",
        "        valid_indexes.append(idx)\n",
        "\n",
        "# Getting only valid data and re-index this new dataframe, since lots of datas would be excluded\n",
        "works_filter = works.iloc[valid_indexes].reset_index(drop=True)\n",
        "works_filter"
      ],
      "execution_count": 48,
      "outputs": [
        {
          "output_type": "execute_result",
          "data": {
            "text/html": [
              "<div>\n",
              "<style scoped>\n",
              "    .dataframe tbody tr th:only-of-type {\n",
              "        vertical-align: middle;\n",
              "    }\n",
              "\n",
              "    .dataframe tbody tr th {\n",
              "        vertical-align: top;\n",
              "    }\n",
              "\n",
              "    .dataframe thead th {\n",
              "        text-align: right;\n",
              "    }\n",
              "</style>\n",
              "<table border=\"1\" class=\"dataframe\">\n",
              "  <thead>\n",
              "    <tr style=\"text-align: right;\">\n",
              "      <th></th>\n",
              "      <th>id_obra</th>\n",
              "      <th>descricao</th>\n",
              "      <th>periodo</th>\n",
              "      <th>qtd_dias</th>\n",
              "      <th>status_obra</th>\n",
              "      <th>licitacao</th>\n",
              "      <th>empresa</th>\n",
              "      <th>modalidade</th>\n",
              "      <th>valor</th>\n",
              "      <th>fonte_recurso</th>\n",
              "      <th>vigencia_projeto</th>\n",
              "      <th>projeto</th>\n",
              "      <th>id_unidade_responsavel</th>\n",
              "      <th>unidade_responsavel</th>\n",
              "    </tr>\n",
              "  </thead>\n",
              "  <tbody>\n",
              "    <tr>\n",
              "      <th>0</th>\n",
              "      <td>848</td>\n",
              "      <td>CONSTRUÇÃO DO SETOR DE ANTIBIÓTICOS PRODUÇÃO D...</td>\n",
              "      <td>02/06/2005 - 29/01/2006</td>\n",
              "      <td>240</td>\n",
              "      <td>FINALIZADA</td>\n",
              "      <td>4/2004</td>\n",
              "      <td>03.722.669/0001-85 - CONSTRUTORA CAGEO LTDA</td>\n",
              "      <td>CONCORRÊNCIA</td>\n",
              "      <td>R$     1.561.230,93</td>\n",
              "      <td>TESOURO - EDUCAÇÃO (112000000)</td>\n",
              "      <td>NaN</td>\n",
              "      <td>NaN</td>\n",
              "      <td>252.0</td>\n",
              "      <td>NUCLEO DE PESQUISA EM ALIMENTOS E MEDICAMENTOS</td>\n",
              "    </tr>\n",
              "    <tr>\n",
              "      <th>1</th>\n",
              "      <td>925</td>\n",
              "      <td>Complementação da 2ª Etapa e Realização da 3ª ...</td>\n",
              "      <td>28/01/2005 - 22/01/2006</td>\n",
              "      <td>360</td>\n",
              "      <td>FINALIZADA</td>\n",
              "      <td>2/2004</td>\n",
              "      <td>40.761.454/0001-08 - AR PROJETOS &amp; CONSTRUÇÕE...</td>\n",
              "      <td>CONCORRÊNCIA</td>\n",
              "      <td>R$       814.550,74</td>\n",
              "      <td>NaN</td>\n",
              "      <td>20/12/2002 - 31/07/2007</td>\n",
              "      <td>UFRN/CONV.133/02 - HUOL (862003)</td>\n",
              "      <td>446.0</td>\n",
              "      <td>HOSPITAL UNIVERSITÁRIO ONOFRE LOPES</td>\n",
              "    </tr>\n",
              "    <tr>\n",
              "      <th>2</th>\n",
              "      <td>182</td>\n",
              "      <td>CONSTRUÇÃO DO DEPARTAMENTO DE FISIOTERAPIA - CCS</td>\n",
              "      <td>08/02/2006 - 02/02/2007</td>\n",
              "      <td>360</td>\n",
              "      <td>FINALIZADA</td>\n",
              "      <td>1/2005</td>\n",
              "      <td>01.694.415/0001-75 - HASTE-HABITAÇÃO E SERVIÇ...</td>\n",
              "      <td>CONCORRÊNCIA</td>\n",
              "      <td>R$     1.455.865,61</td>\n",
              "      <td>NaN</td>\n",
              "      <td>20/12/2004 - 30/03/2010</td>\n",
              "      <td>CONVENIO 121/2004 UFRN (732005)</td>\n",
              "      <td>446.0</td>\n",
              "      <td>HOSPITAL UNIVERSITÁRIO ONOFRE LOPES</td>\n",
              "    </tr>\n",
              "    <tr>\n",
              "      <th>3</th>\n",
              "      <td>282</td>\n",
              "      <td>ADAPTAÇÃO DE AMBIENTES DE ENSINO NO HOSPITAL U...</td>\n",
              "      <td>11/09/2006 - 08/05/2007</td>\n",
              "      <td>240</td>\n",
              "      <td>FINALIZADA</td>\n",
              "      <td>1/2006</td>\n",
              "      <td>04.145.787/0001-30 - ECCL - EMPREENDIMENTOS E...</td>\n",
              "      <td>CONCORRÊNCIA</td>\n",
              "      <td>R$     1.153.423,68</td>\n",
              "      <td>NaN</td>\n",
              "      <td>20/12/2005 - 31/12/2011</td>\n",
              "      <td>FUNPEC/UFRN/CONV. 134/2005 - EMENDA PARLAMENTA...</td>\n",
              "      <td>446.0</td>\n",
              "      <td>HOSPITAL UNIVERSITÁRIO ONOFRE LOPES</td>\n",
              "    </tr>\n",
              "    <tr>\n",
              "      <th>4</th>\n",
              "      <td>5778</td>\n",
              "      <td>COMPLEMENTAÇÃO DA CONSTRUÇÃO DA 1ª ETAPA DO PA...</td>\n",
              "      <td>05/03/2010 - 02/08/2010</td>\n",
              "      <td>150</td>\n",
              "      <td>FINALIZADA</td>\n",
              "      <td>3/2007</td>\n",
              "      <td>04.145.787/0001-30 - ECCL - EMPREENDIMENTOS E...</td>\n",
              "      <td>CONCORRÊNCIA</td>\n",
              "      <td>R$       967.866,36</td>\n",
              "      <td>NaN</td>\n",
              "      <td>20/12/2005 - 31/12/2011</td>\n",
              "      <td>FUNPEC/UFRN/CONV. 134/2005 - EMENDA PARLAMENTA...</td>\n",
              "      <td>441.0</td>\n",
              "      <td>CENTRO DE CIÊNCIAS DA SAÚDE</td>\n",
              "    </tr>\n",
              "    <tr>\n",
              "      <th>5</th>\n",
              "      <td>2419</td>\n",
              "      <td>CONSTRUÇÃO DO PAVILHÃO ACADÊMICO DO CAMPUS AVA...</td>\n",
              "      <td>10/08/2007 - 04/06/2008</td>\n",
              "      <td>300</td>\n",
              "      <td>FINALIZADA</td>\n",
              "      <td>2/2007</td>\n",
              "      <td>04.201.519/0001-99 - ESTRUTURAL EDIFICAÇÕES E...</td>\n",
              "      <td>CONCORRÊNCIA</td>\n",
              "      <td>R$     1.248.942,91</td>\n",
              "      <td>NaN</td>\n",
              "      <td>23/01/2006 - 23/06/2010</td>\n",
              "      <td>FINEP/REDE 01 GEOFISICA DA EXPLORACAO/FASE 2 -...</td>\n",
              "      <td>1646.0</td>\n",
              "      <td>CAMPUS AVANÇADO DE SANTA CRUZ</td>\n",
              "    </tr>\n",
              "    <tr>\n",
              "      <th>6</th>\n",
              "      <td>3217</td>\n",
              "      <td>CONSTRUÇÃO DO NÚCLEO DE PROCESSAMENTO PRIMÁRIO...</td>\n",
              "      <td>18/02/2008 - 13/05/2009</td>\n",
              "      <td>450</td>\n",
              "      <td>FINALIZADA</td>\n",
              "      <td>4/2007</td>\n",
              "      <td>04.145.787/0001-30 - ECCL - EMPREENDIMENTOS E...</td>\n",
              "      <td>CONCORRÊNCIA</td>\n",
              "      <td>R$     2.833.577,19</td>\n",
              "      <td>TESOURO - EDUCAÇÃO (112000000)</td>\n",
              "      <td>21/09/2006 - 03/09/2013</td>\n",
              "      <td>FUNPEC/CENPES/LTPP (1912006)</td>\n",
              "      <td>605.0</td>\n",
              "      <td>UNIVERSIDADE FEDERAL DO RIO GRANDE DO NORTE</td>\n",
              "    </tr>\n",
              "    <tr>\n",
              "      <th>7</th>\n",
              "      <td>5778</td>\n",
              "      <td>COMPLEMENTAÇÃO DA CONSTRUÇÃO DA 1ª ETAPA DO PA...</td>\n",
              "      <td>05/03/2010 - 02/08/2010</td>\n",
              "      <td>150</td>\n",
              "      <td>FINALIZADA</td>\n",
              "      <td>3/2007</td>\n",
              "      <td>04.145.787/0001-30 - ECCL - EMPREENDIMENTOS E...</td>\n",
              "      <td>CONCORRÊNCIA</td>\n",
              "      <td>R$       967.866,36</td>\n",
              "      <td>NaN</td>\n",
              "      <td>17/02/2005 - 31/03/2011</td>\n",
              "      <td>UFRN/CONVENIO 101/2004 - MELHORIA DA QUALIDADE...</td>\n",
              "      <td>441.0</td>\n",
              "      <td>CENTRO DE CIÊNCIAS DA SAÚDE</td>\n",
              "    </tr>\n",
              "    <tr>\n",
              "      <th>8</th>\n",
              "      <td>5778</td>\n",
              "      <td>COMPLEMENTAÇÃO DA CONSTRUÇÃO DA 1ª ETAPA DO PA...</td>\n",
              "      <td>05/03/2010 - 02/08/2010</td>\n",
              "      <td>150</td>\n",
              "      <td>FINALIZADA</td>\n",
              "      <td>3/2007</td>\n",
              "      <td>04.145.787/0001-30 - ECCL - EMPREENDIMENTOS E...</td>\n",
              "      <td>CONCORRÊNCIA</td>\n",
              "      <td>R$       967.866,36</td>\n",
              "      <td>NaN</td>\n",
              "      <td>22/12/2003 - 30/04/2011</td>\n",
              "      <td>UFRN CONV.128-03/LAB. DCS (2242003)</td>\n",
              "      <td>441.0</td>\n",
              "      <td>CENTRO DE CIÊNCIAS DA SAÚDE</td>\n",
              "    </tr>\n",
              "    <tr>\n",
              "      <th>9</th>\n",
              "      <td>3044</td>\n",
              "      <td>CONSTRUÇÃO DA 1ª ETAPA DO PAVILHÃO DE CLÍNICAS...</td>\n",
              "      <td>06/12/2007 - 02/08/2008</td>\n",
              "      <td>240</td>\n",
              "      <td>FINALIZADA</td>\n",
              "      <td>3/2007</td>\n",
              "      <td>07.443.865/0001-71 - AJF INCORPORAÇÃO CONSTRU...</td>\n",
              "      <td>CONCORRÊNCIA</td>\n",
              "      <td>R$     1.314.119,70</td>\n",
              "      <td>SUS(1513689610) (151368961)</td>\n",
              "      <td>22/12/2003 - 30/04/2011</td>\n",
              "      <td>UFRN CONV.128-03/LAB. DCS (2242003)</td>\n",
              "      <td>441.0</td>\n",
              "      <td>CENTRO DE CIÊNCIAS DA SAÚDE</td>\n",
              "    </tr>\n",
              "    <tr>\n",
              "      <th>10</th>\n",
              "      <td>2341</td>\n",
              "      <td>CONSTRUÇÃO DA 1ª ETAPA DO PAVILHÃO DIDÁTICO DO...</td>\n",
              "      <td>07/07/2007 - 31/03/2008</td>\n",
              "      <td>270</td>\n",
              "      <td>FINALIZADA</td>\n",
              "      <td>1/2007</td>\n",
              "      <td>09.376.468/0001-50 - CST CONSTRUCOES E SERVIC...</td>\n",
              "      <td>CONCORRÊNCIA</td>\n",
              "      <td>R$     1.210.149,93</td>\n",
              "      <td>NaN</td>\n",
              "      <td>31/05/2005 - 30/05/2008</td>\n",
              "      <td>CENPES/AVALIACAO DE CO2 (1342005)</td>\n",
              "      <td>440.0</td>\n",
              "      <td>CENTRO DE BIOCIÊNCIAS</td>\n",
              "    </tr>\n",
              "    <tr>\n",
              "      <th>11</th>\n",
              "      <td>4338</td>\n",
              "      <td>CONSTRUÇÃO DO BLOCO I DE SALAS DE AULA - SETOR...</td>\n",
              "      <td>07/01/2009 - 04/09/2009</td>\n",
              "      <td>240</td>\n",
              "      <td>FINALIZADA</td>\n",
              "      <td>1/2008</td>\n",
              "      <td>00.715.720/0001-33 - BMB CONSTRUÇÕES LTDA</td>\n",
              "      <td>CONCORRÊNCIA</td>\n",
              "      <td>R$     3.758.597,10</td>\n",
              "      <td>TESOURO - EDUCAÇÃO (112000000)</td>\n",
              "      <td>28/12/2007 - 28/03/2013</td>\n",
              "      <td>FUNPEC/UFRN CONV. 164/2007 - REUNI (2532007)</td>\n",
              "      <td>445.0</td>\n",
              "      <td>CENTRO DE TECNOLOGIA</td>\n",
              "    </tr>\n",
              "    <tr>\n",
              "      <th>12</th>\n",
              "      <td>4334</td>\n",
              "      <td>EXECUÇÃO, PELA CONTRATADA DA CONSTRUÇÃO DO PRÉ...</td>\n",
              "      <td>12/01/2009 - 09/10/2009</td>\n",
              "      <td>270</td>\n",
              "      <td>FINALIZADA</td>\n",
              "      <td>3/2008</td>\n",
              "      <td>01.694.415/0001-75 - HASTE-HABITAÇÃO E SERVIÇ...</td>\n",
              "      <td>CONCORRÊNCIA</td>\n",
              "      <td>R$     9.124.714,86</td>\n",
              "      <td>SESU - REUNI (112915030)</td>\n",
              "      <td>20/04/2005 - 20/11/2005</td>\n",
              "      <td>19O ENECIC/2005 (852005)</td>\n",
              "      <td>445.0</td>\n",
              "      <td>CENTRO DE TECNOLOGIA</td>\n",
              "    </tr>\n",
              "    <tr>\n",
              "      <th>13</th>\n",
              "      <td>4375</td>\n",
              "      <td>CONSTRUÇÃO DO BLOCO I DE SALAS DE AULA - SETOR...</td>\n",
              "      <td>15/01/2009 - 12/09/2009</td>\n",
              "      <td>240</td>\n",
              "      <td>FINALIZADA</td>\n",
              "      <td>2/2008</td>\n",
              "      <td>12.647.038/0001-30 - CONSTRUTORA GALVÃO MARIN...</td>\n",
              "      <td>CONCORRÊNCIA</td>\n",
              "      <td>R$     4.182.124,21</td>\n",
              "      <td>TESOURO - ORDINÁRIO (100000000)</td>\n",
              "      <td>28/12/2007 - 28/03/2013</td>\n",
              "      <td>FUNPEC/UFRN CONV. 164/2007 - REUNI (2532007)</td>\n",
              "      <td>442.0</td>\n",
              "      <td>CENTRO DE CIÊNCIAS HUMANAS, LETRAS E ARTES</td>\n",
              "    </tr>\n",
              "    <tr>\n",
              "      <th>14</th>\n",
              "      <td>4355</td>\n",
              "      <td>\"CONSTRUÇÃO DO PAVILHÃO DE CLÍNICAS INTEGRADAS...</td>\n",
              "      <td>19/01/2009 - 16/09/2009</td>\n",
              "      <td>240</td>\n",
              "      <td>FINALIZADA</td>\n",
              "      <td>4/2008</td>\n",
              "      <td>04.201.519/0001-99 - ESTRUTURAL EDIFICAÇÕES E...</td>\n",
              "      <td>CONCORRÊNCIA</td>\n",
              "      <td>R$     2.032.765,66</td>\n",
              "      <td>SESU - REUNI (112915030)</td>\n",
              "      <td>20/04/2005 - 20/11/2005</td>\n",
              "      <td>19O ENECIC/2005 (852005)</td>\n",
              "      <td>441.0</td>\n",
              "      <td>CENTRO DE CIÊNCIAS DA SAÚDE</td>\n",
              "    </tr>\n",
              "    <tr>\n",
              "      <th>15</th>\n",
              "      <td>5172</td>\n",
              "      <td>EXECUÇÃO, PELA CONTRATADA DA AMPLIAÇÃO DA BIBL...</td>\n",
              "      <td>25/09/2009 - 19/12/2010</td>\n",
              "      <td>450</td>\n",
              "      <td>FINALIZADA</td>\n",
              "      <td>6/2009</td>\n",
              "      <td>04.145.787/0001-30 - ECCL - EMPREENDIMENTOS E...</td>\n",
              "      <td>CONCORRÊNCIA</td>\n",
              "      <td>R$     4.497.105,79</td>\n",
              "      <td>TESOURO - EDUCAÇÃO (112000000)</td>\n",
              "      <td>20/04/2005 - 20/11/2005</td>\n",
              "      <td>19O ENECIC/2005 (852005)</td>\n",
              "      <td>21.0</td>\n",
              "      <td>BIBLIOTECA CENTRAL ZILA MAMEDE</td>\n",
              "    </tr>\n",
              "    <tr>\n",
              "      <th>16</th>\n",
              "      <td>5209</td>\n",
              "      <td>AMPLIAÇÃO DO PAVILHÃO ADMINISTRATIVO DO CENTRO...</td>\n",
              "      <td>27/10/2009 - 22/10/2010</td>\n",
              "      <td>360</td>\n",
              "      <td>FINALIZADA</td>\n",
              "      <td>7/2009</td>\n",
              "      <td>04.145.787/0001-30 - ECCL - EMPREENDIMENTOS E...</td>\n",
              "      <td>CONCORRÊNCIA</td>\n",
              "      <td>R$     1.446.096,36</td>\n",
              "      <td>TESOURO - EDUCAÇÃO (112000000)</td>\n",
              "      <td>28/12/2007 - 31/12/2012</td>\n",
              "      <td>FUNPEC/UFRN CONV. 167/2007 - EMENDA P - INFRA ...</td>\n",
              "      <td>2562.0</td>\n",
              "      <td>CCHLA - SECRETARIA ADMINISTRAÇÃO DO CCHLA</td>\n",
              "    </tr>\n",
              "    <tr>\n",
              "      <th>17</th>\n",
              "      <td>5930</td>\n",
              "      <td>O PRESENTE CONTRATO TEM COMO OBJETO A  EXECUÇÃ...</td>\n",
              "      <td>19/07/2010 - 04/12/2012</td>\n",
              "      <td>390</td>\n",
              "      <td>FINALIZADA</td>\n",
              "      <td>16/2009</td>\n",
              "      <td>01.737.254/0001-50 - SERPE-SERVICOS PROJETOS ...</td>\n",
              "      <td>CONCORRÊNCIA</td>\n",
              "      <td>R$     4.688.201,22</td>\n",
              "      <td>TESOURO - ORDINÁRIO (100000000)</td>\n",
              "      <td>NaN</td>\n",
              "      <td>NaN</td>\n",
              "      <td>139.0</td>\n",
              "      <td>DEPARTAMENTO DE ARTES</td>\n",
              "    </tr>\n",
              "    <tr>\n",
              "      <th>18</th>\n",
              "      <td>5182</td>\n",
              "      <td>AMPLIAÇÃO DA SUBESTAÇÃO ABRIGADA E RECUPERAÇÃO...</td>\n",
              "      <td>25/09/2009 - 24/03/2010</td>\n",
              "      <td>180</td>\n",
              "      <td>FINALIZADA</td>\n",
              "      <td>1/2009</td>\n",
              "      <td>03.561.128/0001-12 - DIRECTA ENGENHARIA E PRO...</td>\n",
              "      <td>CONCORRÊNCIA</td>\n",
              "      <td>R$     2.764.141,44</td>\n",
              "      <td>TESOURO - EDUCAÇÃO (112000000)</td>\n",
              "      <td>20/04/2005 - 20/11/2005</td>\n",
              "      <td>19O ENECIC/2005 (852005)</td>\n",
              "      <td>440.0</td>\n",
              "      <td>CENTRO DE BIOCIÊNCIAS</td>\n",
              "    </tr>\n",
              "    <tr>\n",
              "      <th>19</th>\n",
              "      <td>5082</td>\n",
              "      <td>IMPLANTAÇÃO DA INFRA ESTRUTURA VIÁRIA (TERRAPL...</td>\n",
              "      <td>02/09/2009 - 30/01/2010</td>\n",
              "      <td>150</td>\n",
              "      <td>CONTRATO FINALIZADO</td>\n",
              "      <td>3/2009</td>\n",
              "      <td>06.148.344/0001-29 - CBM CONSTRUÇÕES LTDA</td>\n",
              "      <td>CONCORRÊNCIA</td>\n",
              "      <td>R$     1.600.234,12</td>\n",
              "      <td>TESOURO - EDUCAÇÃO (112000000)</td>\n",
              "      <td>17/12/2007 - 31/07/2013</td>\n",
              "      <td>FUNPEC/UFRN CONV. 147/2007 - CAMPUS DO CEREBRO...</td>\n",
              "      <td>605.0</td>\n",
              "      <td>UNIVERSIDADE FEDERAL DO RIO GRANDE DO NORTE</td>\n",
              "    </tr>\n",
              "    <tr>\n",
              "      <th>20</th>\n",
              "      <td>5213</td>\n",
              "      <td>CONSTRUÇÃO DA 1ª ETAPA DAS INSTALAÇÕES DO CENT...</td>\n",
              "      <td>08/10/2009 - 15/02/2012</td>\n",
              "      <td>860</td>\n",
              "      <td>FINALIZADA</td>\n",
              "      <td>4/2009</td>\n",
              "      <td>04.145.787/0001-30 - ECCL - EMPREENDIMENTOS E...</td>\n",
              "      <td>CONCORRÊNCIA</td>\n",
              "      <td>R$     4.243.525,86</td>\n",
              "      <td>NaN</td>\n",
              "      <td>13/11/2007 - 13/12/2012</td>\n",
              "      <td>FUNPEC/FINEP/CT INFRA-VI (2082007)</td>\n",
              "      <td>605.0</td>\n",
              "      <td>UNIVERSIDADE FEDERAL DO RIO GRANDE DO NORTE</td>\n",
              "    </tr>\n",
              "    <tr>\n",
              "      <th>21</th>\n",
              "      <td>5338</td>\n",
              "      <td>EXECUÇÃO, PELA CONTRATADA, SOB O REGIME DE EMP...</td>\n",
              "      <td>15/12/2009 - 12/08/2010</td>\n",
              "      <td>240</td>\n",
              "      <td>FINALIZADA</td>\n",
              "      <td>2/2009</td>\n",
              "      <td>09.376.468/0001-50 - CST CONSTRUCOES E SERVIC...</td>\n",
              "      <td>CONCORRÊNCIA</td>\n",
              "      <td>R$     2.537.858,43</td>\n",
              "      <td>TESOURO - EDUCAÇÃO (112000000)</td>\n",
              "      <td>20/04/2005 - 20/11/2005</td>\n",
              "      <td>19O ENECIC/2005 (852005)</td>\n",
              "      <td>605.0</td>\n",
              "      <td>UNIVERSIDADE FEDERAL DO RIO GRANDE DO NORTE</td>\n",
              "    </tr>\n",
              "    <tr>\n",
              "      <th>22</th>\n",
              "      <td>5336</td>\n",
              "      <td>CONSTRUÇÃO DO PRÉDIO DOS LABORATÓRIOS DO DEPAR...</td>\n",
              "      <td>15/12/2009 - 12/08/2010</td>\n",
              "      <td>240</td>\n",
              "      <td>FINALIZADA</td>\n",
              "      <td>9/2009</td>\n",
              "      <td>04.145.787/0001-30 - ECCL - EMPREENDIMENTOS E...</td>\n",
              "      <td>CONCORRÊNCIA</td>\n",
              "      <td>R$       966.329,18</td>\n",
              "      <td>TESOURO - EDUCAÇÃO (112000000)</td>\n",
              "      <td>20/04/2005 - 20/11/2005</td>\n",
              "      <td>19O ENECIC/2005 (852005)</td>\n",
              "      <td>439.0</td>\n",
              "      <td>CENTRO DE CIÊNCIAS EXATAS E DA TERRA</td>\n",
              "    </tr>\n",
              "    <tr>\n",
              "      <th>23</th>\n",
              "      <td>5627</td>\n",
              "      <td>CONSTRUÇÃO DO PRÉDIO DESTINADO AO NÚCLEO DE PR...</td>\n",
              "      <td>09/04/2010 - 03/02/2011</td>\n",
              "      <td>300</td>\n",
              "      <td>FINALIZADA</td>\n",
              "      <td>14/2009</td>\n",
              "      <td>70.043.906/0001-79 - EXECUÇÃO ENGENHARIA LTDA</td>\n",
              "      <td>CONCORRÊNCIA</td>\n",
              "      <td>R$     1.411.439,79</td>\n",
              "      <td>NaN</td>\n",
              "      <td>18/12/2006 - 30/06/2012</td>\n",
              "      <td>FUNPEC/UFRN-CONV. 144/2006-EMENDA P./SESU/RES....</td>\n",
              "      <td>443.0</td>\n",
              "      <td>CENTRO DE CIÊNCIAS SOCIAIS APLICADAS</td>\n",
              "    </tr>\n",
              "    <tr>\n",
              "      <th>24</th>\n",
              "      <td>5213</td>\n",
              "      <td>CONSTRUÇÃO DA 1ª ETAPA DAS INSTALAÇÕES DO CENT...</td>\n",
              "      <td>08/10/2009 - 15/02/2012</td>\n",
              "      <td>860</td>\n",
              "      <td>FINALIZADA</td>\n",
              "      <td>4/2009</td>\n",
              "      <td>04.145.787/0001-30 - ECCL - EMPREENDIMENTOS E...</td>\n",
              "      <td>CONCORRÊNCIA</td>\n",
              "      <td>R$     4.243.525,86</td>\n",
              "      <td>NaN</td>\n",
              "      <td>13/11/2007 - 13/12/2012</td>\n",
              "      <td>FUNPEC/UFRN/CT INFRA-VI (22009)</td>\n",
              "      <td>605.0</td>\n",
              "      <td>UNIVERSIDADE FEDERAL DO RIO GRANDE DO NORTE</td>\n",
              "    </tr>\n",
              "    <tr>\n",
              "      <th>25</th>\n",
              "      <td>5391</td>\n",
              "      <td>EXECUÇÃO, PELA CONTRATADA, SOB O REGIME DE EMP...</td>\n",
              "      <td>11/01/2010 - 11/05/2010</td>\n",
              "      <td>120</td>\n",
              "      <td>FINALIZADA</td>\n",
              "      <td>503/2009</td>\n",
              "      <td>08.036.158/0001-23 - AGM - CONSTRUÇÕES E CONS...</td>\n",
              "      <td>CONCORRÊNCIA</td>\n",
              "      <td>R$        20.373,83</td>\n",
              "      <td>TESOURO - EDUCAÇÃO (112000000)</td>\n",
              "      <td>20/04/2005 - 20/11/2005</td>\n",
              "      <td>19O ENECIC/2005 (852005)</td>\n",
              "      <td>443.0</td>\n",
              "      <td>CENTRO DE CIÊNCIAS SOCIAIS APLICADAS</td>\n",
              "    </tr>\n",
              "    <tr>\n",
              "      <th>26</th>\n",
              "      <td>5370</td>\n",
              "      <td>CONSTRUÇÃO DO EDIFÍCIO SEDE DA SUPERINTENDÊNCI...</td>\n",
              "      <td>04/01/2010 - 31/10/2010</td>\n",
              "      <td>300</td>\n",
              "      <td>FINALIZADA</td>\n",
              "      <td>13/2009</td>\n",
              "      <td>70.043.906/0001-79 - EXECUÇÃO ENGENHARIA LTDA</td>\n",
              "      <td>CONCORRÊNCIA</td>\n",
              "      <td>R$     2.138.936,66</td>\n",
              "      <td>SESU - REUNI (112915030)</td>\n",
              "      <td>20/04/2005 - 20/11/2005</td>\n",
              "      <td>19O ENECIC/2005 (852005)</td>\n",
              "      <td>20.0</td>\n",
              "      <td>SUPERINTENDÊNCIA DE INFRAESTRUTURA</td>\n",
              "    </tr>\n",
              "    <tr>\n",
              "      <th>27</th>\n",
              "      <td>5213</td>\n",
              "      <td>CONSTRUÇÃO DA 1ª ETAPA DAS INSTALAÇÕES DO CENT...</td>\n",
              "      <td>08/10/2009 - 15/02/2012</td>\n",
              "      <td>860</td>\n",
              "      <td>FINALIZADA</td>\n",
              "      <td>4/2009</td>\n",
              "      <td>04.145.787/0001-30 - ECCL - EMPREENDIMENTOS E...</td>\n",
              "      <td>CONCORRÊNCIA</td>\n",
              "      <td>R$     4.243.525,86</td>\n",
              "      <td>NaN</td>\n",
              "      <td>18/12/2006 - 30/06/2012</td>\n",
              "      <td>FUNPEC/UFRN-CONV. 144/2006-EMENDA P./SESU/RES....</td>\n",
              "      <td>605.0</td>\n",
              "      <td>UNIVERSIDADE FEDERAL DO RIO GRANDE DO NORTE</td>\n",
              "    </tr>\n",
              "    <tr>\n",
              "      <th>28</th>\n",
              "      <td>5346</td>\n",
              "      <td>AMPLIAÇÃO DO LABORATÓRIO DE QUÍMICA I (1ª E 2ª...</td>\n",
              "      <td>13/01/2010 - 08/01/2011</td>\n",
              "      <td>360</td>\n",
              "      <td>FINALIZADA</td>\n",
              "      <td>8/2009</td>\n",
              "      <td>00.715.720/0001-33 - BMB CONSTRUÇÕES LTDA</td>\n",
              "      <td>CONCORRÊNCIA</td>\n",
              "      <td>R$     2.569.310,57</td>\n",
              "      <td>TESOURO - EDUCAÇÃO (112000000)</td>\n",
              "      <td>08/12/2008 - 08/12/2013</td>\n",
              "      <td>FUNPEC/FINEP/CT-INFRA VII (1972008)</td>\n",
              "      <td>439.0</td>\n",
              "      <td>CENTRO DE CIÊNCIAS EXATAS E DA TERRA</td>\n",
              "    </tr>\n",
              "    <tr>\n",
              "      <th>29</th>\n",
              "      <td>5346</td>\n",
              "      <td>AMPLIAÇÃO DO LABORATÓRIO DE QUÍMICA I (1ª E 2ª...</td>\n",
              "      <td>13/01/2010 - 08/01/2011</td>\n",
              "      <td>360</td>\n",
              "      <td>FINALIZADA</td>\n",
              "      <td>8/2009</td>\n",
              "      <td>00.715.720/0001-33 - BMB CONSTRUÇÕES LTDA</td>\n",
              "      <td>CONCORRÊNCIA</td>\n",
              "      <td>R$     2.569.310,57</td>\n",
              "      <td>TESOURO - EDUCAÇÃO (112000000)</td>\n",
              "      <td>28/12/2007 - 28/03/2013</td>\n",
              "      <td>FUNPEC/UFRN CONV. 164/2007 - REUNI (2532007)</td>\n",
              "      <td>439.0</td>\n",
              "      <td>CENTRO DE CIÊNCIAS EXATAS E DA TERRA</td>\n",
              "    </tr>\n",
              "    <tr>\n",
              "      <th>...</th>\n",
              "      <td>...</td>\n",
              "      <td>...</td>\n",
              "      <td>...</td>\n",
              "      <td>...</td>\n",
              "      <td>...</td>\n",
              "      <td>...</td>\n",
              "      <td>...</td>\n",
              "      <td>...</td>\n",
              "      <td>...</td>\n",
              "      <td>...</td>\n",
              "      <td>...</td>\n",
              "      <td>...</td>\n",
              "      <td>...</td>\n",
              "      <td>...</td>\n",
              "    </tr>\n",
              "    <tr>\n",
              "      <th>443</th>\n",
              "      <td>6324</td>\n",
              "      <td>CONSTITUI OBJETO DO PRESENTE CONTRATO A EXECUÇ...</td>\n",
              "      <td>30/11/2010 - 27/08/2011</td>\n",
              "      <td>270</td>\n",
              "      <td>FINALIZADA</td>\n",
              "      <td>21/2010</td>\n",
              "      <td>09.389.289/0001-57 - AC ENGENHARIA LTDA - EPP</td>\n",
              "      <td>TOMADA DE PREÇO</td>\n",
              "      <td>R$       431.932,81</td>\n",
              "      <td>TESOURO - EDUCAÇÃO (112000000)</td>\n",
              "      <td>NaN</td>\n",
              "      <td>NaN</td>\n",
              "      <td>448.0</td>\n",
              "      <td>CAMPUS REGIONAL SUPERIOR DE MACAU</td>\n",
              "    </tr>\n",
              "    <tr>\n",
              "      <th>444</th>\n",
              "      <td>6237</td>\n",
              "      <td>O PRESENTE CONTRATO TEM COMO OBJETO A EXECUÇÃO...</td>\n",
              "      <td>25/10/2010 - 23/05/2011</td>\n",
              "      <td>210</td>\n",
              "      <td>EM RECEBIMENTO PROVISÓRIO</td>\n",
              "      <td>17/2010</td>\n",
              "      <td>09.389.289/0001-57 - AC ENGENHARIA LTDA - EPP</td>\n",
              "      <td>TOMADA DE PREÇO</td>\n",
              "      <td>R$       215.050,20</td>\n",
              "      <td>FNS - FUNDO NAC.SAÚDE (151000000)</td>\n",
              "      <td>NaN</td>\n",
              "      <td>NaN</td>\n",
              "      <td>446.0</td>\n",
              "      <td>HOSPITAL UNIVERSITÁRIO ONOFRE LOPES</td>\n",
              "    </tr>\n",
              "    <tr>\n",
              "      <th>445</th>\n",
              "      <td>6154</td>\n",
              "      <td>CONSTITUI OBJETO DO PRESENTE CONTRATO A EXECUÇ...</td>\n",
              "      <td>24/09/2010 - 22/04/2011</td>\n",
              "      <td>210</td>\n",
              "      <td>FINALIZADA</td>\n",
              "      <td>10/2010</td>\n",
              "      <td>09.389.289/0001-57 - AC ENGENHARIA LTDA - EPP</td>\n",
              "      <td>TOMADA DE PREÇO</td>\n",
              "      <td>R$       302.341,86</td>\n",
              "      <td>SUS(1513689610) (151368961)</td>\n",
              "      <td>NaN</td>\n",
              "      <td>NaN</td>\n",
              "      <td>446.0</td>\n",
              "      <td>HOSPITAL UNIVERSITÁRIO ONOFRE LOPES</td>\n",
              "    </tr>\n",
              "    <tr>\n",
              "      <th>446</th>\n",
              "      <td>6152</td>\n",
              "      <td>O PRESENTRE CONTRATO TEM COMO OBJETO A EXECUÇÃ...</td>\n",
              "      <td>01/10/2010 - 29/04/2011</td>\n",
              "      <td>210</td>\n",
              "      <td>CONTRATO FINALIZADO</td>\n",
              "      <td>16/2010</td>\n",
              "      <td>08.603.790/0001-01 - F. GOMES ENGENHARIA E CO...</td>\n",
              "      <td>TOMADA DE PREÇO</td>\n",
              "      <td>R$        59.258,64</td>\n",
              "      <td>TESOURO - EDUCAÇÃO (112000000)</td>\n",
              "      <td>NaN</td>\n",
              "      <td>NaN</td>\n",
              "      <td>1424.0</td>\n",
              "      <td>HOSPED - HOSPITAL DE PEDIATRIA</td>\n",
              "    </tr>\n",
              "    <tr>\n",
              "      <th>447</th>\n",
              "      <td>6114</td>\n",
              "      <td>COMPLEMENTAÇÃO DA CONSTRUÇÃO DO PRÉDIO PARA OS...</td>\n",
              "      <td>27/09/2010 - 25/05/2011</td>\n",
              "      <td>240</td>\n",
              "      <td>FINALIZADA</td>\n",
              "      <td>3/2010</td>\n",
              "      <td>04.201.519/0001-99 - ESTRUTURAL EDIFICAÇÕES E...</td>\n",
              "      <td>TOMADA DE PREÇO</td>\n",
              "      <td>R$       524.846,12</td>\n",
              "      <td>NaN</td>\n",
              "      <td>21/09/2006 - 03/09/2013</td>\n",
              "      <td>FUNPEC/CENPES/CATRE (1942006)</td>\n",
              "      <td>605.0</td>\n",
              "      <td>UNIVERSIDADE FEDERAL DO RIO GRANDE DO NORTE</td>\n",
              "    </tr>\n",
              "    <tr>\n",
              "      <th>448</th>\n",
              "      <td>7380</td>\n",
              "      <td>CONSTITUI OBJETO DO PRESENTE CONTRATO A EXECUÇ...</td>\n",
              "      <td>09/12/2011 - 20/03/2013</td>\n",
              "      <td>270</td>\n",
              "      <td>FINALIZADA</td>\n",
              "      <td>14/2011</td>\n",
              "      <td>03.322.854/0001-82 - HL ENGENHARIA LTDA</td>\n",
              "      <td>TOMADA DE PREÇO</td>\n",
              "      <td>R$       717.322,74</td>\n",
              "      <td>TESOURO - EDUCAÇÃO (112000000)</td>\n",
              "      <td>NaN</td>\n",
              "      <td>NaN</td>\n",
              "      <td>20.0</td>\n",
              "      <td>SUPERINTENDÊNCIA DE INFRAESTRUTURA</td>\n",
              "    </tr>\n",
              "    <tr>\n",
              "      <th>449</th>\n",
              "      <td>7415</td>\n",
              "      <td>CONSTITUI OBJETO DO PRESENTE CONTRATO A EXECUÇ...</td>\n",
              "      <td>09/12/2011 - 07/05/2012</td>\n",
              "      <td>150</td>\n",
              "      <td>FINALIZADA</td>\n",
              "      <td>18/2011</td>\n",
              "      <td>02.345.360/0001-50 - G F S CONSTRUCOES E SERV...</td>\n",
              "      <td>TOMADA DE PREÇO</td>\n",
              "      <td>R$       444.317,77</td>\n",
              "      <td>TESOURO - EDUCAÇÃO (112000000)</td>\n",
              "      <td>NaN</td>\n",
              "      <td>NaN</td>\n",
              "      <td>443.0</td>\n",
              "      <td>CENTRO DE CIÊNCIAS SOCIAIS APLICADAS</td>\n",
              "    </tr>\n",
              "    <tr>\n",
              "      <th>450</th>\n",
              "      <td>7415</td>\n",
              "      <td>CONSTITUI OBJETO DO PRESENTE CONTRATO A EXECUÇ...</td>\n",
              "      <td>09/12/2011 - 07/05/2012</td>\n",
              "      <td>150</td>\n",
              "      <td>FINALIZADA</td>\n",
              "      <td>18/2011</td>\n",
              "      <td>02.345.360/0001-50 - G F S CONSTRUCOES E SERV...</td>\n",
              "      <td>TOMADA DE PREÇO</td>\n",
              "      <td>R$       444.317,77</td>\n",
              "      <td>SUS (153368961)</td>\n",
              "      <td>NaN</td>\n",
              "      <td>NaN</td>\n",
              "      <td>443.0</td>\n",
              "      <td>CENTRO DE CIÊNCIAS SOCIAIS APLICADAS</td>\n",
              "    </tr>\n",
              "    <tr>\n",
              "      <th>451</th>\n",
              "      <td>7419</td>\n",
              "      <td>CONSTITUI OBJETO DO PRESENTE CONTRATO A  EXECU...</td>\n",
              "      <td>09/12/2011 - 27/05/2012</td>\n",
              "      <td>110</td>\n",
              "      <td>FINALIZADA</td>\n",
              "      <td>17/2011</td>\n",
              "      <td>10.911.755/0001-00 - COMPOR ENGENHARIA &amp; AUTO...</td>\n",
              "      <td>TOMADA DE PREÇO</td>\n",
              "      <td>R$        29.985,26</td>\n",
              "      <td>NaN</td>\n",
              "      <td>NaN</td>\n",
              "      <td>NaN</td>\n",
              "      <td>605.0</td>\n",
              "      <td>UNIVERSIDADE FEDERAL DO RIO GRANDE DO NORTE</td>\n",
              "    </tr>\n",
              "    <tr>\n",
              "      <th>452</th>\n",
              "      <td>7421</td>\n",
              "      <td>CONSTITUI OBJETO DO PRESENTE CONTRATO A EXECUÇ...</td>\n",
              "      <td>09/12/2011 - 02/05/2013</td>\n",
              "      <td>270</td>\n",
              "      <td>CONTRATO FINALIZADO</td>\n",
              "      <td>20/2011</td>\n",
              "      <td>40.997.140/0001-09 - EJF EMPREENDIMENTOS E SE...</td>\n",
              "      <td>TOMADA DE PREÇO</td>\n",
              "      <td>R$       804.293,53</td>\n",
              "      <td>NaN</td>\n",
              "      <td>NaN</td>\n",
              "      <td>NaN</td>\n",
              "      <td>1458.0</td>\n",
              "      <td>RESERVA TÉCNICA</td>\n",
              "    </tr>\n",
              "    <tr>\n",
              "      <th>453</th>\n",
              "      <td>7422</td>\n",
              "      <td>CONSTITUI OBJETO DO PRESENTE CONTRATO A EXECUÇ...</td>\n",
              "      <td>09/12/2011 - 16/02/2013</td>\n",
              "      <td>180</td>\n",
              "      <td>FINALIZADA</td>\n",
              "      <td>16/2011</td>\n",
              "      <td>07.606.237/0001-60 - SOLAR CONSTRUÇÕES E PROJ...</td>\n",
              "      <td>TOMADA DE PREÇO</td>\n",
              "      <td>R$       274.684,96</td>\n",
              "      <td>TESOURO - EDUCAÇÃO (112000000)</td>\n",
              "      <td>NaN</td>\n",
              "      <td>NaN</td>\n",
              "      <td>605.0</td>\n",
              "      <td>UNIVERSIDADE FEDERAL DO RIO GRANDE DO NORTE</td>\n",
              "    </tr>\n",
              "    <tr>\n",
              "      <th>454</th>\n",
              "      <td>7425</td>\n",
              "      <td>CONSTITUI OBJETO DO PRESENTE CONTRATO A EXECUÇ...</td>\n",
              "      <td>09/12/2011 - 05/06/2012</td>\n",
              "      <td>120</td>\n",
              "      <td>FINALIZADA</td>\n",
              "      <td>21/2011</td>\n",
              "      <td>09.363.073/0001-12 - JACOME ENGENHARIA LTDA ME</td>\n",
              "      <td>TOMADA DE PREÇO</td>\n",
              "      <td>R$       102.758,62</td>\n",
              "      <td>NaN</td>\n",
              "      <td>NaN</td>\n",
              "      <td>NaN</td>\n",
              "      <td>351.0</td>\n",
              "      <td>ESCOLA AGRÍCOLA DE JUNDIAÍ</td>\n",
              "    </tr>\n",
              "    <tr>\n",
              "      <th>455</th>\n",
              "      <td>7493</td>\n",
              "      <td>O PRESENTE CONTRATO TEM COMO OBJETO A EXECUÇÃO...</td>\n",
              "      <td>26/12/2011 - 22/08/2012</td>\n",
              "      <td>180</td>\n",
              "      <td>FINALIZADA</td>\n",
              "      <td>19/2011</td>\n",
              "      <td>08.571.174/0001-16 - G. H. CONSTRUÇÕES LTDA</td>\n",
              "      <td>TOMADA DE PREÇO</td>\n",
              "      <td>R$       193.941,49</td>\n",
              "      <td>SUS (153368961)</td>\n",
              "      <td>NaN</td>\n",
              "      <td>NaN</td>\n",
              "      <td>1463.0</td>\n",
              "      <td>RESIDENCIAS UNIVERSITÁRIAS</td>\n",
              "    </tr>\n",
              "    <tr>\n",
              "      <th>456</th>\n",
              "      <td>7623</td>\n",
              "      <td>REFORMAS E SERVIÇOS NAS INSTALAÇÕES ELÉTRICAS ...</td>\n",
              "      <td>01/03/2012 - 27/03/2013</td>\n",
              "      <td>150</td>\n",
              "      <td>FINALIZADA</td>\n",
              "      <td>22/2011</td>\n",
              "      <td>02.482.629/0001-40 - CCW - ENGENHARIA LTDA - ...</td>\n",
              "      <td>TOMADA DE PREÇO</td>\n",
              "      <td>R$       223.191,35</td>\n",
              "      <td>TESOURO - EDUCAÇÃO (112000000)</td>\n",
              "      <td>NaN</td>\n",
              "      <td>NaN</td>\n",
              "      <td>605.0</td>\n",
              "      <td>UNIVERSIDADE FEDERAL DO RIO GRANDE DO NORTE</td>\n",
              "    </tr>\n",
              "    <tr>\n",
              "      <th>457</th>\n",
              "      <td>7143</td>\n",
              "      <td>CONSTRUÇÃO DO PRÉDIO DESTINADO AO LABORATÓRIO ...</td>\n",
              "      <td>30/08/2011 - 26/02/2012</td>\n",
              "      <td>180</td>\n",
              "      <td>CONTRATO FINALIZADO</td>\n",
              "      <td>1/2011</td>\n",
              "      <td>08.333.106/0001-19 - INDÚSTRIA COMÉRCIO E CON...</td>\n",
              "      <td>TOMADA DE PREÇO</td>\n",
              "      <td>R$       827.578,07</td>\n",
              "      <td>NaN</td>\n",
              "      <td>16/05/2007 - 16/05/2012</td>\n",
              "      <td>FUNPEC/CENPES/REDE 05/2007 - SISPLAT (962007)</td>\n",
              "      <td>439.0</td>\n",
              "      <td>CENTRO DE CIÊNCIAS EXATAS E DA TERRA</td>\n",
              "    </tr>\n",
              "    <tr>\n",
              "      <th>458</th>\n",
              "      <td>7796</td>\n",
              "      <td>CONSTITUI OBJETO DO PRESENTE CONTRATO A EXECUÇ...</td>\n",
              "      <td>02/04/2012 - 27/05/2013</td>\n",
              "      <td>150</td>\n",
              "      <td>FINALIZADA</td>\n",
              "      <td>24/2011</td>\n",
              "      <td>54.177.886/0001-72 - COZIL - EQUIPAMENTOS IND...</td>\n",
              "      <td>TOMADA DE PREÇO</td>\n",
              "      <td>R$       181.771,73</td>\n",
              "      <td>TESOURO - ORDINÁRIO (100000000)</td>\n",
              "      <td>NaN</td>\n",
              "      <td>NaN</td>\n",
              "      <td>20.0</td>\n",
              "      <td>SUPERINTENDÊNCIA DE INFRAESTRUTURA</td>\n",
              "    </tr>\n",
              "    <tr>\n",
              "      <th>459</th>\n",
              "      <td>7818</td>\n",
              "      <td>SERVIÇOS E REFORMAS, EM VÁRIOS SETORES DA UFRN...</td>\n",
              "      <td>10/04/2012 - 05/12/2012</td>\n",
              "      <td>239</td>\n",
              "      <td>FINALIZADA</td>\n",
              "      <td>23/2011</td>\n",
              "      <td>06.054.432/0001-61 - KONSTRUÇÃO &amp; SERVIÇOS LTDA</td>\n",
              "      <td>TOMADA DE PREÇO</td>\n",
              "      <td>R$        99.615,87</td>\n",
              "      <td>NaN</td>\n",
              "      <td>NaN</td>\n",
              "      <td>NaN</td>\n",
              "      <td>180.0</td>\n",
              "      <td>DEPARTAMENTO DE OCEANOGRAFIA E LIMNOLOGIA</td>\n",
              "    </tr>\n",
              "    <tr>\n",
              "      <th>460</th>\n",
              "      <td>7143</td>\n",
              "      <td>CONSTRUÇÃO DO PRÉDIO DESTINADO AO LABORATÓRIO ...</td>\n",
              "      <td>30/08/2011 - 26/02/2012</td>\n",
              "      <td>180</td>\n",
              "      <td>CONTRATO FINALIZADO</td>\n",
              "      <td>1/2011</td>\n",
              "      <td>08.333.106/0001-19 - INDÚSTRIA COMÉRCIO E CON...</td>\n",
              "      <td>TOMADA DE PREÇO</td>\n",
              "      <td>R$       827.578,07</td>\n",
              "      <td>NaN</td>\n",
              "      <td>13/08/2008 - 08/02/2016</td>\n",
              "      <td>FUNPEC/CENPES/MOD. ESTRUTURAL (1422008)</td>\n",
              "      <td>439.0</td>\n",
              "      <td>CENTRO DE CIÊNCIAS EXATAS E DA TERRA</td>\n",
              "    </tr>\n",
              "    <tr>\n",
              "      <th>461</th>\n",
              "      <td>7190</td>\n",
              "      <td>CONSTRUÇÃO DA 2ª ETAPA DO PAVILHÃO DE PESQUISA...</td>\n",
              "      <td>01/09/2011 - 28/05/2012</td>\n",
              "      <td>179</td>\n",
              "      <td>FINALIZADA</td>\n",
              "      <td>4/2011</td>\n",
              "      <td>09.363.073/0001-12 - JACOME ENGENHARIA LTDA ME</td>\n",
              "      <td>TOMADA DE PREÇO</td>\n",
              "      <td>R$       159.538,18</td>\n",
              "      <td>NaN</td>\n",
              "      <td>NaN</td>\n",
              "      <td>NaN</td>\n",
              "      <td>1458.0</td>\n",
              "      <td>RESERVA TÉCNICA</td>\n",
              "    </tr>\n",
              "    <tr>\n",
              "      <th>462</th>\n",
              "      <td>7191</td>\n",
              "      <td>CONSTITUI OBJETO DO PRESENTE CONTRATO A EXECUÇ...</td>\n",
              "      <td>05/09/2011 - 01/06/2012</td>\n",
              "      <td>241</td>\n",
              "      <td>FINALIZADA</td>\n",
              "      <td>10/2011</td>\n",
              "      <td>04.259.129/0001-70 - ALCALINAS SERVIÇOS LTDA-ME</td>\n",
              "      <td>TOMADA DE PREÇO</td>\n",
              "      <td>R$        72.557,86</td>\n",
              "      <td>UNIV.FEDERAL DO RIO GRANDE DO NORTE (250154214)</td>\n",
              "      <td>NaN</td>\n",
              "      <td>NaN</td>\n",
              "      <td>1454.0</td>\n",
              "      <td>FUNDO DE PÓS-GRADUAÇÃO</td>\n",
              "    </tr>\n",
              "    <tr>\n",
              "      <th>463</th>\n",
              "      <td>7143</td>\n",
              "      <td>CONSTRUÇÃO DO PRÉDIO DESTINADO AO LABORATÓRIO ...</td>\n",
              "      <td>30/08/2011 - 26/02/2012</td>\n",
              "      <td>180</td>\n",
              "      <td>CONTRATO FINALIZADO</td>\n",
              "      <td>1/2011</td>\n",
              "      <td>08.333.106/0001-19 - INDÚSTRIA COMÉRCIO E CON...</td>\n",
              "      <td>TOMADA DE PREÇO</td>\n",
              "      <td>R$       827.578,07</td>\n",
              "      <td>NaN</td>\n",
              "      <td>28/01/2008 - 25/01/2015</td>\n",
              "      <td>FUNPEC/CENPES/LABORATORIO DE LAMINACAO (372008)</td>\n",
              "      <td>439.0</td>\n",
              "      <td>CENTRO DE CIÊNCIAS EXATAS E DA TERRA</td>\n",
              "    </tr>\n",
              "    <tr>\n",
              "      <th>464</th>\n",
              "      <td>7254</td>\n",
              "      <td>CONSTITUI OBJETO DO PRESENTE CONTRATO A EXECUÇ...</td>\n",
              "      <td>01/10/2011 - 12/06/2012</td>\n",
              "      <td>180</td>\n",
              "      <td>FINALIZADA</td>\n",
              "      <td>9/2011</td>\n",
              "      <td>08.036.158/0001-23 - AGM - CONSTRUÇÕES E CONS...</td>\n",
              "      <td>TOMADA DE PREÇO</td>\n",
              "      <td>R$       249.051,82</td>\n",
              "      <td>NaN</td>\n",
              "      <td>NaN</td>\n",
              "      <td>NaN</td>\n",
              "      <td>446.0</td>\n",
              "      <td>HOSPITAL UNIVERSITÁRIO ONOFRE LOPES</td>\n",
              "    </tr>\n",
              "    <tr>\n",
              "      <th>465</th>\n",
              "      <td>7271</td>\n",
              "      <td> CONSTITUI OBJETO DO PRESENTE CONTRATO A EXEC...</td>\n",
              "      <td>14/10/2011 - 20/11/2012</td>\n",
              "      <td>150</td>\n",
              "      <td>FINALIZADA</td>\n",
              "      <td>13/2011</td>\n",
              "      <td>09.389.289/0001-57 - AC ENGENHARIA LTDA - EPP</td>\n",
              "      <td>TOMADA DE PREÇO</td>\n",
              "      <td>R$       233.283,56</td>\n",
              "      <td>TESOURO - EDUCAÇÃO (112000000)</td>\n",
              "      <td>NaN</td>\n",
              "      <td>NaN</td>\n",
              "      <td>605.0</td>\n",
              "      <td>UNIVERSIDADE FEDERAL DO RIO GRANDE DO NORTE</td>\n",
              "    </tr>\n",
              "    <tr>\n",
              "      <th>466</th>\n",
              "      <td>7141</td>\n",
              "      <td>CONSTITUI OBJETO DO PRESENTE CONTRATO A EXECUÇ...</td>\n",
              "      <td>25/08/2011 - 22/01/2012</td>\n",
              "      <td>150</td>\n",
              "      <td>FINALIZADA</td>\n",
              "      <td>11/2011</td>\n",
              "      <td>09.389.289/0001-57 - AC ENGENHARIA LTDA - EPP</td>\n",
              "      <td>TOMADA DE PREÇO</td>\n",
              "      <td>R$       102.790,02</td>\n",
              "      <td>TESOURO - EDUCAÇÃO (112000000)</td>\n",
              "      <td>NaN</td>\n",
              "      <td>NaN</td>\n",
              "      <td>251.0</td>\n",
              "      <td>DIRETORIA DO RESTAURANTE UNIVERSITÁRIO</td>\n",
              "    </tr>\n",
              "    <tr>\n",
              "      <th>467</th>\n",
              "      <td>7112</td>\n",
              "      <td>REFORMAS E SERVIÇOS NO DEPARTAMENTO DE OCEANOG...</td>\n",
              "      <td>05/09/2011 - 31/07/2012</td>\n",
              "      <td>210</td>\n",
              "      <td>FINALIZADA</td>\n",
              "      <td>8/2011</td>\n",
              "      <td>04.259.129/0001-70 - ALCALINAS SERVIÇOS LTDA-ME</td>\n",
              "      <td>TOMADA DE PREÇO</td>\n",
              "      <td>R$       280.571,52</td>\n",
              "      <td>TESOURO - EDUCAÇÃO (112000000)</td>\n",
              "      <td>NaN</td>\n",
              "      <td>NaN</td>\n",
              "      <td>605.0</td>\n",
              "      <td>UNIVERSIDADE FEDERAL DO RIO GRANDE DO NORTE</td>\n",
              "    </tr>\n",
              "    <tr>\n",
              "      <th>468</th>\n",
              "      <td>7111</td>\n",
              "      <td>REFORMA E SERVIÇOS DE INSTALAÇÃO ELÉTRICA E DE...</td>\n",
              "      <td>25/08/2011 - 22/02/2012</td>\n",
              "      <td>150</td>\n",
              "      <td>FINALIZADA</td>\n",
              "      <td>2/2011</td>\n",
              "      <td>07.606.237/0001-60 - SOLAR CONSTRUÇÕES E PROJ...</td>\n",
              "      <td>TOMADA DE PREÇO</td>\n",
              "      <td>R$        51.553,20</td>\n",
              "      <td>NaN</td>\n",
              "      <td>NaN</td>\n",
              "      <td>NaN</td>\n",
              "      <td>605.0</td>\n",
              "      <td>UNIVERSIDADE FEDERAL DO RIO GRANDE DO NORTE</td>\n",
              "    </tr>\n",
              "    <tr>\n",
              "      <th>469</th>\n",
              "      <td>7078</td>\n",
              "      <td>CONSTITUI OBJETO DO PRESENTE CONTRATO A EXECUÇ...</td>\n",
              "      <td>05/08/2011 - 28/09/2012</td>\n",
              "      <td>270</td>\n",
              "      <td>FINALIZADA</td>\n",
              "      <td>3/2011</td>\n",
              "      <td>09.389.289/0001-57 - AC ENGENHARIA LTDA - EPP</td>\n",
              "      <td>TOMADA DE PREÇO</td>\n",
              "      <td>R$       936.125,11</td>\n",
              "      <td>TESOURO - EDUCAÇÃO (112000000)</td>\n",
              "      <td>NaN</td>\n",
              "      <td>NaN</td>\n",
              "      <td>116.0</td>\n",
              "      <td>NÚCLEO TECNOLÓGICO INDUSTRIAL</td>\n",
              "    </tr>\n",
              "    <tr>\n",
              "      <th>470</th>\n",
              "      <td>6877</td>\n",
              "      <td>CONSTITUI OBJETO DO PRESENTE CONTRATO A EXECUÇ...</td>\n",
              "      <td>27/05/2011 - 31/01/2013</td>\n",
              "      <td>240</td>\n",
              "      <td>FINALIZADA</td>\n",
              "      <td>1/2011</td>\n",
              "      <td>08.036.158/0001-23 - AGM - CONSTRUÇÕES E CONS...</td>\n",
              "      <td>TOMADA DE PREÇO</td>\n",
              "      <td>R$       591.936,49</td>\n",
              "      <td>TESOURO - EDUCAÇÃO (112000000)</td>\n",
              "      <td>NaN</td>\n",
              "      <td>NaN</td>\n",
              "      <td>1463.0</td>\n",
              "      <td>RESIDENCIAS UNIVERSITÁRIAS</td>\n",
              "    </tr>\n",
              "    <tr>\n",
              "      <th>471</th>\n",
              "      <td>7303</td>\n",
              "      <td>CONSTITUI OBJETO DO PRESENTE CONTRATO A EXECUÇ...</td>\n",
              "      <td>07/11/2011 - 29/07/2013</td>\n",
              "      <td>330</td>\n",
              "      <td>FINALIZADA</td>\n",
              "      <td>15/2011</td>\n",
              "      <td>09.469.705/0001-27 - R&amp;H ENGENHARIA LTDA</td>\n",
              "      <td>TOMADA DE PREÇO</td>\n",
              "      <td>R$     1.709.259,37</td>\n",
              "      <td>NaN</td>\n",
              "      <td>NaN</td>\n",
              "      <td>NaN</td>\n",
              "      <td>196.0</td>\n",
              "      <td>DEPARTAMENTO DE FARMACIA</td>\n",
              "    </tr>\n",
              "    <tr>\n",
              "      <th>472</th>\n",
              "      <td>7354</td>\n",
              "      <td>CONSTITUI OBJETO DO PRESENTE CONTRATO A EXECU...</td>\n",
              "      <td>07/11/2011 - 20/05/2012</td>\n",
              "      <td>150</td>\n",
              "      <td>FINALIZADA</td>\n",
              "      <td>12/2011</td>\n",
              "      <td>40.997.140/0001-09 - EJF EMPREENDIMENTOS E SE...</td>\n",
              "      <td>TOMADA DE PREÇO</td>\n",
              "      <td>R$       103.449,52</td>\n",
              "      <td>NaN</td>\n",
              "      <td>NaN</td>\n",
              "      <td>NaN</td>\n",
              "      <td>20.0</td>\n",
              "      <td>SUPERINTENDÊNCIA DE INFRAESTRUTURA</td>\n",
              "    </tr>\n",
              "  </tbody>\n",
              "</table>\n",
              "<p>473 rows × 14 columns</p>\n",
              "</div>"
            ],
            "text/plain": [
              "     id_obra                                          descricao  \\\n",
              "0        848  CONSTRUÇÃO DO SETOR DE ANTIBIÓTICOS PRODUÇÃO D...   \n",
              "1        925  Complementação da 2ª Etapa e Realização da 3ª ...   \n",
              "2        182   CONSTRUÇÃO DO DEPARTAMENTO DE FISIOTERAPIA - CCS   \n",
              "3        282  ADAPTAÇÃO DE AMBIENTES DE ENSINO NO HOSPITAL U...   \n",
              "4       5778  COMPLEMENTAÇÃO DA CONSTRUÇÃO DA 1ª ETAPA DO PA...   \n",
              "5       2419  CONSTRUÇÃO DO PAVILHÃO ACADÊMICO DO CAMPUS AVA...   \n",
              "6       3217  CONSTRUÇÃO DO NÚCLEO DE PROCESSAMENTO PRIMÁRIO...   \n",
              "7       5778  COMPLEMENTAÇÃO DA CONSTRUÇÃO DA 1ª ETAPA DO PA...   \n",
              "8       5778  COMPLEMENTAÇÃO DA CONSTRUÇÃO DA 1ª ETAPA DO PA...   \n",
              "9       3044  CONSTRUÇÃO DA 1ª ETAPA DO PAVILHÃO DE CLÍNICAS...   \n",
              "10      2341  CONSTRUÇÃO DA 1ª ETAPA DO PAVILHÃO DIDÁTICO DO...   \n",
              "11      4338  CONSTRUÇÃO DO BLOCO I DE SALAS DE AULA - SETOR...   \n",
              "12      4334  EXECUÇÃO, PELA CONTRATADA DA CONSTRUÇÃO DO PRÉ...   \n",
              "13      4375  CONSTRUÇÃO DO BLOCO I DE SALAS DE AULA - SETOR...   \n",
              "14      4355  \"CONSTRUÇÃO DO PAVILHÃO DE CLÍNICAS INTEGRADAS...   \n",
              "15      5172  EXECUÇÃO, PELA CONTRATADA DA AMPLIAÇÃO DA BIBL...   \n",
              "16      5209  AMPLIAÇÃO DO PAVILHÃO ADMINISTRATIVO DO CENTRO...   \n",
              "17      5930  O PRESENTE CONTRATO TEM COMO OBJETO A  EXECUÇÃ...   \n",
              "18      5182  AMPLIAÇÃO DA SUBESTAÇÃO ABRIGADA E RECUPERAÇÃO...   \n",
              "19      5082  IMPLANTAÇÃO DA INFRA ESTRUTURA VIÁRIA (TERRAPL...   \n",
              "20      5213  CONSTRUÇÃO DA 1ª ETAPA DAS INSTALAÇÕES DO CENT...   \n",
              "21      5338  EXECUÇÃO, PELA CONTRATADA, SOB O REGIME DE EMP...   \n",
              "22      5336  CONSTRUÇÃO DO PRÉDIO DOS LABORATÓRIOS DO DEPAR...   \n",
              "23      5627  CONSTRUÇÃO DO PRÉDIO DESTINADO AO NÚCLEO DE PR...   \n",
              "24      5213  CONSTRUÇÃO DA 1ª ETAPA DAS INSTALAÇÕES DO CENT...   \n",
              "25      5391  EXECUÇÃO, PELA CONTRATADA, SOB O REGIME DE EMP...   \n",
              "26      5370  CONSTRUÇÃO DO EDIFÍCIO SEDE DA SUPERINTENDÊNCI...   \n",
              "27      5213  CONSTRUÇÃO DA 1ª ETAPA DAS INSTALAÇÕES DO CENT...   \n",
              "28      5346  AMPLIAÇÃO DO LABORATÓRIO DE QUÍMICA I (1ª E 2ª...   \n",
              "29      5346  AMPLIAÇÃO DO LABORATÓRIO DE QUÍMICA I (1ª E 2ª...   \n",
              "..       ...                                                ...   \n",
              "443     6324  CONSTITUI OBJETO DO PRESENTE CONTRATO A EXECUÇ...   \n",
              "444     6237  O PRESENTE CONTRATO TEM COMO OBJETO A EXECUÇÃO...   \n",
              "445     6154  CONSTITUI OBJETO DO PRESENTE CONTRATO A EXECUÇ...   \n",
              "446     6152  O PRESENTRE CONTRATO TEM COMO OBJETO A EXECUÇÃ...   \n",
              "447     6114  COMPLEMENTAÇÃO DA CONSTRUÇÃO DO PRÉDIO PARA OS...   \n",
              "448     7380  CONSTITUI OBJETO DO PRESENTE CONTRATO A EXECUÇ...   \n",
              "449     7415  CONSTITUI OBJETO DO PRESENTE CONTRATO A EXECUÇ...   \n",
              "450     7415  CONSTITUI OBJETO DO PRESENTE CONTRATO A EXECUÇ...   \n",
              "451     7419  CONSTITUI OBJETO DO PRESENTE CONTRATO A  EXECU...   \n",
              "452     7421  CONSTITUI OBJETO DO PRESENTE CONTRATO A EXECUÇ...   \n",
              "453     7422  CONSTITUI OBJETO DO PRESENTE CONTRATO A EXECUÇ...   \n",
              "454     7425  CONSTITUI OBJETO DO PRESENTE CONTRATO A EXECUÇ...   \n",
              "455     7493  O PRESENTE CONTRATO TEM COMO OBJETO A EXECUÇÃO...   \n",
              "456     7623  REFORMAS E SERVIÇOS NAS INSTALAÇÕES ELÉTRICAS ...   \n",
              "457     7143  CONSTRUÇÃO DO PRÉDIO DESTINADO AO LABORATÓRIO ...   \n",
              "458     7796  CONSTITUI OBJETO DO PRESENTE CONTRATO A EXECUÇ...   \n",
              "459     7818  SERVIÇOS E REFORMAS, EM VÁRIOS SETORES DA UFRN...   \n",
              "460     7143  CONSTRUÇÃO DO PRÉDIO DESTINADO AO LABORATÓRIO ...   \n",
              "461     7190  CONSTRUÇÃO DA 2ª ETAPA DO PAVILHÃO DE PESQUISA...   \n",
              "462     7191  CONSTITUI OBJETO DO PRESENTE CONTRATO A EXECUÇ...   \n",
              "463     7143  CONSTRUÇÃO DO PRÉDIO DESTINADO AO LABORATÓRIO ...   \n",
              "464     7254  CONSTITUI OBJETO DO PRESENTE CONTRATO A EXECUÇ...   \n",
              "465     7271   CONSTITUI OBJETO DO PRESENTE CONTRATO A EXEC...   \n",
              "466     7141  CONSTITUI OBJETO DO PRESENTE CONTRATO A EXECUÇ...   \n",
              "467     7112  REFORMAS E SERVIÇOS NO DEPARTAMENTO DE OCEANOG...   \n",
              "468     7111  REFORMA E SERVIÇOS DE INSTALAÇÃO ELÉTRICA E DE...   \n",
              "469     7078  CONSTITUI OBJETO DO PRESENTE CONTRATO A EXECUÇ...   \n",
              "470     6877  CONSTITUI OBJETO DO PRESENTE CONTRATO A EXECUÇ...   \n",
              "471     7303  CONSTITUI OBJETO DO PRESENTE CONTRATO A EXECUÇ...   \n",
              "472     7354   CONSTITUI OBJETO DO PRESENTE CONTRATO A EXECU...   \n",
              "\n",
              "                     periodo  qtd_dias                status_obra licitacao  \\\n",
              "0    02/06/2005 - 29/01/2006       240                 FINALIZADA    4/2004   \n",
              "1    28/01/2005 - 22/01/2006       360                 FINALIZADA    2/2004   \n",
              "2    08/02/2006 - 02/02/2007       360                 FINALIZADA    1/2005   \n",
              "3    11/09/2006 - 08/05/2007       240                 FINALIZADA    1/2006   \n",
              "4    05/03/2010 - 02/08/2010       150                 FINALIZADA    3/2007   \n",
              "5    10/08/2007 - 04/06/2008       300                 FINALIZADA    2/2007   \n",
              "6    18/02/2008 - 13/05/2009       450                 FINALIZADA    4/2007   \n",
              "7    05/03/2010 - 02/08/2010       150                 FINALIZADA    3/2007   \n",
              "8    05/03/2010 - 02/08/2010       150                 FINALIZADA    3/2007   \n",
              "9    06/12/2007 - 02/08/2008       240                 FINALIZADA    3/2007   \n",
              "10   07/07/2007 - 31/03/2008       270                 FINALIZADA    1/2007   \n",
              "11   07/01/2009 - 04/09/2009       240                 FINALIZADA    1/2008   \n",
              "12   12/01/2009 - 09/10/2009       270                 FINALIZADA    3/2008   \n",
              "13   15/01/2009 - 12/09/2009       240                 FINALIZADA    2/2008   \n",
              "14   19/01/2009 - 16/09/2009       240                 FINALIZADA    4/2008   \n",
              "15   25/09/2009 - 19/12/2010       450                 FINALIZADA    6/2009   \n",
              "16   27/10/2009 - 22/10/2010       360                 FINALIZADA    7/2009   \n",
              "17   19/07/2010 - 04/12/2012       390                 FINALIZADA   16/2009   \n",
              "18   25/09/2009 - 24/03/2010       180                 FINALIZADA    1/2009   \n",
              "19   02/09/2009 - 30/01/2010       150        CONTRATO FINALIZADO    3/2009   \n",
              "20   08/10/2009 - 15/02/2012       860                 FINALIZADA    4/2009   \n",
              "21   15/12/2009 - 12/08/2010       240                 FINALIZADA    2/2009   \n",
              "22   15/12/2009 - 12/08/2010       240                 FINALIZADA    9/2009   \n",
              "23   09/04/2010 - 03/02/2011       300                 FINALIZADA   14/2009   \n",
              "24   08/10/2009 - 15/02/2012       860                 FINALIZADA    4/2009   \n",
              "25   11/01/2010 - 11/05/2010       120                 FINALIZADA  503/2009   \n",
              "26   04/01/2010 - 31/10/2010       300                 FINALIZADA   13/2009   \n",
              "27   08/10/2009 - 15/02/2012       860                 FINALIZADA    4/2009   \n",
              "28   13/01/2010 - 08/01/2011       360                 FINALIZADA    8/2009   \n",
              "29   13/01/2010 - 08/01/2011       360                 FINALIZADA    8/2009   \n",
              "..                       ...       ...                        ...       ...   \n",
              "443  30/11/2010 - 27/08/2011       270                 FINALIZADA   21/2010   \n",
              "444  25/10/2010 - 23/05/2011       210  EM RECEBIMENTO PROVISÓRIO   17/2010   \n",
              "445  24/09/2010 - 22/04/2011       210                 FINALIZADA   10/2010   \n",
              "446  01/10/2010 - 29/04/2011       210        CONTRATO FINALIZADO   16/2010   \n",
              "447  27/09/2010 - 25/05/2011       240                 FINALIZADA    3/2010   \n",
              "448  09/12/2011 - 20/03/2013       270                 FINALIZADA   14/2011   \n",
              "449  09/12/2011 - 07/05/2012       150                 FINALIZADA   18/2011   \n",
              "450  09/12/2011 - 07/05/2012       150                 FINALIZADA   18/2011   \n",
              "451  09/12/2011 - 27/05/2012       110                 FINALIZADA   17/2011   \n",
              "452  09/12/2011 - 02/05/2013       270        CONTRATO FINALIZADO   20/2011   \n",
              "453  09/12/2011 - 16/02/2013       180                 FINALIZADA   16/2011   \n",
              "454  09/12/2011 - 05/06/2012       120                 FINALIZADA   21/2011   \n",
              "455  26/12/2011 - 22/08/2012       180                 FINALIZADA   19/2011   \n",
              "456  01/03/2012 - 27/03/2013       150                 FINALIZADA   22/2011   \n",
              "457  30/08/2011 - 26/02/2012       180        CONTRATO FINALIZADO    1/2011   \n",
              "458  02/04/2012 - 27/05/2013       150                 FINALIZADA   24/2011   \n",
              "459  10/04/2012 - 05/12/2012       239                 FINALIZADA   23/2011   \n",
              "460  30/08/2011 - 26/02/2012       180        CONTRATO FINALIZADO    1/2011   \n",
              "461  01/09/2011 - 28/05/2012       179                 FINALIZADA    4/2011   \n",
              "462  05/09/2011 - 01/06/2012       241                 FINALIZADA   10/2011   \n",
              "463  30/08/2011 - 26/02/2012       180        CONTRATO FINALIZADO    1/2011   \n",
              "464  01/10/2011 - 12/06/2012       180                 FINALIZADA    9/2011   \n",
              "465  14/10/2011 - 20/11/2012       150                 FINALIZADA   13/2011   \n",
              "466  25/08/2011 - 22/01/2012       150                 FINALIZADA   11/2011   \n",
              "467  05/09/2011 - 31/07/2012       210                 FINALIZADA    8/2011   \n",
              "468  25/08/2011 - 22/02/2012       150                 FINALIZADA    2/2011   \n",
              "469  05/08/2011 - 28/09/2012       270                 FINALIZADA    3/2011   \n",
              "470  27/05/2011 - 31/01/2013       240                 FINALIZADA    1/2011   \n",
              "471  07/11/2011 - 29/07/2013       330                 FINALIZADA   15/2011   \n",
              "472  07/11/2011 - 20/05/2012       150                 FINALIZADA   12/2011   \n",
              "\n",
              "                                               empresa       modalidade  \\\n",
              "0          03.722.669/0001-85 - CONSTRUTORA CAGEO LTDA     CONCORRÊNCIA   \n",
              "1     40.761.454/0001-08 - AR PROJETOS & CONSTRUÇÕE...     CONCORRÊNCIA   \n",
              "2     01.694.415/0001-75 - HASTE-HABITAÇÃO E SERVIÇ...     CONCORRÊNCIA   \n",
              "3     04.145.787/0001-30 - ECCL - EMPREENDIMENTOS E...     CONCORRÊNCIA   \n",
              "4     04.145.787/0001-30 - ECCL - EMPREENDIMENTOS E...     CONCORRÊNCIA   \n",
              "5     04.201.519/0001-99 - ESTRUTURAL EDIFICAÇÕES E...     CONCORRÊNCIA   \n",
              "6     04.145.787/0001-30 - ECCL - EMPREENDIMENTOS E...     CONCORRÊNCIA   \n",
              "7     04.145.787/0001-30 - ECCL - EMPREENDIMENTOS E...     CONCORRÊNCIA   \n",
              "8     04.145.787/0001-30 - ECCL - EMPREENDIMENTOS E...     CONCORRÊNCIA   \n",
              "9     07.443.865/0001-71 - AJF INCORPORAÇÃO CONSTRU...     CONCORRÊNCIA   \n",
              "10    09.376.468/0001-50 - CST CONSTRUCOES E SERVIC...     CONCORRÊNCIA   \n",
              "11           00.715.720/0001-33 - BMB CONSTRUÇÕES LTDA     CONCORRÊNCIA   \n",
              "12    01.694.415/0001-75 - HASTE-HABITAÇÃO E SERVIÇ...     CONCORRÊNCIA   \n",
              "13    12.647.038/0001-30 - CONSTRUTORA GALVÃO MARIN...     CONCORRÊNCIA   \n",
              "14    04.201.519/0001-99 - ESTRUTURAL EDIFICAÇÕES E...     CONCORRÊNCIA   \n",
              "15    04.145.787/0001-30 - ECCL - EMPREENDIMENTOS E...     CONCORRÊNCIA   \n",
              "16    04.145.787/0001-30 - ECCL - EMPREENDIMENTOS E...     CONCORRÊNCIA   \n",
              "17    01.737.254/0001-50 - SERPE-SERVICOS PROJETOS ...     CONCORRÊNCIA   \n",
              "18    03.561.128/0001-12 - DIRECTA ENGENHARIA E PRO...     CONCORRÊNCIA   \n",
              "19           06.148.344/0001-29 - CBM CONSTRUÇÕES LTDA     CONCORRÊNCIA   \n",
              "20    04.145.787/0001-30 - ECCL - EMPREENDIMENTOS E...     CONCORRÊNCIA   \n",
              "21    09.376.468/0001-50 - CST CONSTRUCOES E SERVIC...     CONCORRÊNCIA   \n",
              "22    04.145.787/0001-30 - ECCL - EMPREENDIMENTOS E...     CONCORRÊNCIA   \n",
              "23       70.043.906/0001-79 - EXECUÇÃO ENGENHARIA LTDA     CONCORRÊNCIA   \n",
              "24    04.145.787/0001-30 - ECCL - EMPREENDIMENTOS E...     CONCORRÊNCIA   \n",
              "25    08.036.158/0001-23 - AGM - CONSTRUÇÕES E CONS...     CONCORRÊNCIA   \n",
              "26       70.043.906/0001-79 - EXECUÇÃO ENGENHARIA LTDA     CONCORRÊNCIA   \n",
              "27    04.145.787/0001-30 - ECCL - EMPREENDIMENTOS E...     CONCORRÊNCIA   \n",
              "28           00.715.720/0001-33 - BMB CONSTRUÇÕES LTDA     CONCORRÊNCIA   \n",
              "29           00.715.720/0001-33 - BMB CONSTRUÇÕES LTDA     CONCORRÊNCIA   \n",
              "..                                                 ...              ...   \n",
              "443      09.389.289/0001-57 - AC ENGENHARIA LTDA - EPP  TOMADA DE PREÇO   \n",
              "444      09.389.289/0001-57 - AC ENGENHARIA LTDA - EPP  TOMADA DE PREÇO   \n",
              "445      09.389.289/0001-57 - AC ENGENHARIA LTDA - EPP  TOMADA DE PREÇO   \n",
              "446   08.603.790/0001-01 - F. GOMES ENGENHARIA E CO...  TOMADA DE PREÇO   \n",
              "447   04.201.519/0001-99 - ESTRUTURAL EDIFICAÇÕES E...  TOMADA DE PREÇO   \n",
              "448            03.322.854/0001-82 - HL ENGENHARIA LTDA  TOMADA DE PREÇO   \n",
              "449   02.345.360/0001-50 - G F S CONSTRUCOES E SERV...  TOMADA DE PREÇO   \n",
              "450   02.345.360/0001-50 - G F S CONSTRUCOES E SERV...  TOMADA DE PREÇO   \n",
              "451   10.911.755/0001-00 - COMPOR ENGENHARIA & AUTO...  TOMADA DE PREÇO   \n",
              "452   40.997.140/0001-09 - EJF EMPREENDIMENTOS E SE...  TOMADA DE PREÇO   \n",
              "453   07.606.237/0001-60 - SOLAR CONSTRUÇÕES E PROJ...  TOMADA DE PREÇO   \n",
              "454     09.363.073/0001-12 - JACOME ENGENHARIA LTDA ME  TOMADA DE PREÇO   \n",
              "455        08.571.174/0001-16 - G. H. CONSTRUÇÕES LTDA  TOMADA DE PREÇO   \n",
              "456   02.482.629/0001-40 - CCW - ENGENHARIA LTDA - ...  TOMADA DE PREÇO   \n",
              "457   08.333.106/0001-19 - INDÚSTRIA COMÉRCIO E CON...  TOMADA DE PREÇO   \n",
              "458   54.177.886/0001-72 - COZIL - EQUIPAMENTOS IND...  TOMADA DE PREÇO   \n",
              "459    06.054.432/0001-61 - KONSTRUÇÃO & SERVIÇOS LTDA  TOMADA DE PREÇO   \n",
              "460   08.333.106/0001-19 - INDÚSTRIA COMÉRCIO E CON...  TOMADA DE PREÇO   \n",
              "461     09.363.073/0001-12 - JACOME ENGENHARIA LTDA ME  TOMADA DE PREÇO   \n",
              "462    04.259.129/0001-70 - ALCALINAS SERVIÇOS LTDA-ME  TOMADA DE PREÇO   \n",
              "463   08.333.106/0001-19 - INDÚSTRIA COMÉRCIO E CON...  TOMADA DE PREÇO   \n",
              "464   08.036.158/0001-23 - AGM - CONSTRUÇÕES E CONS...  TOMADA DE PREÇO   \n",
              "465      09.389.289/0001-57 - AC ENGENHARIA LTDA - EPP  TOMADA DE PREÇO   \n",
              "466      09.389.289/0001-57 - AC ENGENHARIA LTDA - EPP  TOMADA DE PREÇO   \n",
              "467    04.259.129/0001-70 - ALCALINAS SERVIÇOS LTDA-ME  TOMADA DE PREÇO   \n",
              "468   07.606.237/0001-60 - SOLAR CONSTRUÇÕES E PROJ...  TOMADA DE PREÇO   \n",
              "469      09.389.289/0001-57 - AC ENGENHARIA LTDA - EPP  TOMADA DE PREÇO   \n",
              "470   08.036.158/0001-23 - AGM - CONSTRUÇÕES E CONS...  TOMADA DE PREÇO   \n",
              "471           09.469.705/0001-27 - R&H ENGENHARIA LTDA  TOMADA DE PREÇO   \n",
              "472   40.997.140/0001-09 - EJF EMPREENDIMENTOS E SE...  TOMADA DE PREÇO   \n",
              "\n",
              "                   valor                                    fonte_recurso  \\\n",
              "0    R$     1.561.230,93                   TESOURO - EDUCAÇÃO (112000000)   \n",
              "1    R$       814.550,74                                              NaN   \n",
              "2    R$     1.455.865,61                                              NaN   \n",
              "3    R$     1.153.423,68                                              NaN   \n",
              "4    R$       967.866,36                                              NaN   \n",
              "5    R$     1.248.942,91                                              NaN   \n",
              "6    R$     2.833.577,19                   TESOURO - EDUCAÇÃO (112000000)   \n",
              "7    R$       967.866,36                                              NaN   \n",
              "8    R$       967.866,36                                              NaN   \n",
              "9    R$     1.314.119,70                      SUS(1513689610) (151368961)   \n",
              "10   R$     1.210.149,93                                              NaN   \n",
              "11   R$     3.758.597,10                   TESOURO - EDUCAÇÃO (112000000)   \n",
              "12   R$     9.124.714,86                         SESU - REUNI (112915030)   \n",
              "13   R$     4.182.124,21                  TESOURO - ORDINÁRIO (100000000)   \n",
              "14   R$     2.032.765,66                         SESU - REUNI (112915030)   \n",
              "15   R$     4.497.105,79                   TESOURO - EDUCAÇÃO (112000000)   \n",
              "16   R$     1.446.096,36                   TESOURO - EDUCAÇÃO (112000000)   \n",
              "17   R$     4.688.201,22                  TESOURO - ORDINÁRIO (100000000)   \n",
              "18   R$     2.764.141,44                   TESOURO - EDUCAÇÃO (112000000)   \n",
              "19   R$     1.600.234,12                   TESOURO - EDUCAÇÃO (112000000)   \n",
              "20   R$     4.243.525,86                                              NaN   \n",
              "21   R$     2.537.858,43                   TESOURO - EDUCAÇÃO (112000000)   \n",
              "22   R$       966.329,18                   TESOURO - EDUCAÇÃO (112000000)   \n",
              "23   R$     1.411.439,79                                              NaN   \n",
              "24   R$     4.243.525,86                                              NaN   \n",
              "25   R$        20.373,83                   TESOURO - EDUCAÇÃO (112000000)   \n",
              "26   R$     2.138.936,66                         SESU - REUNI (112915030)   \n",
              "27   R$     4.243.525,86                                              NaN   \n",
              "28   R$     2.569.310,57                   TESOURO - EDUCAÇÃO (112000000)   \n",
              "29   R$     2.569.310,57                   TESOURO - EDUCAÇÃO (112000000)   \n",
              "..                   ...                                              ...   \n",
              "443  R$       431.932,81                   TESOURO - EDUCAÇÃO (112000000)   \n",
              "444  R$       215.050,20                FNS - FUNDO NAC.SAÚDE (151000000)   \n",
              "445  R$       302.341,86                      SUS(1513689610) (151368961)   \n",
              "446  R$        59.258,64                   TESOURO - EDUCAÇÃO (112000000)   \n",
              "447  R$       524.846,12                                              NaN   \n",
              "448  R$       717.322,74                   TESOURO - EDUCAÇÃO (112000000)   \n",
              "449  R$       444.317,77                   TESOURO - EDUCAÇÃO (112000000)   \n",
              "450  R$       444.317,77                                  SUS (153368961)   \n",
              "451  R$        29.985,26                                              NaN   \n",
              "452  R$       804.293,53                                              NaN   \n",
              "453  R$       274.684,96                   TESOURO - EDUCAÇÃO (112000000)   \n",
              "454  R$       102.758,62                                              NaN   \n",
              "455  R$       193.941,49                                  SUS (153368961)   \n",
              "456  R$       223.191,35                   TESOURO - EDUCAÇÃO (112000000)   \n",
              "457  R$       827.578,07                                              NaN   \n",
              "458  R$       181.771,73                  TESOURO - ORDINÁRIO (100000000)   \n",
              "459  R$        99.615,87                                              NaN   \n",
              "460  R$       827.578,07                                              NaN   \n",
              "461  R$       159.538,18                                              NaN   \n",
              "462  R$        72.557,86  UNIV.FEDERAL DO RIO GRANDE DO NORTE (250154214)   \n",
              "463  R$       827.578,07                                              NaN   \n",
              "464  R$       249.051,82                                              NaN   \n",
              "465  R$       233.283,56                   TESOURO - EDUCAÇÃO (112000000)   \n",
              "466  R$       102.790,02                   TESOURO - EDUCAÇÃO (112000000)   \n",
              "467  R$       280.571,52                   TESOURO - EDUCAÇÃO (112000000)   \n",
              "468  R$        51.553,20                                              NaN   \n",
              "469  R$       936.125,11                   TESOURO - EDUCAÇÃO (112000000)   \n",
              "470  R$       591.936,49                   TESOURO - EDUCAÇÃO (112000000)   \n",
              "471  R$     1.709.259,37                                              NaN   \n",
              "472  R$       103.449,52                                              NaN   \n",
              "\n",
              "            vigencia_projeto  \\\n",
              "0                        NaN   \n",
              "1    20/12/2002 - 31/07/2007   \n",
              "2    20/12/2004 - 30/03/2010   \n",
              "3    20/12/2005 - 31/12/2011   \n",
              "4    20/12/2005 - 31/12/2011   \n",
              "5    23/01/2006 - 23/06/2010   \n",
              "6    21/09/2006 - 03/09/2013   \n",
              "7    17/02/2005 - 31/03/2011   \n",
              "8    22/12/2003 - 30/04/2011   \n",
              "9    22/12/2003 - 30/04/2011   \n",
              "10   31/05/2005 - 30/05/2008   \n",
              "11   28/12/2007 - 28/03/2013   \n",
              "12   20/04/2005 - 20/11/2005   \n",
              "13   28/12/2007 - 28/03/2013   \n",
              "14   20/04/2005 - 20/11/2005   \n",
              "15   20/04/2005 - 20/11/2005   \n",
              "16   28/12/2007 - 31/12/2012   \n",
              "17                       NaN   \n",
              "18   20/04/2005 - 20/11/2005   \n",
              "19   17/12/2007 - 31/07/2013   \n",
              "20   13/11/2007 - 13/12/2012   \n",
              "21   20/04/2005 - 20/11/2005   \n",
              "22   20/04/2005 - 20/11/2005   \n",
              "23   18/12/2006 - 30/06/2012   \n",
              "24   13/11/2007 - 13/12/2012   \n",
              "25   20/04/2005 - 20/11/2005   \n",
              "26   20/04/2005 - 20/11/2005   \n",
              "27   18/12/2006 - 30/06/2012   \n",
              "28   08/12/2008 - 08/12/2013   \n",
              "29   28/12/2007 - 28/03/2013   \n",
              "..                       ...   \n",
              "443                      NaN   \n",
              "444                      NaN   \n",
              "445                      NaN   \n",
              "446                      NaN   \n",
              "447  21/09/2006 - 03/09/2013   \n",
              "448                      NaN   \n",
              "449                      NaN   \n",
              "450                      NaN   \n",
              "451                      NaN   \n",
              "452                      NaN   \n",
              "453                      NaN   \n",
              "454                      NaN   \n",
              "455                      NaN   \n",
              "456                      NaN   \n",
              "457  16/05/2007 - 16/05/2012   \n",
              "458                      NaN   \n",
              "459                      NaN   \n",
              "460  13/08/2008 - 08/02/2016   \n",
              "461                      NaN   \n",
              "462                      NaN   \n",
              "463  28/01/2008 - 25/01/2015   \n",
              "464                      NaN   \n",
              "465                      NaN   \n",
              "466                      NaN   \n",
              "467                      NaN   \n",
              "468                      NaN   \n",
              "469                      NaN   \n",
              "470                      NaN   \n",
              "471                      NaN   \n",
              "472                      NaN   \n",
              "\n",
              "                                               projeto  \\\n",
              "0                                                  NaN   \n",
              "1                     UFRN/CONV.133/02 - HUOL (862003)   \n",
              "2                      CONVENIO 121/2004 UFRN (732005)   \n",
              "3    FUNPEC/UFRN/CONV. 134/2005 - EMENDA PARLAMENTA...   \n",
              "4    FUNPEC/UFRN/CONV. 134/2005 - EMENDA PARLAMENTA...   \n",
              "5    FINEP/REDE 01 GEOFISICA DA EXPLORACAO/FASE 2 -...   \n",
              "6                         FUNPEC/CENPES/LTPP (1912006)   \n",
              "7    UFRN/CONVENIO 101/2004 - MELHORIA DA QUALIDADE...   \n",
              "8                  UFRN CONV.128-03/LAB. DCS (2242003)   \n",
              "9                  UFRN CONV.128-03/LAB. DCS (2242003)   \n",
              "10                   CENPES/AVALIACAO DE CO2 (1342005)   \n",
              "11        FUNPEC/UFRN CONV. 164/2007 - REUNI (2532007)   \n",
              "12                            19O ENECIC/2005 (852005)   \n",
              "13        FUNPEC/UFRN CONV. 164/2007 - REUNI (2532007)   \n",
              "14                            19O ENECIC/2005 (852005)   \n",
              "15                            19O ENECIC/2005 (852005)   \n",
              "16   FUNPEC/UFRN CONV. 167/2007 - EMENDA P - INFRA ...   \n",
              "17                                                 NaN   \n",
              "18                            19O ENECIC/2005 (852005)   \n",
              "19   FUNPEC/UFRN CONV. 147/2007 - CAMPUS DO CEREBRO...   \n",
              "20                  FUNPEC/FINEP/CT INFRA-VI (2082007)   \n",
              "21                            19O ENECIC/2005 (852005)   \n",
              "22                            19O ENECIC/2005 (852005)   \n",
              "23   FUNPEC/UFRN-CONV. 144/2006-EMENDA P./SESU/RES....   \n",
              "24                     FUNPEC/UFRN/CT INFRA-VI (22009)   \n",
              "25                            19O ENECIC/2005 (852005)   \n",
              "26                            19O ENECIC/2005 (852005)   \n",
              "27   FUNPEC/UFRN-CONV. 144/2006-EMENDA P./SESU/RES....   \n",
              "28                 FUNPEC/FINEP/CT-INFRA VII (1972008)   \n",
              "29        FUNPEC/UFRN CONV. 164/2007 - REUNI (2532007)   \n",
              "..                                                 ...   \n",
              "443                                                NaN   \n",
              "444                                                NaN   \n",
              "445                                                NaN   \n",
              "446                                                NaN   \n",
              "447                      FUNPEC/CENPES/CATRE (1942006)   \n",
              "448                                                NaN   \n",
              "449                                                NaN   \n",
              "450                                                NaN   \n",
              "451                                                NaN   \n",
              "452                                                NaN   \n",
              "453                                                NaN   \n",
              "454                                                NaN   \n",
              "455                                                NaN   \n",
              "456                                                NaN   \n",
              "457      FUNPEC/CENPES/REDE 05/2007 - SISPLAT (962007)   \n",
              "458                                                NaN   \n",
              "459                                                NaN   \n",
              "460            FUNPEC/CENPES/MOD. ESTRUTURAL (1422008)   \n",
              "461                                                NaN   \n",
              "462                                                NaN   \n",
              "463    FUNPEC/CENPES/LABORATORIO DE LAMINACAO (372008)   \n",
              "464                                                NaN   \n",
              "465                                                NaN   \n",
              "466                                                NaN   \n",
              "467                                                NaN   \n",
              "468                                                NaN   \n",
              "469                                                NaN   \n",
              "470                                                NaN   \n",
              "471                                                NaN   \n",
              "472                                                NaN   \n",
              "\n",
              "     id_unidade_responsavel                             unidade_responsavel  \n",
              "0                     252.0  NUCLEO DE PESQUISA EM ALIMENTOS E MEDICAMENTOS  \n",
              "1                     446.0             HOSPITAL UNIVERSITÁRIO ONOFRE LOPES  \n",
              "2                     446.0             HOSPITAL UNIVERSITÁRIO ONOFRE LOPES  \n",
              "3                     446.0             HOSPITAL UNIVERSITÁRIO ONOFRE LOPES  \n",
              "4                     441.0                     CENTRO DE CIÊNCIAS DA SAÚDE  \n",
              "5                    1646.0                   CAMPUS AVANÇADO DE SANTA CRUZ  \n",
              "6                     605.0     UNIVERSIDADE FEDERAL DO RIO GRANDE DO NORTE  \n",
              "7                     441.0                     CENTRO DE CIÊNCIAS DA SAÚDE  \n",
              "8                     441.0                     CENTRO DE CIÊNCIAS DA SAÚDE  \n",
              "9                     441.0                     CENTRO DE CIÊNCIAS DA SAÚDE  \n",
              "10                    440.0                           CENTRO DE BIOCIÊNCIAS  \n",
              "11                    445.0                            CENTRO DE TECNOLOGIA  \n",
              "12                    445.0                            CENTRO DE TECNOLOGIA  \n",
              "13                    442.0      CENTRO DE CIÊNCIAS HUMANAS, LETRAS E ARTES  \n",
              "14                    441.0                     CENTRO DE CIÊNCIAS DA SAÚDE  \n",
              "15                     21.0                  BIBLIOTECA CENTRAL ZILA MAMEDE  \n",
              "16                   2562.0       CCHLA - SECRETARIA ADMINISTRAÇÃO DO CCHLA  \n",
              "17                    139.0                           DEPARTAMENTO DE ARTES  \n",
              "18                    440.0                           CENTRO DE BIOCIÊNCIAS  \n",
              "19                    605.0     UNIVERSIDADE FEDERAL DO RIO GRANDE DO NORTE  \n",
              "20                    605.0     UNIVERSIDADE FEDERAL DO RIO GRANDE DO NORTE  \n",
              "21                    605.0     UNIVERSIDADE FEDERAL DO RIO GRANDE DO NORTE  \n",
              "22                    439.0            CENTRO DE CIÊNCIAS EXATAS E DA TERRA  \n",
              "23                    443.0            CENTRO DE CIÊNCIAS SOCIAIS APLICADAS  \n",
              "24                    605.0     UNIVERSIDADE FEDERAL DO RIO GRANDE DO NORTE  \n",
              "25                    443.0            CENTRO DE CIÊNCIAS SOCIAIS APLICADAS  \n",
              "26                     20.0              SUPERINTENDÊNCIA DE INFRAESTRUTURA  \n",
              "27                    605.0     UNIVERSIDADE FEDERAL DO RIO GRANDE DO NORTE  \n",
              "28                    439.0            CENTRO DE CIÊNCIAS EXATAS E DA TERRA  \n",
              "29                    439.0            CENTRO DE CIÊNCIAS EXATAS E DA TERRA  \n",
              "..                      ...                                             ...  \n",
              "443                   448.0               CAMPUS REGIONAL SUPERIOR DE MACAU  \n",
              "444                   446.0             HOSPITAL UNIVERSITÁRIO ONOFRE LOPES  \n",
              "445                   446.0             HOSPITAL UNIVERSITÁRIO ONOFRE LOPES  \n",
              "446                  1424.0                  HOSPED - HOSPITAL DE PEDIATRIA  \n",
              "447                   605.0     UNIVERSIDADE FEDERAL DO RIO GRANDE DO NORTE  \n",
              "448                    20.0              SUPERINTENDÊNCIA DE INFRAESTRUTURA  \n",
              "449                   443.0            CENTRO DE CIÊNCIAS SOCIAIS APLICADAS  \n",
              "450                   443.0            CENTRO DE CIÊNCIAS SOCIAIS APLICADAS  \n",
              "451                   605.0     UNIVERSIDADE FEDERAL DO RIO GRANDE DO NORTE  \n",
              "452                  1458.0                                 RESERVA TÉCNICA  \n",
              "453                   605.0     UNIVERSIDADE FEDERAL DO RIO GRANDE DO NORTE  \n",
              "454                   351.0                      ESCOLA AGRÍCOLA DE JUNDIAÍ  \n",
              "455                  1463.0                      RESIDENCIAS UNIVERSITÁRIAS  \n",
              "456                   605.0     UNIVERSIDADE FEDERAL DO RIO GRANDE DO NORTE  \n",
              "457                   439.0            CENTRO DE CIÊNCIAS EXATAS E DA TERRA  \n",
              "458                    20.0              SUPERINTENDÊNCIA DE INFRAESTRUTURA  \n",
              "459                   180.0       DEPARTAMENTO DE OCEANOGRAFIA E LIMNOLOGIA  \n",
              "460                   439.0            CENTRO DE CIÊNCIAS EXATAS E DA TERRA  \n",
              "461                  1458.0                                 RESERVA TÉCNICA  \n",
              "462                  1454.0                          FUNDO DE PÓS-GRADUAÇÃO  \n",
              "463                   439.0            CENTRO DE CIÊNCIAS EXATAS E DA TERRA  \n",
              "464                   446.0             HOSPITAL UNIVERSITÁRIO ONOFRE LOPES  \n",
              "465                   605.0     UNIVERSIDADE FEDERAL DO RIO GRANDE DO NORTE  \n",
              "466                   251.0          DIRETORIA DO RESTAURANTE UNIVERSITÁRIO  \n",
              "467                   605.0     UNIVERSIDADE FEDERAL DO RIO GRANDE DO NORTE  \n",
              "468                   605.0     UNIVERSIDADE FEDERAL DO RIO GRANDE DO NORTE  \n",
              "469                   116.0                   NÚCLEO TECNOLÓGICO INDUSTRIAL  \n",
              "470                  1463.0                      RESIDENCIAS UNIVERSITÁRIAS  \n",
              "471                   196.0                        DEPARTAMENTO DE FARMACIA  \n",
              "472                    20.0              SUPERINTENDÊNCIA DE INFRAESTRUTURA  \n",
              "\n",
              "[473 rows x 14 columns]"
            ]
          },
          "metadata": {
            "tags": []
          },
          "execution_count": 48
        }
      ]
    },
    {
      "metadata": {
        "id": "Vvy5ZG1Sff9l",
        "colab_type": "text"
      },
      "cell_type": "markdown",
      "source": [
        "### 1.1 )\n",
        "Showing the number of requests attend per responsable unit.\n",
        "Below, we can see that `Centro de Tecnologia` ( a tech center ) has executted a lot of demands."
      ]
    },
    {
      "metadata": {
        "id": "ZU0GyezIff9l",
        "colab_type": "code",
        "outputId": "d267aa42-d7a5-403d-e5f7-839c59ad77e6",
        "colab": {
          "base_uri": "https://localhost:8080/",
          "height": 204
        }
      },
      "cell_type": "code",
      "source": [
        "pd.DataFrame(works_filter['unidade_responsavel'].value_counts()).head()"
      ],
      "execution_count": 49,
      "outputs": [
        {
          "output_type": "execute_result",
          "data": {
            "text/html": [
              "<div>\n",
              "<style scoped>\n",
              "    .dataframe tbody tr th:only-of-type {\n",
              "        vertical-align: middle;\n",
              "    }\n",
              "\n",
              "    .dataframe tbody tr th {\n",
              "        vertical-align: top;\n",
              "    }\n",
              "\n",
              "    .dataframe thead th {\n",
              "        text-align: right;\n",
              "    }\n",
              "</style>\n",
              "<table border=\"1\" class=\"dataframe\">\n",
              "  <thead>\n",
              "    <tr style=\"text-align: right;\">\n",
              "      <th></th>\n",
              "      <th>unidade_responsavel</th>\n",
              "    </tr>\n",
              "  </thead>\n",
              "  <tbody>\n",
              "    <tr>\n",
              "      <th>UNIVERSIDADE FEDERAL DO RIO GRANDE DO NORTE</th>\n",
              "      <td>108</td>\n",
              "    </tr>\n",
              "    <tr>\n",
              "      <th>CENTRO DE TECNOLOGIA</th>\n",
              "      <td>38</td>\n",
              "    </tr>\n",
              "    <tr>\n",
              "      <th>CENTRO DE BIOCIÊNCIAS</th>\n",
              "      <td>27</td>\n",
              "    </tr>\n",
              "    <tr>\n",
              "      <th>CENTRO DE CIÊNCIAS EXATAS E DA TERRA</th>\n",
              "      <td>26</td>\n",
              "    </tr>\n",
              "    <tr>\n",
              "      <th>CENTRO DE CIÊNCIAS DA SAÚDE</th>\n",
              "      <td>21</td>\n",
              "    </tr>\n",
              "  </tbody>\n",
              "</table>\n",
              "</div>"
            ],
            "text/plain": [
              "                                             unidade_responsavel\n",
              "UNIVERSIDADE FEDERAL DO RIO GRANDE DO NORTE                  108\n",
              "CENTRO DE TECNOLOGIA                                          38\n",
              "CENTRO DE BIOCIÊNCIAS                                         27\n",
              "CENTRO DE CIÊNCIAS EXATAS E DA TERRA                          26\n",
              "CENTRO DE CIÊNCIAS DA SAÚDE                                   21"
            ]
          },
          "metadata": {
            "tags": []
          },
          "execution_count": 49
        }
      ]
    },
    {
      "metadata": {
        "id": "cMSpRjIgff9r",
        "colab_type": "text"
      },
      "cell_type": "markdown",
      "source": [
        "### 1.2 )\n",
        "Fixing string **'Valor'**"
      ]
    },
    {
      "metadata": {
        "id": "BOR2TGTlff9r",
        "colab_type": "text"
      },
      "cell_type": "markdown",
      "source": [
        "We will fix the value column to make it easier to handle on the data. It is important to remember that the works cost before was analyzed with two spaces after a comma being pennies.\n",
        "Therefore:\n",
        "\n",
        "Ex. ) `100` = ` R$ 1,00` "
      ]
    },
    {
      "metadata": {
        "id": "Pjbqz91Bff9s",
        "colab_type": "code",
        "outputId": "f2cf752b-8961-4b36-f925-cf8ac6724065",
        "colab": {
          "base_uri": "https://localhost:8080/",
          "height": 544
        }
      },
      "cell_type": "code",
      "source": [
        "# Some informations about our filtered data frame\n",
        "df = works_filter.copy()\n",
        "print(df.info())\n",
        "pd.DataFrame(df[['valor', 'unidade_responsavel']]).head()\n"
      ],
      "execution_count": 50,
      "outputs": [
        {
          "output_type": "stream",
          "text": [
            "<class 'pandas.core.frame.DataFrame'>\n",
            "RangeIndex: 473 entries, 0 to 472\n",
            "Data columns (total 14 columns):\n",
            "id_obra                   473 non-null int64\n",
            "descricao                 473 non-null object\n",
            "periodo                   473 non-null object\n",
            "qtd_dias                  473 non-null int64\n",
            "status_obra               473 non-null object\n",
            "licitacao                 473 non-null object\n",
            "empresa                   473 non-null object\n",
            "modalidade                473 non-null object\n",
            "valor                     473 non-null object\n",
            "fonte_recurso             372 non-null object\n",
            "vigencia_projeto          262 non-null object\n",
            "projeto                   262 non-null object\n",
            "id_unidade_responsavel    473 non-null float64\n",
            "unidade_responsavel       473 non-null object\n",
            "dtypes: float64(1), int64(2), object(11)\n",
            "memory usage: 51.8+ KB\n",
            "None\n"
          ],
          "name": "stdout"
        },
        {
          "output_type": "execute_result",
          "data": {
            "text/html": [
              "<div>\n",
              "<style scoped>\n",
              "    .dataframe tbody tr th:only-of-type {\n",
              "        vertical-align: middle;\n",
              "    }\n",
              "\n",
              "    .dataframe tbody tr th {\n",
              "        vertical-align: top;\n",
              "    }\n",
              "\n",
              "    .dataframe thead th {\n",
              "        text-align: right;\n",
              "    }\n",
              "</style>\n",
              "<table border=\"1\" class=\"dataframe\">\n",
              "  <thead>\n",
              "    <tr style=\"text-align: right;\">\n",
              "      <th></th>\n",
              "      <th>valor</th>\n",
              "      <th>unidade_responsavel</th>\n",
              "    </tr>\n",
              "  </thead>\n",
              "  <tbody>\n",
              "    <tr>\n",
              "      <th>0</th>\n",
              "      <td>R$     1.561.230,93</td>\n",
              "      <td>NUCLEO DE PESQUISA EM ALIMENTOS E MEDICAMENTOS</td>\n",
              "    </tr>\n",
              "    <tr>\n",
              "      <th>1</th>\n",
              "      <td>R$       814.550,74</td>\n",
              "      <td>HOSPITAL UNIVERSITÁRIO ONOFRE LOPES</td>\n",
              "    </tr>\n",
              "    <tr>\n",
              "      <th>2</th>\n",
              "      <td>R$     1.455.865,61</td>\n",
              "      <td>HOSPITAL UNIVERSITÁRIO ONOFRE LOPES</td>\n",
              "    </tr>\n",
              "    <tr>\n",
              "      <th>3</th>\n",
              "      <td>R$     1.153.423,68</td>\n",
              "      <td>HOSPITAL UNIVERSITÁRIO ONOFRE LOPES</td>\n",
              "    </tr>\n",
              "    <tr>\n",
              "      <th>4</th>\n",
              "      <td>R$       967.866,36</td>\n",
              "      <td>CENTRO DE CIÊNCIAS DA SAÚDE</td>\n",
              "    </tr>\n",
              "  </tbody>\n",
              "</table>\n",
              "</div>"
            ],
            "text/plain": [
              "                 valor                             unidade_responsavel\n",
              "0  R$     1.561.230,93  NUCLEO DE PESQUISA EM ALIMENTOS E MEDICAMENTOS\n",
              "1  R$       814.550,74             HOSPITAL UNIVERSITÁRIO ONOFRE LOPES\n",
              "2  R$     1.455.865,61             HOSPITAL UNIVERSITÁRIO ONOFRE LOPES\n",
              "3  R$     1.153.423,68             HOSPITAL UNIVERSITÁRIO ONOFRE LOPES\n",
              "4  R$       967.866,36                     CENTRO DE CIÊNCIAS DA SAÚDE"
            ]
          },
          "metadata": {
            "tags": []
          },
          "execution_count": 50
        }
      ]
    },
    {
      "metadata": {
        "id": "ryklw2mGff9w",
        "colab_type": "code",
        "outputId": "ee46b41d-4e00-48aa-e9a6-8edc872faff3",
        "colab": {
          "base_uri": "https://localhost:8080/",
          "height": 196
        }
      },
      "cell_type": "code",
      "source": [
        "for index, val in enumerate(df['valor']):\n",
        "    val = val.replace(\" \", \"\").replace(\"R$\", \"\").replace(\".\",\"\")\n",
        "    \n",
        "    # This next step is done so we can turn our values into floats effectively\n",
        "    val = val.replace(\",\",\".\")\n",
        "    df['valor'][index] = val\n",
        "df['valor'] = pd.to_numeric(df['valor'])"
      ],
      "execution_count": 51,
      "outputs": [
        {
          "output_type": "stream",
          "text": [
            "/usr/local/lib/python3.6/dist-packages/ipykernel_launcher.py:6: SettingWithCopyWarning:\n",
            "\n",
            "\n",
            "A value is trying to be set on a copy of a slice from a DataFrame\n",
            "\n",
            "See the caveats in the documentation: http://pandas.pydata.org/pandas-docs/stable/indexing.html#indexing-view-versus-copy\n",
            "\n"
          ],
          "name": "stderr"
        }
      ]
    },
    {
      "metadata": {
        "id": "7wQInLPGff9z",
        "colab_type": "code",
        "outputId": "eb800f48-dd69-4686-84d7-da2e5c8d75ea",
        "colab": {
          "base_uri": "https://localhost:8080/",
          "height": 544
        }
      },
      "cell_type": "code",
      "source": [
        "# Observe how different it is now\n",
        "print(df.info())\n",
        "pd.DataFrame(df[['valor', 'unidade_responsavel']]).head()"
      ],
      "execution_count": 52,
      "outputs": [
        {
          "output_type": "stream",
          "text": [
            "<class 'pandas.core.frame.DataFrame'>\n",
            "RangeIndex: 473 entries, 0 to 472\n",
            "Data columns (total 14 columns):\n",
            "id_obra                   473 non-null int64\n",
            "descricao                 473 non-null object\n",
            "periodo                   473 non-null object\n",
            "qtd_dias                  473 non-null int64\n",
            "status_obra               473 non-null object\n",
            "licitacao                 473 non-null object\n",
            "empresa                   473 non-null object\n",
            "modalidade                473 non-null object\n",
            "valor                     473 non-null float64\n",
            "fonte_recurso             372 non-null object\n",
            "vigencia_projeto          262 non-null object\n",
            "projeto                   262 non-null object\n",
            "id_unidade_responsavel    473 non-null float64\n",
            "unidade_responsavel       473 non-null object\n",
            "dtypes: float64(2), int64(2), object(10)\n",
            "memory usage: 51.8+ KB\n",
            "None\n"
          ],
          "name": "stdout"
        },
        {
          "output_type": "execute_result",
          "data": {
            "text/html": [
              "<div>\n",
              "<style scoped>\n",
              "    .dataframe tbody tr th:only-of-type {\n",
              "        vertical-align: middle;\n",
              "    }\n",
              "\n",
              "    .dataframe tbody tr th {\n",
              "        vertical-align: top;\n",
              "    }\n",
              "\n",
              "    .dataframe thead th {\n",
              "        text-align: right;\n",
              "    }\n",
              "</style>\n",
              "<table border=\"1\" class=\"dataframe\">\n",
              "  <thead>\n",
              "    <tr style=\"text-align: right;\">\n",
              "      <th></th>\n",
              "      <th>valor</th>\n",
              "      <th>unidade_responsavel</th>\n",
              "    </tr>\n",
              "  </thead>\n",
              "  <tbody>\n",
              "    <tr>\n",
              "      <th>0</th>\n",
              "      <td>1561230.93</td>\n",
              "      <td>NUCLEO DE PESQUISA EM ALIMENTOS E MEDICAMENTOS</td>\n",
              "    </tr>\n",
              "    <tr>\n",
              "      <th>1</th>\n",
              "      <td>814550.74</td>\n",
              "      <td>HOSPITAL UNIVERSITÁRIO ONOFRE LOPES</td>\n",
              "    </tr>\n",
              "    <tr>\n",
              "      <th>2</th>\n",
              "      <td>1455865.61</td>\n",
              "      <td>HOSPITAL UNIVERSITÁRIO ONOFRE LOPES</td>\n",
              "    </tr>\n",
              "    <tr>\n",
              "      <th>3</th>\n",
              "      <td>1153423.68</td>\n",
              "      <td>HOSPITAL UNIVERSITÁRIO ONOFRE LOPES</td>\n",
              "    </tr>\n",
              "    <tr>\n",
              "      <th>4</th>\n",
              "      <td>967866.36</td>\n",
              "      <td>CENTRO DE CIÊNCIAS DA SAÚDE</td>\n",
              "    </tr>\n",
              "  </tbody>\n",
              "</table>\n",
              "</div>"
            ],
            "text/plain": [
              "        valor                             unidade_responsavel\n",
              "0  1561230.93  NUCLEO DE PESQUISA EM ALIMENTOS E MEDICAMENTOS\n",
              "1   814550.74             HOSPITAL UNIVERSITÁRIO ONOFRE LOPES\n",
              "2  1455865.61             HOSPITAL UNIVERSITÁRIO ONOFRE LOPES\n",
              "3  1153423.68             HOSPITAL UNIVERSITÁRIO ONOFRE LOPES\n",
              "4   967866.36                     CENTRO DE CIÊNCIAS DA SAÚDE"
            ]
          },
          "metadata": {
            "tags": []
          },
          "execution_count": 52
        }
      ]
    },
    {
      "metadata": {
        "id": "BZcFxsY0ff92",
        "colab_type": "text"
      },
      "cell_type": "markdown",
      "source": [
        "As we can see, `valor` column has been succesfully turn into a fully-float series."
      ]
    },
    {
      "metadata": {
        "id": "g8IVBCTHff93",
        "colab_type": "text"
      },
      "cell_type": "markdown",
      "source": [
        "### 2 ) Money spent by department "
      ]
    },
    {
      "metadata": {
        "id": "doYTe4Myff94",
        "colab_type": "text"
      },
      "cell_type": "markdown",
      "source": [
        "2.1 ) Coverting Strings to integers"
      ]
    },
    {
      "metadata": {
        "id": "r5Gk-BgEff94",
        "colab_type": "code",
        "colab": {}
      },
      "cell_type": "code",
      "source": [
        "values = {}\n",
        "for index,row in df.iterrows():\n",
        "    unit_as_key = row['unidade_responsavel']\n",
        "    if unit_as_key in values:\n",
        "        values[unit_as_key] = round(values[unit_as_key] + row['valor'],2)\n",
        "    else:\n",
        "        values[unit_as_key] = row['valor']"
      ],
      "execution_count": 0,
      "outputs": []
    },
    {
      "metadata": {
        "id": "Vln_b0i5ff98",
        "colab_type": "code",
        "outputId": "0ad1031e-434f-4b47-a148-9b4e2dd8e871",
        "colab": {
          "base_uri": "https://localhost:8080/",
          "height": 34
        }
      },
      "cell_type": "code",
      "source": [
        "a = list(values.keys())[11]\n",
        "values[a] = round(values[a],2)\n",
        "values[a]"
      ],
      "execution_count": 12,
      "outputs": [
        {
          "output_type": "execute_result",
          "data": {
            "text/plain": [
              "14212245.9"
            ]
          },
          "metadata": {
            "tags": []
          },
          "execution_count": 12
        }
      ]
    },
    {
      "metadata": {
        "id": "M3ZXhcZ6ff-B",
        "colab_type": "text"
      },
      "cell_type": "markdown",
      "source": [
        "2.2 ) After converting strings to integers, now we can order the departments by the money spent."
      ]
    },
    {
      "metadata": {
        "id": "DaT9Mz2fff-C",
        "colab_type": "code",
        "outputId": "34a385e8-86ba-4ac1-bf23-28eec9697905",
        "colab": {
          "base_uri": "https://localhost:8080/",
          "height": 204
        }
      },
      "cell_type": "code",
      "source": [
        "top11 = {}\n",
        "# The 11 biggest spenders \n",
        "big_resources = sorted(values, key=values.get, reverse=True)[:11]\n",
        "for i in big_resources:\n",
        "    top11[i] = values[i]\n",
        "top11"
      ],
      "execution_count": 13,
      "outputs": [
        {
          "output_type": "execute_result",
          "data": {
            "text/plain": [
              "{'ADMINISTRAÇÃO CENTRAL - GASTOS CT': 25598779.46,\n",
              " 'CAMPUS DO CÉREBRO': 135427460.35,\n",
              " 'CENTRO DE BIOCIÊNCIAS': 19062599.28,\n",
              " 'CENTRO DE CIÊNCIAS DA SAÚDE': 10875422.21,\n",
              " 'CENTRO DE CIÊNCIAS EXATAS E DA TERRA': 14212245.9,\n",
              " 'CENTRO DE CIÊNCIAS HUMANAS, LETRAS E ARTES': 11173569.65,\n",
              " 'CENTRO DE CIÊNCIAS SOCIAIS APLICADAS': 16969684.76,\n",
              " 'CENTRO DE TECNOLOGIA': 46522573.95,\n",
              " 'HOSPITAL UNIVERSITÁRIO ONOFRE LOPES': 8547535.81,\n",
              " 'SUPERINTENDÊNCIA DE INFRAESTRUTURA': 7938023.47,\n",
              " 'UNIVERSIDADE FEDERAL DO RIO GRANDE DO NORTE': 46426479.78}"
            ]
          },
          "metadata": {
            "tags": []
          },
          "execution_count": 13
        }
      ]
    },
    {
      "metadata": {
        "id": "ONS0tCwpff-F",
        "colab_type": "code",
        "outputId": "586f37d7-c9a5-41d9-d929-e5bf62278c04",
        "colab": {
          "base_uri": "https://localhost:8080/",
          "height": 187
        }
      },
      "cell_type": "code",
      "source": [
        "# These two below are just for later simplification purposes\n",
        "campus_cerebro = list(top11.keys())[0]\n",
        "CT = list(top11.keys())[1]\n",
        "def without_keys(d, keys):\n",
        "    return {k: v for k, v in d.items() if k not in keys}\n",
        "# Excluding the 'campus do cerebro'\n",
        "top10 = without_keys(top11,list(top11.keys())[0])\n",
        "top10"
      ],
      "execution_count": 14,
      "outputs": [
        {
          "output_type": "execute_result",
          "data": {
            "text/plain": [
              "{'ADMINISTRAÇÃO CENTRAL - GASTOS CT': 25598779.46,\n",
              " 'CENTRO DE BIOCIÊNCIAS': 19062599.28,\n",
              " 'CENTRO DE CIÊNCIAS DA SAÚDE': 10875422.21,\n",
              " 'CENTRO DE CIÊNCIAS EXATAS E DA TERRA': 14212245.9,\n",
              " 'CENTRO DE CIÊNCIAS HUMANAS, LETRAS E ARTES': 11173569.65,\n",
              " 'CENTRO DE CIÊNCIAS SOCIAIS APLICADAS': 16969684.76,\n",
              " 'CENTRO DE TECNOLOGIA': 46522573.95,\n",
              " 'HOSPITAL UNIVERSITÁRIO ONOFRE LOPES': 8547535.81,\n",
              " 'SUPERINTENDÊNCIA DE INFRAESTRUTURA': 7938023.47,\n",
              " 'UNIVERSIDADE FEDERAL DO RIO GRANDE DO NORTE': 46426479.78}"
            ]
          },
          "metadata": {
            "tags": []
          },
          "execution_count": 14
        }
      ]
    },
    {
      "metadata": {
        "id": "Tn4SPOM1ff-J",
        "colab_type": "text"
      },
      "cell_type": "markdown",
      "source": [
        "### Obs.:\n",
        "It is astonishing on how much money **UFRN** spent on the technological field. *Centro de Tecnologia* has used little more funds than the general costs made by **UFRN** all over these years."
      ]
    },
    {
      "metadata": {
        "id": "Xxg12oYlff-J",
        "colab_type": "text"
      },
      "cell_type": "markdown",
      "source": [
        "2.3 ) Now let's see the list with the top 11 departments with biggest expenses"
      ]
    },
    {
      "metadata": {
        "scrolled": true,
        "id": "4yQgtOD0ff-K",
        "colab_type": "code",
        "outputId": "d90983f0-b9fb-485f-ce8a-774873a00e9e",
        "colab": {
          "base_uri": "https://localhost:8080/",
          "height": 204
        }
      },
      "cell_type": "code",
      "source": [
        "for names,values in top11.items():\n",
        "    print (names ,\":\", values)"
      ],
      "execution_count": 54,
      "outputs": [
        {
          "output_type": "stream",
          "text": [
            "CAMPUS DO CÉREBRO : 135427460.35\n",
            "CENTRO DE TECNOLOGIA : 46522573.95\n",
            "UNIVERSIDADE FEDERAL DO RIO GRANDE DO NORTE : 46426479.78\n",
            "ADMINISTRAÇÃO CENTRAL - GASTOS CT : 25598779.46\n",
            "CENTRO DE BIOCIÊNCIAS : 19062599.28\n",
            "CENTRO DE CIÊNCIAS SOCIAIS APLICADAS : 16969684.76\n",
            "CENTRO DE CIÊNCIAS EXATAS E DA TERRA : 14212245.9\n",
            "CENTRO DE CIÊNCIAS HUMANAS, LETRAS E ARTES : 11173569.65\n",
            "CENTRO DE CIÊNCIAS DA SAÚDE : 10875422.21\n",
            "HOSPITAL UNIVERSITÁRIO ONOFRE LOPES : 8547535.81\n",
            "SUPERINTENDÊNCIA DE INFRAESTRUTURA : 7938023.47\n"
          ],
          "name": "stdout"
        }
      ]
    },
    {
      "metadata": {
        "id": "I6UHPLI9ff-O",
        "colab_type": "text"
      },
      "cell_type": "markdown",
      "source": [
        "2.4 ) To aid our visualization of this result, let's generate a graphic."
      ]
    },
    {
      "metadata": {
        "scrolled": true,
        "id": "VwPXKYhzff-P",
        "colab_type": "code",
        "outputId": "6c832770-ac7f-4de5-868e-4d1d05e50af0",
        "colab": {
          "base_uri": "https://localhost:8080/",
          "height": 424
        }
      },
      "cell_type": "code",
      "source": [
        "names = list(top11.keys())\n",
        "\n",
        "fig, ax = plt.subplots(figsize=(15, 6))\n",
        "bar_positions = np.arange(len(names)) + 0.75\n",
        "xtick_pos = np.arange(len(names)) + 1\n",
        "ax.set_yticks(xtick_pos)\n",
        "ax.set_yticklabels(names)\n",
        "ax.set_title('Value of the work by department')\n",
        "ax.set_xlabel(\"Value\")\n",
        "ax.barh(bar_positions, list(top11.values()),0.75, color = 'orange', alpha = 0.7)\n",
        "plt.show()"
      ],
      "execution_count": 16,
      "outputs": [
        {
          "output_type": "display_data",
          "data": {
            "image/png": "[encoded data removed]",
            "text/plain": [
              "<Figure size 1080x432 with 1 Axes>"
            ]
          },
          "metadata": {
            "tags": []
          }
        }
      ]
    },
    {
      "metadata": {
        "id": "6hkZeQhXjYO5",
        "colab_type": "code",
        "colab": {
          "base_uri": "https://localhost:8080/",
          "height": 546
        },
        "outputId": "4e50891d-d8dc-4841-8516-62932f1f2d56"
      },
      "cell_type": "code",
      "source": [
        "import plotly.plotly as py\n",
        "import plotly.graph_objs as go\n",
        "\n",
        "names = list(top11.keys())\n",
        "values = list(top11.values())\n",
        "\n",
        "trace1 = go.Bar(\n",
        "    x = names,\n",
        "    y = values,\n",
        "    name='Money spent by departament',\n",
        "     marker=dict(\n",
        "        color=['rgba(222,45,38,0.8)', 'rgba(204,204,204,1)',\n",
        "               'rgba(204,204,204,1)', 'rgba(204,204,204,1)',\n",
        "               'rgba(204,204,204,1)', 'rgba(204,204,204,1)',\n",
        "               'rgba(204,204,204,1)', 'rgba(204,204,204,1)',\n",
        "               'rgba(204,204,204,1)', 'rgba(204,204,204,1)']),\n",
        "    orientation='v'\n",
        ")\n",
        "\n",
        "data = [trace1]\n",
        "layout = go.Layout(\n",
        "    barmode='group',\n",
        "    title='Money spent by departament',\n",
        ")\n",
        "\n",
        "fig = go.Figure(data=data, layout=layout)\n",
        "py.iplot(fig, filename='money_departament')"
      ],
      "execution_count": 36,
      "outputs": [
        {
          "output_type": "execute_result",
          "data": {
            "text/html": [
              "<iframe id=\"igraph\" scrolling=\"no\" style=\"border:none;\" seamless=\"seamless\" src=\"https://plot.ly/~ozielalves/9.embed\" height=\"525px\" width=\"100%\"></iframe>"
            ],
            "text/plain": [
              "<chart_studio.tools.PlotlyDisplay object>"
            ]
          },
          "metadata": {
            "tags": []
          },
          "execution_count": 36
        }
      ]
    },
    {
      "metadata": {
        "id": "aVD6vM5sff-T",
        "colab_type": "text"
      },
      "cell_type": "markdown",
      "source": [
        "2.5 ) Oddly enough, the \"Campus do Cérebro\" costs a LOT more than the other departments,\n",
        "the cell below shows the list of constructions made by that department"
      ]
    },
    {
      "metadata": {
        "id": "mBdBNTAjff-U",
        "colab_type": "code",
        "outputId": "049b7420-44e8-4656-beff-c2e082180a0a",
        "colab": {
          "base_uri": "https://localhost:8080/",
          "height": 386
        }
      },
      "cell_type": "code",
      "source": [
        "cerebro_list = []\n",
        "for idx,rows in df.iterrows():\n",
        "    if (rows['unidade_responsavel'] == campus_cerebro):\n",
        "        cerebro_list.append(idx)\n",
        "        \n",
        "df.loc[cerebro_list]\n"
      ],
      "execution_count": 17,
      "outputs": [
        {
          "output_type": "execute_result",
          "data": {
            "text/html": [
              "<div>\n",
              "<style scoped>\n",
              "    .dataframe tbody tr th:only-of-type {\n",
              "        vertical-align: middle;\n",
              "    }\n",
              "\n",
              "    .dataframe tbody tr th {\n",
              "        vertical-align: top;\n",
              "    }\n",
              "\n",
              "    .dataframe thead th {\n",
              "        text-align: right;\n",
              "    }\n",
              "</style>\n",
              "<table border=\"1\" class=\"dataframe\">\n",
              "  <thead>\n",
              "    <tr style=\"text-align: right;\">\n",
              "      <th></th>\n",
              "      <th>id_obra</th>\n",
              "      <th>descricao</th>\n",
              "      <th>periodo</th>\n",
              "      <th>qtd_dias</th>\n",
              "      <th>status_obra</th>\n",
              "      <th>licitacao</th>\n",
              "      <th>empresa</th>\n",
              "      <th>modalidade</th>\n",
              "      <th>valor</th>\n",
              "      <th>fonte_recurso</th>\n",
              "      <th>vigencia_projeto</th>\n",
              "      <th>projeto</th>\n",
              "      <th>id_unidade_responsavel</th>\n",
              "      <th>unidade_responsavel</th>\n",
              "    </tr>\n",
              "  </thead>\n",
              "  <tbody>\n",
              "    <tr>\n",
              "      <th>33</th>\n",
              "      <td>5803</td>\n",
              "      <td>execução, pela CONTRATADA, da CONSTRUÇÃO DO CE...</td>\n",
              "      <td>11/06/2010 - 22/12/2013</td>\n",
              "      <td>720</td>\n",
              "      <td>FINALIZADA</td>\n",
              "      <td>10/2009</td>\n",
              "      <td>86.712.247/0001-56 - EDCON - COMÉRCIO E CONST...</td>\n",
              "      <td>CONCORRÊNCIA</td>\n",
              "      <td>75574557.43</td>\n",
              "      <td>TESOURO - EDUCAÇÃO (112000000)</td>\n",
              "      <td>NaN</td>\n",
              "      <td>NaN</td>\n",
              "      <td>5229.0</td>\n",
              "      <td>CAMPUS DO CÉREBRO</td>\n",
              "    </tr>\n",
              "    <tr>\n",
              "      <th>34</th>\n",
              "      <td>5810</td>\n",
              "      <td>CONSTRUÇÃO DA ESCOLA LYGIA MARIA ROCHA LEÃO LA...</td>\n",
              "      <td>14/06/2010 - 31/12/2011</td>\n",
              "      <td>565</td>\n",
              "      <td>FINALIZADA</td>\n",
              "      <td>10/2009</td>\n",
              "      <td>86.712.247/0001-56 - EDCON - COMÉRCIO E CONST...</td>\n",
              "      <td>CONCORRÊNCIA</td>\n",
              "      <td>59817003.64</td>\n",
              "      <td>NaN</td>\n",
              "      <td>17/12/2007 - 31/07/2013</td>\n",
              "      <td>FUNPEC/UFRN CONV. 147/2007 - CAMPUS DO CEREBRO...</td>\n",
              "      <td>5229.0</td>\n",
              "      <td>CAMPUS DO CÉREBRO</td>\n",
              "    </tr>\n",
              "    <tr>\n",
              "      <th>250</th>\n",
              "      <td>6814</td>\n",
              "      <td>EXECUÇÃO DE SERVIÇOS DE ARQUITETURA VISANDO À ...</td>\n",
              "      <td>09/05/2011 - 09/11/2012</td>\n",
              "      <td>550</td>\n",
              "      <td>CONTRATO FINALIZADO</td>\n",
              "      <td>1/2011</td>\n",
              "      <td>01.641.113/0001-39 - J. GALBINSK &amp; CIA LTDA.</td>\n",
              "      <td>INEXIGIBILIDADE DE LICITAÇÃO</td>\n",
              "      <td>35899.28</td>\n",
              "      <td>NaN</td>\n",
              "      <td>01/01/2000 - 31/12/2015</td>\n",
              "      <td>MANUTENCAO II (1512001)</td>\n",
              "      <td>5229.0</td>\n",
              "      <td>CAMPUS DO CÉREBRO</td>\n",
              "    </tr>\n",
              "  </tbody>\n",
              "</table>\n",
              "</div>"
            ],
            "text/plain": [
              "     id_obra                                          descricao  \\\n",
              "33      5803  execução, pela CONTRATADA, da CONSTRUÇÃO DO CE...   \n",
              "34      5810  CONSTRUÇÃO DA ESCOLA LYGIA MARIA ROCHA LEÃO LA...   \n",
              "250     6814  EXECUÇÃO DE SERVIÇOS DE ARQUITETURA VISANDO À ...   \n",
              "\n",
              "                     periodo  qtd_dias          status_obra licitacao  \\\n",
              "33   11/06/2010 - 22/12/2013       720           FINALIZADA   10/2009   \n",
              "34   14/06/2010 - 31/12/2011       565           FINALIZADA   10/2009   \n",
              "250  09/05/2011 - 09/11/2012       550  CONTRATO FINALIZADO    1/2011   \n",
              "\n",
              "                                               empresa  \\\n",
              "33    86.712.247/0001-56 - EDCON - COMÉRCIO E CONST...   \n",
              "34    86.712.247/0001-56 - EDCON - COMÉRCIO E CONST...   \n",
              "250       01.641.113/0001-39 - J. GALBINSK & CIA LTDA.   \n",
              "\n",
              "                       modalidade        valor  \\\n",
              "33                   CONCORRÊNCIA  75574557.43   \n",
              "34                   CONCORRÊNCIA  59817003.64   \n",
              "250  INEXIGIBILIDADE DE LICITAÇÃO     35899.28   \n",
              "\n",
              "                      fonte_recurso         vigencia_projeto  \\\n",
              "33   TESOURO - EDUCAÇÃO (112000000)                      NaN   \n",
              "34                              NaN  17/12/2007 - 31/07/2013   \n",
              "250                             NaN  01/01/2000 - 31/12/2015   \n",
              "\n",
              "                                               projeto  \\\n",
              "33                                                 NaN   \n",
              "34   FUNPEC/UFRN CONV. 147/2007 - CAMPUS DO CEREBRO...   \n",
              "250                            MANUTENCAO II (1512001)   \n",
              "\n",
              "     id_unidade_responsavel unidade_responsavel  \n",
              "33                   5229.0   CAMPUS DO CÉREBRO  \n",
              "34                   5229.0   CAMPUS DO CÉREBRO  \n",
              "250                  5229.0   CAMPUS DO CÉREBRO  "
            ]
          },
          "metadata": {
            "tags": []
          },
          "execution_count": 17
        }
      ]
    },
    {
      "metadata": {
        "scrolled": true,
        "id": "7fpWBU7Aff-W",
        "colab_type": "code",
        "outputId": "25d493b2-28e8-48a3-fbc6-e8a34930468b",
        "colab": {
          "base_uri": "https://localhost:8080/",
          "height": 159
        }
      },
      "cell_type": "code",
      "source": [
        "cc_describe = df.loc[cerebro_list]\n",
        "print(cc_describe.iloc[0]['descricao'])\n",
        "print(cc_describe.iloc[1]['descricao'])"
      ],
      "execution_count": 18,
      "outputs": [
        {
          "output_type": "stream",
          "text": [
            "execução, pela CONTRATADA, da CONSTRUÇÃO DO CENTRO DE PESQUISAS, LOCALIZADO NO CAMPUS DO CÉREBRO NA ESCOLA AGRÍCOLA DE JUNDIAÍ - MUNICÍPIO DE MACAÍBA / RN: conforme especificações, anexas a CONCORRÊNCIA Nº 10/2009-DMP.\r\n",
            "\tUnidade 01 - CONSTRUÇÃO DA ESCOLA LYGIA MARIA ROCHA LEÃO LAPORTA\r\n",
            "\t Unidade 02 -  CONSTRUÇÃO DO CENTRO DE PESQUISAS\r\n",
            "\r\n",
            "\n",
            "CONSTRUÇÃO DA ESCOLA LYGIA MARIA ROCHA LEÃO LAPORTA, LOCALIZADO NO CAMPUS DO CÉREBRO NA ESCOLA AGRÍCOLA DE JUNDIAÍ - MUNICÍPIO DE MACAÍBA/RN.\n"
          ],
          "name": "stdout"
        }
      ]
    },
    {
      "metadata": {
        "id": "tTS6apgNff-b",
        "colab_type": "text"
      },
      "cell_type": "markdown",
      "source": [
        "The cell above shows us that the **huge** expenses made by the *\"Campus do Cérebro\"* actually are for it's own construction, which of course would be expensier if compared to remodelling. Since this dataset dates only from 2005, and at that time most of the central campus had already been made, this huge gap between costs becomes more understandable.\n",
        "\n",
        "Oddly enough the \"Instituto metrópole digital\"(IMD) isn't on the dataset"
      ]
    },
    {
      "metadata": {
        "id": "7-82OevVff-c",
        "colab_type": "text"
      },
      "cell_type": "markdown",
      "source": [
        "2.6 ) Disparity in the analysis of values **without** the Campus do Cérebro (Brain Campus)"
      ]
    },
    {
      "metadata": {
        "id": "qoW97VnKff-d",
        "colab_type": "text"
      },
      "cell_type": "markdown",
      "source": [
        "With this chart we can better analyze how the investments in each unit are established"
      ]
    },
    {
      "metadata": {
        "scrolled": true,
        "id": "1Tgw5jIkff-e",
        "colab_type": "code",
        "outputId": "96c1cc42-3b05-401f-b6e2-3f0589aa7586",
        "colab": {
          "base_uri": "https://localhost:8080/",
          "height": 426
        }
      },
      "cell_type": "code",
      "source": [
        "names = list(top10.keys())\n",
        "\n",
        "fig, ax = plt.subplots(figsize=(15, 6))\n",
        "bar_positions = np.arange(len(names)) + 0.75\n",
        "xtick_pos = np.arange(len(names)) + 1\n",
        "ax.set_yticks(xtick_pos)\n",
        "ax.set_yticklabels(names)\n",
        "ax.set_title('Value of the work by department without the CAMPUS DO CÉREBRO')\n",
        "ax.set_xlabel(\"Value\")\n",
        "ax.barh(bar_positions, list(top10.values()),0.75 , color = 'green', alpha = 0.4)\n",
        "plt.show()"
      ],
      "execution_count": 19,
      "outputs": [
        {
          "output_type": "display_data",
          "data": {
            "image/png": "[encoded data removed]",
            "text/plain": [
              "<Figure size 1080x432 with 1 Axes>"
            ]
          },
          "metadata": {
            "tags": []
          }
        }
      ]
    },
    {
      "metadata": {
        "id": "RUH-djVBmdl4",
        "colab_type": "code",
        "colab": {
          "base_uri": "https://localhost:8080/",
          "height": 546
        },
        "outputId": "00904822-9d7e-42ff-b340-ed506e9cd99a"
      },
      "cell_type": "code",
      "source": [
        "import plotly.plotly as py\n",
        "import plotly.graph_objs as go\n",
        "\n",
        "names = list(top10.keys())\n",
        "values = list(top10.values())\n",
        "\n",
        "trace1 = go.Bar(\n",
        "    x = names,\n",
        "    y = values,\n",
        "    name='Money spent by departament, without CAMPUS DO CÉREBRO',\n",
        "    orientation='v'\n",
        ")\n",
        "\n",
        "data = [trace1]\n",
        "layout = go.Layout(\n",
        "    barmode='group',\n",
        "    title='Money spent by departament, without CAMPUS DO CÉREBRO',\n",
        ")\n",
        "\n",
        "fig = go.Figure(data=data, layout=layout)\n",
        "py.iplot(fig, filename='money_departament')"
      ],
      "execution_count": 37,
      "outputs": [
        {
          "output_type": "execute_result",
          "data": {
            "text/html": [
              "<iframe id=\"igraph\" scrolling=\"no\" style=\"border:none;\" seamless=\"seamless\" src=\"https://plot.ly/~ozielalves/9.embed\" height=\"525px\" width=\"100%\"></iframe>"
            ],
            "text/plain": [
              "<chart_studio.tools.PlotlyDisplay object>"
            ]
          },
          "metadata": {
            "tags": []
          },
          "execution_count": 37
        }
      ]
    },
    {
      "metadata": {
        "id": "oAdLGuSsff-g",
        "colab_type": "text"
      },
      "cell_type": "markdown",
      "source": [
        "## Analyzing Works Times\n",
        "On the next cells, we will check, respectively, a construction's minimun time, max time and the mean of all these times."
      ]
    },
    {
      "metadata": {
        "id": "TNC3s3k2ff-h",
        "colab_type": "text"
      },
      "cell_type": "markdown",
      "source": [
        "### 3 )  The fastest work"
      ]
    },
    {
      "metadata": {
        "id": "U6ebBuRLff-h",
        "colab_type": "text"
      },
      "cell_type": "markdown",
      "source": [
        "3.1 ) This cell creates 2 variables, one containing the minimun value and the other it's index."
      ]
    },
    {
      "metadata": {
        "id": "3JKadV87ff-h",
        "colab_type": "code",
        "outputId": "27669592-0a02-475b-c7ef-cf72eb2f5a77",
        "colab": {
          "base_uri": "https://localhost:8080/",
          "height": 517
        }
      },
      "cell_type": "code",
      "source": [
        "works_min_time = works['qtd_dias'].min()\n",
        "works_min_index_time = works['qtd_dias'].idxmin()\n",
        "\n",
        "# Then, we print to observe it's values and costs.\n",
        "print(\"The fastest work took\",works_min_time,\"days\")\n",
        "print(\"It also cost\", works.iloc[works_min_index_time]['valor'])\n",
        "pd.DataFrame(works.iloc[works_min_index_time])"
      ],
      "execution_count": 20,
      "outputs": [
        {
          "output_type": "stream",
          "text": [
            "The fastest work took 5 days\n",
            "It also cost R$         8.320,70\n"
          ],
          "name": "stdout"
        },
        {
          "output_type": "execute_result",
          "data": {
            "text/html": [
              "<div>\n",
              "<style scoped>\n",
              "    .dataframe tbody tr th:only-of-type {\n",
              "        vertical-align: middle;\n",
              "    }\n",
              "\n",
              "    .dataframe tbody tr th {\n",
              "        vertical-align: top;\n",
              "    }\n",
              "\n",
              "    .dataframe thead th {\n",
              "        text-align: right;\n",
              "    }\n",
              "</style>\n",
              "<table border=\"1\" class=\"dataframe\">\n",
              "  <thead>\n",
              "    <tr style=\"text-align: right;\">\n",
              "      <th></th>\n",
              "      <th>245</th>\n",
              "    </tr>\n",
              "  </thead>\n",
              "  <tbody>\n",
              "    <tr>\n",
              "      <th>id_obra</th>\n",
              "      <td>2849</td>\n",
              "    </tr>\n",
              "    <tr>\n",
              "      <th>descricao</th>\n",
              "      <td>RECUPERAÇÃO DE ENLACE ÓPTICO NA AV. RODRIGUES ...</td>\n",
              "    </tr>\n",
              "    <tr>\n",
              "      <th>periodo</th>\n",
              "      <td>15/01/2007 - 19/01/2007</td>\n",
              "    </tr>\n",
              "    <tr>\n",
              "      <th>qtd_dias</th>\n",
              "      <td>5</td>\n",
              "    </tr>\n",
              "    <tr>\n",
              "      <th>status_obra</th>\n",
              "      <td>FINALIZADA</td>\n",
              "    </tr>\n",
              "    <tr>\n",
              "      <th>licitacao</th>\n",
              "      <td>585/2006</td>\n",
              "    </tr>\n",
              "    <tr>\n",
              "      <th>empresa</th>\n",
              "      <td>01.009.821/0001-51 - PROTELE ENGENHARIA LTDA</td>\n",
              "    </tr>\n",
              "    <tr>\n",
              "      <th>modalidade</th>\n",
              "      <td>DISPENSA DE LICITAÇÃO</td>\n",
              "    </tr>\n",
              "    <tr>\n",
              "      <th>valor</th>\n",
              "      <td>R$         8.320,70</td>\n",
              "    </tr>\n",
              "    <tr>\n",
              "      <th>fonte_recurso</th>\n",
              "      <td>UNIV.FEDERAL DO RIO GRANDE DO NORTE (250154214)</td>\n",
              "    </tr>\n",
              "    <tr>\n",
              "      <th>vigencia_projeto</th>\n",
              "      <td>NaN</td>\n",
              "    </tr>\n",
              "    <tr>\n",
              "      <th>projeto</th>\n",
              "      <td>NaN</td>\n",
              "    </tr>\n",
              "    <tr>\n",
              "      <th>id_unidade_responsavel</th>\n",
              "      <td>605</td>\n",
              "    </tr>\n",
              "    <tr>\n",
              "      <th>unidade_responsavel</th>\n",
              "      <td>UNIVERSIDADE FEDERAL DO RIO GRANDE DO NORTE</td>\n",
              "    </tr>\n",
              "  </tbody>\n",
              "</table>\n",
              "</div>"
            ],
            "text/plain": [
              "                                                                      245\n",
              "id_obra                                                              2849\n",
              "descricao               RECUPERAÇÃO DE ENLACE ÓPTICO NA AV. RODRIGUES ...\n",
              "periodo                                           15/01/2007 - 19/01/2007\n",
              "qtd_dias                                                                5\n",
              "status_obra                                                    FINALIZADA\n",
              "licitacao                                                        585/2006\n",
              "empresa                      01.009.821/0001-51 - PROTELE ENGENHARIA LTDA\n",
              "modalidade                                          DISPENSA DE LICITAÇÃO\n",
              "valor                                                 R$         8.320,70\n",
              "fonte_recurso             UNIV.FEDERAL DO RIO GRANDE DO NORTE (250154214)\n",
              "vigencia_projeto                                                      NaN\n",
              "projeto                                                               NaN\n",
              "id_unidade_responsavel                                                605\n",
              "unidade_responsavel           UNIVERSIDADE FEDERAL DO RIO GRANDE DO NORTE"
            ]
          },
          "metadata": {
            "tags": []
          },
          "execution_count": 20
        }
      ]
    },
    {
      "metadata": {
        "id": "vg7_UDIjff-k",
        "colab_type": "text"
      },
      "cell_type": "markdown",
      "source": [
        "### 4 ) The slowest work"
      ]
    },
    {
      "metadata": {
        "id": "BV2VZb48ff-k",
        "colab_type": "text"
      },
      "cell_type": "markdown",
      "source": [
        "4.1 ) This cell creates 2 variables, one containing the maximun value and the other it's index."
      ]
    },
    {
      "metadata": {
        "id": "zNNdJ53vff-k",
        "colab_type": "code",
        "outputId": "2349be50-2a96-4234-ffe6-2a364215224e",
        "colab": {
          "base_uri": "https://localhost:8080/",
          "height": 517
        }
      },
      "cell_type": "code",
      "source": [
        "works_max_time = works['qtd_dias'].max()\n",
        "works_max_index_time = works['qtd_dias'].idxmax()\n",
        "\n",
        "# Then, we print to observe it's values and costs.\n",
        "print(\"The slowest work took\",works_max_time,\"days\")\n",
        "print(\"It also cost\", works.iloc[works_max_index_time]['valor'])\n",
        "pd.DataFrame(works.iloc[works_max_index_time])"
      ],
      "execution_count": 21,
      "outputs": [
        {
          "output_type": "stream",
          "text": [
            "The slowest work took 1306 days\n",
            "It also cost R$       272.555,36\n"
          ],
          "name": "stdout"
        },
        {
          "output_type": "execute_result",
          "data": {
            "text/html": [
              "<div>\n",
              "<style scoped>\n",
              "    .dataframe tbody tr th:only-of-type {\n",
              "        vertical-align: middle;\n",
              "    }\n",
              "\n",
              "    .dataframe tbody tr th {\n",
              "        vertical-align: top;\n",
              "    }\n",
              "\n",
              "    .dataframe thead th {\n",
              "        text-align: right;\n",
              "    }\n",
              "</style>\n",
              "<table border=\"1\" class=\"dataframe\">\n",
              "  <thead>\n",
              "    <tr style=\"text-align: right;\">\n",
              "      <th></th>\n",
              "      <th>557</th>\n",
              "    </tr>\n",
              "  </thead>\n",
              "  <tbody>\n",
              "    <tr>\n",
              "      <th>id_obra</th>\n",
              "      <td>5931</td>\n",
              "    </tr>\n",
              "    <tr>\n",
              "      <th>descricao</th>\n",
              "      <td>O PRESENTE CONTRATO TEM COMO OBJETO A EXECUÇÃO...</td>\n",
              "    </tr>\n",
              "    <tr>\n",
              "      <th>periodo</th>\n",
              "      <td>15/07/2007 - 09/08/2011</td>\n",
              "    </tr>\n",
              "    <tr>\n",
              "      <th>qtd_dias</th>\n",
              "      <td>1306</td>\n",
              "    </tr>\n",
              "    <tr>\n",
              "      <th>status_obra</th>\n",
              "      <td>FINALIZADA</td>\n",
              "    </tr>\n",
              "    <tr>\n",
              "      <th>licitacao</th>\n",
              "      <td>4/2010</td>\n",
              "    </tr>\n",
              "    <tr>\n",
              "      <th>empresa</th>\n",
              "      <td>05.937.949/0001-36 - ATUAL ENGENHARIA E SERVI...</td>\n",
              "    </tr>\n",
              "    <tr>\n",
              "      <th>modalidade</th>\n",
              "      <td>TOMADA DE PREÇO</td>\n",
              "    </tr>\n",
              "    <tr>\n",
              "      <th>valor</th>\n",
              "      <td>R$       272.555,36</td>\n",
              "    </tr>\n",
              "    <tr>\n",
              "      <th>fonte_recurso</th>\n",
              "      <td>TESOURO - EDUCAÇÃO (112000000)</td>\n",
              "    </tr>\n",
              "    <tr>\n",
              "      <th>vigencia_projeto</th>\n",
              "      <td>NaN</td>\n",
              "    </tr>\n",
              "    <tr>\n",
              "      <th>projeto</th>\n",
              "      <td>NaN</td>\n",
              "    </tr>\n",
              "    <tr>\n",
              "      <th>id_unidade_responsavel</th>\n",
              "      <td>447</td>\n",
              "    </tr>\n",
              "    <tr>\n",
              "      <th>unidade_responsavel</th>\n",
              "      <td>MATERNIDADE ESCOLA JANUÁRIO CICCO</td>\n",
              "    </tr>\n",
              "  </tbody>\n",
              "</table>\n",
              "</div>"
            ],
            "text/plain": [
              "                                                                      557\n",
              "id_obra                                                              5931\n",
              "descricao               O PRESENTE CONTRATO TEM COMO OBJETO A EXECUÇÃO...\n",
              "periodo                                           15/07/2007 - 09/08/2011\n",
              "qtd_dias                                                             1306\n",
              "status_obra                                                    FINALIZADA\n",
              "licitacao                                                          4/2010\n",
              "empresa                  05.937.949/0001-36 - ATUAL ENGENHARIA E SERVI...\n",
              "modalidade                                                TOMADA DE PREÇO\n",
              "valor                                                 R$       272.555,36\n",
              "fonte_recurso                              TESOURO - EDUCAÇÃO (112000000)\n",
              "vigencia_projeto                                                      NaN\n",
              "projeto                                                               NaN\n",
              "id_unidade_responsavel                                                447\n",
              "unidade_responsavel                     MATERNIDADE ESCOLA JANUÁRIO CICCO"
            ]
          },
          "metadata": {
            "tags": []
          },
          "execution_count": 21
        }
      ]
    },
    {
      "metadata": {
        "id": "hyC7-sx0ff-n",
        "colab_type": "code",
        "outputId": "d875ba32-5d2d-4ef6-d655-0504b4583c8d",
        "colab": {
          "base_uri": "https://localhost:8080/",
          "height": 34
        }
      },
      "cell_type": "code",
      "source": [
        "works_mean_time = works['qtd_dias'].mean()\n",
        "print( int(works_mean_time),\"is the mean amount of days taken to finish a construction on UFRN\")"
      ],
      "execution_count": 22,
      "outputs": [
        {
          "output_type": "stream",
          "text": [
            "185 is the mean amount of days taken to finish a construction on UFRN\n"
          ],
          "name": "stdout"
        }
      ]
    },
    {
      "metadata": {
        "id": "IWIsubbKff-p",
        "colab_type": "text"
      },
      "cell_type": "markdown",
      "source": [
        "### 5 ) Considerations\n",
        "After our analysis over times, we concluded that UFRN actually takes approximately 6 months for a construction to be finished."
      ]
    },
    {
      "metadata": {
        "id": "I1BtH0Udff-q",
        "colab_type": "code",
        "outputId": "7f978705-91bc-46c9-a212-3560e90c7db1",
        "colab": {
          "base_uri": "https://localhost:8080/",
          "height": 51
        }
      },
      "cell_type": "code",
      "source": [
        "less_than_mean = 0\n",
        "for i in works.qtd_dias:\n",
        "    if i < works_mean_time:\n",
        "        less_than_mean = less_than_mean + 1\n",
        "        \n",
        "amount_works = len(works.id_obra)\n",
        "print(less_than_mean)\n",
        "print(int (less_than_mean*100/amount_works),\"%\")\n",
        "\n",
        "# Most of works done on UFRN are faster than the mean time."
      ],
      "execution_count": 23,
      "outputs": [
        {
          "output_type": "stream",
          "text": [
            "513\n",
            "60 %\n"
          ],
          "name": "stdout"
        }
      ]
    },
    {
      "metadata": {
        "id": "OrKbTJLCnhI0",
        "colab_type": "code",
        "colab": {
          "base_uri": "https://localhost:8080/",
          "height": 546
        },
        "outputId": "b0f06ff1-655b-4bee-9cb7-505299399e78"
      },
      "cell_type": "code",
      "source": [
        "qnt_dias = works['qtd_dias']\n",
        "costs = works['valor'].sort_values()\n",
        "\n",
        "# Create a trace\n",
        "trace = go.Scatter(\n",
        "    x = qnt_dias,\n",
        "    y = costs,\n",
        "    mode = 'markers'\n",
        ")\n",
        "\n",
        "data = [trace]\n",
        "\n",
        "layout = go.Layout(\n",
        "    title='Cost VS Work Days',\n",
        ")\n",
        "fig= go.Figure(data=data, layout=layout)\n",
        "# Plot and embed in ipython notebook!\n",
        "py.iplot(fig, filename='cost_vs_days', layout=layout)\n"
      ],
      "execution_count": 62,
      "outputs": [
        {
          "output_type": "execute_result",
          "data": {
            "text/html": [
              "<iframe id=\"igraph\" scrolling=\"no\" style=\"border:none;\" seamless=\"seamless\" src=\"https://plot.ly/~ozielalves/13.embed\" height=\"525px\" width=\"100%\"></iframe>"
            ],
            "text/plain": [
              "<chart_studio.tools.PlotlyDisplay object>"
            ]
          },
          "metadata": {
            "tags": []
          },
          "execution_count": 62
        }
      ]
    },
    {
      "metadata": {
        "id": "klDGaj82ff-s",
        "colab_type": "text"
      },
      "cell_type": "markdown",
      "source": [
        "### 6 ) Information on Requested Works"
      ]
    },
    {
      "metadata": {
        "id": "LjoqayAgff-s",
        "colab_type": "text"
      },
      "cell_type": "markdown",
      "source": [
        "6.1 ) Following we will start our abstractions over the requested works of UFRN's departments."
      ]
    },
    {
      "metadata": {
        "id": "A4g1-D7Cff-t",
        "colab_type": "text"
      },
      "cell_type": "markdown",
      "source": [
        "For example, as we can see on the next cell, the department that made more requests is SuperIntendencia de Infraestrutura. "
      ]
    },
    {
      "metadata": {
        "scrolled": true,
        "id": "wLWUyWfDff-w",
        "colab_type": "code",
        "outputId": "9f90f068-7c1e-4767-d72c-3a2bb33cecd3",
        "colab": {
          "base_uri": "https://localhost:8080/",
          "height": 359
        }
      },
      "cell_type": "code",
      "source": [
        "# Saving the 5 most requests values.\n",
        "five_most_1 = work_requests['nome_unidade_requisitante'].value_counts()[0]\n",
        "five_most_2 = work_requests['nome_unidade_requisitante'].value_counts()[1]\n",
        "five_most_3 = work_requests['nome_unidade_requisitante'].value_counts()[2]\n",
        "five_most_4 = work_requests['nome_unidade_requisitante'].value_counts()[3]\n",
        "five_most_5 = work_requests['nome_unidade_requisitante'].value_counts()[4]\n",
        "\n",
        "# SuperIntendencia de Infraestrutura has more than double requests than the second most requester(Residencias Universitárias).\n",
        "pd.DataFrame(work_requests['nome_unidade_requisitante'].value_counts()[:10])\n"
      ],
      "execution_count": 24,
      "outputs": [
        {
          "output_type": "execute_result",
          "data": {
            "text/html": [
              "<div>\n",
              "<style scoped>\n",
              "    .dataframe tbody tr th:only-of-type {\n",
              "        vertical-align: middle;\n",
              "    }\n",
              "\n",
              "    .dataframe tbody tr th {\n",
              "        vertical-align: top;\n",
              "    }\n",
              "\n",
              "    .dataframe thead th {\n",
              "        text-align: right;\n",
              "    }\n",
              "</style>\n",
              "<table border=\"1\" class=\"dataframe\">\n",
              "  <thead>\n",
              "    <tr style=\"text-align: right;\">\n",
              "      <th></th>\n",
              "      <th>nome_unidade_requisitante</th>\n",
              "    </tr>\n",
              "  </thead>\n",
              "  <tbody>\n",
              "    <tr>\n",
              "      <th>SUPERINTENDÊNCIA DE INFRAESTRUTURA</th>\n",
              "      <td>506</td>\n",
              "    </tr>\n",
              "    <tr>\n",
              "      <th>RESIDENCIAS UNIVERSITÁRIAS</th>\n",
              "      <td>225</td>\n",
              "    </tr>\n",
              "    <tr>\n",
              "      <th>UNIVERSIDADE FEDERAL DO RIO GRANDE DO NORTE</th>\n",
              "      <td>186</td>\n",
              "    </tr>\n",
              "    <tr>\n",
              "      <th>CENTRO DE BIOCIÊNCIAS</th>\n",
              "      <td>162</td>\n",
              "    </tr>\n",
              "    <tr>\n",
              "      <th>PRÓ-REITORIA DE ADMINISTRAÇÃO (PROAD)</th>\n",
              "      <td>160</td>\n",
              "    </tr>\n",
              "    <tr>\n",
              "      <th>DIRETORIA DE OBRAS</th>\n",
              "      <td>147</td>\n",
              "    </tr>\n",
              "    <tr>\n",
              "      <th>CENTRO DE CIÊNCIAS DA SAÚDE</th>\n",
              "      <td>134</td>\n",
              "    </tr>\n",
              "    <tr>\n",
              "      <th>HOSPITAL UNIVERSITÁRIO ONOFRE LOPES</th>\n",
              "      <td>134</td>\n",
              "    </tr>\n",
              "    <tr>\n",
              "      <th>DIREÇÃO DO CCSA</th>\n",
              "      <td>129</td>\n",
              "    </tr>\n",
              "    <tr>\n",
              "      <th>ESCOLA AGRÍCOLA DE JUNDIAÍ</th>\n",
              "      <td>119</td>\n",
              "    </tr>\n",
              "  </tbody>\n",
              "</table>\n",
              "</div>"
            ],
            "text/plain": [
              "                                             nome_unidade_requisitante\n",
              "SUPERINTENDÊNCIA DE INFRAESTRUTURA                                 506\n",
              "RESIDENCIAS UNIVERSITÁRIAS                                         225\n",
              "UNIVERSIDADE FEDERAL DO RIO GRANDE DO NORTE                        186\n",
              "CENTRO DE BIOCIÊNCIAS                                              162\n",
              "PRÓ-REITORIA DE ADMINISTRAÇÃO (PROAD)                              160\n",
              "DIRETORIA DE OBRAS                                                 147\n",
              "CENTRO DE CIÊNCIAS DA SAÚDE                                        134\n",
              "HOSPITAL UNIVERSITÁRIO ONOFRE LOPES                                134\n",
              "DIREÇÃO DO CCSA                                                    129\n",
              "ESCOLA AGRÍCOLA DE JUNDIAÍ                                         119"
            ]
          },
          "metadata": {
            "tags": []
          },
          "execution_count": 24
        }
      ]
    },
    {
      "metadata": {
        "id": "SWZb0HB0ff-z",
        "colab_type": "text"
      },
      "cell_type": "markdown",
      "source": [
        "6.2 ) Difference between amount of requests  "
      ]
    },
    {
      "metadata": {
        "id": "ln_qp8EDff-0",
        "colab_type": "text"
      },
      "cell_type": "markdown",
      "source": [
        "To better visualize the difference between amount of requests, we shall plot a graphic on bars for compare. This bar plot shows the 5 departments that requested the most for works. It makes obvious that 'SuperIntendência de Infraestrutura' made lots of requests, specially if compared with the others from the top 5."
      ]
    },
    {
      "metadata": {
        "scrolled": false,
        "id": "1mKhNyL4ff-0",
        "colab_type": "code",
        "outputId": "12564d9b-bed6-420f-a2ad-5ae4563af8ca",
        "colab": {
          "base_uri": "https://localhost:8080/",
          "height": 424
        }
      },
      "cell_type": "code",
      "source": [
        "# Create a subplot that returns both figure and axis.\n",
        "fig, ax = plt.subplots(figsize=(15, 6))\n",
        "\n",
        "# Imported function from numpy to set axis positions.\n",
        "from numpy import arange\n",
        "bar_positions = arange(5) + 1\n",
        "\n",
        "# Define x_ticks, which represents each bar and it's titles.\n",
        "tick_positions = range(1,6)\n",
        "ax.set_title(\"Ten Most Requests for Department\")\n",
        "ax.set_yticks(tick_positions)\n",
        "#ax.set_xticks(\"# Requests\")\n",
        "ax.set_xlabel(\"Requests\")\n",
        "#ax.set_ylabel(tick_positions)\n",
        "\n",
        "x_names = ['SuperIntendência de Infraestrututra', 'Residencias Universitárias', 'UFRN', 'PROAD', 'Centro de Biociências']\n",
        "ax.set_yticklabels(x_names)\n",
        "\n",
        "# Give to bars the respectively amount of requests from each department.\n",
        "num_cols = [five_most_1, five_most_2, five_most_3, five_most_4, five_most_5]\n",
        "bar_heights = num_cols\n",
        "ax.barh( bar_positions, bar_heights, 0.7, color = 'red', alpha = 0.7)\n",
        "plt.show()"
      ],
      "execution_count": 25,
      "outputs": [
        {
          "output_type": "display_data",
          "data": {
            "image/png": "[encoded data removed]",
            "text/plain": [
              "<Figure size 1080x432 with 1 Axes>"
            ]
          },
          "metadata": {
            "tags": []
          }
        }
      ]
    },
    {
      "metadata": {
        "id": "2zunMLbIff-1",
        "colab_type": "code",
        "outputId": "3d2ae092-9fea-4836-a6ba-dfe414deb9c3",
        "colab": {
          "base_uri": "https://localhost:8080/",
          "height": 671
        }
      },
      "cell_type": "code",
      "source": [
        "from IPython.display import IFrame\n",
        "IFrame(src=\"//plot.ly/~ozielalves/4.embed\", width=\"100%\", height=\"650px\", frameBorder=\"0\")"
      ],
      "execution_count": 26,
      "outputs": [
        {
          "output_type": "execute_result",
          "data": {
            "text/html": [
              "\n",
              "        <iframe\n",
              "            width=\"100%\"\n",
              "            height=\"650px\"\n",
              "            src=\"//plot.ly/~ozielalves/4.embed?frameBorder=0\"\n",
              "            frameborder=\"0\"\n",
              "            allowfullscreen\n",
              "        ></iframe>\n",
              "        "
            ],
            "text/plain": [
              "<IPython.lib.display.IFrame at 0x7fc5c34ab0f0>"
            ]
          },
          "metadata": {
            "tags": []
          },
          "execution_count": 26
        }
      ]
    },
    {
      "metadata": {
        "id": "3-g7s1-4ff-3",
        "colab_type": "code",
        "outputId": "daadeef3-9b31-46f9-8e66-25bcfab74ccc",
        "colab": {
          "base_uri": "https://localhost:8080/",
          "height": 546
        }
      },
      "cell_type": "code",
      "source": [
        "import plotly.plotly as py\n",
        "import plotly.graph_objs as go\n",
        "\n",
        "trace1 = go.Bar(\n",
        "    x = ['SuperIntendência de Infraestrututra', 'Residencias Universitárias', 'UFRN', 'PROAD', 'Centro de Biociências'],\n",
        "    y = [five_most_1, five_most_2, five_most_3, five_most_4, five_most_5],\n",
        "    name='Top Five Requester Departaments',\n",
        "    orientation='v'\n",
        ")\n",
        "\n",
        "data = [trace1]\n",
        "layout = go.Layout(\n",
        "    barmode='group',\n",
        "    title='Top Five Requester Departaments',\n",
        ")\n",
        "\n",
        "fig = go.Figure(data=data, layout=layout)\n",
        "py.iplot(fig, filename='grouped-bar')"
      ],
      "execution_count": 32,
      "outputs": [
        {
          "output_type": "execute_result",
          "data": {
            "text/html": [
              "<iframe id=\"igraph\" scrolling=\"no\" style=\"border:none;\" seamless=\"seamless\" src=\"https://plot.ly/~ozielalves/4.embed\" height=\"525px\" width=\"100%\"></iframe>"
            ],
            "text/plain": [
              "<chart_studio.tools.PlotlyDisplay object>"
            ]
          },
          "metadata": {
            "tags": []
          },
          "execution_count": 32
        }
      ]
    },
    {
      "metadata": {
        "id": "dALqDjWNff-6",
        "colab_type": "text"
      },
      "cell_type": "markdown",
      "source": [
        "## Working with *Values*\n",
        "\n",
        "In this part we will show in numbers and compare the values of the works with the nature of the requests."
      ]
    },
    {
      "metadata": {
        "id": "qlTXOe-Xff-7",
        "colab_type": "text"
      },
      "cell_type": "markdown",
      "source": [
        "### 7 ) Most expensive Work\n",
        "The most expensive work was on Campus do Cérebro, researching about it we found that the Campus is located in Macaiba. According to the work description, the money was invested in the construction of the Lygia Maria Rocha Leão Laporta school and in the construction of the Search center. Because it is a project of an environment of academic studies focused on the neurological medical area it is justified the cost of about 76 million reais, The work took 2 years to finish. "
      ]
    },
    {
      "metadata": {
        "id": "2uyhMovWff-7",
        "colab_type": "text"
      },
      "cell_type": "markdown",
      "source": [
        "7.1 ) This cell shows in detail the two works carried out on the Campus do Cérebro."
      ]
    },
    {
      "metadata": {
        "id": "GcfYpnEqff-8",
        "colab_type": "code",
        "colab": {}
      },
      "cell_type": "code",
      "source": [
        "cerebro_list = []\n",
        "CT_list = []\n",
        "for idx,rows in df.iterrows():\n",
        "    if (rows['unidade_responsavel'] == CT):\n",
        "        CT_list.append(idx)\n",
        "    elif (rows['unidade_responsavel'] == campus_cerebro):\n",
        "        cerebro_list.append(idx)\n",
        "        \n",
        "df.loc[cerebro_list]"
      ],
      "execution_count": 0,
      "outputs": []
    },
    {
      "metadata": {
        "id": "9nOcTmAnff-_",
        "colab_type": "text"
      },
      "cell_type": "markdown",
      "source": [
        "7.2 ) This cell shows a Picture of the Campus do Cérebro during the construction"
      ]
    },
    {
      "metadata": {
        "id": "ZGwWTB5mff-_",
        "colab_type": "code",
        "colab": {}
      },
      "cell_type": "code",
      "source": [
        "import tkinter as tk\n",
        "root = tk.Tk()\n",
        "\n",
        "imagem = tk.PhotoImage(file = \"campus_cerebro.png\")\n",
        "w = tk.Label(root, image=imagem)\n",
        "w.imagem = imagem\n",
        "w.pack()\n",
        "\n",
        "root.mainloop()"
      ],
      "execution_count": 0,
      "outputs": []
    },
    {
      "metadata": {
        "id": "25hYiVqkff_A",
        "colab_type": "text"
      },
      "cell_type": "markdown",
      "source": [
        "7.3 ) Here we use the data to find the most expensive done or in progress work"
      ]
    },
    {
      "metadata": {
        "id": "HLa8apw8ff_A",
        "colab_type": "code",
        "colab": {}
      },
      "cell_type": "code",
      "source": [
        "most_exp_work = works['valor'].max()\n",
        "\n",
        "this = 0\n",
        "\n",
        "print(\"The most expensive work cost was:\", most_exp_work)\n",
        "\n",
        "for i,valor in enumerate(works['valor']):\n",
        "    if(valor == most_exp_work):\n",
        "        this = i    \n",
        "        \n",
        "print(\"Work: \", works['unidade_responsavel'][this])        \n",
        "print(\"\\nDescription: \", works['descricao'][this])\n",
        "\n",
        "pd.DataFrame(works.iloc[this])"
      ],
      "execution_count": 0,
      "outputs": []
    },
    {
      "metadata": {
        "id": "SMVEoChMff_C",
        "colab_type": "text"
      },
      "cell_type": "markdown",
      "source": [
        "### 8 ) Cheaper Work\n",
        "Strangely the cheapest work that appears in the data cost only R$ 1,00, which seems quite out of the standards found in the data frame. the work was requested by UFRN and as it is explicit in the work's description."
      ]
    },
    {
      "metadata": {
        "id": "x-NwfqxRff_D",
        "colab_type": "text"
      },
      "cell_type": "markdown",
      "source": [
        "The value was designated to the construction of civil works of the Pilot Research Center of the International Institute of Neurosciences, name that is given to one of the main constructions of the Campus do Cérebro(Brain Campus), which does not seem to be a coincidence."
      ]
    },
    {
      "metadata": {
        "id": "CltkKf-kff_D",
        "colab_type": "code",
        "colab": {}
      },
      "cell_type": "code",
      "source": [
        "most_cheap_work = works['valor'].min()\n",
        "\n",
        "print(\"The most cheap work cost was:\", most_cheap_work)\n",
        "\n",
        "this = 0\n",
        "\n",
        "for i,valor in enumerate(works['valor']):\n",
        "    if(valor == most_cheap_work):\n",
        "        this = i\n",
        "        \n",
        "print(\"Work: \", works['unidade_responsavel'][this])\n",
        "print(\"\\nDescription: \", works['descricao'][this])\n",
        "\n",
        "pd.DataFrame(works.iloc[this])"
      ],
      "execution_count": 0,
      "outputs": []
    },
    {
      "metadata": {
        "id": "ZZInp0iDff_F",
        "colab_type": "text"
      },
      "cell_type": "markdown",
      "source": [
        "### 9 ) Work requests per year"
      ]
    },
    {
      "metadata": {
        "id": "sSJar2fsff_F",
        "colab_type": "text"
      },
      "cell_type": "markdown",
      "source": [
        "9.1 ) We can see that 2012 was a year of many applications, which almost lost to 2011. But what we can observe is that both annual ranges are within the data range of the Brain Campus as seen in topic 2.3."
      ]
    },
    {
      "metadata": {
        "id": "bGEodYWnff_F",
        "colab_type": "code",
        "colab": {}
      },
      "cell_type": "code",
      "source": [
        "years = work_requests.copy()\n",
        "yr = work_requests['ano'].value_counts()\n",
        "\n",
        "print(\"Works per year:\")\n",
        "yea = pd.DataFrame(yr)\n",
        "yea.head()"
      ],
      "execution_count": 0,
      "outputs": []
    },
    {
      "metadata": {
        "id": "PP-s8Z-wff_H",
        "colab_type": "text"
      },
      "cell_type": "markdown",
      "source": [
        "9.2 ) The chart can help us see the divergence in the number of requests for works over the years. Note the peaks in the years 2011 and 2012."
      ]
    },
    {
      "metadata": {
        "id": "J4hjvJYkff_H",
        "colab_type": "code",
        "colab": {}
      },
      "cell_type": "code",
      "source": [
        "work_requests.plot(kind='hist', y = 'ano', bins=30, figsize=(15,8), color = 'purple', alpha=0.3)\n",
        "plt.xlabel('Years')\n",
        "plt.title(\"Request per Year\")\n",
        "plt.show()"
      ],
      "execution_count": 0,
      "outputs": []
    },
    {
      "metadata": {
        "id": "7zvZbgHSff_J",
        "colab_type": "text"
      },
      "cell_type": "markdown",
      "source": [
        "### 10 ) Work requests status "
      ]
    },
    {
      "metadata": {
        "id": "fglkmMWeff_J",
        "colab_type": "text"
      },
      "cell_type": "markdown",
      "source": [
        "10.1 ) We can see that most of the requests had their projects sent or were answered."
      ]
    },
    {
      "metadata": {
        "scrolled": true,
        "id": "uGnl8Sa4ff_K",
        "colab_type": "code",
        "colab": {}
      },
      "cell_type": "code",
      "source": [
        "status = work_requests.copy()\n",
        "sta = work_requests['status'].value_counts()\n",
        "\n",
        "print(\"The work requests number by status:\")\n",
        "\n",
        "stat = pd.DataFrame(sta)\n",
        "soma_fim = stat[stat.index.str.contains('FINALIZADA')].sum()\n",
        "soma_pend = stat[stat.index.str.contains('PENDENTE')].sum()\n",
        "stat.loc['FINALIZADAS'] = [soma_fim['status']]\n",
        "stat.loc['PENDENTE AUTORIZAÇÃO'] = [soma_pend['status']]\n",
        "pure_stat = stat.drop(index = ['FINALIZADA_ATENDIMENTO','FINALIZADA'])\n",
        "final_stat = pure_stat.drop(index = ['ENVIADA_LICITACAO','AUTORIZADA PELO CHEFE DA UNIDADE','CADASTRADA',\n",
        "                            'ENVIADA','RETORNADA','ATENDIDA_LICITACAO','AUTORIZADA PARA INFRA',\n",
        "                            'AUTORIZADA DIREÇÃO CENTRO','AUTORIZADA PARA LICITAÇÃO',\n",
        "                            'PENDENTE AUTORIZAÇÃO CHEFE UNIDADE','PENDENTE AUTORIZAÇÃO CHEFIA'])\n",
        "\n",
        "porce = final_stat/pure_stat.sum()*100\n",
        "porce"
      ],
      "execution_count": 0,
      "outputs": []
    },
    {
      "metadata": {
        "id": "LZ502mbxff_L",
        "colab_type": "text"
      },
      "cell_type": "markdown",
      "source": [
        "10.2 ) We calculated the percentage of request statuses to better understand data statistics."
      ]
    },
    {
      "metadata": {
        "id": "Q3t4LTgdff_M",
        "colab_type": "code",
        "colab": {}
      },
      "cell_type": "code",
      "source": [
        "explode = (0.1, 0.1, 0.1, 0.1, 0.3, 0.1, 0.1, 0.1, 0.3, 0.1)\n",
        "labels = porce.index\n",
        "fig = plt.figure(figsize=(15,8))\n",
        "plt.pie(porce, explode=explode, autopct='%1.1f%%',shadow=True, startangle=30, radius=0.9)\n",
        "plt.axis('equal')\n",
        "plt.legend(loc='best',labels=labels, bbox_to_anchor=(-0.1,0.6))\n",
        "plt.title(\"Work Requests Status\")\n",
        "plt.show()"
      ],
      "execution_count": 0,
      "outputs": []
    },
    {
      "metadata": {
        "id": "ReKcvVazff_O",
        "colab_type": "code",
        "colab": {}
      },
      "cell_type": "code",
      "source": [
        "import plotly.plotly as py\n",
        "import plotly.graph_objs as go\n",
        "\n",
        "fig = {\n",
        "  \"data\": [\n",
        "    {\n",
        "      \"values\": porce.values,\n",
        "      \"labels\": [\"Projetos Enviados\", \"Solicitações Atendidas\", \"Finalizadas\", \"Arquivados\",\n",
        "       \"Orçamento Enviado\", \"Negados\", \"Estornados\", \"Autorização Pendente\",\n",
        "       \"Aguardando Execução\", \"Autorizadas\"],\n",
        "      \"domain\": {\"column\": 0},\n",
        "      \"name\": \"Work Requests Status\",\n",
        "      \"hoverinfo\":\"label+percent+name\",\n",
        "      \"hole\": .4,\n",
        "      \"type\": \"pie\"\n",
        "    }],\n",
        "  \"layout\": {\n",
        "        \"title\":\"Work Requests Status\",\n",
        "        \"grid\": {\"rows\": 1, \"columns\": 2},\n",
        "        \"annotations\": [\n",
        "            {\n",
        "                \"font\": {\n",
        "                    \"size\": 20\n",
        "                },\n",
        "                \"showarrow\": False,\n",
        "                \"text\": \"Status\",\n",
        "                \"x\": 0.20,\n",
        "                \"y\": 0.5\n",
        "            },\n",
        "        ]\n",
        "    }\n",
        "}\n",
        "py.iplot(fig, filename='donut')"
      ],
      "execution_count": 0,
      "outputs": []
    },
    {
      "metadata": {
        "id": "EH_Xx8xDff_Q",
        "colab_type": "code",
        "colab": {}
      },
      "cell_type": "code",
      "source": [
        ""
      ],
      "execution_count": 0,
      "outputs": []
    }
  ]
}